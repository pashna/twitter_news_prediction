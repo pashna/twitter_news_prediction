{
 "cells": [
  {
   "cell_type": "code",
   "execution_count": 1,
   "metadata": {
    "collapsed": false
   },
   "outputs": [],
   "source": [
    "# -*- coding: utf-8 -*\n",
    "import twitter\n",
    "import csv\n",
    "import requests\n",
    "from urllib2 import urlopen\n",
    "import pandas as pd\n",
    "from datetime import datetime, timedelta\n",
    "from dateutil import tz\n",
    "import numpy as np\n",
    "import xml.etree.ElementTree as ET"
   ]
  },
  {
   "cell_type": "code",
   "execution_count": 27,
   "metadata": {
    "collapsed": false
   },
   "outputs": [
    {
     "data": {
      "text/plain": [
       "('rss', {'version': '2.0'})"
      ]
     },
     "execution_count": 27,
     "metadata": {},
     "output_type": "execute_result"
    }
   ],
   "source": [
    "tree = ET.ElementTree(file=urlopen('https://roem.ru/rss/roem-all-news.xml'))\n",
    "root = tree.getroot()\n",
    "root.tag, root.attrib"
   ]
  },
  {
   "cell_type": "code",
   "execution_count": 77,
   "metadata": {
    "collapsed": false
   },
   "outputs": [],
   "source": [
    "class RSSLoader:\n",
    "    \n",
    "    def __init__(self):\n",
    "        #self._pages = [\"https://roem.ru/rss/roem-all-news.xml\", \"http://lifenews.ru/xml/feed.xml\", \"http://www.forbes.ru/newrss.xml\", \"http://rg.ru/xml/index.xml\", \"http://www.vesti.ru/vesti.rss\", \"http://lenta.ru/rss\", \"http://ria.ru/export/rss2/index.xml\"]\n",
    "        self._pages = [\"https://roem.ru/rss/roem-all-news.xml\", \"http://lifenews.ru/xml/feed.xml\", \"http://www.forbes.ru/newrss.xml\", \"http://www.vesti.ru/vesti.rss\", \"http://lenta.ru/rss\", \"http://ria.ru/export/rss2/index.xml\"]\n",
    "        self._month_dict = {\"Jan\":\"1\", \"Feb\":\"2\", \"Mar\":\"3\", \"Apr\":\"4\", \"May\":\"5\", \"Jun\":\"6\", \"Jul\":\"7\", \"Aug\":\"8\", \"Sep\":\"9\", \"Oct\":\"10\", \"Nov\":\"11\", \"Dec\":\"12\"}\n",
    "        \n",
    "        \n",
    "        self._UTC_TIME_ZONE = tz.gettz('Europe/London')\n",
    "        self._MOSCOW_TIME_ZONE = tz.gettz('Europe/Moscow')\n",
    "        self._RATE_LIMIT = \"[{u'message': u'Rate limit exceeded', u'code': 88}]\"\n",
    "        \n",
    "        \n",
    "    def _parse_date(self, date):\n",
    "\n",
    "        \"\"\"\n",
    "\n",
    "        :param date: str, дата в формате - \"Fri, 04 Dec 2015 14:45:39 +0000\"\n",
    "        :return: str, дата в человеческом, но буржуйском формате, да еще и в Московском часовом поясе\n",
    "        \"\"\"\n",
    "        date = date.replace(\",\", \"\")\n",
    "        date_array = date.split(' ')\n",
    "        \n",
    "        time = date_array[4]\n",
    "        day = int(date_array[1])\n",
    "        month = self._month_dict[date_array[2]]\n",
    "        year = date_array[3]\n",
    "\n",
    "        date = str(year)+\"-\"+str(month)+\"-\"+str(day)+\" \"+time\n",
    "        date = datetime.strptime(date, '%Y-%m-%d %H:%M:%S')\n",
    "        utc_date = date.replace(tzinfo=self._UTC_TIME_ZONE)\n",
    "        moscow_date = utc_date.astimezone(self._MOSCOW_TIME_ZONE)\n",
    "\n",
    "        # Обрезаем зону\n",
    "        date = str(moscow_date).split(\"+\")[0]\n",
    "        \n",
    "        # Обрезаем секунды\n",
    "        splited = date.split(\":\")\n",
    "        date = splited[0]+\":\"+splited[1]\n",
    "        return date\n",
    "    \n",
    "    \n",
    "    def _get_type(self, url):\n",
    "        url = url.replace(\"www\", \"\")\n",
    "        url = url.split(\"://\")[1]\n",
    "        url = url.split(\"/\")[0]\n",
    "        return url\n",
    "        \n",
    "        \n",
    "    def get_news_array(self):\n",
    "        news_array = []\n",
    "        for url in self._pages:\n",
    "            news_type = self._get_type(url)\n",
    "            print url\n",
    "            \n",
    "            tree = ET.ElementTree(file=urlopen(url))\n",
    "            root = tree.getroot()\n",
    "            for i in root.iter('item'):\n",
    "                link = i.find('link').text\n",
    "                title = i.find('title').text\n",
    "                date = i.find('pubDate').text\n",
    "                date = self._parse_date(date)\n",
    "                \n",
    "                news_info =  {\n",
    "                    \"title\": title,\n",
    "                    \"date\": date, \n",
    "                    \"url\": link, \n",
    "                    \"type\": news_type\n",
    "                }\n",
    "                \n",
    "                news_array.append(news_info)\n",
    "            print date\n",
    "        \n",
    "        return news_array"
   ]
  },
  {
   "cell_type": "code",
   "execution_count": 80,
   "metadata": {
    "collapsed": false
   },
   "outputs": [
    {
     "name": "stdout",
     "output_type": "stream",
     "text": [
      "https://roem.ru/rss/roem-all-news.xml\n",
      "2015-11-30 19:22\n",
      "http://lifenews.ru/xml/feed.xml\n",
      "2015-12-04 15:02\n",
      "http://www.forbes.ru/newrss.xml\n",
      "2015-12-04 20:46\n",
      "http://www.vesti.ru/vesti.rss\n",
      "2015-12-05 17:46\n",
      "http://lenta.ru/rss\n",
      "2015-12-04 12:54\n",
      "http://ria.ru/export/rss2/index.xml\n",
      "2015-12-05 16:58\n"
     ]
    }
   ],
   "source": [
    "s = RSSLoader()\n",
    "df = pd.DataFrame(s.get_news_array())"
   ]
  },
  {
   "cell_type": "code",
   "execution_count": 83,
   "metadata": {
    "collapsed": false
   },
   "outputs": [],
   "source": [
    "s = df[:200]"
   ]
  },
  {
   "cell_type": "code",
   "execution_count": 84,
   "metadata": {
    "collapsed": true
   },
   "outputs": [],
   "source": [
    "df = df.append(s)"
   ]
  },
  {
   "cell_type": "code",
   "execution_count": 92,
   "metadata": {
    "collapsed": false
   },
   "outputs": [],
   "source": [
    "g=pd.DataFrame(df.groupby(\"url\")[\"url\"].count())\n",
    "g.columns = [\"url_count\"]\n",
    "g.reset_index(inplace=True)\n",
    "df = df.merge(g, on=\"url\", left_index=True, right_index=False)"
   ]
  },
  {
   "cell_type": "code",
   "execution_count": 100,
   "metadata": {
    "collapsed": false
   },
   "outputs": [
    {
     "data": {
      "text/plain": [
       "1"
      ]
     },
     "execution_count": 100,
     "metadata": {},
     "output_type": "execute_result"
    }
   ],
   "source": [
    "len(df[df[\"url\"]==\"http://lenta.ru/news/2015/12/04/pantone/\"])"
   ]
  },
  {
   "cell_type": "code",
   "execution_count": null,
   "metadata": {
    "collapsed": true
   },
   "outputs": [],
   "source": []
  },
  {
   "cell_type": "code",
   "execution_count": 30,
   "metadata": {
    "collapsed": false
   },
   "outputs": [
    {
     "name": "stdout",
     "output_type": "stream",
     "text": [
      "https://roem.ru/04-12-2015/214353/cubeline-streaming/\n",
      "Как стриминг приложений в Google изменит рекламный рынок?\n",
      "Fri, 04 Dec 2015 14:45:39 +0000\n",
      "https://roem.ru/04-12-2015/214354/and-that-s-where-the-beginning-of-the-end-begun/\n",
      "Говорят, на выходе из Яндекс.Новостей — все плохо, а «Ведомости» — не написавшее про Чайку гос-СМИ\n",
      "Fri, 04 Dec 2015 14:29:33 +0000\n",
      "https://roem.ru/04-12-2015/214351/ganin-yamail/\n",
      "Кадры: Отвечавший за развитие Яндекс.Почты Егор Ганин пришел в Mail.ru Group\n",
      "Fri, 04 Dec 2015 10:38:34 +0000\n",
      "https://roem.ru/04-12-2015/214298/rbk-ny/\n",
      "“Большой передел медиарынка, и меньший — телекома” — год глазами отраслевых журналистов РБК\n",
      "Fri, 04 Dec 2015 09:52:01 +0000\n",
      "https://roem.ru/04-12-2015/214334/app-play-nds/\n",
      "Депутаты предложили обложить НДС покупки в App Store и Google Play\n",
      "Fri, 04 Dec 2015 09:34:42 +0000\n",
      "https://roem.ru/04-12-2015/214330/uber-dont-like-kids/\n",
      "Открытка компании: Почему Uber не хочет возить детей?\n",
      "Fri, 04 Dec 2015 08:45:50 +0000\n",
      "https://roem.ru/04-12-2015/214302/youtube-ott/\n",
      "YouTube выходит на тесный рынок OTT-видео США\n",
      "Fri, 04 Dec 2015 07:05:47 +0000\n",
      "https://roem.ru/04-12-2015/214274/retro-apple-appstore-pay/\n",
      "Ретро: Apple разрешила оплачивать покупки с баланса «Билайновского» мобильника\n",
      "Fri, 04 Dec 2015 00:32:31 +0000\n",
      "https://roem.ru/03-12-2015/214235/let-s-encrypt/\n",
      "Let’s Encrypt (бесплатные HTTPS-сертификаты для всех) вышел в стадию публичной беты\n",
      "Thu, 03 Dec 2015 18:59:54 +0000\n",
      "https://roem.ru/03-12-2015/214213/afisha-finisha/\n",
      "Говорят, «Рамблер» выгнал на декабрьский мороз всю редакцию бумажной «Афиши»\n",
      "Thu, 03 Dec 2015 16:08:33 +0000\n",
      "https://roem.ru/03-12-2015/214207/cbr-startups/\n",
      "ЦБ думает вложить пенсионные деньги в стартапы — венчурные инвесторы «за»\n",
      "Thu, 03 Dec 2015 13:52:36 +0000\n",
      "https://roem.ru/03-12-2015/214183/sb-top-university/\n",
      "Сергей Белоусов: Как с помощью университетов ускорить российскую ИТ-отрасль\n",
      "Thu, 03 Dec 2015 11:00:59 +0000\n",
      "https://roem.ru/03-12-2015/214186/venture-barometer-2015/\n",
      "Венчурный барометр: На рынке все плохо, а будет еще хуже\n",
      "Thu, 03 Dec 2015 10:33:09 +0000\n",
      "https://roem.ru/03-12-2015/214179/ott-partnership/\n",
      "OneTwoTrip запускает партнёрскую программу для вебмастеров и блогеров\n",
      "Thu, 03 Dec 2015 08:00:42 +0000\n",
      "https://roem.ru/02-12-2015/214144/moi-operator/\n",
      "Онлайн-бухгалтерия «Моё дело» тестирует виртуального оператора связи\n",
      "Wed, 02 Dec 2015 15:48:25 +0000\n",
      "https://roem.ru/02-12-2015/214136/kz/\n",
      "С 1 января 2016 Казахстан будет перехватывать весь HTTPS-трафик с помощью корневого сертификата\n",
      "Wed, 02 Dec 2015 13:39:34 +0000\n",
      "https://roem.ru/02-12-2015/214128/nival-ny/\n",
      "Сергей Орловский, Nival: “Тренд на ближайшие 30 лет зададут игры”\n",
      "Wed, 02 Dec 2015 12:55:14 +0000\n",
      "https://roem.ru/02-12-2015/214094/chaika-lurk-in-shadow/\n",
      "Кто из ведущих российских СМИ проигнорировал расследование Навального о сыне генпрокурора РФ\n",
      "Wed, 02 Dec 2015 12:17:41 +0000\n",
      "https://roem.ru/02-12-2015/214099/kaspersky-android-market-share/\n",
      "Как Касперский в 2010 году предсказал 80%-ую долю Android к 2015-му\n",
      "Wed, 02 Dec 2015 11:05:42 +0000\n",
      "https://roem.ru/02-12-2015/214095/yam-volume/\n",
      "Яндекс.Маркет открыл свой расчетный оборот\n",
      "Wed, 02 Dec 2015 10:23:17 +0000\n",
      "https://roem.ru/02-12-2015/214085/yahoo-sale/\n",
      "Yahoo! думает распродать свой онлайн-бизнес\n",
      "Wed, 02 Dec 2015 07:28:00 +0000\n",
      "https://roem.ru/01-12-2015/214068/navalny-pochemu-rocks/\n",
      "Почему Навальный обошёл СМИ технически и медийно\n",
      "Tue, 01 Dec 2015 17:57:44 +0000\n",
      "https://roem.ru/01-12-2015/214067/thunderbird/\n",
      "Thunderbird может быть отделен от Mozilla технически, финансово и инфраструктурно\n",
      "Tue, 01 Dec 2015 17:56:31 +0000\n",
      "https://roem.ru/01-12-2015/214052/afisha-change/\n",
      "«Афиша» вернет былую дерзость, обновит команду и формат\n",
      "Tue, 01 Dec 2015 14:43:05 +0000\n",
      "https://roem.ru/01-12-2015/214032/cpa-unexchangeable/\n",
      "Открытка: Подрядчики заявляют, что система для размещения рекламы CPAExchange — банкрот\n",
      "Tue, 01 Dec 2015 12:37:50 +0000\n",
      "https://roem.ru/01-12-2015/214025/evernasakin/\n",
      "Кадры: Директор по развитию бизнеса Evernote в странах СНГ Родион Насакин ушел из компании\n",
      "Tue, 01 Dec 2015 10:12:09 +0000\n",
      "https://roem.ru/01-12-2015/214016/it-was-all-a-dream/\n",
      "АКИТ помечтала о недозаработанных 23 млрд рублей на пошлинах на зарубежные покупки\n",
      "Tue, 01 Dec 2015 07:20:47 +0000\n",
      "https://roem.ru/01-12-2015/213966/bfs-for-small/\n",
      "«Чёрная пятница» на BlackFridaySale.ru выгоднее маленьким магазинам?\n",
      "Tue, 01 Dec 2015 06:28:43 +0000\n",
      "https://roem.ru/30-11-2015/213999/ya-wifi/\n",
      "«Яндекс» обзавелся отдельным разделом на wi-fi.ru — хоть и не в том виде, на который рассчитывал\n",
      "Mon, 30 Nov 2015 17:03:43 +0000\n",
      "https://roem.ru/30-11-2015/213996/durov-wa/\n",
      "Дуров: WhatsApp начал резать ссылки на Telegram\n",
      "Mon, 30 Nov 2015 16:22:10 +0000\n"
     ]
    }
   ],
   "source": [
    "for i in root.iter('item'):\n",
    "    print i.find('link').text\n",
    "    print i.find('title').text\n",
    "    print i.find('pubDate').text"
   ]
  },
  {
   "cell_type": "code",
   "execution_count": null,
   "metadata": {
    "collapsed": false
   },
   "outputs": [],
   "source": [
    "root = ET.fromstring(source.encode('utf-8'))#.getroot()"
   ]
  },
  {
   "cell_type": "code",
   "execution_count": null,
   "metadata": {
    "collapsed": true
   },
   "outputs": [],
   "source": [
    "return {\n",
    "    \"title\": title, \n",
    "    \"views\": view, \n",
    "    \"comments\": comment, \n",
    "    \"tags\": tag_list, \n",
    "    \"date\": date, \n",
    "    \"url\": link, \n",
    "    \"type\": news_type, \n",
    "    \"source\": source\n",
    "}"
   ]
  }
 ],
 "metadata": {
  "kernelspec": {
   "display_name": "Python 2",
   "language": "python",
   "name": "python2"
  },
  "language_info": {
   "codemirror_mode": {
    "name": "ipython",
    "version": 2
   },
   "file_extension": ".py",
   "mimetype": "text/x-python",
   "name": "python",
   "nbconvert_exporter": "python",
   "pygments_lexer": "ipython2",
   "version": "2.7.10"
  }
 },
 "nbformat": 4,
 "nbformat_minor": 0
}
