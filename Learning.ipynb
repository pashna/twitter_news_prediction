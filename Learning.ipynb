{
 "cells": [
  {
   "cell_type": "code",
   "execution_count": 142,
   "metadata": {
    "collapsed": false
   },
   "outputs": [],
   "source": [
    "# -*- coding: utf-8 -*\n",
    "import twitter\n",
    "import csv\n",
    "import json\n",
    "import re\n",
    "import requests\n",
    "import lxml.html as html\n",
    "from urllib2 import urlopen\n",
    "import pandas as pd\n",
    "from datetime import datetime, timedelta\n",
    "from dateutil import tz\n",
    "import time\n",
    "import sklearn.cross_validation as cv\n",
    "from sklearn.metrics import mean_squared_error\n",
    "import matplotlib.pyplot as plt\n",
    "import numpy as np\n",
    "%matplotlib inline"
   ]
  },
  {
   "cell_type": "code",
   "execution_count": 143,
   "metadata": {
    "collapsed": true
   },
   "outputs": [],
   "source": [
    "PREPARED_CSV = \"prepared_to_analys.csv\"\n",
    "df = pd.read_csv(PREPARED_CSV, sep=\",\")"
   ]
  },
  {
   "cell_type": "code",
   "execution_count": 144,
   "metadata": {
    "collapsed": false
   },
   "outputs": [],
   "source": [
    "# Удаляем лишние столбцы\n",
    "major_features = [\"url\", \"week_day_news\", \"minutes_since_midnight\", \"first_time_tweet\",\"follower_sum\", \"retweeted_count_sum\", \"favorite_count_sum\", \"user_listed_count_sum\", \"last_time_tweet\"]\n",
    "df = df[major_features]"
   ]
  },
  {
   "cell_type": "code",
   "execution_count": 145,
   "metadata": {
    "collapsed": true
   },
   "outputs": [],
   "source": [
    "# С глубоким прискорбием удаляем NA - если ничего не было, пока не будем будмать, что могло быть\n",
    "df = df.drop_duplicates().dropna()"
   ]
  },
  {
   "cell_type": "code",
   "execution_count": 146,
   "metadata": {
    "collapsed": false
   },
   "outputs": [
    {
     "data": {
      "text/plain": [
       "95"
      ]
     },
     "execution_count": 146,
     "metadata": {},
     "output_type": "execute_result"
    }
   ],
   "source": [
    "# В итоге имеем:\n",
    "len(df)"
   ]
  },
  {
   "cell_type": "code",
   "execution_count": 147,
   "metadata": {
    "collapsed": false
   },
   "outputs": [
    {
     "data": {
      "text/html": [
       "<div>\n",
       "<table border=\"1\" class=\"dataframe\">\n",
       "  <thead>\n",
       "    <tr style=\"text-align: right;\">\n",
       "      <th></th>\n",
       "      <th>url</th>\n",
       "      <th>week_day_news</th>\n",
       "      <th>minutes_since_midnight</th>\n",
       "      <th>first_time_tweet</th>\n",
       "      <th>follower_sum</th>\n",
       "      <th>retweeted_count_sum</th>\n",
       "      <th>favorite_count_sum</th>\n",
       "      <th>user_listed_count_sum</th>\n",
       "      <th>last_time_tweet</th>\n",
       "    </tr>\n",
       "  </thead>\n",
       "  <tbody>\n",
       "    <tr>\n",
       "      <th>38</th>\n",
       "      <td>https://vc.ru/n/fb-virus-2015</td>\n",
       "      <td>4</td>\n",
       "      <td>1005</td>\n",
       "      <td>3</td>\n",
       "      <td>61700</td>\n",
       "      <td>4</td>\n",
       "      <td>9</td>\n",
       "      <td>721</td>\n",
       "      <td>9</td>\n",
       "    </tr>\n",
       "  </tbody>\n",
       "</table>\n",
       "</div>"
      ],
      "text/plain": [
       "                              url  week_day_news  minutes_since_midnight  \\\n",
       "38  https://vc.ru/n/fb-virus-2015              4                    1005   \n",
       "\n",
       "    first_time_tweet  follower_sum  retweeted_count_sum  favorite_count_sum  \\\n",
       "38                 3         61700                    4                   9   \n",
       "\n",
       "    user_listed_count_sum  last_time_tweet  \n",
       "38                    721                9  "
      ]
     },
     "execution_count": 147,
     "metadata": {},
     "output_type": "execute_result"
    }
   ],
   "source": [
    "df.head(1)"
   ]
  },
  {
   "cell_type": "code",
   "execution_count": 148,
   "metadata": {
    "collapsed": true
   },
   "outputs": [],
   "source": [
    "x = df[df.columns[1:-1]].as_matrix()\n",
    "y = df[df.columns[-1]].as_matrix()"
   ]
  },
  {
   "cell_type": "code",
   "execution_count": 149,
   "metadata": {
    "collapsed": true
   },
   "outputs": [],
   "source": [
    "# Делим данные\n",
    "x_train, x_test, y_train, y_test = cv.train_test_split(x, y, test_size=0.2)"
   ]
  },
  {
   "cell_type": "code",
   "execution_count": 150,
   "metadata": {
    "collapsed": false
   },
   "outputs": [
    {
     "name": "stdout",
     "output_type": "stream",
     "text": [
      "Коэффициенты корреляции Y:\n",
      "week_day_news = 0.0475201891865\n",
      "minutes_since_midnight = 0.216316878546\n",
      "first_time_tweet = 0.718292678912\n",
      "follower_sum = 0.522501759077\n",
      "retweeted_count_sum = 0.243549785621\n",
      "favorite_count_sum = 0.308088873405\n",
      "user_listed_count_sum = 0.341172075034\n"
     ]
    }
   ],
   "source": [
    "print \"Коэффициенты корреляции Y:\"\n",
    "for i in range(len(major_features)-2):\n",
    "    print major_features[i+1], \"=\", np.corrcoef(x[:,i], y)[0][1]"
   ]
  },
  {
   "cell_type": "code",
   "execution_count": 151,
   "metadata": {
    "collapsed": false
   },
   "outputs": [
    {
     "data": {
      "image/png": "[encoded data removed]",
      "text/plain": [
       "<matplotlib.figure.Figure at 0x7fd683733cd0>"
      ]
     },
     "metadata": {},
     "output_type": "display_data"
    }
   ],
   "source": [
    "df.last_time_tweet.hist(alpha=0.5, bins=[i*25 for i in range(20)])\n",
    "plt.title(\"Tweets after 3 hours\")\n",
    "plt.ylabel(\"count of urls\")\n",
    "plt.xlabel(\"count of tweets\")\n",
    "plt.show()"
   ]
  },
  {
   "cell_type": "code",
   "execution_count": 152,
   "metadata": {
    "collapsed": false
   },
   "outputs": [
    {
     "data": {
      "image/png": "[encoded data removed]",
      "text/plain": [
       "<matplotlib.figure.Figure at 0x7fd6835b0ad0>"
      ]
     },
     "metadata": {},
     "output_type": "display_data"
    }
   ],
   "source": [
    "#df.week_day_news.hist(alpha=0.5, bins=[i for i in range(7)])\n",
    "S = df.groupby(\"week_day_news\")[\"last_time_tweet\"].sum()\n",
    "plt.pie(S.as_matrix(), labels=[\"Monday\", \"Tuesday\", \"Wednesday\", \"Thursday\", \"Friday\", \"Saturday\", \"Sunday\"]);\n",
    "plt.show();"
   ]
  },
  {
   "cell_type": "code",
   "execution_count": 175,
   "metadata": {
    "collapsed": false
   },
   "outputs": [
    {
     "data": {
      "image/png": "[encoded data removed]",
      "text/plain": [
       "<matplotlib.figure.Figure at 0x7fd6834d7650>"
      ]
     },
     "metadata": {},
     "output_type": "display_data"
    }
   ],
   "source": [
    "plt.figure(figsize=(8,8))\n",
    "plt.plot(df[\"last_time_tweet\"].as_matrix(), df[\"first_time_tweet\"].as_matrix(), 'ro',  alpha=0.6)\n",
    "plt.title(\"Tweet Count\")\n",
    "plt.xlabel(\"Count Of Tweets after 180 minutes\")\n",
    "plt.ylabel(\"Count Of Tweets after 10 minutes\")\n",
    "plt.xlim(0, 80)\n",
    "plt.ylim(0, 80)\n",
    "#plt.xscale('log')\n",
    "#plt.yscale('log')\n",
    "#plt.grid(b=True, which='both', color='0.65',linestyle='-')\n",
    "plt.rcParams.update({'font.size': 14})"
   ]
  },
  {
   "cell_type": "code",
   "execution_count": 172,
   "metadata": {
    "collapsed": false
   },
   "outputs": [
    {
     "data": {
      "text/html": [
       "<div>\n",
       "<table border=\"1\" class=\"dataframe\">\n",
       "  <thead>\n",
       "    <tr style=\"text-align: right;\">\n",
       "      <th></th>\n",
       "      <th>url</th>\n",
       "      <th>week_day_news</th>\n",
       "      <th>minutes_since_midnight</th>\n",
       "      <th>first_time_tweet</th>\n",
       "      <th>follower_sum</th>\n",
       "      <th>retweeted_count_sum</th>\n",
       "      <th>favorite_count_sum</th>\n",
       "      <th>user_listed_count_sum</th>\n",
       "      <th>last_time_tweet</th>\n",
       "    </tr>\n",
       "  </thead>\n",
       "  <tbody>\n",
       "    <tr>\n",
       "      <th>38</th>\n",
       "      <td>https://vc.ru/n/fb-virus-2015</td>\n",
       "      <td>4</td>\n",
       "      <td>1005</td>\n",
       "      <td>3</td>\n",
       "      <td>61700</td>\n",
       "      <td>4</td>\n",
       "      <td>9</td>\n",
       "      <td>721</td>\n",
       "      <td>9</td>\n",
       "    </tr>\n",
       "    <tr>\n",
       "      <th>114</th>\n",
       "      <td>https://vc.ru/n/tpp-startups-money</td>\n",
       "      <td>4</td>\n",
       "      <td>784</td>\n",
       "      <td>2</td>\n",
       "      <td>77220</td>\n",
       "      <td>6</td>\n",
       "      <td>3</td>\n",
       "      <td>803</td>\n",
       "      <td>7</td>\n",
       "    </tr>\n",
       "    <tr>\n",
       "      <th>169</th>\n",
       "      <td>https://vc.ru/n/store-bee</td>\n",
       "      <td>4</td>\n",
       "      <td>576</td>\n",
       "      <td>1</td>\n",
       "      <td>74</td>\n",
       "      <td>0</td>\n",
       "      <td>0</td>\n",
       "      <td>3</td>\n",
       "      <td>5</td>\n",
       "    </tr>\n",
       "    <tr>\n",
       "      <th>181</th>\n",
       "      <td>https://vc.ru/n/uber-funding-round</td>\n",
       "      <td>3</td>\n",
       "      <td>1403</td>\n",
       "      <td>2</td>\n",
       "      <td>60804</td>\n",
       "      <td>6</td>\n",
       "      <td>3</td>\n",
       "      <td>680</td>\n",
       "      <td>3</td>\n",
       "    </tr>\n",
       "    <tr>\n",
       "      <th>220</th>\n",
       "      <td>https://vc.ru/p/apple-pencil-pro</td>\n",
       "      <td>3</td>\n",
       "      <td>1227</td>\n",
       "      <td>3</td>\n",
       "      <td>251509</td>\n",
       "      <td>10</td>\n",
       "      <td>42</td>\n",
       "      <td>1184</td>\n",
       "      <td>15</td>\n",
       "    </tr>\n",
       "    <tr>\n",
       "      <th>347</th>\n",
       "      <td>https://vc.ru/n/zygar-leave</td>\n",
       "      <td>3</td>\n",
       "      <td>1076</td>\n",
       "      <td>6</td>\n",
       "      <td>314451</td>\n",
       "      <td>11</td>\n",
       "      <td>18</td>\n",
       "      <td>1918</td>\n",
       "      <td>11</td>\n",
       "    </tr>\n",
       "    <tr>\n",
       "      <th>363</th>\n",
       "      <td>https://vc.ru/p/yandex-keyboard-or-not</td>\n",
       "      <td>3</td>\n",
       "      <td>1037</td>\n",
       "      <td>3</td>\n",
       "      <td>65254</td>\n",
       "      <td>4</td>\n",
       "      <td>9</td>\n",
       "      <td>791</td>\n",
       "      <td>7</td>\n",
       "    </tr>\n",
       "    <tr>\n",
       "      <th>383</th>\n",
       "      <td>https://vc.ru/n/ford-siri</td>\n",
       "      <td>3</td>\n",
       "      <td>1020</td>\n",
       "      <td>1</td>\n",
       "      <td>60745</td>\n",
       "      <td>4</td>\n",
       "      <td>7</td>\n",
       "      <td>678</td>\n",
       "      <td>3</td>\n",
       "    </tr>\n",
       "    <tr>\n",
       "      <th>403</th>\n",
       "      <td>https://vc.ru/n/youtube-films</td>\n",
       "      <td>3</td>\n",
       "      <td>939</td>\n",
       "      <td>2</td>\n",
       "      <td>60793</td>\n",
       "      <td>5</td>\n",
       "      <td>14</td>\n",
       "      <td>678</td>\n",
       "      <td>3</td>\n",
       "    </tr>\n",
       "    <tr>\n",
       "      <th>411</th>\n",
       "      <td>https://vc.ru/p/tochka-redesign</td>\n",
       "      <td>3</td>\n",
       "      <td>887</td>\n",
       "      <td>5</td>\n",
       "      <td>62983</td>\n",
       "      <td>1</td>\n",
       "      <td>11</td>\n",
       "      <td>787</td>\n",
       "      <td>6</td>\n",
       "    </tr>\n",
       "    <tr>\n",
       "      <th>449</th>\n",
       "      <td>https://vc.ru/n/pure-sex</td>\n",
       "      <td>3</td>\n",
       "      <td>721</td>\n",
       "      <td>3</td>\n",
       "      <td>61605</td>\n",
       "      <td>2</td>\n",
       "      <td>19</td>\n",
       "      <td>702</td>\n",
       "      <td>16</td>\n",
       "    </tr>\n",
       "    <tr>\n",
       "      <th>519</th>\n",
       "      <td>https://vc.ru/n/adobe-finally</td>\n",
       "      <td>1</td>\n",
       "      <td>1386</td>\n",
       "      <td>3</td>\n",
       "      <td>63865</td>\n",
       "      <td>24</td>\n",
       "      <td>32</td>\n",
       "      <td>751</td>\n",
       "      <td>22</td>\n",
       "    </tr>\n",
       "    <tr>\n",
       "      <th>557</th>\n",
       "      <td>https://vc.ru/n/long-way-tur</td>\n",
       "      <td>1</td>\n",
       "      <td>1259</td>\n",
       "      <td>1</td>\n",
       "      <td>60214</td>\n",
       "      <td>5</td>\n",
       "      <td>3</td>\n",
       "      <td>676</td>\n",
       "      <td>3</td>\n",
       "    </tr>\n",
       "    <tr>\n",
       "      <th>578</th>\n",
       "      <td>https://vc.ru/p/lada-commercial</td>\n",
       "      <td>1</td>\n",
       "      <td>1129</td>\n",
       "      <td>1</td>\n",
       "      <td>60214</td>\n",
       "      <td>8</td>\n",
       "      <td>13</td>\n",
       "      <td>676</td>\n",
       "      <td>5</td>\n",
       "    </tr>\n",
       "    <tr>\n",
       "      <th>628</th>\n",
       "      <td>https://vc.ru/p/second-language</td>\n",
       "      <td>1</td>\n",
       "      <td>1085</td>\n",
       "      <td>2</td>\n",
       "      <td>60328</td>\n",
       "      <td>3</td>\n",
       "      <td>23</td>\n",
       "      <td>680</td>\n",
       "      <td>5</td>\n",
       "    </tr>\n",
       "    <tr>\n",
       "      <th>653</th>\n",
       "      <td>https://vc.ru/n/afisha-change-2016</td>\n",
       "      <td>1</td>\n",
       "      <td>1035</td>\n",
       "      <td>2</td>\n",
       "      <td>61838</td>\n",
       "      <td>1</td>\n",
       "      <td>6</td>\n",
       "      <td>696</td>\n",
       "      <td>12</td>\n",
       "    </tr>\n",
       "    <tr>\n",
       "      <th>686</th>\n",
       "      <td>https://vc.ru/n/stroi-partiya</td>\n",
       "      <td>1</td>\n",
       "      <td>891</td>\n",
       "      <td>1</td>\n",
       "      <td>60214</td>\n",
       "      <td>1</td>\n",
       "      <td>2</td>\n",
       "      <td>676</td>\n",
       "      <td>2</td>\n",
       "    </tr>\n",
       "    <tr>\n",
       "      <th>694</th>\n",
       "      <td>https://vc.ru/n/uber-rostov</td>\n",
       "      <td>1</td>\n",
       "      <td>759</td>\n",
       "      <td>2</td>\n",
       "      <td>65518</td>\n",
       "      <td>6</td>\n",
       "      <td>4</td>\n",
       "      <td>723</td>\n",
       "      <td>5</td>\n",
       "    </tr>\n",
       "    <tr>\n",
       "      <th>707</th>\n",
       "      <td>https://vc.ru/n/akit-40percent</td>\n",
       "      <td>1</td>\n",
       "      <td>648</td>\n",
       "      <td>2</td>\n",
       "      <td>60376</td>\n",
       "      <td>6</td>\n",
       "      <td>3</td>\n",
       "      <td>684</td>\n",
       "      <td>6</td>\n",
       "    </tr>\n",
       "    <tr>\n",
       "      <th>734</th>\n",
       "      <td>https://vc.ru/n/week-deals-25</td>\n",
       "      <td>0</td>\n",
       "      <td>1388</td>\n",
       "      <td>1</td>\n",
       "      <td>60214</td>\n",
       "      <td>0</td>\n",
       "      <td>2</td>\n",
       "      <td>676</td>\n",
       "      <td>1</td>\n",
       "    </tr>\n",
       "    <tr>\n",
       "      <th>735</th>\n",
       "      <td>https://vc.ru/n/small-business</td>\n",
       "      <td>0</td>\n",
       "      <td>1358</td>\n",
       "      <td>1</td>\n",
       "      <td>60214</td>\n",
       "      <td>6</td>\n",
       "      <td>6</td>\n",
       "      <td>676</td>\n",
       "      <td>6</td>\n",
       "    </tr>\n",
       "    <tr>\n",
       "      <th>821</th>\n",
       "      <td>https://vc.ru/n/mazurenko</td>\n",
       "      <td>6</td>\n",
       "      <td>64</td>\n",
       "      <td>4</td>\n",
       "      <td>67728</td>\n",
       "      <td>6</td>\n",
       "      <td>3</td>\n",
       "      <td>1259</td>\n",
       "      <td>8</td>\n",
       "    </tr>\n",
       "    <tr>\n",
       "      <th>833</th>\n",
       "      <td>https://vc.ru/n/tur-work</td>\n",
       "      <td>5</td>\n",
       "      <td>1263</td>\n",
       "      <td>4</td>\n",
       "      <td>59761</td>\n",
       "      <td>10</td>\n",
       "      <td>12</td>\n",
       "      <td>682</td>\n",
       "      <td>9</td>\n",
       "    </tr>\n",
       "    <tr>\n",
       "      <th>926</th>\n",
       "      <td>https://vc.ru/n/instagram-android</td>\n",
       "      <td>4</td>\n",
       "      <td>1234</td>\n",
       "      <td>1</td>\n",
       "      <td>59635</td>\n",
       "      <td>12</td>\n",
       "      <td>28</td>\n",
       "      <td>672</td>\n",
       "      <td>13</td>\n",
       "    </tr>\n",
       "    <tr>\n",
       "      <th>949</th>\n",
       "      <td>https://vc.ru/n/yota-roborace</td>\n",
       "      <td>4</td>\n",
       "      <td>1089</td>\n",
       "      <td>1</td>\n",
       "      <td>59635</td>\n",
       "      <td>2</td>\n",
       "      <td>6</td>\n",
       "      <td>672</td>\n",
       "      <td>3</td>\n",
       "    </tr>\n",
       "    <tr>\n",
       "      <th>960</th>\n",
       "      <td>https://vc.ru/p/game-analytics</td>\n",
       "      <td>4</td>\n",
       "      <td>1057</td>\n",
       "      <td>1</td>\n",
       "      <td>59634</td>\n",
       "      <td>1</td>\n",
       "      <td>11</td>\n",
       "      <td>672</td>\n",
       "      <td>1</td>\n",
       "    </tr>\n",
       "    <tr>\n",
       "      <th>961</th>\n",
       "      <td>https://vc.ru/p/bpium</td>\n",
       "      <td>4</td>\n",
       "      <td>1007</td>\n",
       "      <td>1</td>\n",
       "      <td>177</td>\n",
       "      <td>0</td>\n",
       "      <td>1</td>\n",
       "      <td>3</td>\n",
       "      <td>1</td>\n",
       "    </tr>\n",
       "    <tr>\n",
       "      <th>986</th>\n",
       "      <td>https://vc.ru/n/komso-varl</td>\n",
       "      <td>4</td>\n",
       "      <td>965</td>\n",
       "      <td>2</td>\n",
       "      <td>61416</td>\n",
       "      <td>18</td>\n",
       "      <td>24</td>\n",
       "      <td>769</td>\n",
       "      <td>17</td>\n",
       "    </tr>\n",
       "    <tr>\n",
       "      <th>1012</th>\n",
       "      <td>https://vc.ru/n/very-good-business-kaz</td>\n",
       "      <td>4</td>\n",
       "      <td>811</td>\n",
       "      <td>2</td>\n",
       "      <td>59929</td>\n",
       "      <td>10</td>\n",
       "      <td>7</td>\n",
       "      <td>680</td>\n",
       "      <td>11</td>\n",
       "    </tr>\n",
       "    <tr>\n",
       "      <th>1026</th>\n",
       "      <td>https://vc.ru/n/stockmann-leave</td>\n",
       "      <td>4</td>\n",
       "      <td>679</td>\n",
       "      <td>1</td>\n",
       "      <td>59634</td>\n",
       "      <td>9</td>\n",
       "      <td>7</td>\n",
       "      <td>672</td>\n",
       "      <td>8</td>\n",
       "    </tr>\n",
       "    <tr>\n",
       "      <th>...</th>\n",
       "      <td>...</td>\n",
       "      <td>...</td>\n",
       "      <td>...</td>\n",
       "      <td>...</td>\n",
       "      <td>...</td>\n",
       "      <td>...</td>\n",
       "      <td>...</td>\n",
       "      <td>...</td>\n",
       "      <td>...</td>\n",
       "    </tr>\n",
       "    <tr>\n",
       "      <th>2046</th>\n",
       "      <td>https://tjournal.ru/p/putin-washington</td>\n",
       "      <td>3</td>\n",
       "      <td>1228</td>\n",
       "      <td>6</td>\n",
       "      <td>282812</td>\n",
       "      <td>10</td>\n",
       "      <td>8</td>\n",
       "      <td>1650</td>\n",
       "      <td>19</td>\n",
       "    </tr>\n",
       "    <tr>\n",
       "      <th>2073</th>\n",
       "      <td>https://tjournal.ru/p/twitter-cat-fact-spam-sn...</td>\n",
       "      <td>3</td>\n",
       "      <td>1104</td>\n",
       "      <td>6</td>\n",
       "      <td>270938</td>\n",
       "      <td>9</td>\n",
       "      <td>12</td>\n",
       "      <td>1172</td>\n",
       "      <td>19</td>\n",
       "    </tr>\n",
       "    <tr>\n",
       "      <th>2095</th>\n",
       "      <td>https://tjournal.ru/p/nfc-cardsmobile</td>\n",
       "      <td>3</td>\n",
       "      <td>1042</td>\n",
       "      <td>1</td>\n",
       "      <td>24726</td>\n",
       "      <td>0</td>\n",
       "      <td>0</td>\n",
       "      <td>5</td>\n",
       "      <td>13</td>\n",
       "    </tr>\n",
       "    <tr>\n",
       "      <th>2109</th>\n",
       "      <td>https://tjournal.ru/p/state-of-cyberwarfare</td>\n",
       "      <td>3</td>\n",
       "      <td>1037</td>\n",
       "      <td>4</td>\n",
       "      <td>269870</td>\n",
       "      <td>8</td>\n",
       "      <td>37</td>\n",
       "      <td>1169</td>\n",
       "      <td>14</td>\n",
       "    </tr>\n",
       "    <tr>\n",
       "      <th>2128</th>\n",
       "      <td>https://tjournal.ru/p/tinder-pr-fail</td>\n",
       "      <td>3</td>\n",
       "      <td>978</td>\n",
       "      <td>6</td>\n",
       "      <td>289052</td>\n",
       "      <td>15</td>\n",
       "      <td>36</td>\n",
       "      <td>1558</td>\n",
       "      <td>19</td>\n",
       "    </tr>\n",
       "    <tr>\n",
       "      <th>2155</th>\n",
       "      <td>https://tjournal.ru/p/parking-fire</td>\n",
       "      <td>3</td>\n",
       "      <td>927</td>\n",
       "      <td>12</td>\n",
       "      <td>355693</td>\n",
       "      <td>26</td>\n",
       "      <td>22</td>\n",
       "      <td>6632</td>\n",
       "      <td>32</td>\n",
       "    </tr>\n",
       "    <tr>\n",
       "      <th>2193</th>\n",
       "      <td>https://tjournal.ru/p/truckers-riot</td>\n",
       "      <td>3</td>\n",
       "      <td>926</td>\n",
       "      <td>6</td>\n",
       "      <td>106605</td>\n",
       "      <td>1</td>\n",
       "      <td>0</td>\n",
       "      <td>5410</td>\n",
       "      <td>23</td>\n",
       "    </tr>\n",
       "    <tr>\n",
       "      <th>2223</th>\n",
       "      <td>https://tjournal.ru/p/ballistics-calculator</td>\n",
       "      <td>3</td>\n",
       "      <td>755</td>\n",
       "      <td>3</td>\n",
       "      <td>269273</td>\n",
       "      <td>10</td>\n",
       "      <td>10</td>\n",
       "      <td>1171</td>\n",
       "      <td>22</td>\n",
       "    </tr>\n",
       "    <tr>\n",
       "      <th>2284</th>\n",
       "      <td>https://tjournal.ru/p/zano-drone</td>\n",
       "      <td>3</td>\n",
       "      <td>674</td>\n",
       "      <td>8</td>\n",
       "      <td>375671</td>\n",
       "      <td>1</td>\n",
       "      <td>2</td>\n",
       "      <td>6574</td>\n",
       "      <td>9</td>\n",
       "    </tr>\n",
       "    <tr>\n",
       "      <th>2395</th>\n",
       "      <td>https://tjournal.ru/p/anonymous-vs-isis</td>\n",
       "      <td>2</td>\n",
       "      <td>1400</td>\n",
       "      <td>2</td>\n",
       "      <td>269066</td>\n",
       "      <td>23</td>\n",
       "      <td>53</td>\n",
       "      <td>1164</td>\n",
       "      <td>20</td>\n",
       "    </tr>\n",
       "    <tr>\n",
       "      <th>2423</th>\n",
       "      <td>https://tjournal.ru/p/panasonic-magic-megaphone</td>\n",
       "      <td>2</td>\n",
       "      <td>1373</td>\n",
       "      <td>10</td>\n",
       "      <td>276244</td>\n",
       "      <td>25</td>\n",
       "      <td>23</td>\n",
       "      <td>1291</td>\n",
       "      <td>28</td>\n",
       "    </tr>\n",
       "    <tr>\n",
       "      <th>2561</th>\n",
       "      <td>https://tjournal.ru/p/5-reasons-of-metal</td>\n",
       "      <td>2</td>\n",
       "      <td>1192</td>\n",
       "      <td>8</td>\n",
       "      <td>273341</td>\n",
       "      <td>19</td>\n",
       "      <td>15</td>\n",
       "      <td>1237</td>\n",
       "      <td>24</td>\n",
       "    </tr>\n",
       "    <tr>\n",
       "      <th>2590</th>\n",
       "      <td>https://tjournal.ru/p/samsung-back-to-the-future</td>\n",
       "      <td>2</td>\n",
       "      <td>1086</td>\n",
       "      <td>4</td>\n",
       "      <td>245492</td>\n",
       "      <td>8</td>\n",
       "      <td>4</td>\n",
       "      <td>1203</td>\n",
       "      <td>16</td>\n",
       "    </tr>\n",
       "    <tr>\n",
       "      <th>2606</th>\n",
       "      <td>https://tjournal.ru/p/rkn-wiki-narcotics</td>\n",
       "      <td>2</td>\n",
       "      <td>1021</td>\n",
       "      <td>7</td>\n",
       "      <td>270452</td>\n",
       "      <td>6</td>\n",
       "      <td>6</td>\n",
       "      <td>1619</td>\n",
       "      <td>10</td>\n",
       "    </tr>\n",
       "    <tr>\n",
       "      <th>2624</th>\n",
       "      <td>https://tjournal.ru/p/cat-cucumbers</td>\n",
       "      <td>2</td>\n",
       "      <td>938</td>\n",
       "      <td>1</td>\n",
       "      <td>244340</td>\n",
       "      <td>243</td>\n",
       "      <td>214</td>\n",
       "      <td>1159</td>\n",
       "      <td>1</td>\n",
       "    </tr>\n",
       "    <tr>\n",
       "      <th>2724</th>\n",
       "      <td>https://tjournal.ru/p/apple-ekb-iphone</td>\n",
       "      <td>2</td>\n",
       "      <td>891</td>\n",
       "      <td>13</td>\n",
       "      <td>364219</td>\n",
       "      <td>30</td>\n",
       "      <td>61</td>\n",
       "      <td>6663</td>\n",
       "      <td>30</td>\n",
       "    </tr>\n",
       "    <tr>\n",
       "      <th>2759</th>\n",
       "      <td>https://tjournal.ru/p/star-wars-tatooine-is-real</td>\n",
       "      <td>2</td>\n",
       "      <td>807</td>\n",
       "      <td>8</td>\n",
       "      <td>351181</td>\n",
       "      <td>5</td>\n",
       "      <td>15</td>\n",
       "      <td>6576</td>\n",
       "      <td>11</td>\n",
       "    </tr>\n",
       "    <tr>\n",
       "      <th>2773</th>\n",
       "      <td>https://tjournal.ru/p/new-stalin</td>\n",
       "      <td>2</td>\n",
       "      <td>778</td>\n",
       "      <td>9</td>\n",
       "      <td>258812</td>\n",
       "      <td>21</td>\n",
       "      <td>20</td>\n",
       "      <td>1341</td>\n",
       "      <td>23</td>\n",
       "    </tr>\n",
       "    <tr>\n",
       "      <th>2833</th>\n",
       "      <td>https://tjournal.ru/p/aliexpress-culture</td>\n",
       "      <td>2</td>\n",
       "      <td>685</td>\n",
       "      <td>3</td>\n",
       "      <td>250123</td>\n",
       "      <td>23</td>\n",
       "      <td>218</td>\n",
       "      <td>1259</td>\n",
       "      <td>26</td>\n",
       "    </tr>\n",
       "    <tr>\n",
       "      <th>2870</th>\n",
       "      <td>https://tjournal.ru/p/salavat-yulaev-vk</td>\n",
       "      <td>1</td>\n",
       "      <td>1375</td>\n",
       "      <td>4</td>\n",
       "      <td>272836</td>\n",
       "      <td>6</td>\n",
       "      <td>11</td>\n",
       "      <td>1185</td>\n",
       "      <td>16</td>\n",
       "    </tr>\n",
       "    <tr>\n",
       "      <th>2889</th>\n",
       "      <td>https://tjournal.ru/p/snowden-ad-block</td>\n",
       "      <td>1</td>\n",
       "      <td>1314</td>\n",
       "      <td>7</td>\n",
       "      <td>271293</td>\n",
       "      <td>15</td>\n",
       "      <td>23</td>\n",
       "      <td>1218</td>\n",
       "      <td>20</td>\n",
       "    </tr>\n",
       "    <tr>\n",
       "      <th>2915</th>\n",
       "      <td>https://tjournal.ru/p/hunger-games-final-review</td>\n",
       "      <td>1</td>\n",
       "      <td>1228</td>\n",
       "      <td>2</td>\n",
       "      <td>244533</td>\n",
       "      <td>5</td>\n",
       "      <td>20</td>\n",
       "      <td>1160</td>\n",
       "      <td>13</td>\n",
       "    </tr>\n",
       "    <tr>\n",
       "      <th>2930</th>\n",
       "      <td>https://tjournal.ru/p/aliexpress-garbage</td>\n",
       "      <td>1</td>\n",
       "      <td>1192</td>\n",
       "      <td>9</td>\n",
       "      <td>273122</td>\n",
       "      <td>38</td>\n",
       "      <td>73</td>\n",
       "      <td>1233</td>\n",
       "      <td>36</td>\n",
       "    </tr>\n",
       "    <tr>\n",
       "      <th>2984</th>\n",
       "      <td>https://tjournal.ru/p/ola-boats</td>\n",
       "      <td>1</td>\n",
       "      <td>1068</td>\n",
       "      <td>1</td>\n",
       "      <td>24726</td>\n",
       "      <td>0</td>\n",
       "      <td>0</td>\n",
       "      <td>5</td>\n",
       "      <td>9</td>\n",
       "    </tr>\n",
       "    <tr>\n",
       "      <th>2994</th>\n",
       "      <td>https://tjournal.ru/p/chinese-tinder-censorship</td>\n",
       "      <td>1</td>\n",
       "      <td>1027</td>\n",
       "      <td>9</td>\n",
       "      <td>378085</td>\n",
       "      <td>5</td>\n",
       "      <td>11</td>\n",
       "      <td>6589</td>\n",
       "      <td>12</td>\n",
       "    </tr>\n",
       "    <tr>\n",
       "      <th>3007</th>\n",
       "      <td>https://tjournal.ru/p/movies-vs-reality</td>\n",
       "      <td>1</td>\n",
       "      <td>969</td>\n",
       "      <td>9</td>\n",
       "      <td>276994</td>\n",
       "      <td>15</td>\n",
       "      <td>68</td>\n",
       "      <td>1372</td>\n",
       "      <td>26</td>\n",
       "    </tr>\n",
       "    <tr>\n",
       "      <th>3065</th>\n",
       "      <td>https://tjournal.ru/p/google-three-new-devices</td>\n",
       "      <td>1</td>\n",
       "      <td>790</td>\n",
       "      <td>5</td>\n",
       "      <td>269649</td>\n",
       "      <td>3</td>\n",
       "      <td>9</td>\n",
       "      <td>1176</td>\n",
       "      <td>15</td>\n",
       "    </tr>\n",
       "    <tr>\n",
       "      <th>3082</th>\n",
       "      <td>https://tjournal.ru/p/ai-japan-exam</td>\n",
       "      <td>1</td>\n",
       "      <td>737</td>\n",
       "      <td>5</td>\n",
       "      <td>246733</td>\n",
       "      <td>14</td>\n",
       "      <td>30</td>\n",
       "      <td>1223</td>\n",
       "      <td>16</td>\n",
       "    </tr>\n",
       "    <tr>\n",
       "      <th>3109</th>\n",
       "      <td>https://tjournal.ru/p/putin-a321-bomba-terakt</td>\n",
       "      <td>1</td>\n",
       "      <td>730</td>\n",
       "      <td>10</td>\n",
       "      <td>300289</td>\n",
       "      <td>24</td>\n",
       "      <td>35</td>\n",
       "      <td>1744</td>\n",
       "      <td>29</td>\n",
       "    </tr>\n",
       "    <tr>\n",
       "      <th>3143</th>\n",
       "      <td>https://tjournal.ru/p/nightshift</td>\n",
       "      <td>1</td>\n",
       "      <td>671</td>\n",
       "      <td>1</td>\n",
       "      <td>24726</td>\n",
       "      <td>0</td>\n",
       "      <td>0</td>\n",
       "      <td>5</td>\n",
       "      <td>7</td>\n",
       "    </tr>\n",
       "  </tbody>\n",
       "</table>\n",
       "<p>90 rows × 9 columns</p>\n",
       "</div>"
      ],
      "text/plain": [
       "                                                    url  week_day_news  \\\n",
       "38                        https://vc.ru/n/fb-virus-2015              4   \n",
       "114                  https://vc.ru/n/tpp-startups-money              4   \n",
       "169                           https://vc.ru/n/store-bee              4   \n",
       "181                  https://vc.ru/n/uber-funding-round              3   \n",
       "220                    https://vc.ru/p/apple-pencil-pro              3   \n",
       "347                         https://vc.ru/n/zygar-leave              3   \n",
       "363              https://vc.ru/p/yandex-keyboard-or-not              3   \n",
       "383                           https://vc.ru/n/ford-siri              3   \n",
       "403                       https://vc.ru/n/youtube-films              3   \n",
       "411                     https://vc.ru/p/tochka-redesign              3   \n",
       "449                            https://vc.ru/n/pure-sex              3   \n",
       "519                       https://vc.ru/n/adobe-finally              1   \n",
       "557                        https://vc.ru/n/long-way-tur              1   \n",
       "578                     https://vc.ru/p/lada-commercial              1   \n",
       "628                     https://vc.ru/p/second-language              1   \n",
       "653                  https://vc.ru/n/afisha-change-2016              1   \n",
       "686                       https://vc.ru/n/stroi-partiya              1   \n",
       "694                         https://vc.ru/n/uber-rostov              1   \n",
       "707                      https://vc.ru/n/akit-40percent              1   \n",
       "734                       https://vc.ru/n/week-deals-25              0   \n",
       "735                      https://vc.ru/n/small-business              0   \n",
       "821                           https://vc.ru/n/mazurenko              6   \n",
       "833                            https://vc.ru/n/tur-work              5   \n",
       "926                   https://vc.ru/n/instagram-android              4   \n",
       "949                       https://vc.ru/n/yota-roborace              4   \n",
       "960                      https://vc.ru/p/game-analytics              4   \n",
       "961                               https://vc.ru/p/bpium              4   \n",
       "986                          https://vc.ru/n/komso-varl              4   \n",
       "1012             https://vc.ru/n/very-good-business-kaz              4   \n",
       "1026                    https://vc.ru/n/stockmann-leave              4   \n",
       "...                                                 ...            ...   \n",
       "2046             https://tjournal.ru/p/putin-washington              3   \n",
       "2073  https://tjournal.ru/p/twitter-cat-fact-spam-sn...              3   \n",
       "2095              https://tjournal.ru/p/nfc-cardsmobile              3   \n",
       "2109        https://tjournal.ru/p/state-of-cyberwarfare              3   \n",
       "2128               https://tjournal.ru/p/tinder-pr-fail              3   \n",
       "2155                 https://tjournal.ru/p/parking-fire              3   \n",
       "2193                https://tjournal.ru/p/truckers-riot              3   \n",
       "2223        https://tjournal.ru/p/ballistics-calculator              3   \n",
       "2284                   https://tjournal.ru/p/zano-drone              3   \n",
       "2395            https://tjournal.ru/p/anonymous-vs-isis              2   \n",
       "2423    https://tjournal.ru/p/panasonic-magic-megaphone              2   \n",
       "2561           https://tjournal.ru/p/5-reasons-of-metal              2   \n",
       "2590   https://tjournal.ru/p/samsung-back-to-the-future              2   \n",
       "2606           https://tjournal.ru/p/rkn-wiki-narcotics              2   \n",
       "2624                https://tjournal.ru/p/cat-cucumbers              2   \n",
       "2724             https://tjournal.ru/p/apple-ekb-iphone              2   \n",
       "2759   https://tjournal.ru/p/star-wars-tatooine-is-real              2   \n",
       "2773                   https://tjournal.ru/p/new-stalin              2   \n",
       "2833           https://tjournal.ru/p/aliexpress-culture              2   \n",
       "2870            https://tjournal.ru/p/salavat-yulaev-vk              1   \n",
       "2889             https://tjournal.ru/p/snowden-ad-block              1   \n",
       "2915    https://tjournal.ru/p/hunger-games-final-review              1   \n",
       "2930           https://tjournal.ru/p/aliexpress-garbage              1   \n",
       "2984                    https://tjournal.ru/p/ola-boats              1   \n",
       "2994    https://tjournal.ru/p/chinese-tinder-censorship              1   \n",
       "3007            https://tjournal.ru/p/movies-vs-reality              1   \n",
       "3065     https://tjournal.ru/p/google-three-new-devices              1   \n",
       "3082                https://tjournal.ru/p/ai-japan-exam              1   \n",
       "3109      https://tjournal.ru/p/putin-a321-bomba-terakt              1   \n",
       "3143                   https://tjournal.ru/p/nightshift              1   \n",
       "\n",
       "      minutes_since_midnight  first_time_tweet  follower_sum  \\\n",
       "38                      1005                 3         61700   \n",
       "114                      784                 2         77220   \n",
       "169                      576                 1            74   \n",
       "181                     1403                 2         60804   \n",
       "220                     1227                 3        251509   \n",
       "347                     1076                 6        314451   \n",
       "363                     1037                 3         65254   \n",
       "383                     1020                 1         60745   \n",
       "403                      939                 2         60793   \n",
       "411                      887                 5         62983   \n",
       "449                      721                 3         61605   \n",
       "519                     1386                 3         63865   \n",
       "557                     1259                 1         60214   \n",
       "578                     1129                 1         60214   \n",
       "628                     1085                 2         60328   \n",
       "653                     1035                 2         61838   \n",
       "686                      891                 1         60214   \n",
       "694                      759                 2         65518   \n",
       "707                      648                 2         60376   \n",
       "734                     1388                 1         60214   \n",
       "735                     1358                 1         60214   \n",
       "821                       64                 4         67728   \n",
       "833                     1263                 4         59761   \n",
       "926                     1234                 1         59635   \n",
       "949                     1089                 1         59635   \n",
       "960                     1057                 1         59634   \n",
       "961                     1007                 1           177   \n",
       "986                      965                 2         61416   \n",
       "1012                     811                 2         59929   \n",
       "1026                     679                 1         59634   \n",
       "...                      ...               ...           ...   \n",
       "2046                    1228                 6        282812   \n",
       "2073                    1104                 6        270938   \n",
       "2095                    1042                 1         24726   \n",
       "2109                    1037                 4        269870   \n",
       "2128                     978                 6        289052   \n",
       "2155                     927                12        355693   \n",
       "2193                     926                 6        106605   \n",
       "2223                     755                 3        269273   \n",
       "2284                     674                 8        375671   \n",
       "2395                    1400                 2        269066   \n",
       "2423                    1373                10        276244   \n",
       "2561                    1192                 8        273341   \n",
       "2590                    1086                 4        245492   \n",
       "2606                    1021                 7        270452   \n",
       "2624                     938                 1        244340   \n",
       "2724                     891                13        364219   \n",
       "2759                     807                 8        351181   \n",
       "2773                     778                 9        258812   \n",
       "2833                     685                 3        250123   \n",
       "2870                    1375                 4        272836   \n",
       "2889                    1314                 7        271293   \n",
       "2915                    1228                 2        244533   \n",
       "2930                    1192                 9        273122   \n",
       "2984                    1068                 1         24726   \n",
       "2994                    1027                 9        378085   \n",
       "3007                     969                 9        276994   \n",
       "3065                     790                 5        269649   \n",
       "3082                     737                 5        246733   \n",
       "3109                     730                10        300289   \n",
       "3143                     671                 1         24726   \n",
       "\n",
       "      retweeted_count_sum  favorite_count_sum  user_listed_count_sum  \\\n",
       "38                      4                   9                    721   \n",
       "114                     6                   3                    803   \n",
       "169                     0                   0                      3   \n",
       "181                     6                   3                    680   \n",
       "220                    10                  42                   1184   \n",
       "347                    11                  18                   1918   \n",
       "363                     4                   9                    791   \n",
       "383                     4                   7                    678   \n",
       "403                     5                  14                    678   \n",
       "411                     1                  11                    787   \n",
       "449                     2                  19                    702   \n",
       "519                    24                  32                    751   \n",
       "557                     5                   3                    676   \n",
       "578                     8                  13                    676   \n",
       "628                     3                  23                    680   \n",
       "653                     1                   6                    696   \n",
       "686                     1                   2                    676   \n",
       "694                     6                   4                    723   \n",
       "707                     6                   3                    684   \n",
       "734                     0                   2                    676   \n",
       "735                     6                   6                    676   \n",
       "821                     6                   3                   1259   \n",
       "833                    10                  12                    682   \n",
       "926                    12                  28                    672   \n",
       "949                     2                   6                    672   \n",
       "960                     1                  11                    672   \n",
       "961                     0                   1                      3   \n",
       "986                    18                  24                    769   \n",
       "1012                   10                   7                    680   \n",
       "1026                    9                   7                    672   \n",
       "...                   ...                 ...                    ...   \n",
       "2046                   10                   8                   1650   \n",
       "2073                    9                  12                   1172   \n",
       "2095                    0                   0                      5   \n",
       "2109                    8                  37                   1169   \n",
       "2128                   15                  36                   1558   \n",
       "2155                   26                  22                   6632   \n",
       "2193                    1                   0                   5410   \n",
       "2223                   10                  10                   1171   \n",
       "2284                    1                   2                   6574   \n",
       "2395                   23                  53                   1164   \n",
       "2423                   25                  23                   1291   \n",
       "2561                   19                  15                   1237   \n",
       "2590                    8                   4                   1203   \n",
       "2606                    6                   6                   1619   \n",
       "2624                  243                 214                   1159   \n",
       "2724                   30                  61                   6663   \n",
       "2759                    5                  15                   6576   \n",
       "2773                   21                  20                   1341   \n",
       "2833                   23                 218                   1259   \n",
       "2870                    6                  11                   1185   \n",
       "2889                   15                  23                   1218   \n",
       "2915                    5                  20                   1160   \n",
       "2930                   38                  73                   1233   \n",
       "2984                    0                   0                      5   \n",
       "2994                    5                  11                   6589   \n",
       "3007                   15                  68                   1372   \n",
       "3065                    3                   9                   1176   \n",
       "3082                   14                  30                   1223   \n",
       "3109                   24                  35                   1744   \n",
       "3143                    0                   0                      5   \n",
       "\n",
       "      last_time_tweet  \n",
       "38                  9  \n",
       "114                 7  \n",
       "169                 5  \n",
       "181                 3  \n",
       "220                15  \n",
       "347                11  \n",
       "363                 7  \n",
       "383                 3  \n",
       "403                 3  \n",
       "411                 6  \n",
       "449                16  \n",
       "519                22  \n",
       "557                 3  \n",
       "578                 5  \n",
       "628                 5  \n",
       "653                12  \n",
       "686                 2  \n",
       "694                 5  \n",
       "707                 6  \n",
       "734                 1  \n",
       "735                 6  \n",
       "821                 8  \n",
       "833                 9  \n",
       "926                13  \n",
       "949                 3  \n",
       "960                 1  \n",
       "961                 1  \n",
       "986                17  \n",
       "1012               11  \n",
       "1026                8  \n",
       "...               ...  \n",
       "2046               19  \n",
       "2073               19  \n",
       "2095               13  \n",
       "2109               14  \n",
       "2128               19  \n",
       "2155               32  \n",
       "2193               23  \n",
       "2223               22  \n",
       "2284                9  \n",
       "2395               20  \n",
       "2423               28  \n",
       "2561               24  \n",
       "2590               16  \n",
       "2606               10  \n",
       "2624                1  \n",
       "2724               30  \n",
       "2759               11  \n",
       "2773               23  \n",
       "2833               26  \n",
       "2870               16  \n",
       "2889               20  \n",
       "2915               13  \n",
       "2930               36  \n",
       "2984                9  \n",
       "2994               12  \n",
       "3007               26  \n",
       "3065               15  \n",
       "3082               16  \n",
       "3109               29  \n",
       "3143                7  \n",
       "\n",
       "[90 rows x 9 columns]"
      ]
     },
     "execution_count": 172,
     "metadata": {},
     "output_type": "execute_result"
    }
   ],
   "source": [
    "df[df[\"last_time_tweet\"]< 40]"
   ]
  },
  {
   "cell_type": "code",
   "execution_count": 157,
   "metadata": {
    "collapsed": false
   },
   "outputs": [
    {
     "data": {
      "text/html": [
       "<div>\n",
       "<table border=\"1\" class=\"dataframe\">\n",
       "  <thead>\n",
       "    <tr style=\"text-align: right;\">\n",
       "      <th></th>\n",
       "      <th>first_time_tweet</th>\n",
       "      <th>last_time_tweet</th>\n",
       "    </tr>\n",
       "  </thead>\n",
       "  <tbody>\n",
       "    <tr>\n",
       "      <th>741</th>\n",
       "      <td>1</td>\n",
       "      <td>45</td>\n",
       "    </tr>\n",
       "    <tr>\n",
       "      <th>855</th>\n",
       "      <td>5</td>\n",
       "      <td>52</td>\n",
       "    </tr>\n",
       "    <tr>\n",
       "      <th>1732</th>\n",
       "      <td>14</td>\n",
       "      <td>29</td>\n",
       "    </tr>\n",
       "    <tr>\n",
       "      <th>1768</th>\n",
       "      <td>12</td>\n",
       "      <td>32</td>\n",
       "    </tr>\n",
       "    <tr>\n",
       "      <th>1979</th>\n",
       "      <td>14</td>\n",
       "      <td>43</td>\n",
       "    </tr>\n",
       "    <tr>\n",
       "      <th>2155</th>\n",
       "      <td>12</td>\n",
       "      <td>32</td>\n",
       "    </tr>\n",
       "    <tr>\n",
       "      <th>2423</th>\n",
       "      <td>10</td>\n",
       "      <td>28</td>\n",
       "    </tr>\n",
       "    <tr>\n",
       "      <th>2457</th>\n",
       "      <td>23</td>\n",
       "      <td>41</td>\n",
       "    </tr>\n",
       "    <tr>\n",
       "      <th>2509</th>\n",
       "      <td>14</td>\n",
       "      <td>40</td>\n",
       "    </tr>\n",
       "    <tr>\n",
       "      <th>2724</th>\n",
       "      <td>13</td>\n",
       "      <td>30</td>\n",
       "    </tr>\n",
       "    <tr>\n",
       "      <th>2833</th>\n",
       "      <td>3</td>\n",
       "      <td>26</td>\n",
       "    </tr>\n",
       "    <tr>\n",
       "      <th>2930</th>\n",
       "      <td>9</td>\n",
       "      <td>36</td>\n",
       "    </tr>\n",
       "    <tr>\n",
       "      <th>3007</th>\n",
       "      <td>9</td>\n",
       "      <td>26</td>\n",
       "    </tr>\n",
       "    <tr>\n",
       "      <th>3109</th>\n",
       "      <td>10</td>\n",
       "      <td>29</td>\n",
       "    </tr>\n",
       "  </tbody>\n",
       "</table>\n",
       "</div>"
      ],
      "text/plain": [
       "      first_time_tweet  last_time_tweet\n",
       "741                  1               45\n",
       "855                  5               52\n",
       "1732                14               29\n",
       "1768                12               32\n",
       "1979                14               43\n",
       "2155                12               32\n",
       "2423                10               28\n",
       "2457                23               41\n",
       "2509                14               40\n",
       "2724                13               30\n",
       "2833                 3               26\n",
       "2930                 9               36\n",
       "3007                 9               26\n",
       "3109                10               29"
      ]
     },
     "execution_count": 157,
     "metadata": {},
     "output_type": "execute_result"
    }
   ],
   "source": [
    "df[df[\"last_time_tweet\"]> 25][[\"first_time_tweet\", \"last_time_tweet\"]]"
   ]
  },
  {
   "cell_type": "code",
   "execution_count": 158,
   "metadata": {
    "collapsed": false
   },
   "outputs": [],
   "source": [
    "def plot(y_test, y_predicted,title=\"\", text=\"\"):\n",
    "    plt.figure(figsize=(9,9))\n",
    "    plt.plot(y_test, y_predicted, 'ro', label=\"predicted\", alpha=0.7)\n",
    "    plt.title(title)\n",
    "    plt.xlabel(\"Y_TEST\")\n",
    "    plt.ylabel(\"Y_PREDICTED\")\n",
    "    \n",
    "    max_y = max(max(y_true), max(y_predicted))+10\n",
    "    \n",
    "    plt.xlim(0, max_y)\n",
    "    plt.ylim(0, max_y)\n",
    "    #plt.legend()\n",
    "    plt.text(0.05*max_y, max_y-0.05*max_y, \"mse=\"+text, fontsize=15)\n",
    "    \n",
    "    plt.plot([0, max_y], [0, max_y], color='black', alpha=0.5)\n",
    "    plt.grid(b=True, which='both', color='0.65',linestyle='-')\n",
    "    \n",
    "    plt.show()"
   ]
  },
  {
   "cell_type": "code",
   "execution_count": 159,
   "metadata": {
    "collapsed": true
   },
   "outputs": [],
   "source": [
    "def split_data(train_index, test_index):\n",
    "    x_train = x[train_index]\n",
    "    y_train = y[train_index]\n",
    "    \n",
    "    x_test = x[test_index]\n",
    "    y_test = y[test_index]\n",
    "    \n",
    "    return x_train, x_test, y_train, y_test"
   ]
  },
  {
   "cell_type": "code",
   "execution_count": 160,
   "metadata": {
    "collapsed": true
   },
   "outputs": [],
   "source": [
    "loo = cv.LeaveOneOut(len(y))"
   ]
  },
  {
   "cell_type": "code",
   "execution_count": null,
   "metadata": {
    "collapsed": true
   },
   "outputs": [],
   "source": []
  },
  {
   "cell_type": "markdown",
   "metadata": {},
   "source": [
    "## Деревья"
   ]
  },
  {
   "cell_type": "code",
   "execution_count": 161,
   "metadata": {
    "collapsed": false
   },
   "outputs": [
    {
     "data": {
      "image/png": "[encoded data removed]",
      "text/plain": [
       "<matplotlib.figure.Figure at 0x7fd6837f1b50>"
      ]
     },
     "metadata": {},
     "output_type": "display_data"
    }
   ],
   "source": [
    "from sklearn.tree import DecisionTreeRegressor\n",
    "\n",
    "y_predicted = []\n",
    "y_true = []\n",
    "\n",
    "for train_index, test_index in loo:\n",
    "    x_train, x_test, y_train, y_test = split_data(train_index, test_index)\n",
    "    dtree = DecisionTreeRegressor(max_depth=3)\n",
    "    dtree.fit(x_train, y_train)\n",
    "    y_pred = dtree.predict(x_test[0])\n",
    "    y_predicted.append(y_pred[0])\n",
    "    y_true.append(y_test[0])\n",
    "    \n",
    "\n",
    "mse = mean_squared_error(y_true, y_predicted)\n",
    "plot(y_true, y_predicted, title=\"DecisionTree Y\", text=str(mse))"
   ]
  },
  {
   "cell_type": "code",
   "execution_count": 162,
   "metadata": {
    "collapsed": false
   },
   "outputs": [
    {
     "data": {
      "image/png": "[encoded data removed]",
      "text/plain": [
       "<matplotlib.figure.Figure at 0x7fd683a0b9d0>"
      ]
     },
     "metadata": {},
     "output_type": "display_data"
    }
   ],
   "source": [
    "from sklearn.tree import DecisionTreeRegressor\n",
    "\n",
    "y_predicted = []\n",
    "y_true = []\n",
    "\n",
    "\n",
    "for train_index, test_index in loo:\n",
    "    x_train, x_test, y_train, y_test = split_data(train_index, test_index)\n",
    "    dtree = DecisionTreeRegressor(max_depth=4)\n",
    "    dtree.fit(x_train, np.log(y_train))\n",
    "    y_pred = dtree.predict(x_test[0])\n",
    "    y_predicted.append(np.exp(y_pred[0]))\n",
    "    y_true.append(y_test[0])\n",
    "\n",
    "mse = mean_squared_error(y_true, y_predicted)\n",
    "plot(y_true, y_predicted, title=\"DecisionTree Ln(Y)\", text=str(mse))"
   ]
  },
  {
   "cell_type": "markdown",
   "metadata": {},
   "source": [
    "В целом, конечно, дерево решений работает плохо, но выбросы оно вполне себе улавливает"
   ]
  },
  {
   "cell_type": "code",
   "execution_count": 128,
   "metadata": {
    "collapsed": false
   },
   "outputs": [],
   "source": [
    "y_true = np.asarray(y_true)\n",
    "y_predicted = np.asarray(y_predicted)\n",
    "BIG = 100\n",
    "y_big_true = y_true[y_true>BIG]\n",
    "y_big_predicted = y_predicted[y_true>BIG]"
   ]
  },
  {
   "cell_type": "code",
   "execution_count": 129,
   "metadata": {
    "collapsed": false
   },
   "outputs": [
    {
     "data": {
      "text/html": [
       "<div>\n",
       "<table border=\"1\" class=\"dataframe\">\n",
       "  <thead>\n",
       "    <tr style=\"text-align: right;\">\n",
       "      <th></th>\n",
       "    </tr>\n",
       "  </thead>\n",
       "  <tbody>\n",
       "    <tr>\n",
       "      <th>y_true</th>\n",
       "    </tr>\n",
       "    <tr>\n",
       "      <th>y_predicted</th>\n",
       "    </tr>\n",
       "  </tbody>\n",
       "</table>\n",
       "</div>"
      ],
      "text/plain": [
       "Empty DataFrame\n",
       "Columns: []\n",
       "Index: [y_true, y_predicted]"
      ]
     },
     "execution_count": 129,
     "metadata": {},
     "output_type": "execute_result"
    }
   ],
   "source": [
    "a = pd.DataFrame([y_big_true, y_big_predicted])\n",
    "a.index=[\"y_true\",\"y_predicted\"]\n",
    "a"
   ]
  },
  {
   "cell_type": "markdown",
   "metadata": {},
   "source": [
    "Вопрос к Михаилу.\n",
    "\n",
    "Как замерять RandomForest и другие рандомные методы. Раз через раз дает катастрофическую разницу. 400!"
   ]
  },
  {
   "cell_type": "code",
   "execution_count": 130,
   "metadata": {
    "collapsed": false
   },
   "outputs": [],
   "source": [
    "df.reset_index(inplace=True)"
   ]
  },
  {
   "cell_type": "code",
   "execution_count": 131,
   "metadata": {
    "collapsed": false
   },
   "outputs": [],
   "source": [
    "predic = pd.Series(np.around(y_predicted))"
   ]
  },
  {
   "cell_type": "code",
   "execution_count": 132,
   "metadata": {
    "collapsed": false
   },
   "outputs": [
    {
     "data": {
      "text/html": [
       "<div>\n",
       "<table border=\"1\" class=\"dataframe\">\n",
       "  <thead>\n",
       "    <tr style=\"text-align: right;\">\n",
       "      <th></th>\n",
       "      <th>url</th>\n",
       "      <th>last_time_tweet</th>\n",
       "      <th>DT_Predict</th>\n",
       "    </tr>\n",
       "  </thead>\n",
       "  <tbody>\n",
       "    <tr>\n",
       "      <th>125</th>\n",
       "      <td>https://vc.ru/n/rao-stop-money</td>\n",
       "      <td>76</td>\n",
       "      <td>46</td>\n",
       "    </tr>\n",
       "  </tbody>\n",
       "</table>\n",
       "</div>"
      ],
      "text/plain": [
       "                                url  last_time_tweet  DT_Predict\n",
       "125  https://vc.ru/n/rao-stop-money               76          46"
      ]
     },
     "execution_count": 132,
     "metadata": {},
     "output_type": "execute_result"
    }
   ],
   "source": [
    "df[\"DT_Predict\"]=predic\n",
    "df_LTT = df[[\"url\", \"last_time_tweet\", \"DT_Predict\"]]\n",
    "df_LTT[df_LTT[\"last_time_tweet\"]>70]"
   ]
  },
  {
   "cell_type": "markdown",
   "metadata": {},
   "source": [
    "### LinearRegression"
   ]
  },
  {
   "cell_type": "code",
   "execution_count": 163,
   "metadata": {
    "collapsed": true
   },
   "outputs": [],
   "source": [
    "from sklearn.linear_model import Ridge"
   ]
  },
  {
   "cell_type": "markdown",
   "metadata": {},
   "source": [
    "Подбираем параметр"
   ]
  },
  {
   "cell_type": "code",
   "execution_count": 164,
   "metadata": {
    "collapsed": false
   },
   "outputs": [
    {
     "name": "stdout",
     "output_type": "stream",
     "text": [
      "396.495987281\n",
      "396.500352762\n",
      "396.543682167\n",
      "396.945444524\n",
      "398.621305736\n",
      "366.832300243\n",
      "190.993465819\n",
      "104.515776697\n",
      "99.5397899242\n",
      "97.6681640567\n",
      "97.0226803181\n",
      "96.9167144649\n",
      "96.7026628861\n",
      "96.5825258979\n",
      "96.5519831839\n",
      "96.5577664947\n",
      "96.0122743923\n",
      "Best Aplha =  100000000.0\n"
     ]
    }
   ],
   "source": [
    "alpha = [0.01, 0.1, 1, 10, 1e2, 1e3, 1e4, 1e5, 2e5, 4e5, 8e5, 1e6, 2e6, 4e6, 7e6, 1e7, 1e8]\n",
    "\n",
    "mse = []\n",
    "for al in alpha:\n",
    "    y_predicted = []\n",
    "    y_true = []\n",
    "\n",
    "    for train_index, test_index in loo:\n",
    "        x_train, x_test, y_train, y_test = split_data(train_index, test_index)\n",
    "        model = Ridge(alpha=al)\n",
    "        model.fit(x_train, y_train)\n",
    "        y_pred = model.predict(x_test[0])\n",
    "        y_predicted.append(y_pred[0])\n",
    "        y_true.append(y_test[0])\n",
    "    \n",
    "    cur_mse = mean_squared_error(y_true, y_predicted)\n",
    "    print cur_mse\n",
    "    mse.append(cur_mse)\n",
    "\n",
    "best_alpha = alpha[mse.index(min(mse))]\n",
    "print \"Best Aplha = \", best_alpha\n",
    "#plot(y_true, y_predicted, title=\"DecisionTree Log(Y)\")"
   ]
  },
  {
   "cell_type": "code",
   "execution_count": 165,
   "metadata": {
    "collapsed": false
   },
   "outputs": [
    {
     "data": {
      "image/png": "[encoded data removed]",
      "text/plain": [
       "<matplotlib.figure.Figure at 0x7fd683727690>"
      ]
     },
     "metadata": {},
     "output_type": "display_data"
    },
    {
     "name": "stdout",
     "output_type": "stream",
     "text": [
      "[  2.70719557e-07   3.43342311e-04   1.41817287e-05   4.98617478e-05\n",
      "   2.62706818e-05   4.76830916e-05  -1.23699268e-04]\n"
     ]
    }
   ],
   "source": [
    "y_predicted = []\n",
    "y_true = []\n",
    "\n",
    "for train_index, test_index in loo:\n",
    "    x_train, x_test, y_train, y_test = split_data(train_index, test_index)\n",
    "    model = Ridge(alpha=best_alpha)\n",
    "    model.fit(x_train, y_train)\n",
    "    y_pred = model.predict(x_test[0])\n",
    "    y_predicted.append(y_pred[0])\n",
    "    y_true.append(y_test[0])\n",
    "\n",
    "mse = mean_squared_error(y_true, y_predicted)\n",
    "plot(y_true, y_predicted, title=\"Ridge Y\", text=str(mse))\n",
    "print model.coef_"
   ]
  },
  {
   "cell_type": "markdown",
   "metadata": {},
   "source": [
    "Теперь логарифм"
   ]
  },
  {
   "cell_type": "code",
   "execution_count": 166,
   "metadata": {
    "collapsed": false
   },
   "outputs": [
    {
     "name": "stdout",
     "output_type": "stream",
     "text": [
      "591089881.971\n",
      "591282597.208\n",
      "593198006.174\n",
      "611200112.523\n",
      "698626004.355\n",
      "180627658.596\n",
      "50884.2654962\n",
      "130.138697885\n",
      "111.116688681\n",
      "105.937761339\n",
      "104.019859869\n",
      "103.686673672\n",
      "103.114228803\n",
      "102.962364684\n",
      "103.000172153\n",
      "103.057848364\n",
      "103.222169794\n",
      "Best Aplha =  4000000.0\n"
     ]
    }
   ],
   "source": [
    "alpha = [0.01, 0.1, 1, 10, 1e2, 1e3, 1e4, 1e5, 2e5, 4e5, 8e5, 1e6, 2e6, 4e6, 7e6, 1e7, 1e8]\n",
    "\n",
    "mse = []\n",
    "for al in alpha:\n",
    "    y_predicted = []\n",
    "    y_true = []\n",
    "\n",
    "    for train_index, test_index in loo:\n",
    "        x_train, x_test, y_train, y_test = split_data(train_index, test_index)\n",
    "        model = Ridge(alpha=al)\n",
    "        model.fit(x_train, np.log(y_train))\n",
    "        y_pred = model.predict(x_test[0])\n",
    "        y_predicted.append(np.exp(y_pred[0]))\n",
    "        y_true.append(y_test[0])\n",
    "\n",
    "    cur_mse = mean_squared_error(y_true, y_predicted)\n",
    "    print cur_mse\n",
    "    mse.append(cur_mse)\n",
    "\n",
    "\n",
    "best_alpha = alpha[mse.index(min(mse))]\n",
    "print \"Best Aplha = \", best_alpha\n",
    "#plot(y_true, y_predicted, title=\"DecisionTree Log(Y)\")"
   ]
  },
  {
   "cell_type": "code",
   "execution_count": 167,
   "metadata": {
    "collapsed": false
   },
   "outputs": [
    {
     "data": {
      "image/png": "[encoded data removed]",
      "text/plain": [
       "<matplotlib.figure.Figure at 0x7fd68366aad0>"
      ]
     },
     "metadata": {},
     "output_type": "display_data"
    },
    {
     "name": "stdout",
     "output_type": "stream",
     "text": [
      "[  1.49963655e-06   1.55462761e-04   2.27239822e-05   4.86446365e-06\n",
      "  -5.48239028e-05  -7.07554823e-06  -3.77106419e-05]\n"
     ]
    }
   ],
   "source": [
    "y_predicted = []\n",
    "y_true = []\n",
    "\n",
    "for train_index, test_index in loo:\n",
    "    x_train, x_test, y_train, y_test = split_data(train_index, test_index)\n",
    "    model = Ridge(alpha=best_alpha)\n",
    "    model.fit(x_train, np.log(y_train))\n",
    "    y_pred = model.predict(x_test[0])\n",
    "    y_predicted.append(np.exp(y_pred[0]))\n",
    "    y_true.append(y_test[0])\n",
    "    \n",
    "mse = mean_squared_error(y_true, y_predicted)\n",
    "plot(y_true, y_predicted, title=\"Ridge ln(Y)\", text=str(mse))\n",
    "print model.coef_"
   ]
  },
  {
   "cell_type": "markdown",
   "metadata": {},
   "source": [
    "# RandomForest "
   ]
  },
  {
   "cell_type": "code",
   "execution_count": 168,
   "metadata": {
    "collapsed": true
   },
   "outputs": [],
   "source": [
    "from sklearn.ensemble import RandomForestRegressor"
   ]
  },
  {
   "cell_type": "code",
   "execution_count": 169,
   "metadata": {
    "collapsed": false
   },
   "outputs": [
    {
     "data": {
      "image/png": "[encoded data removed]",
      "text/plain": [
       "<matplotlib.figure.Figure at 0x7fd6839e2690>"
      ]
     },
     "metadata": {},
     "output_type": "display_data"
    }
   ],
   "source": [
    "y_predicted = []\n",
    "y_true = []\n",
    "\n",
    "for train_index, test_index in loo:\n",
    "    x_train, x_test, y_train, y_test = split_data(train_index, test_index)\n",
    "    model = RandomForestRegressor(n_estimators=20)\n",
    "    model.fit(x_train, (y_train))\n",
    "    y_pred = model.predict(x_test[0])\n",
    "    y_predicted.append((y_pred[0]))\n",
    "    y_true.append(y_test[0])\n",
    "\n",
    "mse = mean_squared_error(y_true, y_predicted)\n",
    "plot(y_true, y_predicted, title=\"Random Forest Y\", text=str(mse))"
   ]
  },
  {
   "cell_type": "markdown",
   "metadata": {},
   "source": [
    "#### Теперь логарифм"
   ]
  },
  {
   "cell_type": "code",
   "execution_count": 170,
   "metadata": {
    "collapsed": false
   },
   "outputs": [
    {
     "data": {
      "image/png": "[encoded data removed]",
      "text/plain": [
       "<matplotlib.figure.Figure at 0x7fd683a3e150>"
      ]
     },
     "metadata": {},
     "output_type": "display_data"
    }
   ],
   "source": [
    "y_predicted = []\n",
    "y_true = []\n",
    "\n",
    "for train_index, test_index in loo:\n",
    "    x_train, x_test, y_train, y_test = split_data(train_index, test_index)\n",
    "    model = RandomForestRegressor(n_estimators=50)\n",
    "    model.fit(x_train, np.log(y_train))\n",
    "    y_pred = model.predict(x_test[0])\n",
    "    y_predicted.append(np.exp(y_pred[0]))\n",
    "    y_true.append(y_test[0])\n",
    "\n",
    "mse = mean_squared_error(y_true, y_predicted)\n",
    "plot(y_true, y_predicted, title=\"Random Forest ln(Y)\", text=str(mse))"
   ]
  },
  {
   "cell_type": "code",
   "execution_count": 141,
   "metadata": {
    "collapsed": false
   },
   "outputs": [
    {
     "data": {
      "text/html": [
       "<div>\n",
       "<table border=\"1\" class=\"dataframe\">\n",
       "  <thead>\n",
       "    <tr style=\"text-align: right;\">\n",
       "      <th></th>\n",
       "      <th>url</th>\n",
       "      <th>last_time_tweet</th>\n",
       "      <th>predicted</th>\n",
       "    </tr>\n",
       "  </thead>\n",
       "  <tbody>\n",
       "    <tr>\n",
       "      <th>125</th>\n",
       "      <td>https://vc.ru/n/rao-stop-money</td>\n",
       "      <td>76</td>\n",
       "      <td>50</td>\n",
       "    </tr>\n",
       "    <tr>\n",
       "      <th>85</th>\n",
       "      <td>https://vc.ru/n/fb-uk-court</td>\n",
       "      <td>63</td>\n",
       "      <td>60</td>\n",
       "    </tr>\n",
       "    <tr>\n",
       "      <th>71</th>\n",
       "      <td>https://vc.ru/n/cards-money</td>\n",
       "      <td>62</td>\n",
       "      <td>59</td>\n",
       "    </tr>\n",
       "    <tr>\n",
       "      <th>67</th>\n",
       "      <td>https://vc.ru/p/solar-power</td>\n",
       "      <td>52</td>\n",
       "      <td>53</td>\n",
       "    </tr>\n",
       "    <tr>\n",
       "      <th>173</th>\n",
       "      <td>https://tjournal.ru/p/usembru-vs-izvestia</td>\n",
       "      <td>48</td>\n",
       "      <td>43</td>\n",
       "    </tr>\n",
       "    <tr>\n",
       "      <th>159</th>\n",
       "      <td>https://tjournal.ru/p/watch-paint-dry</td>\n",
       "      <td>47</td>\n",
       "      <td>47</td>\n",
       "    </tr>\n",
       "    <tr>\n",
       "      <th>172</th>\n",
       "      <td>https://tjournal.ru/p/grugq-telegram</td>\n",
       "      <td>43</td>\n",
       "      <td>46</td>\n",
       "    </tr>\n",
       "    <tr>\n",
       "      <th>185</th>\n",
       "      <td>https://tjournal.ru/p/aliexpress-garbage</td>\n",
       "      <td>40</td>\n",
       "      <td>37</td>\n",
       "    </tr>\n",
       "    <tr>\n",
       "      <th>150</th>\n",
       "      <td>https://tjournal.ru/p/icloud-thief</td>\n",
       "      <td>37</td>\n",
       "      <td>34</td>\n",
       "    </tr>\n",
       "    <tr>\n",
       "      <th>165</th>\n",
       "      <td>https://tjournal.ru/p/parking-fire</td>\n",
       "      <td>35</td>\n",
       "      <td>34</td>\n",
       "    </tr>\n",
       "    <tr>\n",
       "      <th>192</th>\n",
       "      <td>https://tjournal.ru/p/putin-a321-bomba-terakt</td>\n",
       "      <td>33</td>\n",
       "      <td>31</td>\n",
       "    </tr>\n",
       "    <tr>\n",
       "      <th>178</th>\n",
       "      <td>https://tjournal.ru/p/apple-ekb-iphone</td>\n",
       "      <td>32</td>\n",
       "      <td>32</td>\n",
       "    </tr>\n",
       "    <tr>\n",
       "      <th>171</th>\n",
       "      <td>https://tjournal.ru/p/panasonic-magic-megaphone</td>\n",
       "      <td>31</td>\n",
       "      <td>30</td>\n",
       "    </tr>\n",
       "    <tr>\n",
       "      <th>149</th>\n",
       "      <td>https://tjournal.ru/p/colombian-isis</td>\n",
       "      <td>31</td>\n",
       "      <td>33</td>\n",
       "    </tr>\n",
       "    <tr>\n",
       "      <th>181</th>\n",
       "      <td>https://tjournal.ru/p/aliexpress-culture</td>\n",
       "      <td>31</td>\n",
       "      <td>28</td>\n",
       "    </tr>\n",
       "    <tr>\n",
       "      <th>188</th>\n",
       "      <td>https://tjournal.ru/p/movies-vs-reality</td>\n",
       "      <td>29</td>\n",
       "      <td>30</td>\n",
       "    </tr>\n",
       "    <tr>\n",
       "      <th>180</th>\n",
       "      <td>https://tjournal.ru/p/new-stalin</td>\n",
       "      <td>28</td>\n",
       "      <td>25</td>\n",
       "    </tr>\n",
       "    <tr>\n",
       "      <th>37</th>\n",
       "      <td>https://vc.ru/n/pure-sex</td>\n",
       "      <td>28</td>\n",
       "      <td>18</td>\n",
       "    </tr>\n",
       "    <tr>\n",
       "      <th>156</th>\n",
       "      <td>https://tjournal.ru/p/three-suns</td>\n",
       "      <td>28</td>\n",
       "      <td>28</td>\n",
       "    </tr>\n",
       "    <tr>\n",
       "      <th>46</th>\n",
       "      <td>https://vc.ru/p/lada-commercial</td>\n",
       "      <td>28</td>\n",
       "      <td>6</td>\n",
       "    </tr>\n",
       "  </tbody>\n",
       "</table>\n",
       "</div>"
      ],
      "text/plain": [
       "                                                 url  last_time_tweet  \\\n",
       "125                   https://vc.ru/n/rao-stop-money               76   \n",
       "85                       https://vc.ru/n/fb-uk-court               63   \n",
       "71                       https://vc.ru/n/cards-money               62   \n",
       "67                       https://vc.ru/p/solar-power               52   \n",
       "173        https://tjournal.ru/p/usembru-vs-izvestia               48   \n",
       "159            https://tjournal.ru/p/watch-paint-dry               47   \n",
       "172             https://tjournal.ru/p/grugq-telegram               43   \n",
       "185         https://tjournal.ru/p/aliexpress-garbage               40   \n",
       "150               https://tjournal.ru/p/icloud-thief               37   \n",
       "165               https://tjournal.ru/p/parking-fire               35   \n",
       "192    https://tjournal.ru/p/putin-a321-bomba-terakt               33   \n",
       "178           https://tjournal.ru/p/apple-ekb-iphone               32   \n",
       "171  https://tjournal.ru/p/panasonic-magic-megaphone               31   \n",
       "149             https://tjournal.ru/p/colombian-isis               31   \n",
       "181         https://tjournal.ru/p/aliexpress-culture               31   \n",
       "188          https://tjournal.ru/p/movies-vs-reality               29   \n",
       "180                 https://tjournal.ru/p/new-stalin               28   \n",
       "37                          https://vc.ru/n/pure-sex               28   \n",
       "156                 https://tjournal.ru/p/three-suns               28   \n",
       "46                   https://vc.ru/p/lada-commercial               28   \n",
       "\n",
       "     predicted  \n",
       "125         50  \n",
       "85          60  \n",
       "71          59  \n",
       "67          53  \n",
       "173         43  \n",
       "159         47  \n",
       "172         46  \n",
       "185         37  \n",
       "150         34  \n",
       "165         34  \n",
       "192         31  \n",
       "178         32  \n",
       "171         30  \n",
       "149         33  \n",
       "181         28  \n",
       "188         30  \n",
       "180         25  \n",
       "37          18  \n",
       "156         28  \n",
       "46           6  "
      ]
     },
     "execution_count": 141,
     "metadata": {},
     "output_type": "execute_result"
    }
   ],
   "source": [
    "predic = pd.Series(np.around(y_predicted))\n",
    "df[\"predicted\"]=predic\n",
    "d = df.sort_values(\"last_time_tweet\", ascending=False)\n",
    "d[[\"url\", \"last_time_tweet\", \"predicted\"]].head(20)"
   ]
  },
  {
   "cell_type": "code",
   "execution_count": null,
   "metadata": {
    "collapsed": true
   },
   "outputs": [],
   "source": []
  },
  {
   "cell_type": "code",
   "execution_count": null,
   "metadata": {
    "collapsed": true
   },
   "outputs": [],
   "source": []
  },
  {
   "cell_type": "code",
   "execution_count": null,
   "metadata": {
    "collapsed": true
   },
   "outputs": [],
   "source": []
  },
  {
   "cell_type": "code",
   "execution_count": null,
   "metadata": {
    "collapsed": true
   },
   "outputs": [],
   "source": []
  },
  {
   "cell_type": "markdown",
   "metadata": {},
   "source": [
    "## Проверка"
   ]
  },
  {
   "cell_type": "code",
   "execution_count": 34,
   "metadata": {
    "collapsed": false
   },
   "outputs": [],
   "source": [
    "df = pd.read_csv(PREPARED_CSV, sep=\",\")\n",
    "df = df[[\"url\", \"week_day_news\", \"minutes_since_midnight\", \"first_time_tweet\",\"follower_sum\", \"retweeted_count_sum\", \"favorite_count_sum\", \"user_listed_count_sum\", \"last_time_tweet\", \"views\", \"comments\"]]\n",
    "df = df.drop_duplicates().dropna()\n",
    "df = df.reset_index()"
   ]
  },
  {
   "cell_type": "code",
   "execution_count": 35,
   "metadata": {
    "collapsed": false
   },
   "outputs": [],
   "source": [
    "ltt = df[\"last_time_tweet\"].as_matrix()\n",
    "comments = df[\"comments\"].as_matrix()\n",
    "views = df[\"views\"].as_matrix()"
   ]
  },
  {
   "cell_type": "code",
   "execution_count": 36,
   "metadata": {
    "collapsed": false
   },
   "outputs": [
    {
     "data": {
      "text/plain": [
       "array([[ 1.        ,  0.39176351],\n",
       "       [ 0.39176351,  1.        ]])"
      ]
     },
     "execution_count": 36,
     "metadata": {},
     "output_type": "execute_result"
    }
   ],
   "source": [
    "np.corrcoef(views, ltt)"
   ]
  },
  {
   "cell_type": "code",
   "execution_count": 37,
   "metadata": {
    "collapsed": false
   },
   "outputs": [
    {
     "data": {
      "text/plain": [
       "array([[ 1.       ,  0.3524211],\n",
       "       [ 0.3524211,  1.       ]])"
      ]
     },
     "execution_count": 37,
     "metadata": {},
     "output_type": "execute_result"
    }
   ],
   "source": [
    "np.corrcoef(comments, ltt)"
   ]
  },
  {
   "cell_type": "code",
   "execution_count": 38,
   "metadata": {
    "collapsed": false
   },
   "outputs": [
    {
     "data": {
      "text/plain": [
       "array([[ 1.        ,  0.65061814],\n",
       "       [ 0.65061814,  1.        ]])"
      ]
     },
     "execution_count": 38,
     "metadata": {},
     "output_type": "execute_result"
    }
   ],
   "source": [
    "np.corrcoef(views, comments)"
   ]
  },
  {
   "cell_type": "code",
   "execution_count": 39,
   "metadata": {
    "collapsed": false
   },
   "outputs": [],
   "source": [
    "m = np.mean(comments)"
   ]
  },
  {
   "cell_type": "code",
   "execution_count": 40,
   "metadata": {
    "collapsed": false
   },
   "outputs": [
    {
     "data": {
      "text/plain": [
       "array([[ 1.        ,  0.28837992],\n",
       "       [ 0.28837992,  1.        ]])"
      ]
     },
     "execution_count": 40,
     "metadata": {},
     "output_type": "execute_result"
    }
   ],
   "source": [
    "np.corrcoef(views*np.exp(comments*0.5/m), ltt)"
   ]
  },
  {
   "cell_type": "code",
   "execution_count": null,
   "metadata": {
    "collapsed": true
   },
   "outputs": [],
   "source": []
  },
  {
   "cell_type": "code",
   "execution_count": null,
   "metadata": {
    "collapsed": true
   },
   "outputs": [],
   "source": []
  },
  {
   "cell_type": "code",
   "execution_count": null,
   "metadata": {
    "collapsed": true
   },
   "outputs": [],
   "source": []
  },
  {
   "cell_type": "code",
   "execution_count": null,
   "metadata": {
    "collapsed": true
   },
   "outputs": [],
   "source": []
  },
  {
   "cell_type": "code",
   "execution_count": 333,
   "metadata": {
    "collapsed": true
   },
   "outputs": [],
   "source": [
    "df = pd.read_csv(PREPARED_CSV, sep=\",\")\n",
    "df = df[[\"url\", \"week_day_news\", \"minutes_since_midnight\", \"first_time_tweet\",\"follower_sum\", \"retweeted_count_sum\", \"favorite_count_sum\", \"user_listed_count_sum\", \"last_time_tweet\", \"views\", \"comments\"]]\n",
    "df = df.drop_duplicates().dropna()\n",
    "df = df.reset_index()\n",
    "ltt = df[\"last_time_tweet\"].as_matrix()\n",
    "comments = df[\"comments\"].as_matrix()\n",
    "views = df[\"views\"].as_matrix()"
   ]
  },
  {
   "cell_type": "code",
   "execution_count": 367,
   "metadata": {
    "collapsed": true
   },
   "outputs": [],
   "source": [
    "def plot(y_test, y_predicted, labelX, labelY):\n",
    "    plt.figure(figsize=(9,9))\n",
    "    plt.plot(y_test, y_predicted, 'ro', label=\"predicted\", alpha=0.7)\n",
    "    #plt.title(title)\n",
    "    plt.xlabel(labelX)\n",
    "    plt.ylabel(labelY)\n",
    "\n",
    "    #max_y = max(max(y_true), max(y_predicted))+10\n",
    "\n",
    "    #plt.xlim(0, max_y)\n",
    "    #plt.ylim(0, max_y)\n",
    "    plt.xscale('log')\n",
    "    plt.yscale('log')\n",
    "    #plt.legend()\n",
    "    #plt.text(0.05*max_y, max_y-0.05*max_y, \"mse=\"+text, fontsize=15)\n",
    "\n",
    "    #plt.plot([0, max_y], [0, max_y], color='black', alpha=0.5)\n",
    "    #plt.grid(b=True, which='both', color='0.65',linestyle='-')\n",
    "\n",
    "    plt.show()"
   ]
  },
  {
   "cell_type": "code",
   "execution_count": 368,
   "metadata": {
    "collapsed": false
   },
   "outputs": [
    {
     "data": {
      "image/png": "[encoded data removed]",
      "text/plain": [
       "<matplotlib.figure.Figure at 0x7f60ec006810>"
      ]
     },
     "metadata": {},
     "output_type": "display_data"
    }
   ],
   "source": [
    "plot(ltt, comments, \"Tweets after 180 minutes\", \"Comments\")"
   ]
  },
  {
   "cell_type": "code",
   "execution_count": 362,
   "metadata": {
    "collapsed": false
   },
   "outputs": [
    {
     "data": {
      "image/png": "[encoded data removed]",
      "text/plain": [
       "<matplotlib.figure.Figure at 0x7f60dfacaf10>"
      ]
     },
     "metadata": {},
     "output_type": "display_data"
    }
   ],
   "source": [
    "#plot(ltt, views, \"Tweets after 180 minutes\", \"Views\")\n",
    "plt.figure(figsize=(9,9))\n",
    "plt.plot(ltt, views, 'ro', label=\"predicted\", alpha=0.7)\n",
    "#plt.title(title)\n",
    "plt.xlabel(\"Tweets after 180 minutes\")\n",
    "plt.ylabel(\"Views\")\n",
    "plt.xscale('log')\n",
    "plt.yscale('log')\n",
    "#max_y = max(max(y_true), max(y_predicted))+10\n",
    "#plt.xlim(0, max_y)\n",
    "#plt.ylim(0, max_y)\n",
    "#plt.legend()\n",
    "#plt.text(0.05*max_y, max_y-0.05*max_y, \"mse=\"+text, fontsize=15)\n",
    "\n",
    "#plt.plot([0, max_y], [0, max_y], color='black', alpha=0.5)\n",
    "#plt.grid(b=True, which='both', color='0.65',linestyle='-')\n",
    "\n",
    "plt.show()"
   ]
  },
  {
   "cell_type": "code",
   "execution_count": 41,
   "metadata": {
    "collapsed": false
   },
   "outputs": [
    {
     "data": {
      "image/png": "[encoded data removed]",
      "text/plain": [
       "<matplotlib.figure.Figure at 0x7fd6894bb950>"
      ]
     },
     "metadata": {},
     "output_type": "display_data"
    }
   ],
   "source": [
    "#plot(views, comments, \"Views\", \"Comments\")\n",
    "#plot(ltt, views, \"Tweets after 180 minutes\", \"Views\")\n",
    "plt.figure(figsize=(9,9))\n",
    "plt.plot(views, comments, 'ro', label=\"predicted\", alpha=0.7)\n",
    "#plt.title(title)\n",
    "plt.xlabel(\"Views\")\n",
    "plt.ylabel(\"Comments\")\n",
    "plt.xscale('log')\n",
    "plt.yscale('log')\n",
    "#max_y = max(max(y_true), max(y_predicted))+10\n",
    "#plt.xlim(0, max_y)\n",
    "#plt.ylim(0, max_y)\n",
    "#plt.legend()\n",
    "#plt.text(0.05*max_y, max_y-0.05*max_y, \"mse=\"+text, fontsize=15)\n",
    "\n",
    "#plt.plot([0, max_y], [0, max_y], color='black', alpha=0.5)\n",
    "#plt.grid(b=True, which='both', color='0.65',linestyle='-')\n",
    "\n",
    "plt.show()"
   ]
  },
  {
   "cell_type": "code",
   "execution_count": null,
   "metadata": {
    "collapsed": true
   },
   "outputs": [],
   "source": []
  }
 ],
 "metadata": {
  "kernelspec": {
   "display_name": "Python 2",
   "language": "python",
   "name": "python2"
  },
  "language_info": {
   "codemirror_mode": {
    "name": "ipython",
    "version": 2
   },
   "file_extension": ".py",
   "mimetype": "text/x-python",
   "name": "python",
   "nbconvert_exporter": "python",
   "pygments_lexer": "ipython2",
   "version": "2.7.10"
  }
 },
 "nbformat": 4,
 "nbformat_minor": 0
}
