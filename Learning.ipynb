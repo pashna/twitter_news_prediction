{
 "cells": [
  {
   "cell_type": "code",
   "execution_count": 176,
   "metadata": {
    "collapsed": false
   },
   "outputs": [],
   "source": [
    "# -*- coding: utf-8 -*\n",
    "import twitter\n",
    "import csv\n",
    "import json\n",
    "import re\n",
    "import requests\n",
    "import lxml.html as html\n",
    "from urllib2 import urlopen\n",
    "import pandas as pd\n",
    "from datetime import datetime, timedelta\n",
    "from dateutil import tz\n",
    "import time\n",
    "import sklearn.cross_validation as cv\n",
    "from sklearn.metrics import mean_squared_error\n",
    "import matplotlib.pyplot as plt\n",
    "import numpy as np\n",
    "%matplotlib inline"
   ]
  },
  {
   "cell_type": "code",
   "execution_count": 177,
   "metadata": {
    "collapsed": true
   },
   "outputs": [],
   "source": [
    "PREPARED_CSV = \"prepared_to_analys.csv\"\n",
    "df = pd.read_csv(PREPARED_CSV, sep=\",\")"
   ]
  },
  {
   "cell_type": "code",
   "execution_count": 178,
   "metadata": {
    "collapsed": false
   },
   "outputs": [],
   "source": [
    "# Удаляем лишние столбцы\n",
    "major_features = [\"url\", \"week_day_news\", \"minutes_since_midnight\", \"first_time_tweet\",\"follower_sum\", \"retweeted_count_sum\", \"favorite_count_sum\", \"user_listed_count_sum\", \"last_time_tweet\"]\n",
    "df = df[major_features]"
   ]
  },
  {
   "cell_type": "code",
   "execution_count": 179,
   "metadata": {
    "collapsed": true
   },
   "outputs": [],
   "source": [
    "# С глубоким прискорбием удаляем NA - если ничего не было, пока не будем будмать, что могло быть\n",
    "df = df.drop_duplicates().dropna()"
   ]
  },
  {
   "cell_type": "code",
   "execution_count": 180,
   "metadata": {
    "collapsed": false
   },
   "outputs": [
    {
     "data": {
      "text/plain": [
       "152"
      ]
     },
     "execution_count": 180,
     "metadata": {},
     "output_type": "execute_result"
    }
   ],
   "source": [
    "# В итоге имеем:\n",
    "len(df)"
   ]
  },
  {
   "cell_type": "code",
   "execution_count": 181,
   "metadata": {
    "collapsed": false
   },
   "outputs": [
    {
     "data": {
      "text/html": [
       "<div>\n",
       "<table border=\"1\" class=\"dataframe\">\n",
       "  <thead>\n",
       "    <tr style=\"text-align: right;\">\n",
       "      <th></th>\n",
       "      <th>url</th>\n",
       "      <th>week_day_news</th>\n",
       "      <th>minutes_since_midnight</th>\n",
       "      <th>first_time_tweet</th>\n",
       "      <th>follower_sum</th>\n",
       "      <th>retweeted_count_sum</th>\n",
       "      <th>favorite_count_sum</th>\n",
       "      <th>user_listed_count_sum</th>\n",
       "      <th>last_time_tweet</th>\n",
       "    </tr>\n",
       "  </thead>\n",
       "  <tbody>\n",
       "    <tr>\n",
       "      <th>19</th>\n",
       "      <td>https://tjournal.ru/p/stupid-quotes</td>\n",
       "      <td>4</td>\n",
       "      <td>1340</td>\n",
       "      <td>1</td>\n",
       "      <td>250964</td>\n",
       "      <td>142</td>\n",
       "      <td>117</td>\n",
       "      <td>1166</td>\n",
       "      <td>28</td>\n",
       "    </tr>\n",
       "  </tbody>\n",
       "</table>\n",
       "</div>"
      ],
      "text/plain": [
       "                                    url  week_day_news  \\\n",
       "19  https://tjournal.ru/p/stupid-quotes              4   \n",
       "\n",
       "    minutes_since_midnight  first_time_tweet  follower_sum  \\\n",
       "19                    1340                 1        250964   \n",
       "\n",
       "    retweeted_count_sum  favorite_count_sum  user_listed_count_sum  \\\n",
       "19                  142                 117                   1166   \n",
       "\n",
       "    last_time_tweet  \n",
       "19               28  "
      ]
     },
     "execution_count": 181,
     "metadata": {},
     "output_type": "execute_result"
    }
   ],
   "source": [
    "df.head(1)"
   ]
  },
  {
   "cell_type": "code",
   "execution_count": 182,
   "metadata": {
    "collapsed": true
   },
   "outputs": [],
   "source": [
    "x = df[df.columns[1:-1]].as_matrix()\n",
    "y = df[df.columns[-1]].as_matrix()"
   ]
  },
  {
   "cell_type": "code",
   "execution_count": 183,
   "metadata": {
    "collapsed": true
   },
   "outputs": [],
   "source": [
    "# Делим данные\n",
    "x_train, x_test, y_train, y_test = cv.train_test_split(x, y, test_size=0.2)"
   ]
  },
  {
   "cell_type": "code",
   "execution_count": 184,
   "metadata": {
    "collapsed": false
   },
   "outputs": [
    {
     "name": "stdout",
     "output_type": "stream",
     "text": [
      "Коэффициенты корреляции Y:\n",
      "week_day_news = -0.0240536597218\n",
      "minutes_since_midnight = 0.0678051059417\n",
      "first_time_tweet = 0.548349775285\n",
      "follower_sum = 0.388895092952\n",
      "retweeted_count_sum = 0.385000261317\n",
      "favorite_count_sum = 0.38455136494\n",
      "user_listed_count_sum = 0.216248894312\n"
     ]
    }
   ],
   "source": [
    "print \"Коэффициенты корреляции Y:\"\n",
    "for i in range(len(major_features)-2):\n",
    "    print major_features[i+1], \"=\", np.corrcoef(x[:,i], y)[0][1]"
   ]
  },
  {
   "cell_type": "code",
   "execution_count": 185,
   "metadata": {
    "collapsed": false
   },
   "outputs": [
    {
     "data": {
      "image/png": "[encoded data removed]",
      "text/plain": [
       "<matplotlib.figure.Figure at 0x7fd6839b1c50>"
      ]
     },
     "metadata": {},
     "output_type": "display_data"
    }
   ],
   "source": [
    "df.last_time_tweet.hist(alpha=0.5, bins=[i*25 for i in range(20)])\n",
    "plt.title(\"Tweets after 3 hours\")\n",
    "plt.ylabel(\"count of urls\")\n",
    "plt.xlabel(\"count of tweets\")\n",
    "plt.show()"
   ]
  },
  {
   "cell_type": "code",
   "execution_count": 186,
   "metadata": {
    "collapsed": false
   },
   "outputs": [
    {
     "data": {
      "image/png": "[encoded data removed]",
      "text/plain": [
       "<matplotlib.figure.Figure at 0x7fd6835a4950>"
      ]
     },
     "metadata": {},
     "output_type": "display_data"
    }
   ],
   "source": [
    "#df.week_day_news.hist(alpha=0.5, bins=[i for i in range(7)])\n",
    "S = df.groupby(\"week_day_news\")[\"last_time_tweet\"].sum()\n",
    "plt.pie(S.as_matrix(), labels=[\"Monday\", \"Tuesday\", \"Wednesday\", \"Thursday\", \"Friday\", \"Saturday\", \"Sunday\"]);\n",
    "plt.show();"
   ]
  },
  {
   "cell_type": "code",
   "execution_count": 187,
   "metadata": {
    "collapsed": false
   },
   "outputs": [
    {
     "data": {
      "image/png": "[encoded data removed]",
      "text/plain": [
       "<matplotlib.figure.Figure at 0x7fd6863f4090>"
      ]
     },
     "metadata": {},
     "output_type": "display_data"
    }
   ],
   "source": [
    "plt.figure(figsize=(8,8))\n",
    "plt.plot(df[\"last_time_tweet\"].as_matrix(), df[\"first_time_tweet\"].as_matrix(), 'ro',  alpha=0.6)\n",
    "plt.title(\"Tweet Count\")\n",
    "plt.xlabel(\"Count Of Tweets after 180 minutes\")\n",
    "plt.ylabel(\"Count Of Tweets after 10 minutes\")\n",
    "plt.xlim(0, 80)\n",
    "plt.ylim(0, 80)\n",
    "#plt.xscale('log')\n",
    "#plt.yscale('log')\n",
    "#plt.grid(b=True, which='both', color='0.65',linestyle='-')\n",
    "plt.rcParams.update({'font.size': 14})"
   ]
  },
  {
   "cell_type": "code",
   "execution_count": 188,
   "metadata": {
    "collapsed": false
   },
   "outputs": [
    {
     "data": {
      "text/html": [
       "<div>\n",
       "<table border=\"1\" class=\"dataframe\">\n",
       "  <thead>\n",
       "    <tr style=\"text-align: right;\">\n",
       "      <th></th>\n",
       "      <th>url</th>\n",
       "      <th>week_day_news</th>\n",
       "      <th>minutes_since_midnight</th>\n",
       "      <th>first_time_tweet</th>\n",
       "      <th>follower_sum</th>\n",
       "      <th>retweeted_count_sum</th>\n",
       "      <th>favorite_count_sum</th>\n",
       "      <th>user_listed_count_sum</th>\n",
       "      <th>last_time_tweet</th>\n",
       "    </tr>\n",
       "  </thead>\n",
       "  <tbody>\n",
       "    <tr>\n",
       "      <th>19</th>\n",
       "      <td>https://tjournal.ru/p/stupid-quotes</td>\n",
       "      <td>4</td>\n",
       "      <td>1340</td>\n",
       "      <td>1</td>\n",
       "      <td>250964</td>\n",
       "      <td>142</td>\n",
       "      <td>117</td>\n",
       "      <td>1166</td>\n",
       "      <td>28</td>\n",
       "    </tr>\n",
       "    <tr>\n",
       "      <th>160</th>\n",
       "      <td>https://vc.ru/n/fb-virus-2015</td>\n",
       "      <td>4</td>\n",
       "      <td>1005</td>\n",
       "      <td>2</td>\n",
       "      <td>61622</td>\n",
       "      <td>4</td>\n",
       "      <td>9</td>\n",
       "      <td>720</td>\n",
       "      <td>9</td>\n",
       "    </tr>\n",
       "    <tr>\n",
       "      <th>236</th>\n",
       "      <td>https://vc.ru/n/tpp-startups-money</td>\n",
       "      <td>4</td>\n",
       "      <td>784</td>\n",
       "      <td>2</td>\n",
       "      <td>77220</td>\n",
       "      <td>6</td>\n",
       "      <td>3</td>\n",
       "      <td>803</td>\n",
       "      <td>7</td>\n",
       "    </tr>\n",
       "    <tr>\n",
       "      <th>291</th>\n",
       "      <td>https://vc.ru/n/store-bee</td>\n",
       "      <td>4</td>\n",
       "      <td>576</td>\n",
       "      <td>1</td>\n",
       "      <td>74</td>\n",
       "      <td>0</td>\n",
       "      <td>0</td>\n",
       "      <td>3</td>\n",
       "      <td>5</td>\n",
       "    </tr>\n",
       "    <tr>\n",
       "      <th>303</th>\n",
       "      <td>https://vc.ru/n/uber-funding-round</td>\n",
       "      <td>3</td>\n",
       "      <td>1403</td>\n",
       "      <td>1</td>\n",
       "      <td>60745</td>\n",
       "      <td>6</td>\n",
       "      <td>3</td>\n",
       "      <td>678</td>\n",
       "      <td>3</td>\n",
       "    </tr>\n",
       "    <tr>\n",
       "      <th>342</th>\n",
       "      <td>https://vc.ru/p/apple-pencil-pro</td>\n",
       "      <td>3</td>\n",
       "      <td>1227</td>\n",
       "      <td>1</td>\n",
       "      <td>250953</td>\n",
       "      <td>10</td>\n",
       "      <td>42</td>\n",
       "      <td>1166</td>\n",
       "      <td>15</td>\n",
       "    </tr>\n",
       "    <tr>\n",
       "      <th>469</th>\n",
       "      <td>https://vc.ru/n/zygar-leave</td>\n",
       "      <td>3</td>\n",
       "      <td>1076</td>\n",
       "      <td>6</td>\n",
       "      <td>314451</td>\n",
       "      <td>11</td>\n",
       "      <td>18</td>\n",
       "      <td>1918</td>\n",
       "      <td>11</td>\n",
       "    </tr>\n",
       "    <tr>\n",
       "      <th>485</th>\n",
       "      <td>https://vc.ru/p/yandex-keyboard-or-not</td>\n",
       "      <td>3</td>\n",
       "      <td>1037</td>\n",
       "      <td>2</td>\n",
       "      <td>61001</td>\n",
       "      <td>4</td>\n",
       "      <td>9</td>\n",
       "      <td>772</td>\n",
       "      <td>7</td>\n",
       "    </tr>\n",
       "    <tr>\n",
       "      <th>533</th>\n",
       "      <td>https://vc.ru/p/tochka-redesign</td>\n",
       "      <td>3</td>\n",
       "      <td>887</td>\n",
       "      <td>5</td>\n",
       "      <td>62983</td>\n",
       "      <td>1</td>\n",
       "      <td>11</td>\n",
       "      <td>787</td>\n",
       "      <td>6</td>\n",
       "    </tr>\n",
       "    <tr>\n",
       "      <th>571</th>\n",
       "      <td>https://vc.ru/n/pure-sex</td>\n",
       "      <td>3</td>\n",
       "      <td>721</td>\n",
       "      <td>2</td>\n",
       "      <td>61428</td>\n",
       "      <td>2</td>\n",
       "      <td>19</td>\n",
       "      <td>682</td>\n",
       "      <td>16</td>\n",
       "    </tr>\n",
       "    <tr>\n",
       "      <th>616</th>\n",
       "      <td>https://tjournal.ru/p/ads-evolution</td>\n",
       "      <td>4</td>\n",
       "      <td>1114</td>\n",
       "      <td>5</td>\n",
       "      <td>268972</td>\n",
       "      <td>25</td>\n",
       "      <td>80</td>\n",
       "      <td>1995</td>\n",
       "      <td>22</td>\n",
       "    </tr>\n",
       "    <tr>\n",
       "      <th>708</th>\n",
       "      <td>https://tjournal.ru/p/ingress-trucker</td>\n",
       "      <td>4</td>\n",
       "      <td>970</td>\n",
       "      <td>1</td>\n",
       "      <td>250953</td>\n",
       "      <td>6</td>\n",
       "      <td>21</td>\n",
       "      <td>1166</td>\n",
       "      <td>12</td>\n",
       "    </tr>\n",
       "    <tr>\n",
       "      <th>721</th>\n",
       "      <td>https://tjournal.ru/p/truckers-riot-moscow-4-d...</td>\n",
       "      <td>4</td>\n",
       "      <td>945</td>\n",
       "      <td>8</td>\n",
       "      <td>253590</td>\n",
       "      <td>21</td>\n",
       "      <td>25</td>\n",
       "      <td>1206</td>\n",
       "      <td>26</td>\n",
       "    </tr>\n",
       "    <tr>\n",
       "      <th>796</th>\n",
       "      <td>https://tjournal.ru/p/bbc-adaptive-series</td>\n",
       "      <td>4</td>\n",
       "      <td>685</td>\n",
       "      <td>7</td>\n",
       "      <td>252448</td>\n",
       "      <td>14</td>\n",
       "      <td>30</td>\n",
       "      <td>1210</td>\n",
       "      <td>19</td>\n",
       "    </tr>\n",
       "    <tr>\n",
       "      <th>818</th>\n",
       "      <td>https://tjournal.ru/p/last-one</td>\n",
       "      <td>3</td>\n",
       "      <td>1275</td>\n",
       "      <td>11</td>\n",
       "      <td>266043</td>\n",
       "      <td>49</td>\n",
       "      <td>67</td>\n",
       "      <td>1539</td>\n",
       "      <td>35</td>\n",
       "    </tr>\n",
       "    <tr>\n",
       "      <th>867</th>\n",
       "      <td>https://tjournal.ru/p/truckers-riot-moscow-3-d...</td>\n",
       "      <td>3</td>\n",
       "      <td>1159</td>\n",
       "      <td>8</td>\n",
       "      <td>302310</td>\n",
       "      <td>6</td>\n",
       "      <td>11</td>\n",
       "      <td>3452</td>\n",
       "      <td>11</td>\n",
       "    </tr>\n",
       "    <tr>\n",
       "      <th>879</th>\n",
       "      <td>https://tjournal.ru/p/afisha-fired</td>\n",
       "      <td>3</td>\n",
       "      <td>1081</td>\n",
       "      <td>10</td>\n",
       "      <td>304204</td>\n",
       "      <td>9</td>\n",
       "      <td>13</td>\n",
       "      <td>3600</td>\n",
       "      <td>28</td>\n",
       "    </tr>\n",
       "    <tr>\n",
       "      <th>911</th>\n",
       "      <td>https://tjournal.ru/p/iphone-4-inches-early-2016</td>\n",
       "      <td>3</td>\n",
       "      <td>1070</td>\n",
       "      <td>1</td>\n",
       "      <td>250953</td>\n",
       "      <td>6</td>\n",
       "      <td>23</td>\n",
       "      <td>1166</td>\n",
       "      <td>8</td>\n",
       "    </tr>\n",
       "    <tr>\n",
       "      <th>938</th>\n",
       "      <td>https://tjournal.ru/p/oldweb</td>\n",
       "      <td>3</td>\n",
       "      <td>1028</td>\n",
       "      <td>3</td>\n",
       "      <td>251240</td>\n",
       "      <td>14</td>\n",
       "      <td>41</td>\n",
       "      <td>1167</td>\n",
       "      <td>19</td>\n",
       "    </tr>\n",
       "    <tr>\n",
       "      <th>972</th>\n",
       "      <td>https://tjournal.ru/p/yandex-keyboard-ios</td>\n",
       "      <td>3</td>\n",
       "      <td>735</td>\n",
       "      <td>6</td>\n",
       "      <td>288223</td>\n",
       "      <td>8</td>\n",
       "      <td>26</td>\n",
       "      <td>3255</td>\n",
       "      <td>14</td>\n",
       "    </tr>\n",
       "    <tr>\n",
       "      <th>1052</th>\n",
       "      <td>https://tjournal.ru/p/icloud-thief-2</td>\n",
       "      <td>2</td>\n",
       "      <td>1424</td>\n",
       "      <td>5</td>\n",
       "      <td>254220</td>\n",
       "      <td>15</td>\n",
       "      <td>50</td>\n",
       "      <td>1206</td>\n",
       "      <td>20</td>\n",
       "    </tr>\n",
       "    <tr>\n",
       "      <th>1085</th>\n",
       "      <td>https://tjournal.ru/p/deep-bunny-hole</td>\n",
       "      <td>2</td>\n",
       "      <td>1277</td>\n",
       "      <td>1</td>\n",
       "      <td>250953</td>\n",
       "      <td>70</td>\n",
       "      <td>178</td>\n",
       "      <td>1166</td>\n",
       "      <td>22</td>\n",
       "    </tr>\n",
       "    <tr>\n",
       "      <th>1185</th>\n",
       "      <td>https://tjournal.ru/p/zuckerberg-99</td>\n",
       "      <td>2</td>\n",
       "      <td>1216</td>\n",
       "      <td>2</td>\n",
       "      <td>251678</td>\n",
       "      <td>3</td>\n",
       "      <td>16</td>\n",
       "      <td>1194</td>\n",
       "      <td>8</td>\n",
       "    </tr>\n",
       "    <tr>\n",
       "      <th>1194</th>\n",
       "      <td>https://tjournal.ru/p/lada-sites-hack</td>\n",
       "      <td>2</td>\n",
       "      <td>1143</td>\n",
       "      <td>3</td>\n",
       "      <td>251600</td>\n",
       "      <td>27</td>\n",
       "      <td>36</td>\n",
       "      <td>1196</td>\n",
       "      <td>22</td>\n",
       "    </tr>\n",
       "    <tr>\n",
       "      <th>1225</th>\n",
       "      <td>https://tjournal.ru/p/thom-yorke-google-nazi</td>\n",
       "      <td>2</td>\n",
       "      <td>1023</td>\n",
       "      <td>7</td>\n",
       "      <td>258927</td>\n",
       "      <td>11</td>\n",
       "      <td>20</td>\n",
       "      <td>1256</td>\n",
       "      <td>16</td>\n",
       "    </tr>\n",
       "    <tr>\n",
       "      <th>1245</th>\n",
       "      <td>https://tjournal.ru/p/instagram-2015</td>\n",
       "      <td>2</td>\n",
       "      <td>1006</td>\n",
       "      <td>3</td>\n",
       "      <td>252134</td>\n",
       "      <td>16</td>\n",
       "      <td>60</td>\n",
       "      <td>1203</td>\n",
       "      <td>15</td>\n",
       "    </tr>\n",
       "    <tr>\n",
       "      <th>1366</th>\n",
       "      <td>https://tjournal.ru/p/ghost-town-of-sharm-el-s...</td>\n",
       "      <td>2</td>\n",
       "      <td>655</td>\n",
       "      <td>11</td>\n",
       "      <td>306713</td>\n",
       "      <td>32</td>\n",
       "      <td>62</td>\n",
       "      <td>3580</td>\n",
       "      <td>32</td>\n",
       "    </tr>\n",
       "    <tr>\n",
       "      <th>1469</th>\n",
       "      <td>https://vc.ru/n/long-way-tur</td>\n",
       "      <td>1</td>\n",
       "      <td>1259</td>\n",
       "      <td>1</td>\n",
       "      <td>60214</td>\n",
       "      <td>5</td>\n",
       "      <td>3</td>\n",
       "      <td>676</td>\n",
       "      <td>3</td>\n",
       "    </tr>\n",
       "    <tr>\n",
       "      <th>1540</th>\n",
       "      <td>https://vc.ru/p/second-language</td>\n",
       "      <td>1</td>\n",
       "      <td>1085</td>\n",
       "      <td>2</td>\n",
       "      <td>60328</td>\n",
       "      <td>3</td>\n",
       "      <td>23</td>\n",
       "      <td>680</td>\n",
       "      <td>5</td>\n",
       "    </tr>\n",
       "    <tr>\n",
       "      <th>1565</th>\n",
       "      <td>https://vc.ru/n/afisha-change-2016</td>\n",
       "      <td>1</td>\n",
       "      <td>1035</td>\n",
       "      <td>2</td>\n",
       "      <td>61838</td>\n",
       "      <td>1</td>\n",
       "      <td>6</td>\n",
       "      <td>696</td>\n",
       "      <td>12</td>\n",
       "    </tr>\n",
       "    <tr>\n",
       "      <th>...</th>\n",
       "      <td>...</td>\n",
       "      <td>...</td>\n",
       "      <td>...</td>\n",
       "      <td>...</td>\n",
       "      <td>...</td>\n",
       "      <td>...</td>\n",
       "      <td>...</td>\n",
       "      <td>...</td>\n",
       "      <td>...</td>\n",
       "    </tr>\n",
       "    <tr>\n",
       "      <th>5566</th>\n",
       "      <td>https://tjournal.ru/p/putin-washington</td>\n",
       "      <td>3</td>\n",
       "      <td>1228</td>\n",
       "      <td>4</td>\n",
       "      <td>269466</td>\n",
       "      <td>10</td>\n",
       "      <td>8</td>\n",
       "      <td>1492</td>\n",
       "      <td>19</td>\n",
       "    </tr>\n",
       "    <tr>\n",
       "      <th>5593</th>\n",
       "      <td>https://tjournal.ru/p/twitter-cat-fact-spam-sn...</td>\n",
       "      <td>3</td>\n",
       "      <td>1104</td>\n",
       "      <td>5</td>\n",
       "      <td>269874</td>\n",
       "      <td>9</td>\n",
       "      <td>12</td>\n",
       "      <td>1172</td>\n",
       "      <td>19</td>\n",
       "    </tr>\n",
       "    <tr>\n",
       "      <th>5615</th>\n",
       "      <td>https://tjournal.ru/p/nfc-cardsmobile</td>\n",
       "      <td>3</td>\n",
       "      <td>1042</td>\n",
       "      <td>1</td>\n",
       "      <td>24726</td>\n",
       "      <td>0</td>\n",
       "      <td>0</td>\n",
       "      <td>5</td>\n",
       "      <td>13</td>\n",
       "    </tr>\n",
       "    <tr>\n",
       "      <th>5629</th>\n",
       "      <td>https://tjournal.ru/p/state-of-cyberwarfare</td>\n",
       "      <td>3</td>\n",
       "      <td>1037</td>\n",
       "      <td>4</td>\n",
       "      <td>269870</td>\n",
       "      <td>8</td>\n",
       "      <td>37</td>\n",
       "      <td>1169</td>\n",
       "      <td>14</td>\n",
       "    </tr>\n",
       "    <tr>\n",
       "      <th>5648</th>\n",
       "      <td>https://tjournal.ru/p/tinder-pr-fail</td>\n",
       "      <td>3</td>\n",
       "      <td>978</td>\n",
       "      <td>5</td>\n",
       "      <td>288960</td>\n",
       "      <td>15</td>\n",
       "      <td>36</td>\n",
       "      <td>1555</td>\n",
       "      <td>19</td>\n",
       "    </tr>\n",
       "    <tr>\n",
       "      <th>5675</th>\n",
       "      <td>https://tjournal.ru/p/parking-fire</td>\n",
       "      <td>3</td>\n",
       "      <td>927</td>\n",
       "      <td>8</td>\n",
       "      <td>350976</td>\n",
       "      <td>26</td>\n",
       "      <td>22</td>\n",
       "      <td>6570</td>\n",
       "      <td>32</td>\n",
       "    </tr>\n",
       "    <tr>\n",
       "      <th>5713</th>\n",
       "      <td>https://tjournal.ru/p/truckers-riot</td>\n",
       "      <td>3</td>\n",
       "      <td>926</td>\n",
       "      <td>6</td>\n",
       "      <td>106605</td>\n",
       "      <td>1</td>\n",
       "      <td>0</td>\n",
       "      <td>5410</td>\n",
       "      <td>23</td>\n",
       "    </tr>\n",
       "    <tr>\n",
       "      <th>5743</th>\n",
       "      <td>https://tjournal.ru/p/ballistics-calculator</td>\n",
       "      <td>3</td>\n",
       "      <td>755</td>\n",
       "      <td>2</td>\n",
       "      <td>244547</td>\n",
       "      <td>10</td>\n",
       "      <td>10</td>\n",
       "      <td>1166</td>\n",
       "      <td>22</td>\n",
       "    </tr>\n",
       "    <tr>\n",
       "      <th>5804</th>\n",
       "      <td>https://tjournal.ru/p/zano-drone</td>\n",
       "      <td>3</td>\n",
       "      <td>674</td>\n",
       "      <td>8</td>\n",
       "      <td>375671</td>\n",
       "      <td>1</td>\n",
       "      <td>2</td>\n",
       "      <td>6574</td>\n",
       "      <td>9</td>\n",
       "    </tr>\n",
       "    <tr>\n",
       "      <th>5915</th>\n",
       "      <td>https://tjournal.ru/p/anonymous-vs-isis</td>\n",
       "      <td>2</td>\n",
       "      <td>1400</td>\n",
       "      <td>1</td>\n",
       "      <td>24726</td>\n",
       "      <td>0</td>\n",
       "      <td>0</td>\n",
       "      <td>5</td>\n",
       "      <td>20</td>\n",
       "    </tr>\n",
       "    <tr>\n",
       "      <th>5943</th>\n",
       "      <td>https://tjournal.ru/p/panasonic-magic-megaphone</td>\n",
       "      <td>2</td>\n",
       "      <td>1373</td>\n",
       "      <td>7</td>\n",
       "      <td>275786</td>\n",
       "      <td>25</td>\n",
       "      <td>23</td>\n",
       "      <td>1277</td>\n",
       "      <td>28</td>\n",
       "    </tr>\n",
       "    <tr>\n",
       "      <th>6081</th>\n",
       "      <td>https://tjournal.ru/p/5-reasons-of-metal</td>\n",
       "      <td>2</td>\n",
       "      <td>1192</td>\n",
       "      <td>5</td>\n",
       "      <td>272231</td>\n",
       "      <td>19</td>\n",
       "      <td>15</td>\n",
       "      <td>1213</td>\n",
       "      <td>24</td>\n",
       "    </tr>\n",
       "    <tr>\n",
       "      <th>6110</th>\n",
       "      <td>https://tjournal.ru/p/samsung-back-to-the-future</td>\n",
       "      <td>2</td>\n",
       "      <td>1086</td>\n",
       "      <td>4</td>\n",
       "      <td>245492</td>\n",
       "      <td>8</td>\n",
       "      <td>4</td>\n",
       "      <td>1203</td>\n",
       "      <td>16</td>\n",
       "    </tr>\n",
       "    <tr>\n",
       "      <th>6126</th>\n",
       "      <td>https://tjournal.ru/p/rkn-wiki-narcotics</td>\n",
       "      <td>2</td>\n",
       "      <td>1021</td>\n",
       "      <td>7</td>\n",
       "      <td>270452</td>\n",
       "      <td>6</td>\n",
       "      <td>6</td>\n",
       "      <td>1619</td>\n",
       "      <td>10</td>\n",
       "    </tr>\n",
       "    <tr>\n",
       "      <th>6144</th>\n",
       "      <td>https://tjournal.ru/p/cat-cucumbers</td>\n",
       "      <td>2</td>\n",
       "      <td>938</td>\n",
       "      <td>1</td>\n",
       "      <td>244340</td>\n",
       "      <td>243</td>\n",
       "      <td>214</td>\n",
       "      <td>1159</td>\n",
       "      <td>1</td>\n",
       "    </tr>\n",
       "    <tr>\n",
       "      <th>6244</th>\n",
       "      <td>https://tjournal.ru/p/apple-ekb-iphone</td>\n",
       "      <td>2</td>\n",
       "      <td>891</td>\n",
       "      <td>11</td>\n",
       "      <td>357509</td>\n",
       "      <td>30</td>\n",
       "      <td>61</td>\n",
       "      <td>6658</td>\n",
       "      <td>30</td>\n",
       "    </tr>\n",
       "    <tr>\n",
       "      <th>6279</th>\n",
       "      <td>https://tjournal.ru/p/star-wars-tatooine-is-real</td>\n",
       "      <td>2</td>\n",
       "      <td>807</td>\n",
       "      <td>8</td>\n",
       "      <td>351181</td>\n",
       "      <td>5</td>\n",
       "      <td>15</td>\n",
       "      <td>6576</td>\n",
       "      <td>11</td>\n",
       "    </tr>\n",
       "    <tr>\n",
       "      <th>6293</th>\n",
       "      <td>https://tjournal.ru/p/new-stalin</td>\n",
       "      <td>2</td>\n",
       "      <td>778</td>\n",
       "      <td>8</td>\n",
       "      <td>258535</td>\n",
       "      <td>21</td>\n",
       "      <td>20</td>\n",
       "      <td>1339</td>\n",
       "      <td>23</td>\n",
       "    </tr>\n",
       "    <tr>\n",
       "      <th>6353</th>\n",
       "      <td>https://tjournal.ru/p/aliexpress-culture</td>\n",
       "      <td>2</td>\n",
       "      <td>685</td>\n",
       "      <td>2</td>\n",
       "      <td>245306</td>\n",
       "      <td>23</td>\n",
       "      <td>218</td>\n",
       "      <td>1176</td>\n",
       "      <td>26</td>\n",
       "    </tr>\n",
       "    <tr>\n",
       "      <th>6390</th>\n",
       "      <td>https://tjournal.ru/p/salavat-yulaev-vk</td>\n",
       "      <td>1</td>\n",
       "      <td>1375</td>\n",
       "      <td>3</td>\n",
       "      <td>269112</td>\n",
       "      <td>6</td>\n",
       "      <td>11</td>\n",
       "      <td>1165</td>\n",
       "      <td>16</td>\n",
       "    </tr>\n",
       "    <tr>\n",
       "      <th>6409</th>\n",
       "      <td>https://tjournal.ru/p/snowden-ad-block</td>\n",
       "      <td>1</td>\n",
       "      <td>1314</td>\n",
       "      <td>5</td>\n",
       "      <td>270732</td>\n",
       "      <td>15</td>\n",
       "      <td>23</td>\n",
       "      <td>1199</td>\n",
       "      <td>20</td>\n",
       "    </tr>\n",
       "    <tr>\n",
       "      <th>6435</th>\n",
       "      <td>https://tjournal.ru/p/hunger-games-final-review</td>\n",
       "      <td>1</td>\n",
       "      <td>1228</td>\n",
       "      <td>2</td>\n",
       "      <td>244533</td>\n",
       "      <td>5</td>\n",
       "      <td>20</td>\n",
       "      <td>1160</td>\n",
       "      <td>13</td>\n",
       "    </tr>\n",
       "    <tr>\n",
       "      <th>6450</th>\n",
       "      <td>https://tjournal.ru/p/aliexpress-garbage</td>\n",
       "      <td>1</td>\n",
       "      <td>1192</td>\n",
       "      <td>5</td>\n",
       "      <td>271396</td>\n",
       "      <td>38</td>\n",
       "      <td>73</td>\n",
       "      <td>1208</td>\n",
       "      <td>36</td>\n",
       "    </tr>\n",
       "    <tr>\n",
       "      <th>6504</th>\n",
       "      <td>https://tjournal.ru/p/ola-boats</td>\n",
       "      <td>1</td>\n",
       "      <td>1068</td>\n",
       "      <td>1</td>\n",
       "      <td>24726</td>\n",
       "      <td>0</td>\n",
       "      <td>0</td>\n",
       "      <td>5</td>\n",
       "      <td>9</td>\n",
       "    </tr>\n",
       "    <tr>\n",
       "      <th>6514</th>\n",
       "      <td>https://tjournal.ru/p/chinese-tinder-censorship</td>\n",
       "      <td>1</td>\n",
       "      <td>1027</td>\n",
       "      <td>1</td>\n",
       "      <td>244341</td>\n",
       "      <td>5</td>\n",
       "      <td>11</td>\n",
       "      <td>1159</td>\n",
       "      <td>12</td>\n",
       "    </tr>\n",
       "    <tr>\n",
       "      <th>6527</th>\n",
       "      <td>https://tjournal.ru/p/movies-vs-reality</td>\n",
       "      <td>1</td>\n",
       "      <td>969</td>\n",
       "      <td>7</td>\n",
       "      <td>274706</td>\n",
       "      <td>15</td>\n",
       "      <td>68</td>\n",
       "      <td>1335</td>\n",
       "      <td>26</td>\n",
       "    </tr>\n",
       "    <tr>\n",
       "      <th>6585</th>\n",
       "      <td>https://tjournal.ru/p/google-three-new-devices</td>\n",
       "      <td>1</td>\n",
       "      <td>790</td>\n",
       "      <td>5</td>\n",
       "      <td>269649</td>\n",
       "      <td>3</td>\n",
       "      <td>9</td>\n",
       "      <td>1176</td>\n",
       "      <td>15</td>\n",
       "    </tr>\n",
       "    <tr>\n",
       "      <th>6602</th>\n",
       "      <td>https://tjournal.ru/p/ai-japan-exam</td>\n",
       "      <td>1</td>\n",
       "      <td>737</td>\n",
       "      <td>4</td>\n",
       "      <td>246596</td>\n",
       "      <td>14</td>\n",
       "      <td>30</td>\n",
       "      <td>1222</td>\n",
       "      <td>16</td>\n",
       "    </tr>\n",
       "    <tr>\n",
       "      <th>6629</th>\n",
       "      <td>https://tjournal.ru/p/putin-a321-bomba-terakt</td>\n",
       "      <td>1</td>\n",
       "      <td>730</td>\n",
       "      <td>6</td>\n",
       "      <td>299235</td>\n",
       "      <td>24</td>\n",
       "      <td>35</td>\n",
       "      <td>1607</td>\n",
       "      <td>29</td>\n",
       "    </tr>\n",
       "    <tr>\n",
       "      <th>6663</th>\n",
       "      <td>https://tjournal.ru/p/nightshift</td>\n",
       "      <td>1</td>\n",
       "      <td>671</td>\n",
       "      <td>1</td>\n",
       "      <td>24726</td>\n",
       "      <td>0</td>\n",
       "      <td>0</td>\n",
       "      <td>5</td>\n",
       "      <td>7</td>\n",
       "    </tr>\n",
       "  </tbody>\n",
       "</table>\n",
       "<p>138 rows × 9 columns</p>\n",
       "</div>"
      ],
      "text/plain": [
       "                                                    url  week_day_news  \\\n",
       "19                  https://tjournal.ru/p/stupid-quotes              4   \n",
       "160                       https://vc.ru/n/fb-virus-2015              4   \n",
       "236                  https://vc.ru/n/tpp-startups-money              4   \n",
       "291                           https://vc.ru/n/store-bee              4   \n",
       "303                  https://vc.ru/n/uber-funding-round              3   \n",
       "342                    https://vc.ru/p/apple-pencil-pro              3   \n",
       "469                         https://vc.ru/n/zygar-leave              3   \n",
       "485              https://vc.ru/p/yandex-keyboard-or-not              3   \n",
       "533                     https://vc.ru/p/tochka-redesign              3   \n",
       "571                            https://vc.ru/n/pure-sex              3   \n",
       "616                 https://tjournal.ru/p/ads-evolution              4   \n",
       "708               https://tjournal.ru/p/ingress-trucker              4   \n",
       "721   https://tjournal.ru/p/truckers-riot-moscow-4-d...              4   \n",
       "796           https://tjournal.ru/p/bbc-adaptive-series              4   \n",
       "818                      https://tjournal.ru/p/last-one              3   \n",
       "867   https://tjournal.ru/p/truckers-riot-moscow-3-d...              3   \n",
       "879                  https://tjournal.ru/p/afisha-fired              3   \n",
       "911    https://tjournal.ru/p/iphone-4-inches-early-2016              3   \n",
       "938                        https://tjournal.ru/p/oldweb              3   \n",
       "972           https://tjournal.ru/p/yandex-keyboard-ios              3   \n",
       "1052               https://tjournal.ru/p/icloud-thief-2              2   \n",
       "1085              https://tjournal.ru/p/deep-bunny-hole              2   \n",
       "1185                https://tjournal.ru/p/zuckerberg-99              2   \n",
       "1194              https://tjournal.ru/p/lada-sites-hack              2   \n",
       "1225       https://tjournal.ru/p/thom-yorke-google-nazi              2   \n",
       "1245               https://tjournal.ru/p/instagram-2015              2   \n",
       "1366  https://tjournal.ru/p/ghost-town-of-sharm-el-s...              2   \n",
       "1469                       https://vc.ru/n/long-way-tur              1   \n",
       "1540                    https://vc.ru/p/second-language              1   \n",
       "1565                 https://vc.ru/n/afisha-change-2016              1   \n",
       "...                                                 ...            ...   \n",
       "5566             https://tjournal.ru/p/putin-washington              3   \n",
       "5593  https://tjournal.ru/p/twitter-cat-fact-spam-sn...              3   \n",
       "5615              https://tjournal.ru/p/nfc-cardsmobile              3   \n",
       "5629        https://tjournal.ru/p/state-of-cyberwarfare              3   \n",
       "5648               https://tjournal.ru/p/tinder-pr-fail              3   \n",
       "5675                 https://tjournal.ru/p/parking-fire              3   \n",
       "5713                https://tjournal.ru/p/truckers-riot              3   \n",
       "5743        https://tjournal.ru/p/ballistics-calculator              3   \n",
       "5804                   https://tjournal.ru/p/zano-drone              3   \n",
       "5915            https://tjournal.ru/p/anonymous-vs-isis              2   \n",
       "5943    https://tjournal.ru/p/panasonic-magic-megaphone              2   \n",
       "6081           https://tjournal.ru/p/5-reasons-of-metal              2   \n",
       "6110   https://tjournal.ru/p/samsung-back-to-the-future              2   \n",
       "6126           https://tjournal.ru/p/rkn-wiki-narcotics              2   \n",
       "6144                https://tjournal.ru/p/cat-cucumbers              2   \n",
       "6244             https://tjournal.ru/p/apple-ekb-iphone              2   \n",
       "6279   https://tjournal.ru/p/star-wars-tatooine-is-real              2   \n",
       "6293                   https://tjournal.ru/p/new-stalin              2   \n",
       "6353           https://tjournal.ru/p/aliexpress-culture              2   \n",
       "6390            https://tjournal.ru/p/salavat-yulaev-vk              1   \n",
       "6409             https://tjournal.ru/p/snowden-ad-block              1   \n",
       "6435    https://tjournal.ru/p/hunger-games-final-review              1   \n",
       "6450           https://tjournal.ru/p/aliexpress-garbage              1   \n",
       "6504                    https://tjournal.ru/p/ola-boats              1   \n",
       "6514    https://tjournal.ru/p/chinese-tinder-censorship              1   \n",
       "6527            https://tjournal.ru/p/movies-vs-reality              1   \n",
       "6585     https://tjournal.ru/p/google-three-new-devices              1   \n",
       "6602                https://tjournal.ru/p/ai-japan-exam              1   \n",
       "6629      https://tjournal.ru/p/putin-a321-bomba-terakt              1   \n",
       "6663                   https://tjournal.ru/p/nightshift              1   \n",
       "\n",
       "      minutes_since_midnight  first_time_tweet  follower_sum  \\\n",
       "19                      1340                 1        250964   \n",
       "160                     1005                 2         61622   \n",
       "236                      784                 2         77220   \n",
       "291                      576                 1            74   \n",
       "303                     1403                 1         60745   \n",
       "342                     1227                 1        250953   \n",
       "469                     1076                 6        314451   \n",
       "485                     1037                 2         61001   \n",
       "533                      887                 5         62983   \n",
       "571                      721                 2         61428   \n",
       "616                     1114                 5        268972   \n",
       "708                      970                 1        250953   \n",
       "721                      945                 8        253590   \n",
       "796                      685                 7        252448   \n",
       "818                     1275                11        266043   \n",
       "867                     1159                 8        302310   \n",
       "879                     1081                10        304204   \n",
       "911                     1070                 1        250953   \n",
       "938                     1028                 3        251240   \n",
       "972                      735                 6        288223   \n",
       "1052                    1424                 5        254220   \n",
       "1085                    1277                 1        250953   \n",
       "1185                    1216                 2        251678   \n",
       "1194                    1143                 3        251600   \n",
       "1225                    1023                 7        258927   \n",
       "1245                    1006                 3        252134   \n",
       "1366                     655                11        306713   \n",
       "1469                    1259                 1         60214   \n",
       "1540                    1085                 2         60328   \n",
       "1565                    1035                 2         61838   \n",
       "...                      ...               ...           ...   \n",
       "5566                    1228                 4        269466   \n",
       "5593                    1104                 5        269874   \n",
       "5615                    1042                 1         24726   \n",
       "5629                    1037                 4        269870   \n",
       "5648                     978                 5        288960   \n",
       "5675                     927                 8        350976   \n",
       "5713                     926                 6        106605   \n",
       "5743                     755                 2        244547   \n",
       "5804                     674                 8        375671   \n",
       "5915                    1400                 1         24726   \n",
       "5943                    1373                 7        275786   \n",
       "6081                    1192                 5        272231   \n",
       "6110                    1086                 4        245492   \n",
       "6126                    1021                 7        270452   \n",
       "6144                     938                 1        244340   \n",
       "6244                     891                11        357509   \n",
       "6279                     807                 8        351181   \n",
       "6293                     778                 8        258535   \n",
       "6353                     685                 2        245306   \n",
       "6390                    1375                 3        269112   \n",
       "6409                    1314                 5        270732   \n",
       "6435                    1228                 2        244533   \n",
       "6450                    1192                 5        271396   \n",
       "6504                    1068                 1         24726   \n",
       "6514                    1027                 1        244341   \n",
       "6527                     969                 7        274706   \n",
       "6585                     790                 5        269649   \n",
       "6602                     737                 4        246596   \n",
       "6629                     730                 6        299235   \n",
       "6663                     671                 1         24726   \n",
       "\n",
       "      retweeted_count_sum  favorite_count_sum  user_listed_count_sum  \\\n",
       "19                    142                 117                   1166   \n",
       "160                     4                   9                    720   \n",
       "236                     6                   3                    803   \n",
       "291                     0                   0                      3   \n",
       "303                     6                   3                    678   \n",
       "342                    10                  42                   1166   \n",
       "469                    11                  18                   1918   \n",
       "485                     4                   9                    772   \n",
       "533                     1                  11                    787   \n",
       "571                     2                  19                    682   \n",
       "616                    25                  80                   1995   \n",
       "708                     6                  21                   1166   \n",
       "721                    21                  25                   1206   \n",
       "796                    14                  30                   1210   \n",
       "818                    49                  67                   1539   \n",
       "867                     6                  11                   3452   \n",
       "879                     9                  13                   3600   \n",
       "911                     6                  23                   1166   \n",
       "938                    14                  41                   1167   \n",
       "972                     8                  26                   3255   \n",
       "1052                   15                  50                   1206   \n",
       "1085                   70                 178                   1166   \n",
       "1185                    3                  16                   1194   \n",
       "1194                   27                  36                   1196   \n",
       "1225                   11                  20                   1256   \n",
       "1245                   16                  60                   1203   \n",
       "1366                   32                  62                   3580   \n",
       "1469                    5                   3                    676   \n",
       "1540                    3                  23                    680   \n",
       "1565                    1                   6                    696   \n",
       "...                   ...                 ...                    ...   \n",
       "5566                   10                   8                   1492   \n",
       "5593                    9                  12                   1172   \n",
       "5615                    0                   0                      5   \n",
       "5629                    8                  37                   1169   \n",
       "5648                   15                  36                   1555   \n",
       "5675                   26                  22                   6570   \n",
       "5713                    1                   0                   5410   \n",
       "5743                   10                  10                   1166   \n",
       "5804                    1                   2                   6574   \n",
       "5915                    0                   0                      5   \n",
       "5943                   25                  23                   1277   \n",
       "6081                   19                  15                   1213   \n",
       "6110                    8                   4                   1203   \n",
       "6126                    6                   6                   1619   \n",
       "6144                  243                 214                   1159   \n",
       "6244                   30                  61                   6658   \n",
       "6279                    5                  15                   6576   \n",
       "6293                   21                  20                   1339   \n",
       "6353                   23                 218                   1176   \n",
       "6390                    6                  11                   1165   \n",
       "6409                   15                  23                   1199   \n",
       "6435                    5                  20                   1160   \n",
       "6450                   38                  73                   1208   \n",
       "6504                    0                   0                      5   \n",
       "6514                    5                  11                   1159   \n",
       "6527                   15                  68                   1335   \n",
       "6585                    3                   9                   1176   \n",
       "6602                   14                  30                   1222   \n",
       "6629                   24                  35                   1607   \n",
       "6663                    0                   0                      5   \n",
       "\n",
       "      last_time_tweet  \n",
       "19                 28  \n",
       "160                 9  \n",
       "236                 7  \n",
       "291                 5  \n",
       "303                 3  \n",
       "342                15  \n",
       "469                11  \n",
       "485                 7  \n",
       "533                 6  \n",
       "571                16  \n",
       "616                22  \n",
       "708                12  \n",
       "721                26  \n",
       "796                19  \n",
       "818                35  \n",
       "867                11  \n",
       "879                28  \n",
       "911                 8  \n",
       "938                19  \n",
       "972                14  \n",
       "1052               20  \n",
       "1085               22  \n",
       "1185                8  \n",
       "1194               22  \n",
       "1225               16  \n",
       "1245               15  \n",
       "1366               32  \n",
       "1469                3  \n",
       "1540                5  \n",
       "1565               12  \n",
       "...               ...  \n",
       "5566               19  \n",
       "5593               19  \n",
       "5615               13  \n",
       "5629               14  \n",
       "5648               19  \n",
       "5675               32  \n",
       "5713               23  \n",
       "5743               22  \n",
       "5804                9  \n",
       "5915               20  \n",
       "5943               28  \n",
       "6081               24  \n",
       "6110               16  \n",
       "6126               10  \n",
       "6144                1  \n",
       "6244               30  \n",
       "6279               11  \n",
       "6293               23  \n",
       "6353               26  \n",
       "6390               16  \n",
       "6409               20  \n",
       "6435               13  \n",
       "6450               36  \n",
       "6504                9  \n",
       "6514               12  \n",
       "6527               26  \n",
       "6585               15  \n",
       "6602               16  \n",
       "6629               29  \n",
       "6663                7  \n",
       "\n",
       "[138 rows x 9 columns]"
      ]
     },
     "execution_count": 188,
     "metadata": {},
     "output_type": "execute_result"
    }
   ],
   "source": [
    "df[df[\"last_time_tweet\"]< 40]"
   ]
  },
  {
   "cell_type": "code",
   "execution_count": 189,
   "metadata": {
    "collapsed": false
   },
   "outputs": [
    {
     "data": {
      "text/html": [
       "<div>\n",
       "<table border=\"1\" class=\"dataframe\">\n",
       "  <thead>\n",
       "    <tr style=\"text-align: right;\">\n",
       "      <th></th>\n",
       "      <th>first_time_tweet</th>\n",
       "      <th>last_time_tweet</th>\n",
       "    </tr>\n",
       "  </thead>\n",
       "  <tbody>\n",
       "    <tr>\n",
       "      <th>19</th>\n",
       "      <td>1</td>\n",
       "      <td>28</td>\n",
       "    </tr>\n",
       "    <tr>\n",
       "      <th>647</th>\n",
       "      <td>14</td>\n",
       "      <td>45</td>\n",
       "    </tr>\n",
       "    <tr>\n",
       "      <th>721</th>\n",
       "      <td>8</td>\n",
       "      <td>26</td>\n",
       "    </tr>\n",
       "    <tr>\n",
       "      <th>818</th>\n",
       "      <td>11</td>\n",
       "      <td>35</td>\n",
       "    </tr>\n",
       "    <tr>\n",
       "      <th>879</th>\n",
       "      <td>10</td>\n",
       "      <td>28</td>\n",
       "    </tr>\n",
       "    <tr>\n",
       "      <th>989</th>\n",
       "      <td>3</td>\n",
       "      <td>57</td>\n",
       "    </tr>\n",
       "    <tr>\n",
       "      <th>1270</th>\n",
       "      <td>11</td>\n",
       "      <td>52</td>\n",
       "    </tr>\n",
       "    <tr>\n",
       "      <th>1366</th>\n",
       "      <td>11</td>\n",
       "      <td>32</td>\n",
       "    </tr>\n",
       "    <tr>\n",
       "      <th>1653</th>\n",
       "      <td>1</td>\n",
       "      <td>45</td>\n",
       "    </tr>\n",
       "    <tr>\n",
       "      <th>1790</th>\n",
       "      <td>15</td>\n",
       "      <td>56</td>\n",
       "    </tr>\n",
       "    <tr>\n",
       "      <th>1999</th>\n",
       "      <td>13</td>\n",
       "      <td>31</td>\n",
       "    </tr>\n",
       "    <tr>\n",
       "      <th>2044</th>\n",
       "      <td>12</td>\n",
       "      <td>34</td>\n",
       "    </tr>\n",
       "    <tr>\n",
       "      <th>2148</th>\n",
       "      <td>9</td>\n",
       "      <td>42</td>\n",
       "    </tr>\n",
       "    <tr>\n",
       "      <th>2208</th>\n",
       "      <td>1</td>\n",
       "      <td>32</td>\n",
       "    </tr>\n",
       "    <tr>\n",
       "      <th>2315</th>\n",
       "      <td>9</td>\n",
       "      <td>35</td>\n",
       "    </tr>\n",
       "    <tr>\n",
       "      <th>2401</th>\n",
       "      <td>7</td>\n",
       "      <td>59</td>\n",
       "    </tr>\n",
       "    <tr>\n",
       "      <th>2532</th>\n",
       "      <td>4</td>\n",
       "      <td>52</td>\n",
       "    </tr>\n",
       "    <tr>\n",
       "      <th>3650</th>\n",
       "      <td>14</td>\n",
       "      <td>37</td>\n",
       "    </tr>\n",
       "    <tr>\n",
       "      <th>4277</th>\n",
       "      <td>6</td>\n",
       "      <td>83</td>\n",
       "    </tr>\n",
       "    <tr>\n",
       "      <th>4462</th>\n",
       "      <td>9</td>\n",
       "      <td>26</td>\n",
       "    </tr>\n",
       "    <tr>\n",
       "      <th>4562</th>\n",
       "      <td>4</td>\n",
       "      <td>73</td>\n",
       "    </tr>\n",
       "    <tr>\n",
       "      <th>4788</th>\n",
       "      <td>20</td>\n",
       "      <td>53</td>\n",
       "    </tr>\n",
       "    <tr>\n",
       "      <th>4950</th>\n",
       "      <td>1</td>\n",
       "      <td>37</td>\n",
       "    </tr>\n",
       "    <tr>\n",
       "      <th>5252</th>\n",
       "      <td>13</td>\n",
       "      <td>29</td>\n",
       "    </tr>\n",
       "    <tr>\n",
       "      <th>5288</th>\n",
       "      <td>5</td>\n",
       "      <td>32</td>\n",
       "    </tr>\n",
       "    <tr>\n",
       "      <th>5499</th>\n",
       "      <td>9</td>\n",
       "      <td>43</td>\n",
       "    </tr>\n",
       "    <tr>\n",
       "      <th>5675</th>\n",
       "      <td>8</td>\n",
       "      <td>32</td>\n",
       "    </tr>\n",
       "    <tr>\n",
       "      <th>5943</th>\n",
       "      <td>7</td>\n",
       "      <td>28</td>\n",
       "    </tr>\n",
       "    <tr>\n",
       "      <th>5977</th>\n",
       "      <td>20</td>\n",
       "      <td>41</td>\n",
       "    </tr>\n",
       "    <tr>\n",
       "      <th>6029</th>\n",
       "      <td>9</td>\n",
       "      <td>40</td>\n",
       "    </tr>\n",
       "    <tr>\n",
       "      <th>6244</th>\n",
       "      <td>11</td>\n",
       "      <td>30</td>\n",
       "    </tr>\n",
       "    <tr>\n",
       "      <th>6353</th>\n",
       "      <td>2</td>\n",
       "      <td>26</td>\n",
       "    </tr>\n",
       "    <tr>\n",
       "      <th>6450</th>\n",
       "      <td>5</td>\n",
       "      <td>36</td>\n",
       "    </tr>\n",
       "    <tr>\n",
       "      <th>6527</th>\n",
       "      <td>7</td>\n",
       "      <td>26</td>\n",
       "    </tr>\n",
       "    <tr>\n",
       "      <th>6629</th>\n",
       "      <td>6</td>\n",
       "      <td>29</td>\n",
       "    </tr>\n",
       "  </tbody>\n",
       "</table>\n",
       "</div>"
      ],
      "text/plain": [
       "      first_time_tweet  last_time_tweet\n",
       "19                   1               28\n",
       "647                 14               45\n",
       "721                  8               26\n",
       "818                 11               35\n",
       "879                 10               28\n",
       "989                  3               57\n",
       "1270                11               52\n",
       "1366                11               32\n",
       "1653                 1               45\n",
       "1790                15               56\n",
       "1999                13               31\n",
       "2044                12               34\n",
       "2148                 9               42\n",
       "2208                 1               32\n",
       "2315                 9               35\n",
       "2401                 7               59\n",
       "2532                 4               52\n",
       "3650                14               37\n",
       "4277                 6               83\n",
       "4462                 9               26\n",
       "4562                 4               73\n",
       "4788                20               53\n",
       "4950                 1               37\n",
       "5252                13               29\n",
       "5288                 5               32\n",
       "5499                 9               43\n",
       "5675                 8               32\n",
       "5943                 7               28\n",
       "5977                20               41\n",
       "6029                 9               40\n",
       "6244                11               30\n",
       "6353                 2               26\n",
       "6450                 5               36\n",
       "6527                 7               26\n",
       "6629                 6               29"
      ]
     },
     "execution_count": 189,
     "metadata": {},
     "output_type": "execute_result"
    }
   ],
   "source": [
    "df[df[\"last_time_tweet\"]> 25][[\"first_time_tweet\", \"last_time_tweet\"]]"
   ]
  },
  {
   "cell_type": "code",
   "execution_count": 190,
   "metadata": {
    "collapsed": false
   },
   "outputs": [],
   "source": [
    "def plot(y_test, y_predicted,title=\"\", text=\"\"):\n",
    "    plt.figure(figsize=(9,9))\n",
    "    plt.plot(y_test, y_predicted, 'ro', label=\"predicted\", alpha=0.7)\n",
    "    plt.title(title)\n",
    "    plt.xlabel(\"Y_TEST\")\n",
    "    plt.ylabel(\"Y_PREDICTED\")\n",
    "    \n",
    "    max_y = max(max(y_true), max(y_predicted))+10\n",
    "    \n",
    "    plt.xlim(0, max_y)\n",
    "    plt.ylim(0, max_y)\n",
    "    #plt.legend()\n",
    "    plt.text(0.05*max_y, max_y-0.05*max_y, \"mse=\"+text, fontsize=15)\n",
    "    \n",
    "    plt.plot([0, max_y], [0, max_y], color='black', alpha=0.5)\n",
    "    plt.grid(b=True, which='both', color='0.65',linestyle='-')\n",
    "    \n",
    "    plt.show()"
   ]
  },
  {
   "cell_type": "code",
   "execution_count": 191,
   "metadata": {
    "collapsed": true
   },
   "outputs": [],
   "source": [
    "def split_data(train_index, test_index):\n",
    "    x_train = x[train_index]\n",
    "    y_train = y[train_index]\n",
    "    \n",
    "    x_test = x[test_index]\n",
    "    y_test = y[test_index]\n",
    "    \n",
    "    return x_train, x_test, y_train, y_test"
   ]
  },
  {
   "cell_type": "code",
   "execution_count": 192,
   "metadata": {
    "collapsed": true
   },
   "outputs": [],
   "source": [
    "loo = cv.LeaveOneOut(len(y))"
   ]
  },
  {
   "cell_type": "code",
   "execution_count": null,
   "metadata": {
    "collapsed": true
   },
   "outputs": [],
   "source": []
  },
  {
   "cell_type": "markdown",
   "metadata": {},
   "source": [
    "## Деревья"
   ]
  },
  {
   "cell_type": "code",
   "execution_count": 193,
   "metadata": {
    "collapsed": false
   },
   "outputs": [
    {
     "data": {
      "image/png": "[encoded data removed]",
      "text/plain": [
       "<matplotlib.figure.Figure at 0x7fd683b3e0d0>"
      ]
     },
     "metadata": {},
     "output_type": "display_data"
    }
   ],
   "source": [
    "from sklearn.tree import DecisionTreeRegressor\n",
    "\n",
    "y_predicted = []\n",
    "y_true = []\n",
    "\n",
    "for train_index, test_index in loo:\n",
    "    x_train, x_test, y_train, y_test = split_data(train_index, test_index)\n",
    "    dtree = DecisionTreeRegressor(max_depth=3)\n",
    "    dtree.fit(x_train, y_train)\n",
    "    y_pred = dtree.predict(x_test[0])\n",
    "    y_predicted.append(y_pred[0])\n",
    "    y_true.append(y_test[0])\n",
    "    \n",
    "\n",
    "mse = mean_squared_error(y_true, y_predicted)\n",
    "plot(y_true, y_predicted, title=\"DecisionTree Y\", text=str(mse))"
   ]
  },
  {
   "cell_type": "code",
   "execution_count": 194,
   "metadata": {
    "collapsed": false
   },
   "outputs": [
    {
     "data": {
      "image/png": "[encoded data removed]",
      "text/plain": [
       "<matplotlib.figure.Figure at 0x7fd683508650>"
      ]
     },
     "metadata": {},
     "output_type": "display_data"
    }
   ],
   "source": [
    "from sklearn.tree import DecisionTreeRegressor\n",
    "\n",
    "y_predicted = []\n",
    "y_true = []\n",
    "\n",
    "\n",
    "for train_index, test_index in loo:\n",
    "    x_train, x_test, y_train, y_test = split_data(train_index, test_index)\n",
    "    dtree = DecisionTreeRegressor(max_depth=4)\n",
    "    dtree.fit(x_train, np.log(y_train))\n",
    "    y_pred = dtree.predict(x_test[0])\n",
    "    y_predicted.append(np.exp(y_pred[0]))\n",
    "    y_true.append(y_test[0])\n",
    "\n",
    "mse = mean_squared_error(y_true, y_predicted)\n",
    "plot(y_true, y_predicted, title=\"DecisionTree Ln(Y)\", text=str(mse))"
   ]
  },
  {
   "cell_type": "markdown",
   "metadata": {},
   "source": [
    "В целом, конечно, дерево решений работает плохо, но выбросы оно вполне себе улавливает"
   ]
  },
  {
   "cell_type": "code",
   "execution_count": 195,
   "metadata": {
    "collapsed": false
   },
   "outputs": [],
   "source": [
    "y_true = np.asarray(y_true)\n",
    "y_predicted = np.asarray(y_predicted)\n",
    "BIG = 100\n",
    "y_big_true = y_true[y_true>BIG]\n",
    "y_big_predicted = y_predicted[y_true>BIG]"
   ]
  },
  {
   "cell_type": "code",
   "execution_count": 196,
   "metadata": {
    "collapsed": false
   },
   "outputs": [
    {
     "data": {
      "text/html": [
       "<div>\n",
       "<table border=\"1\" class=\"dataframe\">\n",
       "  <thead>\n",
       "    <tr style=\"text-align: right;\">\n",
       "      <th></th>\n",
       "    </tr>\n",
       "  </thead>\n",
       "  <tbody>\n",
       "    <tr>\n",
       "      <th>y_true</th>\n",
       "    </tr>\n",
       "    <tr>\n",
       "      <th>y_predicted</th>\n",
       "    </tr>\n",
       "  </tbody>\n",
       "</table>\n",
       "</div>"
      ],
      "text/plain": [
       "Empty DataFrame\n",
       "Columns: []\n",
       "Index: [y_true, y_predicted]"
      ]
     },
     "execution_count": 196,
     "metadata": {},
     "output_type": "execute_result"
    }
   ],
   "source": [
    "a = pd.DataFrame([y_big_true, y_big_predicted])\n",
    "a.index=[\"y_true\",\"y_predicted\"]\n",
    "a"
   ]
  },
  {
   "cell_type": "markdown",
   "metadata": {},
   "source": [
    "Вопрос к Михаилу.\n",
    "\n",
    "Как замерять RandomForest и другие рандомные методы. Раз через раз дает катастрофическую разницу. 400!"
   ]
  },
  {
   "cell_type": "code",
   "execution_count": 197,
   "metadata": {
    "collapsed": false
   },
   "outputs": [],
   "source": [
    "df.reset_index(inplace=True)"
   ]
  },
  {
   "cell_type": "code",
   "execution_count": 198,
   "metadata": {
    "collapsed": false
   },
   "outputs": [],
   "source": [
    "predic = pd.Series(np.around(y_predicted))"
   ]
  },
  {
   "cell_type": "code",
   "execution_count": 199,
   "metadata": {
    "collapsed": false
   },
   "outputs": [
    {
     "data": {
      "text/html": [
       "<div>\n",
       "<table border=\"1\" class=\"dataframe\">\n",
       "  <thead>\n",
       "    <tr style=\"text-align: right;\">\n",
       "      <th></th>\n",
       "      <th>url</th>\n",
       "      <th>last_time_tweet</th>\n",
       "      <th>DT_Predict</th>\n",
       "    </tr>\n",
       "  </thead>\n",
       "  <tbody>\n",
       "    <tr>\n",
       "      <th>93</th>\n",
       "      <td>https://tjournal.ru/p/condomchallenge</td>\n",
       "      <td>83</td>\n",
       "      <td>40</td>\n",
       "    </tr>\n",
       "    <tr>\n",
       "      <th>102</th>\n",
       "      <td>https://tjournal.ru/p/automate-everything</td>\n",
       "      <td>73</td>\n",
       "      <td>26</td>\n",
       "    </tr>\n",
       "  </tbody>\n",
       "</table>\n",
       "</div>"
      ],
      "text/plain": [
       "                                           url  last_time_tweet  DT_Predict\n",
       "93       https://tjournal.ru/p/condomchallenge               83          40\n",
       "102  https://tjournal.ru/p/automate-everything               73          26"
      ]
     },
     "execution_count": 199,
     "metadata": {},
     "output_type": "execute_result"
    }
   ],
   "source": [
    "df[\"DT_Predict\"]=predic\n",
    "df_LTT = df[[\"url\", \"last_time_tweet\", \"DT_Predict\"]]\n",
    "df_LTT[df_LTT[\"last_time_tweet\"]>70]"
   ]
  },
  {
   "cell_type": "markdown",
   "metadata": {},
   "source": [
    "### LinearRegression"
   ]
  },
  {
   "cell_type": "code",
   "execution_count": 200,
   "metadata": {
    "collapsed": true
   },
   "outputs": [],
   "source": [
    "from sklearn.linear_model import Ridge"
   ]
  },
  {
   "cell_type": "markdown",
   "metadata": {},
   "source": [
    "Подбираем параметр"
   ]
  },
  {
   "cell_type": "code",
   "execution_count": 201,
   "metadata": {
    "collapsed": false
   },
   "outputs": [
    {
     "name": "stdout",
     "output_type": "stream",
     "text": [
      "133.658875673\n",
      "133.658647868\n",
      "133.656421229\n",
      "133.639158335\n",
      "133.858103434\n",
      "143.939307019\n",
      "165.881438905\n",
      "161.544044325\n",
      "160.417538882\n",
      "161.489523452\n",
      "164.006174073\n",
      "164.874325804\n",
      "167.172267441\n",
      "168.577616692\n",
      "169.119532749\n",
      "169.265225341\n",
      "168.706347372\n",
      "Best Aplha =  10\n"
     ]
    }
   ],
   "source": [
    "alpha = [0.01, 0.1, 1, 10, 1e2, 1e3, 1e4, 1e5, 2e5, 4e5, 8e5, 1e6, 2e6, 4e6, 7e6, 1e7, 1e8]\n",
    "\n",
    "mse = []\n",
    "for al in alpha:\n",
    "    y_predicted = []\n",
    "    y_true = []\n",
    "\n",
    "    for train_index, test_index in loo:\n",
    "        x_train, x_test, y_train, y_test = split_data(train_index, test_index)\n",
    "        model = Ridge(alpha=al)\n",
    "        model.fit(x_train, y_train)\n",
    "        y_pred = model.predict(x_test[0])\n",
    "        y_predicted.append(y_pred[0])\n",
    "        y_true.append(y_test[0])\n",
    "    \n",
    "    cur_mse = mean_squared_error(y_true, y_predicted)\n",
    "    print cur_mse\n",
    "    mse.append(cur_mse)\n",
    "\n",
    "best_alpha = alpha[mse.index(min(mse))]\n",
    "print \"Best Aplha = \", best_alpha\n",
    "#plot(y_true, y_predicted, title=\"DecisionTree Log(Y)\")"
   ]
  },
  {
   "cell_type": "code",
   "execution_count": 202,
   "metadata": {
    "collapsed": false
   },
   "outputs": [
    {
     "data": {
      "image/png": "[encoded data removed]",
      "text/plain": [
       "<matplotlib.figure.Figure at 0x7fd6862d5650>"
      ]
     },
     "metadata": {},
     "output_type": "display_data"
    },
    {
     "name": "stdout",
     "output_type": "stream",
     "text": [
      "[  2.45966019e-01  -4.82500605e-04   2.24742813e+00   6.39539525e-06\n",
      "   5.61121526e-02   7.64308568e-02  -1.95359252e-03]\n"
     ]
    }
   ],
   "source": [
    "y_predicted = []\n",
    "y_true = []\n",
    "\n",
    "for train_index, test_index in loo:\n",
    "    x_train, x_test, y_train, y_test = split_data(train_index, test_index)\n",
    "    model = Ridge(alpha=best_alpha)\n",
    "    model.fit(x_train, y_train)\n",
    "    y_pred = model.predict(x_test[0])\n",
    "    y_predicted.append(y_pred[0])\n",
    "    y_true.append(y_test[0])\n",
    "\n",
    "mse = mean_squared_error(y_true, y_predicted)\n",
    "plot(y_true, y_predicted, title=\"Ridge Y\", text=str(mse))\n",
    "print model.coef_"
   ]
  },
  {
   "cell_type": "markdown",
   "metadata": {},
   "source": [
    "Теперь логарифм"
   ]
  },
  {
   "cell_type": "code",
   "execution_count": 203,
   "metadata": {
    "collapsed": false
   },
   "outputs": [
    {
     "name": "stdout",
     "output_type": "stream",
     "text": [
      "206.921204768\n",
      "206.92192966\n",
      "206.929339879\n",
      "207.019174624\n",
      "209.159327193\n",
      "250.425230332\n",
      "292.125409734\n",
      "195.037080152\n",
      "181.433952241\n",
      "176.611725363\n",
      "175.815343925\n",
      "175.867712441\n",
      "176.170543561\n",
      "176.259987389\n",
      "176.127648408\n",
      "175.990149923\n",
      "175.295274642\n",
      "Best Aplha =  100000000.0\n"
     ]
    }
   ],
   "source": [
    "alpha = [0.01, 0.1, 1, 10, 1e2, 1e3, 1e4, 1e5, 2e5, 4e5, 8e5, 1e6, 2e6, 4e6, 7e6, 1e7, 1e8]\n",
    "\n",
    "mse = []\n",
    "for al in alpha:\n",
    "    y_predicted = []\n",
    "    y_true = []\n",
    "\n",
    "    for train_index, test_index in loo:\n",
    "        x_train, x_test, y_train, y_test = split_data(train_index, test_index)\n",
    "        model = Ridge(alpha=al)\n",
    "        model.fit(x_train, np.log(y_train))\n",
    "        y_pred = model.predict(x_test[0])\n",
    "        y_predicted.append(np.exp(y_pred[0]))\n",
    "        y_true.append(y_test[0])\n",
    "\n",
    "    cur_mse = mean_squared_error(y_true, y_predicted)\n",
    "    print cur_mse\n",
    "    mse.append(cur_mse)\n",
    "\n",
    "\n",
    "best_alpha = alpha[mse.index(min(mse))]\n",
    "print \"Best Aplha = \", best_alpha\n",
    "#plot(y_true, y_predicted, title=\"DecisionTree Log(Y)\")"
   ]
  },
  {
   "cell_type": "code",
   "execution_count": 204,
   "metadata": {
    "collapsed": false
   },
   "outputs": [
    {
     "data": {
      "image/png": "[encoded data removed]",
      "text/plain": [
       "<matplotlib.figure.Figure at 0x7fd68386ead0>"
      ]
     },
     "metadata": {},
     "output_type": "display_data"
    },
    {
     "name": "stdout",
     "output_type": "stream",
     "text": [
      "[ -3.99737057e-09   3.06377518e-05   1.14081627e-06   3.89505441e-06\n",
      "   3.36338965e-06   5.92411608e-06  -1.35578105e-05]\n"
     ]
    }
   ],
   "source": [
    "y_predicted = []\n",
    "y_true = []\n",
    "\n",
    "for train_index, test_index in loo:\n",
    "    x_train, x_test, y_train, y_test = split_data(train_index, test_index)\n",
    "    model = Ridge(alpha=best_alpha)\n",
    "    model.fit(x_train, np.log(y_train))\n",
    "    y_pred = model.predict(x_test[0])\n",
    "    y_predicted.append(np.exp(y_pred[0]))\n",
    "    y_true.append(y_test[0])\n",
    "    \n",
    "mse = mean_squared_error(y_true, y_predicted)\n",
    "plot(y_true, y_predicted, title=\"Ridge ln(Y)\", text=str(mse))\n",
    "print model.coef_"
   ]
  },
  {
   "cell_type": "markdown",
   "metadata": {},
   "source": [
    "# RandomForest "
   ]
  },
  {
   "cell_type": "code",
   "execution_count": 205,
   "metadata": {
    "collapsed": true
   },
   "outputs": [],
   "source": [
    "from sklearn.ensemble import RandomForestRegressor"
   ]
  },
  {
   "cell_type": "code",
   "execution_count": 206,
   "metadata": {
    "collapsed": false
   },
   "outputs": [
    {
     "data": {
      "image/png": "[encoded data removed]",
      "text/plain": [
       "<matplotlib.figure.Figure at 0x7fd6894b2e90>"
      ]
     },
     "metadata": {},
     "output_type": "display_data"
    }
   ],
   "source": [
    "y_predicted = []\n",
    "y_true = []\n",
    "\n",
    "for train_index, test_index in loo:\n",
    "    x_train, x_test, y_train, y_test = split_data(train_index, test_index)\n",
    "    model = RandomForestRegressor(n_estimators=20)\n",
    "    model.fit(x_train, (y_train))\n",
    "    y_pred = model.predict(x_test[0])\n",
    "    y_predicted.append((y_pred[0]))\n",
    "    y_true.append(y_test[0])\n",
    "\n",
    "mse = mean_squared_error(y_true, y_predicted)\n",
    "plot(y_true, y_predicted, title=\"Random Forest Y\", text=str(mse))"
   ]
  },
  {
   "cell_type": "markdown",
   "metadata": {},
   "source": [
    "#### Теперь логарифм"
   ]
  },
  {
   "cell_type": "code",
   "execution_count": 207,
   "metadata": {
    "collapsed": false
   },
   "outputs": [
    {
     "data": {
      "image/png": "[encoded data removed]",
      "text/plain": [
       "<matplotlib.figure.Figure at 0x7fd6894b2510>"
      ]
     },
     "metadata": {},
     "output_type": "display_data"
    }
   ],
   "source": [
    "y_predicted = []\n",
    "y_true = []\n",
    "\n",
    "for train_index, test_index in loo:\n",
    "    x_train, x_test, y_train, y_test = split_data(train_index, test_index)\n",
    "    model = RandomForestRegressor(n_estimators=50)\n",
    "    model.fit(x_train, np.log(y_train))\n",
    "    y_pred = model.predict(x_test[0])\n",
    "    y_predicted.append(np.exp(y_pred[0]))\n",
    "    y_true.append(y_test[0])\n",
    "\n",
    "mse = mean_squared_error(y_true, y_predicted)\n",
    "plot(y_true, y_predicted, title=\"Random Forest ln(Y)\", text=str(mse))"
   ]
  },
  {
   "cell_type": "code",
   "execution_count": 141,
   "metadata": {
    "collapsed": false
   },
   "outputs": [
    {
     "data": {
      "text/html": [
       "<div>\n",
       "<table border=\"1\" class=\"dataframe\">\n",
       "  <thead>\n",
       "    <tr style=\"text-align: right;\">\n",
       "      <th></th>\n",
       "      <th>url</th>\n",
       "      <th>last_time_tweet</th>\n",
       "      <th>predicted</th>\n",
       "    </tr>\n",
       "  </thead>\n",
       "  <tbody>\n",
       "    <tr>\n",
       "      <th>125</th>\n",
       "      <td>https://vc.ru/n/rao-stop-money</td>\n",
       "      <td>76</td>\n",
       "      <td>50</td>\n",
       "    </tr>\n",
       "    <tr>\n",
       "      <th>85</th>\n",
       "      <td>https://vc.ru/n/fb-uk-court</td>\n",
       "      <td>63</td>\n",
       "      <td>60</td>\n",
       "    </tr>\n",
       "    <tr>\n",
       "      <th>71</th>\n",
       "      <td>https://vc.ru/n/cards-money</td>\n",
       "      <td>62</td>\n",
       "      <td>59</td>\n",
       "    </tr>\n",
       "    <tr>\n",
       "      <th>67</th>\n",
       "      <td>https://vc.ru/p/solar-power</td>\n",
       "      <td>52</td>\n",
       "      <td>53</td>\n",
       "    </tr>\n",
       "    <tr>\n",
       "      <th>173</th>\n",
       "      <td>https://tjournal.ru/p/usembru-vs-izvestia</td>\n",
       "      <td>48</td>\n",
       "      <td>43</td>\n",
       "    </tr>\n",
       "    <tr>\n",
       "      <th>159</th>\n",
       "      <td>https://tjournal.ru/p/watch-paint-dry</td>\n",
       "      <td>47</td>\n",
       "      <td>47</td>\n",
       "    </tr>\n",
       "    <tr>\n",
       "      <th>172</th>\n",
       "      <td>https://tjournal.ru/p/grugq-telegram</td>\n",
       "      <td>43</td>\n",
       "      <td>46</td>\n",
       "    </tr>\n",
       "    <tr>\n",
       "      <th>185</th>\n",
       "      <td>https://tjournal.ru/p/aliexpress-garbage</td>\n",
       "      <td>40</td>\n",
       "      <td>37</td>\n",
       "    </tr>\n",
       "    <tr>\n",
       "      <th>150</th>\n",
       "      <td>https://tjournal.ru/p/icloud-thief</td>\n",
       "      <td>37</td>\n",
       "      <td>34</td>\n",
       "    </tr>\n",
       "    <tr>\n",
       "      <th>165</th>\n",
       "      <td>https://tjournal.ru/p/parking-fire</td>\n",
       "      <td>35</td>\n",
       "      <td>34</td>\n",
       "    </tr>\n",
       "    <tr>\n",
       "      <th>192</th>\n",
       "      <td>https://tjournal.ru/p/putin-a321-bomba-terakt</td>\n",
       "      <td>33</td>\n",
       "      <td>31</td>\n",
       "    </tr>\n",
       "    <tr>\n",
       "      <th>178</th>\n",
       "      <td>https://tjournal.ru/p/apple-ekb-iphone</td>\n",
       "      <td>32</td>\n",
       "      <td>32</td>\n",
       "    </tr>\n",
       "    <tr>\n",
       "      <th>171</th>\n",
       "      <td>https://tjournal.ru/p/panasonic-magic-megaphone</td>\n",
       "      <td>31</td>\n",
       "      <td>30</td>\n",
       "    </tr>\n",
       "    <tr>\n",
       "      <th>149</th>\n",
       "      <td>https://tjournal.ru/p/colombian-isis</td>\n",
       "      <td>31</td>\n",
       "      <td>33</td>\n",
       "    </tr>\n",
       "    <tr>\n",
       "      <th>181</th>\n",
       "      <td>https://tjournal.ru/p/aliexpress-culture</td>\n",
       "      <td>31</td>\n",
       "      <td>28</td>\n",
       "    </tr>\n",
       "    <tr>\n",
       "      <th>188</th>\n",
       "      <td>https://tjournal.ru/p/movies-vs-reality</td>\n",
       "      <td>29</td>\n",
       "      <td>30</td>\n",
       "    </tr>\n",
       "    <tr>\n",
       "      <th>180</th>\n",
       "      <td>https://tjournal.ru/p/new-stalin</td>\n",
       "      <td>28</td>\n",
       "      <td>25</td>\n",
       "    </tr>\n",
       "    <tr>\n",
       "      <th>37</th>\n",
       "      <td>https://vc.ru/n/pure-sex</td>\n",
       "      <td>28</td>\n",
       "      <td>18</td>\n",
       "    </tr>\n",
       "    <tr>\n",
       "      <th>156</th>\n",
       "      <td>https://tjournal.ru/p/three-suns</td>\n",
       "      <td>28</td>\n",
       "      <td>28</td>\n",
       "    </tr>\n",
       "    <tr>\n",
       "      <th>46</th>\n",
       "      <td>https://vc.ru/p/lada-commercial</td>\n",
       "      <td>28</td>\n",
       "      <td>6</td>\n",
       "    </tr>\n",
       "  </tbody>\n",
       "</table>\n",
       "</div>"
      ],
      "text/plain": [
       "                                                 url  last_time_tweet  \\\n",
       "125                   https://vc.ru/n/rao-stop-money               76   \n",
       "85                       https://vc.ru/n/fb-uk-court               63   \n",
       "71                       https://vc.ru/n/cards-money               62   \n",
       "67                       https://vc.ru/p/solar-power               52   \n",
       "173        https://tjournal.ru/p/usembru-vs-izvestia               48   \n",
       "159            https://tjournal.ru/p/watch-paint-dry               47   \n",
       "172             https://tjournal.ru/p/grugq-telegram               43   \n",
       "185         https://tjournal.ru/p/aliexpress-garbage               40   \n",
       "150               https://tjournal.ru/p/icloud-thief               37   \n",
       "165               https://tjournal.ru/p/parking-fire               35   \n",
       "192    https://tjournal.ru/p/putin-a321-bomba-terakt               33   \n",
       "178           https://tjournal.ru/p/apple-ekb-iphone               32   \n",
       "171  https://tjournal.ru/p/panasonic-magic-megaphone               31   \n",
       "149             https://tjournal.ru/p/colombian-isis               31   \n",
       "181         https://tjournal.ru/p/aliexpress-culture               31   \n",
       "188          https://tjournal.ru/p/movies-vs-reality               29   \n",
       "180                 https://tjournal.ru/p/new-stalin               28   \n",
       "37                          https://vc.ru/n/pure-sex               28   \n",
       "156                 https://tjournal.ru/p/three-suns               28   \n",
       "46                   https://vc.ru/p/lada-commercial               28   \n",
       "\n",
       "     predicted  \n",
       "125         50  \n",
       "85          60  \n",
       "71          59  \n",
       "67          53  \n",
       "173         43  \n",
       "159         47  \n",
       "172         46  \n",
       "185         37  \n",
       "150         34  \n",
       "165         34  \n",
       "192         31  \n",
       "178         32  \n",
       "171         30  \n",
       "149         33  \n",
       "181         28  \n",
       "188         30  \n",
       "180         25  \n",
       "37          18  \n",
       "156         28  \n",
       "46           6  "
      ]
     },
     "execution_count": 141,
     "metadata": {},
     "output_type": "execute_result"
    }
   ],
   "source": [
    "predic = pd.Series(np.around(y_predicted))\n",
    "df[\"predicted\"]=predic\n",
    "d = df.sort_values(\"last_time_tweet\", ascending=False)\n",
    "d[[\"url\", \"last_time_tweet\", \"predicted\"]].head(20)"
   ]
  },
  {
   "cell_type": "code",
   "execution_count": null,
   "metadata": {
    "collapsed": true
   },
   "outputs": [],
   "source": []
  },
  {
   "cell_type": "code",
   "execution_count": null,
   "metadata": {
    "collapsed": true
   },
   "outputs": [],
   "source": []
  },
  {
   "cell_type": "code",
   "execution_count": null,
   "metadata": {
    "collapsed": true
   },
   "outputs": [],
   "source": []
  },
  {
   "cell_type": "code",
   "execution_count": null,
   "metadata": {
    "collapsed": true
   },
   "outputs": [],
   "source": []
  },
  {
   "cell_type": "markdown",
   "metadata": {},
   "source": [
    "## Проверка"
   ]
  },
  {
   "cell_type": "code",
   "execution_count": 34,
   "metadata": {
    "collapsed": false
   },
   "outputs": [],
   "source": [
    "df = pd.read_csv(PREPARED_CSV, sep=\",\")\n",
    "df = df[[\"url\", \"week_day_news\", \"minutes_since_midnight\", \"first_time_tweet\",\"follower_sum\", \"retweeted_count_sum\", \"favorite_count_sum\", \"user_listed_count_sum\", \"last_time_tweet\", \"views\", \"comments\"]]\n",
    "df = df.drop_duplicates().dropna()\n",
    "df = df.reset_index()"
   ]
  },
  {
   "cell_type": "code",
   "execution_count": 35,
   "metadata": {
    "collapsed": false
   },
   "outputs": [],
   "source": [
    "ltt = df[\"last_time_tweet\"].as_matrix()\n",
    "comments = df[\"comments\"].as_matrix()\n",
    "views = df[\"views\"].as_matrix()"
   ]
  },
  {
   "cell_type": "code",
   "execution_count": 36,
   "metadata": {
    "collapsed": false
   },
   "outputs": [
    {
     "data": {
      "text/plain": [
       "array([[ 1.        ,  0.39176351],\n",
       "       [ 0.39176351,  1.        ]])"
      ]
     },
     "execution_count": 36,
     "metadata": {},
     "output_type": "execute_result"
    }
   ],
   "source": [
    "np.corrcoef(views, ltt)"
   ]
  },
  {
   "cell_type": "code",
   "execution_count": 37,
   "metadata": {
    "collapsed": false
   },
   "outputs": [
    {
     "data": {
      "text/plain": [
       "array([[ 1.       ,  0.3524211],\n",
       "       [ 0.3524211,  1.       ]])"
      ]
     },
     "execution_count": 37,
     "metadata": {},
     "output_type": "execute_result"
    }
   ],
   "source": [
    "np.corrcoef(comments, ltt)"
   ]
  },
  {
   "cell_type": "code",
   "execution_count": 38,
   "metadata": {
    "collapsed": false
   },
   "outputs": [
    {
     "data": {
      "text/plain": [
       "array([[ 1.        ,  0.65061814],\n",
       "       [ 0.65061814,  1.        ]])"
      ]
     },
     "execution_count": 38,
     "metadata": {},
     "output_type": "execute_result"
    }
   ],
   "source": [
    "np.corrcoef(views, comments)"
   ]
  },
  {
   "cell_type": "code",
   "execution_count": 39,
   "metadata": {
    "collapsed": false
   },
   "outputs": [],
   "source": [
    "m = np.mean(comments)"
   ]
  },
  {
   "cell_type": "code",
   "execution_count": 40,
   "metadata": {
    "collapsed": false
   },
   "outputs": [
    {
     "data": {
      "text/plain": [
       "array([[ 1.        ,  0.28837992],\n",
       "       [ 0.28837992,  1.        ]])"
      ]
     },
     "execution_count": 40,
     "metadata": {},
     "output_type": "execute_result"
    }
   ],
   "source": [
    "np.corrcoef(views*np.exp(comments*0.5/m), ltt)"
   ]
  },
  {
   "cell_type": "code",
   "execution_count": null,
   "metadata": {
    "collapsed": true
   },
   "outputs": [],
   "source": []
  },
  {
   "cell_type": "code",
   "execution_count": null,
   "metadata": {
    "collapsed": true
   },
   "outputs": [],
   "source": []
  },
  {
   "cell_type": "code",
   "execution_count": null,
   "metadata": {
    "collapsed": true
   },
   "outputs": [],
   "source": []
  },
  {
   "cell_type": "code",
   "execution_count": null,
   "metadata": {
    "collapsed": true
   },
   "outputs": [],
   "source": []
  },
  {
   "cell_type": "code",
   "execution_count": 333,
   "metadata": {
    "collapsed": true
   },
   "outputs": [],
   "source": [
    "df = pd.read_csv(PREPARED_CSV, sep=\",\")\n",
    "df = df[[\"url\", \"week_day_news\", \"minutes_since_midnight\", \"first_time_tweet\",\"follower_sum\", \"retweeted_count_sum\", \"favorite_count_sum\", \"user_listed_count_sum\", \"last_time_tweet\", \"views\", \"comments\"]]\n",
    "df = df.drop_duplicates().dropna()\n",
    "df = df.reset_index()\n",
    "ltt = df[\"last_time_tweet\"].as_matrix()\n",
    "comments = df[\"comments\"].as_matrix()\n",
    "views = df[\"views\"].as_matrix()"
   ]
  },
  {
   "cell_type": "code",
   "execution_count": 367,
   "metadata": {
    "collapsed": true
   },
   "outputs": [],
   "source": [
    "def plot(y_test, y_predicted, labelX, labelY):\n",
    "    plt.figure(figsize=(9,9))\n",
    "    plt.plot(y_test, y_predicted, 'ro', label=\"predicted\", alpha=0.7)\n",
    "    #plt.title(title)\n",
    "    plt.xlabel(labelX)\n",
    "    plt.ylabel(labelY)\n",
    "\n",
    "    #max_y = max(max(y_true), max(y_predicted))+10\n",
    "\n",
    "    #plt.xlim(0, max_y)\n",
    "    #plt.ylim(0, max_y)\n",
    "    plt.xscale('log')\n",
    "    plt.yscale('log')\n",
    "    #plt.legend()\n",
    "    #plt.text(0.05*max_y, max_y-0.05*max_y, \"mse=\"+text, fontsize=15)\n",
    "\n",
    "    #plt.plot([0, max_y], [0, max_y], color='black', alpha=0.5)\n",
    "    #plt.grid(b=True, which='both', color='0.65',linestyle='-')\n",
    "\n",
    "    plt.show()"
   ]
  },
  {
   "cell_type": "code",
   "execution_count": 368,
   "metadata": {
    "collapsed": false
   },
   "outputs": [
    {
     "data": {
      "image/png": "[encoded data removed]",
      "text/plain": [
       "<matplotlib.figure.Figure at 0x7f60ec006810>"
      ]
     },
     "metadata": {},
     "output_type": "display_data"
    }
   ],
   "source": [
    "plot(ltt, comments, \"Tweets after 180 minutes\", \"Comments\")"
   ]
  },
  {
   "cell_type": "code",
   "execution_count": 362,
   "metadata": {
    "collapsed": false
   },
   "outputs": [
    {
     "data": {
      "image/png": "[encoded data removed]",
      "text/plain": [
       "<matplotlib.figure.Figure at 0x7f60dfacaf10>"
      ]
     },
     "metadata": {},
     "output_type": "display_data"
    }
   ],
   "source": [
    "#plot(ltt, views, \"Tweets after 180 minutes\", \"Views\")\n",
    "plt.figure(figsize=(9,9))\n",
    "plt.plot(ltt, views, 'ro', label=\"predicted\", alpha=0.7)\n",
    "#plt.title(title)\n",
    "plt.xlabel(\"Tweets after 180 minutes\")\n",
    "plt.ylabel(\"Views\")\n",
    "plt.xscale('log')\n",
    "plt.yscale('log')\n",
    "#max_y = max(max(y_true), max(y_predicted))+10\n",
    "#plt.xlim(0, max_y)\n",
    "#plt.ylim(0, max_y)\n",
    "#plt.legend()\n",
    "#plt.text(0.05*max_y, max_y-0.05*max_y, \"mse=\"+text, fontsize=15)\n",
    "\n",
    "#plt.plot([0, max_y], [0, max_y], color='black', alpha=0.5)\n",
    "#plt.grid(b=True, which='both', color='0.65',linestyle='-')\n",
    "\n",
    "plt.show()"
   ]
  },
  {
   "cell_type": "code",
   "execution_count": 41,
   "metadata": {
    "collapsed": false
   },
   "outputs": [
    {
     "data": {
      "image/png": "[encoded data removed]",
      "text/plain": [
       "<matplotlib.figure.Figure at 0x7fd6894bb950>"
      ]
     },
     "metadata": {},
     "output_type": "display_data"
    }
   ],
   "source": [
    "#plot(views, comments, \"Views\", \"Comments\")\n",
    "#plot(ltt, views, \"Tweets after 180 minutes\", \"Views\")\n",
    "plt.figure(figsize=(9,9))\n",
    "plt.plot(views, comments, 'ro', label=\"predicted\", alpha=0.7)\n",
    "#plt.title(title)\n",
    "plt.xlabel(\"Views\")\n",
    "plt.ylabel(\"Comments\")\n",
    "plt.xscale('log')\n",
    "plt.yscale('log')\n",
    "#max_y = max(max(y_true), max(y_predicted))+10\n",
    "#plt.xlim(0, max_y)\n",
    "#plt.ylim(0, max_y)\n",
    "#plt.legend()\n",
    "#plt.text(0.05*max_y, max_y-0.05*max_y, \"mse=\"+text, fontsize=15)\n",
    "\n",
    "#plt.plot([0, max_y], [0, max_y], color='black', alpha=0.5)\n",
    "#plt.grid(b=True, which='both', color='0.65',linestyle='-')\n",
    "\n",
    "plt.show()"
   ]
  },
  {
   "cell_type": "code",
   "execution_count": null,
   "metadata": {
    "collapsed": true
   },
   "outputs": [],
   "source": []
  }
 ],
 "metadata": {
  "kernelspec": {
   "display_name": "Python 2",
   "language": "python",
   "name": "python2"
  },
  "language_info": {
   "codemirror_mode": {
    "name": "ipython",
    "version": 2
   },
   "file_extension": ".py",
   "mimetype": "text/x-python",
   "name": "python",
   "nbconvert_exporter": "python",
   "pygments_lexer": "ipython2",
   "version": "2.7.10"
  }
 },
 "nbformat": 4,
 "nbformat_minor": 0
}
