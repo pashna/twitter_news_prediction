{
 "cells": [
  {
   "cell_type": "code",
   "execution_count": 2,
   "metadata": {
    "collapsed": false
   },
   "outputs": [],
   "source": [
    "# -*- coding: utf-8 -*\n",
    "import twitter\n",
    "import csv\n",
    "import json\n",
    "import re\n",
    "import requests\n",
    "import lxml.html as html\n",
    "from urllib2 import urlopen\n",
    "import pandas as pd\n",
    "from datetime import datetime, timedelta\n",
    "from dateutil import tz\n",
    "import time\n",
    "import sklearn.cross_validation as cv\n",
    "from sklearn.metrics import mean_squared_error\n",
    "import matplotlib.pyplot as plt\n",
    "import numpy as np\n",
    "%matplotlib inline"
   ]
  },
  {
   "cell_type": "code",
   "execution_count": 3,
   "metadata": {
    "collapsed": true
   },
   "outputs": [],
   "source": [
    "PREPARED_CSV = \"prepared_to_analys.csv\"\n",
    "df = pd.read_csv(PREPARED_CSV, sep=\",\")"
   ]
  },
  {
   "cell_type": "code",
   "execution_count": 4,
   "metadata": {
    "collapsed": false
   },
   "outputs": [],
   "source": [
    "# Удаляем лишние столбцы\n",
    "df_features = [\"url\", \"week_day_news\", \"minutes_since_midnight\", \"first_time_tweet\",\"follower_sum\", \"retweeted_count_sum\", \"favorite_count_sum\", \"user_listed_count_sum\", \"last_time_tweet\", \".forbes.ru\",\".vesti.ru\",\"TJ_P\", \"VC\", \"lenta.ru\", \"lifenews.ru\", \"roem.ru\"]\n",
    "x_features = [\"url\", \"week_day_news\", \"minutes_since_midnight\", \"first_time_tweet\",\"follower_sum\", \"retweeted_count_sum\", \"favorite_count_sum\", \"user_listed_count_sum\", \".forbes.ru\",\".vesti.ru\",\"TJ_P\", \"VC\", \"lenta.ru\", \"lifenews.ru\", \"roem.ru\"]\n",
    "df = df[df_features]"
   ]
  },
  {
   "cell_type": "code",
   "execution_count": 5,
   "metadata": {
    "collapsed": true
   },
   "outputs": [],
   "source": [
    "# С глубоким прискорбием удаляем NaN - если ничего не было, пока не будем будмать, что могло быть\n",
    "df = df.drop_duplicates().dropna()"
   ]
  },
  {
   "cell_type": "code",
   "execution_count": 6,
   "metadata": {
    "collapsed": false
   },
   "outputs": [
    {
     "data": {
      "text/plain": [
       "407"
      ]
     },
     "execution_count": 6,
     "metadata": {},
     "output_type": "execute_result"
    }
   ],
   "source": [
    "# В итоге имеем:\n",
    "len(df)"
   ]
  },
  {
   "cell_type": "code",
   "execution_count": 7,
   "metadata": {
    "collapsed": false
   },
   "outputs": [
    {
     "data": {
      "text/html": [
       "<div>\n",
       "<table border=\"1\" class=\"dataframe\">\n",
       "  <thead>\n",
       "    <tr style=\"text-align: right;\">\n",
       "      <th></th>\n",
       "      <th>url</th>\n",
       "      <th>week_day_news</th>\n",
       "      <th>minutes_since_midnight</th>\n",
       "      <th>first_time_tweet</th>\n",
       "      <th>follower_sum</th>\n",
       "      <th>retweeted_count_sum</th>\n",
       "      <th>favorite_count_sum</th>\n",
       "      <th>user_listed_count_sum</th>\n",
       "      <th>last_time_tweet</th>\n",
       "      <th>.forbes.ru</th>\n",
       "      <th>.vesti.ru</th>\n",
       "      <th>TJ_P</th>\n",
       "      <th>VC</th>\n",
       "      <th>lenta.ru</th>\n",
       "      <th>lifenews.ru</th>\n",
       "      <th>roem.ru</th>\n",
       "    </tr>\n",
       "  </thead>\n",
       "  <tbody>\n",
       "    <tr>\n",
       "      <th>62</th>\n",
       "      <td>https://tjournal.ru/p/peking-duk-fan</td>\n",
       "      <td>5</td>\n",
       "      <td>1145</td>\n",
       "      <td>4</td>\n",
       "      <td>252956</td>\n",
       "      <td>40</td>\n",
       "      <td>38</td>\n",
       "      <td>1198</td>\n",
       "      <td>35</td>\n",
       "      <td>0</td>\n",
       "      <td>0</td>\n",
       "      <td>1</td>\n",
       "      <td>0</td>\n",
       "      <td>0</td>\n",
       "      <td>0</td>\n",
       "      <td>0</td>\n",
       "    </tr>\n",
       "  </tbody>\n",
       "</table>\n",
       "</div>"
      ],
      "text/plain": [
       "                                     url  week_day_news  \\\n",
       "62  https://tjournal.ru/p/peking-duk-fan              5   \n",
       "\n",
       "    minutes_since_midnight  first_time_tweet  follower_sum  \\\n",
       "62                    1145                 4        252956   \n",
       "\n",
       "    retweeted_count_sum  favorite_count_sum  user_listed_count_sum  \\\n",
       "62                   40                  38                   1198   \n",
       "\n",
       "    last_time_tweet  .forbes.ru  .vesti.ru  TJ_P  VC  lenta.ru  lifenews.ru  \\\n",
       "62               35           0          0     1   0         0            0   \n",
       "\n",
       "    roem.ru  \n",
       "62        0  "
      ]
     },
     "execution_count": 7,
     "metadata": {},
     "output_type": "execute_result"
    }
   ],
   "source": [
    "df.head(1)"
   ]
  },
  {
   "cell_type": "code",
   "execution_count": 8,
   "metadata": {
    "collapsed": false
   },
   "outputs": [],
   "source": [
    "x = df[x_features].as_matrix()\n",
    "y = df[\"last_time_tweet\"].as_matrix()"
   ]
  },
  {
   "cell_type": "code",
   "execution_count": 13,
   "metadata": {
    "collapsed": false
   },
   "outputs": [],
   "source": [
    "# Делим данные\n",
    "x_train, x_test, y_train, y_test = cv.train_test_split(x, y, test_size=0.2)\n",
    "\n",
    "x_train_urls = x_train.T[0]\n",
    "x_test_url = x_test.T[0]\n",
    "x_train = x_train.T[1:].T\n",
    "x_test = x_test.T[1:].T"
   ]
  },
  {
   "cell_type": "code",
   "execution_count": 14,
   "metadata": {
    "collapsed": false
   },
   "outputs": [
    {
     "name": "stdout",
     "output_type": "stream",
     "text": [
      "Коэффициенты корреляции Y:\n",
      "week_day_news = 0.564968364601\n",
      "minutes_since_midnight = -0.151646897311\n",
      "first_time_tweet = 0.560682072978\n",
      "follower_sum = 0.249691390779\n",
      "retweeted_count_sum = 0.156571629208\n",
      "favorite_count_sum = -0.108698922401\n",
      "user_listed_count_sum = 0.249408320415\n",
      ".forbes.ru = -0.137215217569\n",
      ".vesti.ru = -0.0954355200367\n",
      "TJ_P = -0.366204621723\n",
      "VC = -0.306953941398\n",
      "lenta.ru = 0.328818062507\n",
      "lifenews.ru = 0.411763073501\n",
      "roem.ru = -0.207752743203\n"
     ]
    }
   ],
   "source": [
    "print \"Коэффициенты корреляции Y:\"\n",
    "for i in range(len(x_features)-1):\n",
    "    x_column = x[:,i+1]\n",
    "    print x_features[i+1], \"=\", np.corrcoef(x_column.astype('float'), y)[0][1]"
   ]
  },
  {
   "cell_type": "code",
   "execution_count": 15,
   "metadata": {
    "collapsed": false
   },
   "outputs": [
    {
     "data": {
      "image/png": "[encoded data removed]",
      "text/plain": [
       "<matplotlib.figure.Figure at 0x7f2f0c9bf850>"
      ]
     },
     "metadata": {},
     "output_type": "display_data"
    }
   ],
   "source": [
    "df.last_time_tweet.hist(alpha=0.5, bins=[i*25 for i in range(20)])\n",
    "plt.title(\"Tweets after 3 hours\")\n",
    "plt.ylabel(\"count of urls\")\n",
    "plt.xlabel(\"count of tweets\")\n",
    "plt.show()"
   ]
  },
  {
   "cell_type": "code",
   "execution_count": 16,
   "metadata": {
    "collapsed": false
   },
   "outputs": [
    {
     "data": {
      "image/png": "[encoded data removed]",
      "text/plain": [
       "<matplotlib.figure.Figure at 0x7f2f0cb1c750>"
      ]
     },
     "metadata": {},
     "output_type": "display_data"
    }
   ],
   "source": [
    "#df.week_day_news.hist(alpha=0.5, bins=[i for i in range(7)])\n",
    "S = df.groupby(\"week_day_news\")[\"last_time_tweet\"].sum()\n",
    "plt.pie(S.as_matrix(), labels=[\"Monday\", \"Tuesday\", \"Wednesday\", \"Thursday\", \"Friday\", \"Saturday\", \"Sunday\"]);\n",
    "plt.show();"
   ]
  },
  {
   "cell_type": "code",
   "execution_count": 17,
   "metadata": {
    "collapsed": false
   },
   "outputs": [
    {
     "data": {
      "image/png": "[encoded data removed]",
      "text/plain": [
       "<matplotlib.figure.Figure at 0x7f2f08fe5f90>"
      ]
     },
     "metadata": {},
     "output_type": "display_data"
    }
   ],
   "source": [
    "plt.figure(figsize=(8,8))\n",
    "plt.plot(df[\"last_time_tweet\"].as_matrix(), df[\"first_time_tweet\"].as_matrix(), 'ro',  alpha=0.6)\n",
    "plt.title(\"Tweet Count\")\n",
    "plt.xlabel(\"Count Of Tweets after 180 minutes\")\n",
    "plt.ylabel(\"Count Of Tweets after 10 minutes\")\n",
    "plt.xlim(0, 80)\n",
    "plt.ylim(0, 80)\n",
    "#plt.xscale('log')\n",
    "#plt.yscale('log')\n",
    "#plt.grid(b=True, which='both', color='0.65',linestyle='-')\n",
    "plt.rcParams.update({'font.size': 14})"
   ]
  },
  {
   "cell_type": "code",
   "execution_count": 18,
   "metadata": {
    "collapsed": false
   },
   "outputs": [
    {
     "data": {
      "text/html": [
       "<div>\n",
       "<table border=\"1\" class=\"dataframe\">\n",
       "  <thead>\n",
       "    <tr style=\"text-align: right;\">\n",
       "      <th></th>\n",
       "      <th>url</th>\n",
       "      <th>week_day_news</th>\n",
       "      <th>minutes_since_midnight</th>\n",
       "      <th>first_time_tweet</th>\n",
       "      <th>follower_sum</th>\n",
       "      <th>retweeted_count_sum</th>\n",
       "      <th>favorite_count_sum</th>\n",
       "      <th>user_listed_count_sum</th>\n",
       "      <th>last_time_tweet</th>\n",
       "      <th>.forbes.ru</th>\n",
       "      <th>.vesti.ru</th>\n",
       "      <th>TJ_P</th>\n",
       "      <th>VC</th>\n",
       "      <th>lenta.ru</th>\n",
       "      <th>lifenews.ru</th>\n",
       "      <th>roem.ru</th>\n",
       "    </tr>\n",
       "  </thead>\n",
       "  <tbody>\n",
       "    <tr>\n",
       "      <th>2164</th>\n",
       "      <td>http://lifenews.ru/news/173634</td>\n",
       "      <td>5</td>\n",
       "      <td>1337</td>\n",
       "      <td>1</td>\n",
       "      <td>532302</td>\n",
       "      <td>58</td>\n",
       "      <td>6</td>\n",
       "      <td>3120</td>\n",
       "      <td>99</td>\n",
       "      <td>0</td>\n",
       "      <td>0</td>\n",
       "      <td>0</td>\n",
       "      <td>0</td>\n",
       "      <td>0</td>\n",
       "      <td>1</td>\n",
       "      <td>0</td>\n",
       "    </tr>\n",
       "    <tr>\n",
       "      <th>3429</th>\n",
       "      <td>http://lifenews.ru/news/173606</td>\n",
       "      <td>5</td>\n",
       "      <td>1105</td>\n",
       "      <td>20</td>\n",
       "      <td>538913</td>\n",
       "      <td>36</td>\n",
       "      <td>4</td>\n",
       "      <td>3476</td>\n",
       "      <td>95</td>\n",
       "      <td>0</td>\n",
       "      <td>0</td>\n",
       "      <td>0</td>\n",
       "      <td>0</td>\n",
       "      <td>0</td>\n",
       "      <td>1</td>\n",
       "      <td>0</td>\n",
       "    </tr>\n",
       "    <tr>\n",
       "      <th>3745</th>\n",
       "      <td>http://lifenews.ru/news/173597</td>\n",
       "      <td>5</td>\n",
       "      <td>1056</td>\n",
       "      <td>31</td>\n",
       "      <td>584700</td>\n",
       "      <td>57</td>\n",
       "      <td>5</td>\n",
       "      <td>3960</td>\n",
       "      <td>95</td>\n",
       "      <td>0</td>\n",
       "      <td>0</td>\n",
       "      <td>0</td>\n",
       "      <td>0</td>\n",
       "      <td>0</td>\n",
       "      <td>1</td>\n",
       "      <td>0</td>\n",
       "    </tr>\n",
       "    <tr>\n",
       "      <th>4964</th>\n",
       "      <td>http://lifenews.ru/news/173572</td>\n",
       "      <td>5</td>\n",
       "      <td>933</td>\n",
       "      <td>1</td>\n",
       "      <td>532302</td>\n",
       "      <td>20</td>\n",
       "      <td>7</td>\n",
       "      <td>3120</td>\n",
       "      <td>100</td>\n",
       "      <td>0</td>\n",
       "      <td>0</td>\n",
       "      <td>0</td>\n",
       "      <td>0</td>\n",
       "      <td>0</td>\n",
       "      <td>1</td>\n",
       "      <td>0</td>\n",
       "    </tr>\n",
       "    <tr>\n",
       "      <th>5223</th>\n",
       "      <td>http://lifenews.ru/news/173562</td>\n",
       "      <td>5</td>\n",
       "      <td>866</td>\n",
       "      <td>7</td>\n",
       "      <td>542468</td>\n",
       "      <td>57</td>\n",
       "      <td>0</td>\n",
       "      <td>3242</td>\n",
       "      <td>94</td>\n",
       "      <td>0</td>\n",
       "      <td>0</td>\n",
       "      <td>0</td>\n",
       "      <td>0</td>\n",
       "      <td>0</td>\n",
       "      <td>1</td>\n",
       "      <td>0</td>\n",
       "    </tr>\n",
       "    <tr>\n",
       "      <th>7817</th>\n",
       "      <td>http://lenta.ru/news/2015/12/06/leytonstone/</td>\n",
       "      <td>6</td>\n",
       "      <td>134</td>\n",
       "      <td>11</td>\n",
       "      <td>32988</td>\n",
       "      <td>0</td>\n",
       "      <td>0</td>\n",
       "      <td>368</td>\n",
       "      <td>92</td>\n",
       "      <td>0</td>\n",
       "      <td>0</td>\n",
       "      <td>0</td>\n",
       "      <td>0</td>\n",
       "      <td>1</td>\n",
       "      <td>0</td>\n",
       "      <td>0</td>\n",
       "    </tr>\n",
       "    <tr>\n",
       "      <th>8220</th>\n",
       "      <td>http://lenta.ru/news/2015/12/06/esa/</td>\n",
       "      <td>6</td>\n",
       "      <td>2</td>\n",
       "      <td>23</td>\n",
       "      <td>195625</td>\n",
       "      <td>2</td>\n",
       "      <td>1</td>\n",
       "      <td>4513</td>\n",
       "      <td>91</td>\n",
       "      <td>0</td>\n",
       "      <td>0</td>\n",
       "      <td>0</td>\n",
       "      <td>0</td>\n",
       "      <td>1</td>\n",
       "      <td>0</td>\n",
       "      <td>0</td>\n",
       "    </tr>\n",
       "    <tr>\n",
       "      <th>11020</th>\n",
       "      <td>http://lenta.ru/news/2015/12/05/court/</td>\n",
       "      <td>5</td>\n",
       "      <td>690</td>\n",
       "      <td>13</td>\n",
       "      <td>46219</td>\n",
       "      <td>1</td>\n",
       "      <td>0</td>\n",
       "      <td>2475</td>\n",
       "      <td>91</td>\n",
       "      <td>0</td>\n",
       "      <td>0</td>\n",
       "      <td>0</td>\n",
       "      <td>0</td>\n",
       "      <td>1</td>\n",
       "      <td>0</td>\n",
       "      <td>0</td>\n",
       "    </tr>\n",
       "  </tbody>\n",
       "</table>\n",
       "</div>"
      ],
      "text/plain": [
       "                                                url  week_day_news  \\\n",
       "2164                 http://lifenews.ru/news/173634              5   \n",
       "3429                 http://lifenews.ru/news/173606              5   \n",
       "3745                 http://lifenews.ru/news/173597              5   \n",
       "4964                 http://lifenews.ru/news/173572              5   \n",
       "5223                 http://lifenews.ru/news/173562              5   \n",
       "7817   http://lenta.ru/news/2015/12/06/leytonstone/              6   \n",
       "8220           http://lenta.ru/news/2015/12/06/esa/              6   \n",
       "11020        http://lenta.ru/news/2015/12/05/court/              5   \n",
       "\n",
       "       minutes_since_midnight  first_time_tweet  follower_sum  \\\n",
       "2164                     1337                 1        532302   \n",
       "3429                     1105                20        538913   \n",
       "3745                     1056                31        584700   \n",
       "4964                      933                 1        532302   \n",
       "5223                      866                 7        542468   \n",
       "7817                      134                11         32988   \n",
       "8220                        2                23        195625   \n",
       "11020                     690                13         46219   \n",
       "\n",
       "       retweeted_count_sum  favorite_count_sum  user_listed_count_sum  \\\n",
       "2164                    58                   6                   3120   \n",
       "3429                    36                   4                   3476   \n",
       "3745                    57                   5                   3960   \n",
       "4964                    20                   7                   3120   \n",
       "5223                    57                   0                   3242   \n",
       "7817                     0                   0                    368   \n",
       "8220                     2                   1                   4513   \n",
       "11020                    1                   0                   2475   \n",
       "\n",
       "       last_time_tweet  .forbes.ru  .vesti.ru  TJ_P  VC  lenta.ru  \\\n",
       "2164                99           0          0     0   0         0   \n",
       "3429                95           0          0     0   0         0   \n",
       "3745                95           0          0     0   0         0   \n",
       "4964               100           0          0     0   0         0   \n",
       "5223                94           0          0     0   0         0   \n",
       "7817                92           0          0     0   0         1   \n",
       "8220                91           0          0     0   0         1   \n",
       "11020               91           0          0     0   0         1   \n",
       "\n",
       "       lifenews.ru  roem.ru  \n",
       "2164             1        0  \n",
       "3429             1        0  \n",
       "3745             1        0  \n",
       "4964             1        0  \n",
       "5223             1        0  \n",
       "7817             0        0  \n",
       "8220             0        0  \n",
       "11020            0        0  "
      ]
     },
     "execution_count": 18,
     "metadata": {},
     "output_type": "execute_result"
    }
   ],
   "source": [
    "df[df[\"last_time_tweet\"]> 90]"
   ]
  },
  {
   "cell_type": "code",
   "execution_count": 19,
   "metadata": {
    "collapsed": false
   },
   "outputs": [
    {
     "data": {
      "text/html": [
       "<div>\n",
       "<table border=\"1\" class=\"dataframe\">\n",
       "  <thead>\n",
       "    <tr style=\"text-align: right;\">\n",
       "      <th></th>\n",
       "      <th>url</th>\n",
       "      <th>first_time_tweet</th>\n",
       "      <th>last_time_tweet</th>\n",
       "    </tr>\n",
       "  </thead>\n",
       "  <tbody>\n",
       "    <tr>\n",
       "      <th>2164</th>\n",
       "      <td>http://lifenews.ru/news/173634</td>\n",
       "      <td>1</td>\n",
       "      <td>99</td>\n",
       "    </tr>\n",
       "    <tr>\n",
       "      <th>3429</th>\n",
       "      <td>http://lifenews.ru/news/173606</td>\n",
       "      <td>20</td>\n",
       "      <td>95</td>\n",
       "    </tr>\n",
       "    <tr>\n",
       "      <th>3745</th>\n",
       "      <td>http://lifenews.ru/news/173597</td>\n",
       "      <td>31</td>\n",
       "      <td>95</td>\n",
       "    </tr>\n",
       "    <tr>\n",
       "      <th>4964</th>\n",
       "      <td>http://lifenews.ru/news/173572</td>\n",
       "      <td>1</td>\n",
       "      <td>100</td>\n",
       "    </tr>\n",
       "    <tr>\n",
       "      <th>5223</th>\n",
       "      <td>http://lifenews.ru/news/173562</td>\n",
       "      <td>7</td>\n",
       "      <td>94</td>\n",
       "    </tr>\n",
       "    <tr>\n",
       "      <th>7817</th>\n",
       "      <td>http://lenta.ru/news/2015/12/06/leytonstone/</td>\n",
       "      <td>11</td>\n",
       "      <td>92</td>\n",
       "    </tr>\n",
       "    <tr>\n",
       "      <th>8220</th>\n",
       "      <td>http://lenta.ru/news/2015/12/06/esa/</td>\n",
       "      <td>23</td>\n",
       "      <td>91</td>\n",
       "    </tr>\n",
       "    <tr>\n",
       "      <th>11020</th>\n",
       "      <td>http://lenta.ru/news/2015/12/05/court/</td>\n",
       "      <td>13</td>\n",
       "      <td>91</td>\n",
       "    </tr>\n",
       "  </tbody>\n",
       "</table>\n",
       "</div>"
      ],
      "text/plain": [
       "                                                url  first_time_tweet  \\\n",
       "2164                 http://lifenews.ru/news/173634                 1   \n",
       "3429                 http://lifenews.ru/news/173606                20   \n",
       "3745                 http://lifenews.ru/news/173597                31   \n",
       "4964                 http://lifenews.ru/news/173572                 1   \n",
       "5223                 http://lifenews.ru/news/173562                 7   \n",
       "7817   http://lenta.ru/news/2015/12/06/leytonstone/                11   \n",
       "8220           http://lenta.ru/news/2015/12/06/esa/                23   \n",
       "11020        http://lenta.ru/news/2015/12/05/court/                13   \n",
       "\n",
       "       last_time_tweet  \n",
       "2164                99  \n",
       "3429                95  \n",
       "3745                95  \n",
       "4964               100  \n",
       "5223                94  \n",
       "7817                92  \n",
       "8220                91  \n",
       "11020               91  "
      ]
     },
     "execution_count": 19,
     "metadata": {},
     "output_type": "execute_result"
    }
   ],
   "source": [
    "df[df[\"last_time_tweet\"]> 90][[\"url\", \"first_time_tweet\", \"last_time_tweet\"]]"
   ]
  },
  {
   "cell_type": "code",
   "execution_count": 20,
   "metadata": {
    "collapsed": false
   },
   "outputs": [],
   "source": [
    "def plot(y_test, y_predicted, title=\"\", text=\"\"):\n",
    "    plt.figure(figsize=(9,9))\n",
    "    plt.plot(y_test, y_predicted, 'ro', label=\"predicted\", alpha=0.7)\n",
    "    plt.title(title)\n",
    "    plt.xlabel(\"Y_TEST\")\n",
    "    plt.ylabel(\"Y_PREDICTED\")\n",
    "    \n",
    "    max_y = max(max(y_test), max(y_predicted))+10\n",
    "    \n",
    "    plt.xlim(0, max_y)\n",
    "    plt.ylim(0, max_y)\n",
    "    #plt.legend()\n",
    "    plt.text(0.05*max_y, max_y-0.05*max_y, \"mse=\"+text, fontsize=15)\n",
    "    \n",
    "    plt.plot([0, max_y], [0, max_y], color='black', alpha=0.5)\n",
    "    plt.grid(b=True, which='both', color='0.65',linestyle='-')\n",
    "    \n",
    "    plt.show()"
   ]
  },
  {
   "cell_type": "code",
   "execution_count": 21,
   "metadata": {
    "collapsed": true
   },
   "outputs": [],
   "source": [
    "def split_data(train_index, test_index):\n",
    "    x_train = x[train_index]\n",
    "    y_train = y[train_index]\n",
    "    \n",
    "    x_test = x[test_index]\n",
    "    y_test = y[test_index]\n",
    "    \n",
    "    return x_train, x_test, y_train, y_test"
   ]
  },
  {
   "cell_type": "code",
   "execution_count": 22,
   "metadata": {
    "collapsed": true
   },
   "outputs": [],
   "source": [
    "#loo = cv.LeaveOneOut(len(y))"
   ]
  },
  {
   "cell_type": "code",
   "execution_count": null,
   "metadata": {
    "collapsed": true
   },
   "outputs": [],
   "source": []
  },
  {
   "cell_type": "markdown",
   "metadata": {},
   "source": [
    "## Деревья"
   ]
  },
  {
   "cell_type": "code",
   "execution_count": 23,
   "metadata": {
    "collapsed": false
   },
   "outputs": [
    {
     "data": {
      "image/png": "[encoded data removed]",
      "text/plain": [
       "<matplotlib.figure.Figure at 0x7f2f08f7e090>"
      ]
     },
     "metadata": {},
     "output_type": "display_data"
    }
   ],
   "source": [
    "from sklearn.tree import DecisionTreeRegressor\n",
    "\n",
    "dtree = DecisionTreeRegressor(max_depth=6)\n",
    "dtree.fit(x_train, y_train)\n",
    "y_predicted = dtree.predict(x_test)\n",
    "\n",
    "mse = mean_squared_error(y_test, y_predicted)\n",
    "plot(y_test, y_predicted, title=\"DecisionTree Y\", text=str(mse))"
   ]
  },
  {
   "cell_type": "code",
   "execution_count": 24,
   "metadata": {
    "collapsed": false
   },
   "outputs": [
    {
     "data": {
      "image/png": "[encoded data removed]",
      "text/plain": [
       "<matplotlib.figure.Figure at 0x7f2f08edaa50>"
      ]
     },
     "metadata": {},
     "output_type": "display_data"
    }
   ],
   "source": [
    "from sklearn.tree import DecisionTreeRegressor\n",
    "\n",
    "dtree = DecisionTreeRegressor(max_depth=6)\n",
    "dtree.fit(x_train, np.log(y_train))\n",
    "y_predicted = dtree.predict(x_test)\n",
    "y_predicted = np.exp(y_predicted)\n",
    "\n",
    "mse = mean_squared_error(y_test, y_predicted)\n",
    "plot(y_test, y_predicted, title=\"DecisionTree ln(Y)\", text=str(mse))"
   ]
  },
  {
   "cell_type": "markdown",
   "metadata": {},
   "source": [
    "В целом, конечно, дерево решений работает плохо, но выбросы оно вполне себе улавливает"
   ]
  },
  {
   "cell_type": "code",
   "execution_count": 25,
   "metadata": {
    "collapsed": false
   },
   "outputs": [
    {
     "ename": "NameError",
     "evalue": "name 'y_true' is not defined",
     "output_type": "error",
     "traceback": [
      "\u001b[1;31m---------------------------------------------------------------------------\u001b[0m",
      "\u001b[1;31mNameError\u001b[0m                                 Traceback (most recent call last)",
      "\u001b[1;32m<ipython-input-25-a48c3259f9cd>\u001b[0m in \u001b[0;36m<module>\u001b[1;34m()\u001b[0m\n\u001b[1;32m----> 1\u001b[1;33m \u001b[0my_true\u001b[0m \u001b[1;33m=\u001b[0m \u001b[0mnp\u001b[0m\u001b[1;33m.\u001b[0m\u001b[0masarray\u001b[0m\u001b[1;33m(\u001b[0m\u001b[0my_true\u001b[0m\u001b[1;33m)\u001b[0m\u001b[1;33m\u001b[0m\u001b[0m\n\u001b[0m\u001b[0;32m      2\u001b[0m \u001b[0my_predicted\u001b[0m \u001b[1;33m=\u001b[0m \u001b[0mnp\u001b[0m\u001b[1;33m.\u001b[0m\u001b[0masarray\u001b[0m\u001b[1;33m(\u001b[0m\u001b[0my_predicted\u001b[0m\u001b[1;33m)\u001b[0m\u001b[1;33m\u001b[0m\u001b[0m\n\u001b[0;32m      3\u001b[0m \u001b[0mBIG\u001b[0m \u001b[1;33m=\u001b[0m \u001b[1;36m100\u001b[0m\u001b[1;33m\u001b[0m\u001b[0m\n\u001b[0;32m      4\u001b[0m \u001b[0my_big_true\u001b[0m \u001b[1;33m=\u001b[0m \u001b[0my_true\u001b[0m\u001b[1;33m[\u001b[0m\u001b[0my_true\u001b[0m\u001b[1;33m>\u001b[0m\u001b[0mBIG\u001b[0m\u001b[1;33m]\u001b[0m\u001b[1;33m\u001b[0m\u001b[0m\n\u001b[0;32m      5\u001b[0m \u001b[0my_big_predicted\u001b[0m \u001b[1;33m=\u001b[0m \u001b[0my_predicted\u001b[0m\u001b[1;33m[\u001b[0m\u001b[0my_true\u001b[0m\u001b[1;33m>\u001b[0m\u001b[0mBIG\u001b[0m\u001b[1;33m]\u001b[0m\u001b[1;33m\u001b[0m\u001b[0m\n",
      "\u001b[1;31mNameError\u001b[0m: name 'y_true' is not defined"
     ]
    }
   ],
   "source": [
    "y_true = np.asarray(y_true)\n",
    "y_predicted = np.asarray(y_predicted)\n",
    "BIG = 100\n",
    "y_big_true = y_true[y_true>BIG]\n",
    "y_big_predicted = y_predicted[y_true>BIG]"
   ]
  },
  {
   "cell_type": "code",
   "execution_count": 26,
   "metadata": {
    "collapsed": false
   },
   "outputs": [
    {
     "ename": "NameError",
     "evalue": "name 'y_big_true' is not defined",
     "output_type": "error",
     "traceback": [
      "\u001b[1;31m---------------------------------------------------------------------------\u001b[0m",
      "\u001b[1;31mNameError\u001b[0m                                 Traceback (most recent call last)",
      "\u001b[1;32m<ipython-input-26-38232a50cff4>\u001b[0m in \u001b[0;36m<module>\u001b[1;34m()\u001b[0m\n\u001b[1;32m----> 1\u001b[1;33m \u001b[0ma\u001b[0m \u001b[1;33m=\u001b[0m \u001b[0mpd\u001b[0m\u001b[1;33m.\u001b[0m\u001b[0mDataFrame\u001b[0m\u001b[1;33m(\u001b[0m\u001b[1;33m[\u001b[0m\u001b[0my_big_true\u001b[0m\u001b[1;33m,\u001b[0m \u001b[0my_big_predicted\u001b[0m\u001b[1;33m]\u001b[0m\u001b[1;33m)\u001b[0m\u001b[1;33m\u001b[0m\u001b[0m\n\u001b[0m\u001b[0;32m      2\u001b[0m \u001b[0ma\u001b[0m\u001b[1;33m.\u001b[0m\u001b[0mindex\u001b[0m\u001b[1;33m=\u001b[0m\u001b[1;33m[\u001b[0m\u001b[1;34m\"y_true\"\u001b[0m\u001b[1;33m,\u001b[0m\u001b[1;34m\"y_predicted\"\u001b[0m\u001b[1;33m]\u001b[0m\u001b[1;33m\u001b[0m\u001b[0m\n\u001b[0;32m      3\u001b[0m \u001b[0ma\u001b[0m\u001b[1;33m\u001b[0m\u001b[0m\n",
      "\u001b[1;31mNameError\u001b[0m: name 'y_big_true' is not defined"
     ]
    }
   ],
   "source": [
    "a = pd.DataFrame([y_big_true, y_big_predicted])\n",
    "a.index=[\"y_true\",\"y_predicted\"]\n",
    "a"
   ]
  },
  {
   "cell_type": "markdown",
   "metadata": {},
   "source": [
    "Вопрос к Михаилу.\n",
    "\n",
    "Как замерять RandomForest и другие рандомные методы. Раз через раз дает катастрофическую разницу. 400!"
   ]
  },
  {
   "cell_type": "code",
   "execution_count": null,
   "metadata": {
    "collapsed": false
   },
   "outputs": [],
   "source": [
    "df.reset_index(inplace=True)"
   ]
  },
  {
   "cell_type": "code",
   "execution_count": null,
   "metadata": {
    "collapsed": false
   },
   "outputs": [],
   "source": [
    "predic = pd.Series(np.around(y_predicted))"
   ]
  },
  {
   "cell_type": "code",
   "execution_count": null,
   "metadata": {
    "collapsed": false
   },
   "outputs": [],
   "source": [
    "df[\"DT_Predict\"]=predic\n",
    "df_LTT = df[[\"url\", \"last_time_tweet\", \"DT_Predict\"]]\n",
    "df_LTT[df_LTT[\"last_time_tweet\"]>90]"
   ]
  },
  {
   "cell_type": "markdown",
   "metadata": {},
   "source": [
    "### LinearRegression"
   ]
  },
  {
   "cell_type": "code",
   "execution_count": 27,
   "metadata": {
    "collapsed": true
   },
   "outputs": [],
   "source": [
    "from sklearn.linear_model import Ridge"
   ]
  },
  {
   "cell_type": "markdown",
   "metadata": {},
   "source": [
    "Подбираем параметр"
   ]
  },
  {
   "cell_type": "code",
   "execution_count": 28,
   "metadata": {
    "collapsed": false
   },
   "outputs": [
    {
     "name": "stdout",
     "output_type": "stream",
     "text": [
      "360.336936899\n",
      "360.482285711\n",
      "362.416250371\n",
      "374.91472936\n",
      "404.615084693\n",
      "451.214682914\n",
      "519.84326212\n",
      "639.593793653\n",
      "666.736783564\n",
      "685.544025148\n",
      "697.311158034\n",
      "699.909676434\n",
      "705.180287142\n",
      "707.251243713\n",
      "707.235946165\n",
      "706.621638952\n",
      "698.262362445\n",
      "Best Aplha =  0.01\n"
     ]
    }
   ],
   "source": [
    "alpha = [0.01, 0.1, 1, 10, 1e2, 1e3, 1e4, 1e5, 2e5, 4e5, 8e5, 1e6, 2e6, 4e6, 7e6, 1e7, 1e8]\n",
    "\n",
    "mse = []\n",
    "for al in alpha:\n",
    "        \n",
    "    model = Ridge(alpha=al)\n",
    "    model.fit(x_train, y_train)\n",
    "    \n",
    "    y_predicted = model.predict(x_test)\n",
    "    \n",
    "    cur_mse = mean_squared_error(y_test, y_predicted)\n",
    "    print cur_mse\n",
    "    mse.append(cur_mse)\n",
    "\n",
    "best_alpha = alpha[mse.index(min(mse))]\n",
    "print \"Best Aplha = \", best_alpha\n",
    "#plot(y_true, y_predicted, title=\"DecisionTree Log(Y)\")"
   ]
  },
  {
   "cell_type": "code",
   "execution_count": 30,
   "metadata": {
    "collapsed": false
   },
   "outputs": [
    {
     "data": {
      "image/png": "[encoded data removed]",
      "text/plain": [
       "<matplotlib.figure.Figure at 0x7f2f088e1250>"
      ]
     },
     "metadata": {},
     "output_type": "display_data"
    }
   ],
   "source": [
    "model = Ridge(alpha=best_alpha)\n",
    "model.fit(x_train, y_train)\n",
    "    \n",
    "y_predicted = model.predict(x_test)\n",
    "mse = mean_squared_error(y_test, y_predicted)\n",
    "plot(y_test, y_predicted, title=\"Ridge Y\", text=str(mse))"
   ]
  },
  {
   "cell_type": "markdown",
   "metadata": {},
   "source": [
    "Теперь логарифм"
   ]
  },
  {
   "cell_type": "code",
   "execution_count": 31,
   "metadata": {
    "collapsed": false
   },
   "outputs": [
    {
     "name": "stdout",
     "output_type": "stream",
     "text": [
      "437.832871925\n",
      "439.152465122\n",
      "449.421156553\n",
      "488.857489432\n",
      "592.226105379\n",
      "669.637984468\n",
      "630.70571748\n",
      "710.738144105\n",
      "734.170441966\n",
      "749.836964358\n",
      "759.131196852\n",
      "761.098826181\n",
      "764.916360982\n",
      "766.167628013\n",
      "765.761779585\n",
      "764.919331951\n",
      "750.085925328\n",
      "Best Aplha =  0.01\n"
     ]
    }
   ],
   "source": [
    "alpha = [0.01, 0.1, 1, 10, 1e2, 1e3, 1e4, 1e5, 2e5, 4e5, 8e5, 1e6, 2e6, 4e6, 7e6, 1e7, 1e8]\n",
    "\n",
    "mse = []\n",
    "for al in alpha:\n",
    "        \n",
    "    model = Ridge(alpha=al)\n",
    "    model.fit(x_train, np.log(y_train))\n",
    "    \n",
    "    y_predicted = model.predict(x_test)\n",
    "    y_predicted = np.exp(y_predicted)\n",
    "    \n",
    "    cur_mse = mean_squared_error(y_test, y_predicted)\n",
    "    print cur_mse\n",
    "    mse.append(cur_mse)\n",
    "\n",
    "best_alpha = alpha[mse.index(min(mse))]\n",
    "print \"Best Aplha = \", best_alpha\n",
    "#plot(y_true, y_predicted, title=\"DecisionTree Log(Y)\")"
   ]
  },
  {
   "cell_type": "code",
   "execution_count": 32,
   "metadata": {
    "collapsed": false
   },
   "outputs": [
    {
     "data": {
      "image/png": "[encoded data removed]",
      "text/plain": [
       "<matplotlib.figure.Figure at 0x7f2f06b08550>"
      ]
     },
     "metadata": {},
     "output_type": "display_data"
    }
   ],
   "source": [
    "model = Ridge(alpha=best_alpha)\n",
    "model.fit(x_train, np.log(y_train))\n",
    "    \n",
    "y_predicted = model.predict(x_test)\n",
    "y_predicted = np.exp(y_predicted)\n",
    "mse = mean_squared_error(y_test, y_predicted)\n",
    "plot(y_test, y_predicted, title=\"Ridge ln(Y)\", text=str(mse))"
   ]
  },
  {
   "cell_type": "markdown",
   "metadata": {},
   "source": [
    "# RandomForest "
   ]
  },
  {
   "cell_type": "code",
   "execution_count": 34,
   "metadata": {
    "collapsed": true
   },
   "outputs": [],
   "source": [
    "from sklearn.ensemble import RandomForestRegressor"
   ]
  },
  {
   "cell_type": "code",
   "execution_count": 35,
   "metadata": {
    "collapsed": false
   },
   "outputs": [
    {
     "data": {
      "image/png": "[encoded data removed]",
      "text/plain": [
       "<matplotlib.figure.Figure at 0x7f2f0cb1c890>"
      ]
     },
     "metadata": {},
     "output_type": "display_data"
    }
   ],
   "source": [
    "model = RandomForestRegressor(n_estimators=20)\n",
    "model.fit(x_train, (y_train))\n",
    "y_predicted = model.predict(x_test)\n",
    "\n",
    "mse = mean_squared_error(y_test, y_predicted)\n",
    "plot(y_test, y_predicted, title=\"Random Forest Y\", text=str(mse))"
   ]
  },
  {
   "cell_type": "markdown",
   "metadata": {},
   "source": [
    "#### Теперь логарифм"
   ]
  },
  {
   "cell_type": "code",
   "execution_count": 36,
   "metadata": {
    "collapsed": false
   },
   "outputs": [
    {
     "data": {
      "image/png": "[encoded data removed]",
      "text/plain": [
       "<matplotlib.figure.Figure at 0x7f2f0c802590>"
      ]
     },
     "metadata": {},
     "output_type": "display_data"
    }
   ],
   "source": [
    "model = RandomForestRegressor(n_estimators=20)\n",
    "model.fit(x_train, np.log(y_train))\n",
    "y_predicted = model.predict(x_test)\n",
    "y_predicted = np.exp(y_predicted)\n",
    "\n",
    "mse = mean_squared_error(y_test, y_predicted)\n",
    "plot(y_test, y_predicted, title=\"Random Forest Y\", text=str(mse))"
   ]
  },
  {
   "cell_type": "code",
   "execution_count": 39,
   "metadata": {
    "collapsed": false
   },
   "outputs": [
    {
     "name": "stdout",
     "output_type": "stream",
     "text": [
      "http://lifenews.ru/news/173526 56.0 48.5031401129\n",
      "http://lifenews.ru/news/173600 63.0 75.4994300407\n",
      "https://tjournal.ru/p/afisha-fired 28.0 16.8686308846\n",
      "http://lifenews.ru/news/173536 38.0 52.3481687526\n",
      "http://lenta.ru/news/2015/12/04/nehvataetpopkorna/ 42.0 22.1871528801\n",
      "https://tjournal.ru/p/last-one 35.0 46.6189628267\n",
      "https://tjournal.ru/p/hunger-games-final-review 13.0 10.5686307202\n",
      "http://lenta.ru/news/2015/12/05/souz/ 73.0 74.8690279741\n",
      "https://tjournal.ru/p/automate-everything 73.0 37.8154837291\n",
      "https://tjournal.ru/p/new-stalin 23.0 23.7938936267\n",
      "http://lenta.ru/news/2015/12/05/fire1/ 76.0 69.7062545675\n",
      "http://lifenews.ru/news/173597 95.0 77.5696092092\n",
      "http://lifenews.ru/news/173634 99.0 53.2070729521\n",
      "https://tjournal.ru/p/cat-cucumbers 1.0 26.6835219309\n",
      "http://www.forbes.ru/news/307569-peskov-otkazalsya-schitat-povestkoi-kremlya-protesty-dalnoboishchikov 1.0 2.42015856718\n",
      "http://lifenews.ru/news/173642 43.0 45.1966168098\n",
      "https://tjournal.ru/p/rutracker-uchenia 31.0 41.4501479817\n",
      "http://lenta.ru/news/2015/12/04/applewin/ 31.0 31.5389376491\n",
      "http://lenta.ru/news/2015/12/06/avakov/ 85.0 73.5670827397\n",
      "http://lifenews.ru/news/173548 80.0 84.0633671327\n",
      "https://tjournal.ru/p/truckers-riot-moscow 6.0 10.0074373875\n",
      "https://tjournal.ru/p/lada-sites-hack 22.0 26.5229130601\n",
      "https://tjournal.ru/p/colombian-isis 29.0 38.9749260904\n",
      "https://tjournal.ru/p/salavat-yulaev-vk 16.0 17.0156315424\n",
      "https://vc.ru/n/yamaps-ios-new 4.0 7.52170128425\n",
      "https://tjournal.ru/p/rkn-wiki-noblock-fskn 16.0 16.172713331\n",
      "https://vc.ru/n/yota-roborace 3.0 6.39249995015\n",
      "https://vc.ru/p/dojo 1.0 5.88679337888\n",
      "http://lenta.ru/news/2015/12/04/mosanimal/ 30.0 25.7076627454\n",
      "http://lifenews.ru/news/173668 57.0 58.9882279914\n",
      "https://vc.ru/n/fb-virus-2015 9.0 7.53769520258\n",
      "http://lenta.ru/news/2015/12/04/gibdd/ 11.0 20.4857358899\n",
      "https://tjournal.ru/p/pirelli-2016 18.0 16.1192728881\n",
      "https://tjournal.ru/p/turkey-shoots-down-su-24 16.0 9.84465158749\n",
      "http://lenta.ru/news/2015/12/04/fbk/ 30.0 15.5161687674\n",
      "http://lifenews.ru/news/173616 76.0 71.357496898\n",
      "http://lenta.ru/news/2015/12/04/smiberdyev/ 38.0 34.4248203261\n",
      "https://tjournal.ru/p/tech-faces-vk 21.0 21.3377700953\n",
      "http://lenta.ru/news/2015/12/05/seoul/ 80.0 72.8714142099\n",
      "http://lenta.ru/news/2015/12/05/syria/ 75.0 69.2510259215\n",
      "http://lenta.ru/news/2015/12/04/family_guy/ 17.0 19.8631060935\n",
      "http://lifenews.ru/news/173553 56.0 50.1013157049\n",
      "https://tjournal.ru/p/watch-paint-dry 43.0 46.940193308\n",
      "https://tjournal.ru/p/nohcho-charlie-hebdo-twitter 20.0 18.3869200021\n",
      "http://lifenews.ru/news/173622 89.0 52.11782175\n",
      "https://vc.ru/n/akit-40percent 6.0 4.88113003569\n",
      "http://lenta.ru/news/2015/12/04/napadenie1/ 20.0 18.9617760775\n",
      "http://lenta.ru/news/2015/12/05/wind/ 75.0 74.8536156136\n",
      "http://lenta.ru/news/2015/12/04/tunisiareslace/ 15.0 23.7200395063\n",
      "https://tjournal.ru/p/instagram-2015 15.0 19.0334749539\n",
      "http://lenta.ru/news/2015/12/04/pavlensky/ 49.0 45.6928044975\n",
      "https://tjournal.ru/p/m10-m11 19.0 13.0146886605\n",
      "https://tjournal.ru/p/ai-japan-exam 16.0 20.1594059163\n",
      "http://lenta.ru/news/2015/12/05/ryabzeva/ 89.0 79.6393833549\n",
      "http://lenta.ru/news/2015/12/04/ruboil/ 26.0 19.9898280597\n",
      "https://tjournal.ru/p/chinese-tinder-censorship 12.0 9.01459840633\n",
      "https://tjournal.ru/p/zano-drone 9.0 16.0576625694\n",
      "http://lenta.ru/news/2015/12/05/ripsanta/ 65.0 71.4241229991\n",
      "http://lenta.ru/news/2015/12/06/greece/ 79.0 76.3076866146\n",
      "http://lenta.ru/news/2015/12/04/fun/ 15.0 18.0675658438\n",
      "http://www.forbes.ru/news/307577-glava-rosavtodora-prigrozil-shtrafami-operatoru-platona 1.0 2.75835240056\n",
      "https://roem.ru/04-12-2015/214302/youtube-ott/ 6.0 6.03757253933\n",
      "http://lenta.ru/news/2015/12/04/patalogoanatom/ 20.0 21.8331774344\n",
      "https://tjournal.ru/p/peking-duk-fan 35.0 25.3826708579\n",
      "http://lenta.ru/news/2015/12/05/pluto/ 60.0 63.8095129079\n",
      "http://lifenews.ru/news/173614 83.0 66.3094271243\n",
      "https://tjournal.ru/p/lawrence-removed 14.0 13.2744220651\n",
      "https://vc.ru/n/gett-iphone 10.0 7.14489395865\n",
      "http://lenta.ru/news/2015/12/04/pornhub/ 29.0 32.9580526181\n",
      "https://tjournal.ru/p/laquan-mcdonald 14.0 15.5934321415\n",
      "http://lenta.ru/news/2015/12/04/quoteup/ 33.0 27.1251289066\n",
      "http://lenta.ru/news/2015/12/04/groupukraine/ 29.0 21.6864494137\n",
      "http://lenta.ru/news/2015/12/04/zagran/ 24.0 26.8722598507\n",
      "https://tjournal.ru/p/rocket-back 19.0 19.2333846783\n",
      "http://lenta.ru/news/2015/12/04/nexus6p/ 56.0 50.9878176599\n",
      "http://lifenews.ru/news/173604 45.0 68.8835011283\n",
      "http://lenta.ru/news/2015/12/05/astronavt_maraphon/ 68.0 66.5220958049\n",
      "https://tjournal.ru/p/5-reasons-of-metal 24.0 20.4019225919\n",
      "http://lifenews.ru/news/173570 21.0 49.0931464178\n",
      "http://lenta.ru/news/2015/12/04/sinatra/ 45.0 33.5529549954\n",
      "https://tjournal.ru/p/truckers-riot 23.0 18.1646767656\n",
      "https://tjournal.ru/p/truckers-riot-moscow-3-december 11.0 14.7985915247\n"
     ]
    },
    {
     "data": {
      "text/plain": [
       "'\\ndf[\"predicted\"]=predic\\nd = df.sort_values(\"last_time_tweet\", ascending=False)\\nd[[\"url\", \"last_time_tweet\", \"predicted\"]].head(20)\\n'"
      ]
     },
     "execution_count": 39,
     "metadata": {},
     "output_type": "execute_result"
    }
   ],
   "source": [
    "predic = pd.Series(np.around(y_predicted))\n",
    "for i in range(len(y_test)):\n",
    "    print x_test_url[i], y_test[i], y_predicted[i]\n",
    "    \n",
    "\"\"\"\n",
    "df[\"predicted\"]=predic\n",
    "d = df.sort_values(\"last_time_tweet\", ascending=False)\n",
    "d[[\"url\", \"last_time_tweet\", \"predicted\"]].head(20)\n",
    "\"\"\""
   ]
  },
  {
   "cell_type": "code",
   "execution_count": null,
   "metadata": {
    "collapsed": true
   },
   "outputs": [],
   "source": []
  },
  {
   "cell_type": "code",
   "execution_count": null,
   "metadata": {
    "collapsed": true
   },
   "outputs": [],
   "source": []
  },
  {
   "cell_type": "code",
   "execution_count": null,
   "metadata": {
    "collapsed": true
   },
   "outputs": [],
   "source": []
  },
  {
   "cell_type": "markdown",
   "metadata": {},
   "source": [
    "## Проверка"
   ]
  },
  {
   "cell_type": "code",
   "execution_count": null,
   "metadata": {
    "collapsed": false
   },
   "outputs": [],
   "source": [
    "df = pd.read_csv(PREPARED_CSV, sep=\",\")\n",
    "df = df[[\"url\", \"week_day_news\", \"minutes_since_midnight\", \"first_time_tweet\",\"follower_sum\", \"retweeted_count_sum\", \"favorite_count_sum\", \"user_listed_count_sum\", \"last_time_tweet\", \"views\", \"comments\"]]\n",
    "df = df.drop_duplicates().dropna()\n",
    "df = df.reset_index()"
   ]
  },
  {
   "cell_type": "code",
   "execution_count": null,
   "metadata": {
    "collapsed": false
   },
   "outputs": [],
   "source": [
    "ltt = df[\"last_time_tweet\"].as_matrix()\n",
    "comments = df[\"comments\"].as_matrix()\n",
    "views = df[\"views\"].as_matrix()"
   ]
  },
  {
   "cell_type": "code",
   "execution_count": null,
   "metadata": {
    "collapsed": false
   },
   "outputs": [],
   "source": [
    "np.corrcoef(views, ltt)"
   ]
  },
  {
   "cell_type": "code",
   "execution_count": null,
   "metadata": {
    "collapsed": false
   },
   "outputs": [],
   "source": [
    "np.corrcoef(comments, ltt)"
   ]
  },
  {
   "cell_type": "code",
   "execution_count": null,
   "metadata": {
    "collapsed": false
   },
   "outputs": [],
   "source": [
    "np.corrcoef(views, comments)"
   ]
  },
  {
   "cell_type": "code",
   "execution_count": null,
   "metadata": {
    "collapsed": false
   },
   "outputs": [],
   "source": [
    "m = np.mean(comments)"
   ]
  },
  {
   "cell_type": "code",
   "execution_count": null,
   "metadata": {
    "collapsed": false
   },
   "outputs": [],
   "source": [
    "np.corrcoef(views*np.exp(comments*0.5/m), ltt)"
   ]
  },
  {
   "cell_type": "code",
   "execution_count": null,
   "metadata": {
    "collapsed": true
   },
   "outputs": [],
   "source": []
  },
  {
   "cell_type": "code",
   "execution_count": null,
   "metadata": {
    "collapsed": true
   },
   "outputs": [],
   "source": []
  },
  {
   "cell_type": "code",
   "execution_count": null,
   "metadata": {
    "collapsed": true
   },
   "outputs": [],
   "source": []
  },
  {
   "cell_type": "code",
   "execution_count": null,
   "metadata": {
    "collapsed": true
   },
   "outputs": [],
   "source": []
  },
  {
   "cell_type": "code",
   "execution_count": null,
   "metadata": {
    "collapsed": true
   },
   "outputs": [],
   "source": [
    "df = pd.read_csv(PREPARED_CSV, sep=\",\")\n",
    "df = df[[\"url\", \"week_day_news\", \"minutes_since_midnight\", \"first_time_tweet\",\"follower_sum\", \"retweeted_count_sum\", \"favorite_count_sum\", \"user_listed_count_sum\", \"last_time_tweet\", \"views\", \"comments\"]]\n",
    "df = df.drop_duplicates().dropna()\n",
    "df = df.reset_index()\n",
    "ltt = df[\"last_time_tweet\"].as_matrix()\n",
    "comments = df[\"comments\"].as_matrix()\n",
    "views = df[\"views\"].as_matrix()"
   ]
  },
  {
   "cell_type": "code",
   "execution_count": null,
   "metadata": {
    "collapsed": true
   },
   "outputs": [],
   "source": [
    "def plot(y_test, y_predicted, labelX, labelY):\n",
    "    plt.figure(figsize=(9,9))\n",
    "    plt.plot(y_test, y_predicted, 'ro', label=\"predicted\", alpha=0.7)\n",
    "    #plt.title(title)\n",
    "    plt.xlabel(labelX)\n",
    "    plt.ylabel(labelY)\n",
    "\n",
    "    #max_y = max(max(y_true), max(y_predicted))+10\n",
    "\n",
    "    #plt.xlim(0, max_y)\n",
    "    #plt.ylim(0, max_y)\n",
    "    plt.xscale('log')\n",
    "    plt.yscale('log')\n",
    "    #plt.legend()\n",
    "    #plt.text(0.05*max_y, max_y-0.05*max_y, \"mse=\"+text, fontsize=15)\n",
    "\n",
    "    #plt.plot([0, max_y], [0, max_y], color='black', alpha=0.5)\n",
    "    #plt.grid(b=True, which='both', color='0.65',linestyle='-')\n",
    "\n",
    "    plt.show()"
   ]
  },
  {
   "cell_type": "code",
   "execution_count": null,
   "metadata": {
    "collapsed": false
   },
   "outputs": [],
   "source": [
    "plot(ltt, comments, \"Tweets after 180 minutes\", \"Comments\")"
   ]
  },
  {
   "cell_type": "code",
   "execution_count": null,
   "metadata": {
    "collapsed": false
   },
   "outputs": [],
   "source": [
    "#plot(ltt, views, \"Tweets after 180 minutes\", \"Views\")\n",
    "plt.figure(figsize=(9,9))\n",
    "plt.plot(ltt, views, 'ro', label=\"predicted\", alpha=0.7)\n",
    "#plt.title(title)\n",
    "plt.xlabel(\"Tweets after 180 minutes\")\n",
    "plt.ylabel(\"Views\")\n",
    "plt.xscale('log')\n",
    "plt.yscale('log')\n",
    "#max_y = max(max(y_true), max(y_predicted))+10\n",
    "#plt.xlim(0, max_y)\n",
    "#plt.ylim(0, max_y)\n",
    "#plt.legend()\n",
    "#plt.text(0.05*max_y, max_y-0.05*max_y, \"mse=\"+text, fontsize=15)\n",
    "\n",
    "#plt.plot([0, max_y], [0, max_y], color='black', alpha=0.5)\n",
    "#plt.grid(b=True, which='both', color='0.65',linestyle='-')\n",
    "\n",
    "plt.show()"
   ]
  },
  {
   "cell_type": "code",
   "execution_count": null,
   "metadata": {
    "collapsed": false
   },
   "outputs": [],
   "source": [
    "#plot(views, comments, \"Views\", \"Comments\")\n",
    "#plot(ltt, views, \"Tweets after 180 minutes\", \"Views\")\n",
    "plt.figure(figsize=(9,9))\n",
    "plt.plot(views, comments, 'ro', label=\"predicted\", alpha=0.7)\n",
    "#plt.title(title)\n",
    "plt.xlabel(\"Views\")\n",
    "plt.ylabel(\"Comments\")\n",
    "plt.xscale('log')\n",
    "plt.yscale('log')\n",
    "#max_y = max(max(y_true), max(y_predicted))+10\n",
    "#plt.xlim(0, max_y)\n",
    "#plt.ylim(0, max_y)\n",
    "#plt.legend()\n",
    "#plt.text(0.05*max_y, max_y-0.05*max_y, \"mse=\"+text, fontsize=15)\n",
    "\n",
    "#plt.plot([0, max_y], [0, max_y], color='black', alpha=0.5)\n",
    "#plt.grid(b=True, which='both', color='0.65',linestyle='-')\n",
    "\n",
    "plt.show()"
   ]
  },
  {
   "cell_type": "code",
   "execution_count": null,
   "metadata": {
    "collapsed": true
   },
   "outputs": [],
   "source": []
  }
 ],
 "metadata": {
  "kernelspec": {
   "display_name": "Python 2",
   "language": "python",
   "name": "python2"
  },
  "language_info": {
   "codemirror_mode": {
    "name": "ipython",
    "version": 2
   },
   "file_extension": ".py",
   "mimetype": "text/x-python",
   "name": "python",
   "nbconvert_exporter": "python",
   "pygments_lexer": "ipython2",
   "version": "2.7.10"
  }
 },
 "nbformat": 4,
 "nbformat_minor": 0
}
