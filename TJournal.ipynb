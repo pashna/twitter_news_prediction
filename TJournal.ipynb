{
 "cells": [
  {
   "cell_type": "code",
   "execution_count": 11,
   "metadata": {
    "collapsed": true
   },
   "outputs": [],
   "source": [
    "# -*- coding: utf-8 -*\n",
    "import twitter\n",
    "import csv\n",
    "import json\n",
    "import re\n",
    "import requests\n",
    "import lxml.html as html\n",
    "from urllib2 import urlopen\n",
    "import pandas as pd\n",
    "from datetime import datetime, timedelta\n",
    "from dateutil import tz\n",
    "import time\n"
   ]
  },
  {
   "cell_type": "code",
   "execution_count": 173,
   "metadata": {
    "collapsed": false
   },
   "outputs": [],
   "source": [
    "class TJLoader:\n",
    "\n",
    "    def __init__(self):\n",
    "        self._news_pages = \"https://tjournal.ru/paper/page/{}\"\n",
    "        self._month_map = {u\"января\":\"01\", u\"февраля\":\"02\", u\"марта\":\"03\", u\"апреля\":\"04\", u\"мая\":\"05\", u\"июня\":\"06\", u\"июля\":\"07\", u\"августа\":\"08\", u\"сентября\":\"09\", u\"октября\":\"10\", u\"ноября\":\"11\", u\"декабря\":\"12\"}\n",
    "\n",
    "    def get_news_uri(self, min_index=10, count=30):\n",
    "        \"\"\"\n",
    "\n",
    "        :param min_index: int, индекс страницы, с которой нужно начать поиск\n",
    "        :param count: int, количество страниц, которые нужно скачать\n",
    "        :return: list. список ссылок на новости\n",
    "        \"\"\"\n",
    "        \n",
    "        links = []\n",
    "        for i in range(count):\n",
    "            page = html.parse(urlopen(self._news_pages.format(i+min_index)))\n",
    "            divs = page.getroot().find_class('b-articles__b__title')\n",
    "\n",
    "            for div in divs:\n",
    "                links.append(div.getchildren()[1].get(\"href\"))\n",
    "\n",
    "        return links\n",
    "\n",
    "    \n",
    "    def _parse_date(self, date):\n",
    "        date = date.replace(\",\", \"\")\n",
    "        date = date.split(\" \")\n",
    "        \n",
    "        converted_date = date[2]\n",
    "        converted_date +=\"-\"+self._month_map[date[1]]\n",
    "        converted_date +=\"-\"+date[0]\n",
    "        \n",
    "        converted_date +=\" \"+date[3]\n",
    "        \n",
    "        return converted_date\n",
    "        \n",
    "\n",
    "    def get_link_info(self, link):\n",
    "        \"\"\"\n",
    "\n",
    "        :param link: str, url страницы с tjournal, для которой нужно собрать информацию\n",
    "        :return: dict с данными со страницы\n",
    "        \"\"\"\n",
    "        page = html.parse(urlopen(link))\n",
    "        root = page.getroot()\n",
    "\n",
    "        # заголовок\n",
    "        title = root.find_class(\"b-article__title\")\n",
    "        title = title[0].find(\"h1\").text\n",
    "\n",
    "        # парсим количество просмотров\n",
    "        view = root.get_element_by_id(\"hitsCount\").text\n",
    "        view = view.replace(\" \", \"\")\n",
    "        view = int(view)\n",
    "\n",
    "        # Количество комментариев\n",
    "        comments = root.find_class(\"b-article__infoline__comments\")\n",
    "        comment = int(comments[0].find(\"b\").text.replace(\" \", \"\"))\n",
    "\n",
    "        # Теги\n",
    "        tags = root.find_class(\"b-article__tags__tag\")\n",
    "        tag_list = []\n",
    "        for tag in tags:\n",
    "            tag_list.append(tag.text)\n",
    "        \n",
    "        # Дата\n",
    "        date = root.find_class(\"b-article__infoline__date\")\n",
    "        date = self._parse_date(date[0].text)\n",
    "        \n",
    "\n",
    "        return {\"title\": title, \"views\": view, \"comments\": comment, \"tags\": tag_list, \"date\": date}\n",
    "\n",
    "\n",
    "    def get_tj_news_info(self, min_index=1, count=30, last_news=\"\"):\n",
    "        \"\"\"\n",
    "        :param min_index: int, индекс минимальной страницы, откуда начинаем поиск\n",
    "        :param count: int, количество страниц, по которым ищем\n",
    "        :last_news: str, id последней новости, которую нужно скачать\n",
    "        :return: dict с данными со страницы\n",
    "        \"\"\"\n",
    "        links = self.get_news_uri(min_index=min_index, count=count)\n",
    "        link_info_list = []\n",
    "        i = 0\n",
    "        for link in links:\n",
    "            link_info = self.get_link_info(link)\n",
    "            link_id = link.split(\"/\")[-1]\n",
    "            \n",
    "            # Если добрались до последней новости, которую хотим сохранить\n",
    "            if (link_id == last_news):\n",
    "                break\n",
    "            link_info[\"id\"] = link_id\n",
    "            link_info_list.append(link_info)\n",
    "            \n",
    "            i+=1\n",
    "            if i%10 == 0:\n",
    "                print \"Скачали \", i, \" страниц\"\n",
    "\n",
    "        return link_info_list"
   ]
  },
  {
   "cell_type": "code",
   "execution_count": 31,
   "metadata": {
    "collapsed": true
   },
   "outputs": [],
   "source": [
    "class VCLoader:\n",
    "\n",
    "    def __init__(self):\n",
    "        self._news_pages = \"https://api.vc.ru/1/paper\"\n",
    "        self._month_map = {u\"января\":\"01\", u\"февраля\":\"02\", u\"марта\":\"03\", u\"апреля\":\"04\", u\"мая\":\"05\", u\"июня\":\"06\", u\"июля\":\"07\", u\"августа\":\"08\", u\"сентября\":\"09\", u\"октября\":\"10\", u\"ноября\":\"11\", u\"декабря\":\"12\"}\n",
    "\n",
    "    def get_news_uri(self, min_index=10, count=30):\n",
    "        \"\"\"\n",
    "\n",
    "        :param min_index: int, индекс страницы, с которой нужно начать поиск\n",
    "        :param count: int, количество страниц, которые нужно скачать\n",
    "        :return: list. список ссылок на новости\n",
    "        \"\"\"\n",
    "        links = []\n",
    "        text = requests.get(self._news_pages).text\n",
    "        json_req = json.loads(text)\n",
    "    \n",
    "        for news in json_req:\n",
    "            links.append(news[\"url\"])\n",
    "\n",
    "        return links\n",
    "\n",
    "    \n",
    "    def _parse_date(self, date):\n",
    "        date = date.replace(\",\", \"\")\n",
    "        date = date.split(\" \")\n",
    "        \n",
    "        converted_date = date[2]\n",
    "        converted_date +=\"-\"+self._month_map[date[1]]\n",
    "        converted_date +=\"-\"+date[0]\n",
    "        \n",
    "        converted_date +=\" \"+date[3]\n",
    "        \n",
    "        return converted_date\n",
    "        \n",
    "\n",
    "    def get_link_info(self, link):\n",
    "        \"\"\"\n",
    "\n",
    "        :param link: str, url страницы с vc, для которой нужно собрать информацию\n",
    "        :return: dict с данными со страницы\n",
    "        \"\"\"\n",
    "        page = html.parse(urlopen(link))\n",
    "        root = page.getroot()\n",
    "\n",
    "        # заголовок\n",
    "        title = root.find_class(\"b-article__head\")\n",
    "        title = title[0].find(\"h1\").text\n",
    "\n",
    "        # парсим количество просмотров\n",
    "        view = root.get_element_by_id(\"hitsCount\").text\n",
    "        view = view.replace(\" \", \"\")\n",
    "        view = int(view)\n",
    "\n",
    "        # Количество комментариев\n",
    "        comments = root.find_class(\"ccount\")[0].text\n",
    "        comment = int(comments.replace(\" \", \"\"))\n",
    "\n",
    "        # Теги\n",
    "        tags = root.find_class(\"b-tags__tag\")\n",
    "        tag_list = []\n",
    "        for tag in tags:\n",
    "            tag_list.append(tag.text)\n",
    "        \n",
    "        # Дата\n",
    "        date = root.find_class(\"b-article__infopanel__date\")\n",
    "        date = self._parse_date(date[0].text)\n",
    "        \n",
    "\n",
    "        return {\"title\": title, \"views\": view, \"comments\": comment, \"tags\": tag_list, \"date\": date}\n",
    "\n",
    "\n",
    "    def get_tj_news_info(self, min_index=1, count=30, last_news=\"\"):\n",
    "        \"\"\"\n",
    "        :param min_index: int, индекс минимальной страницы, откуда начинаем поиск\n",
    "        :param count: int, количество страниц, по которым ищем\n",
    "        :last_news: str, id последней новости, которую нужно скачать\n",
    "        :return: dict с данными со страницы\n",
    "        \"\"\"\n",
    "        links = self.get_news_uri(min_index=min_index, count=count)\n",
    "        link_info_list = []\n",
    "        i = 0\n",
    "        for link in links:\n",
    "            link_info = self.get_link_info(link)\n",
    "            link_id = link.split(\"/\")[-1]\n",
    "            \n",
    "            # Если добрались до последней новости, которую хотим сохранить\n",
    "            if (link_id == last_news):\n",
    "                break\n",
    "            link_info[\"id\"] = link_id\n",
    "            link_info_list.append(link_info)\n",
    "            \n",
    "            i+=1\n",
    "            if i%10 == 0:\n",
    "                print \"Скачали \", i, \" страниц\"\n",
    "\n",
    "        return link_info_list"
   ]
  },
  {
   "cell_type": "code",
   "execution_count": 204,
   "metadata": {
    "collapsed": false
   },
   "outputs": [],
   "source": [
    "class TwitterLoader:\n",
    "\n",
    "\n",
    "    def __init__(self):\n",
    "        CONSUMER_KEY = 'BOuuaMDhNhm6yx0rzqK8bMsbI'\n",
    "        CONSUMER_SECRET = '3DybJwlkXd2vU6R385yLA8yJblYJltLtwojySD9AVs04ShauZ0'\n",
    "\n",
    "        ACCESS_TOKEN_KEY = '3712177576-of3jzZ8gNmlPDfPjPyR0Ljw1Ao2IXdTqX9dZGDZ'\n",
    "        ACCESS_TOKEN_SECRET = 'Ky7iKwByHNXX3UMfuMhv6UgVx2IhjLo3KmwpsBQz35wtG'\n",
    "\n",
    "        self.api = twitter.Api(consumer_key=CONSUMER_KEY,\n",
    "                  consumer_secret=CONSUMER_SECRET,\n",
    "                  access_token_key=ACCESS_TOKEN_KEY,\n",
    "                  access_token_secret=ACCESS_TOKEN_SECRET)\n",
    "        self._month_dict = {\"Jan\":\"1\", \"Feb\":\"2\", \"Mar\":\"3\", \"Apr\":\"4\", \"May\":\"5\", \"Jun\":\"6\", \"Jul\":\"7\", \"Aug\":\"8\", \"Sep\":\"9\", \"Oct\":\"10\", \"Nov\":\"11\", \"Dec\":\"12\"}\n",
    "\n",
    "        self._UTC_TIME_ZONE = tz.gettz('Europe/London')\n",
    "        self._MOSCOW_TIME_ZONE = tz.gettz('Europe/Moscow')\n",
    "        self._RATE_LIMIT = \"[{u'message': u'Rate limit exceeded', u'code': 88}]\"\n",
    "\n",
    "        self._news_uri = \"https://tjournal.ru/p/\"\n",
    "\n",
    "\n",
    "\n",
    "    def _parse_date(self, date):\n",
    "\n",
    "        \"\"\"\n",
    "\n",
    "        :param date: str, дата в формате твиттера - \"Sat Nov 21 17:00:29 +0000 2015\"\n",
    "        :return: str, дата в человеческом, но буржуйском формате, да еще и в Московском часовом поясе\n",
    "        \"\"\"\n",
    "        date_array = date.split(' ')\n",
    "        month = self._month_dict[date_array[1]]\n",
    "        day = int(date_array[2])\n",
    "        time = date_array[3]\n",
    "        year = date_array[5]\n",
    "\n",
    "        date = str(year)+\"-\"+str(month)+\"-\"+str(day)+\" \"+time\n",
    "        date = datetime.strptime(date, '%Y-%m-%d %H:%M:%S')\n",
    "        utc_date = date.replace(tzinfo=self._UTC_TIME_ZONE)\n",
    "        moscow_date = utc_date.astimezone(self._MOSCOW_TIME_ZONE)\n",
    "\n",
    "        return str(moscow_date).split(\"+\")[0]\n",
    "\n",
    "\n",
    "\n",
    "    def loadTweetWithLink(self, link, date):\n",
    "        \"\"\"\n",
    "\n",
    "        :param link: str, ключевое слово для поиска, вданном случае - ссылка на письмо\n",
    "        :param date: str, дата, до которой искать твиты\n",
    "        :return: список словариков с информацией о УНИКАЛЬНЫХ твитах по запросу link\n",
    "        \"\"\"\n",
    "        set_id = set()\n",
    "        tweet_list = []\n",
    "        result = self.api.GetSearch(term=link, until=date, count=100000)\n",
    "\n",
    "        for res in result:\n",
    "\n",
    "            tw_id = res.GetId()\n",
    "            # Если мы уже обрабатывали этот твит - идем дальше\n",
    "            if tw_id in set_id:\n",
    "                continue\n",
    "\n",
    "            retweeted_status = res.GetRetweeted_status()\n",
    "            # Если это не ретвит\n",
    "            if retweeted_status is None:\n",
    "                is_retweet = 0\n",
    "                retweeted_count = res.GetRetweetCount()\n",
    "                favorite_count = res.GetFavoriteCount()\n",
    "            else:\n",
    "                is_retweet = 1\n",
    "                retweeted_count = 0\n",
    "                favorite_count = 0\n",
    "            set_id.add(tw_id)\n",
    "\n",
    "            created_at = res.GetCreatedAt()\n",
    "            created_at = self._parse_date(created_at)\n",
    "\n",
    "            # Данные о пользователе\n",
    "            user = res.GetUser()\n",
    "            followers_count = user.followers_count\n",
    "            listed_count = user.listed_count\n",
    "            friends_count = user.friends_count\n",
    "            favourites_count = user.favourites_count\n",
    "            statuses_count = user.statuses_count\n",
    "\n",
    "\n",
    "            link = link.split(\"/\")[-1]\n",
    "\n",
    "            tw_dict= {\n",
    "                    \"id\": link,\n",
    "                    \"tw_id\":tw_id,\n",
    "                    \"retweeted_count\": retweeted_count,\n",
    "                    \"favorite_count\":favorite_count,\n",
    "                    \"is_retweet\": is_retweet,\n",
    "                    \"created_at\":created_at,\n",
    "                    \"user_followers_count\":followers_count,\n",
    "                    \"user_listed_count\": listed_count,\n",
    "                    \"user_friends_count\":friends_count,\n",
    "                    \"user_favourites_count\":favourites_count,\n",
    "                    \"user_statuses_count\":statuses_count\n",
    "                    }\n",
    "\n",
    "            tweet_list.append(tw_dict)\n",
    "\n",
    "        return tweet_list\n",
    "\n",
    "    def _get_next_date(self, date, days):\n",
    "        \"\"\"\n",
    "\n",
    "        :param date: str, дата\n",
    "        :param days: int, количество дней\n",
    "        :return: возвращает дату через days-дней после date\n",
    "        \"\"\"\n",
    "        date = datetime.strptime(date, '%Y-%m-%d %H:%M')\n",
    "        date += timedelta(days=days)\n",
    "        return str(date).split(' ')[0]\n",
    "\n",
    "\n",
    "    def load_tweets_by_term(self, news_list, days_after_news=2):\n",
    "        \"\"\"\n",
    "\n",
    "        :param news_list: list(str), список словариков с информацией о новости\n",
    "        :param days_after_news:  int, количество дней после публикации новости, до которой искать\n",
    "        \"\"\"\n",
    "        result_list = []\n",
    "        i = 0\n",
    "        for news in news_list:\n",
    "            tweets = []\n",
    "            try:\n",
    "                uri = self._news_uri + news[\"id\"]\n",
    "                until_date = self._get_next_date(news[\"date\"], days_after_news)\n",
    "                tweets = self.loadTweetWithLink(uri, until_date)\n",
    "            except twitter.error.TwitterError as ex:\n",
    "                print str(ex)\n",
    "                if str(ex) == self._RATE_LIMIT:\n",
    "                    sleep_time = self.api.GetSleepTime(\"search/tweets.json\") #??? Почему-то не работает\n",
    "                    print \"Спим {} сек.\".format(900)\n",
    "                    time.sleep(900+2)\n",
    "                    tweets = self.loadTweetWithLink(uri, until_date)\n",
    "\n",
    "            result_list+= tweets\n",
    "            \n",
    "            i+=1\n",
    "            if i%10 == 0:\n",
    "                print \"Собрано информация о\", i, \" новостях\"\n",
    "            \n",
    "        return result_list"
   ]
  },
  {
   "cell_type": "code",
   "execution_count": 175,
   "metadata": {
    "collapsed": false
   },
   "outputs": [
    {
     "name": "stdout",
     "output_type": "stream",
     "text": [
      "Скачали  10  страниц\n",
      "Скачали  20  страниц\n",
      "Скачали  30  страниц\n",
      "Скачали  40  страниц\n",
      "Скачали  50  страниц\n",
      "Скачали  60  страниц\n"
     ]
    }
   ],
   "source": [
    "loader = TJLoader()\n",
    "pages = loader.get_tj_news_info(min_index=1, count=4, last_news=\"android-chrome-pacsec\")"
   ]
  },
  {
   "cell_type": "code",
   "execution_count": 177,
   "metadata": {
    "collapsed": false
   },
   "outputs": [],
   "source": [
    "news_info = pd.DataFrame(pages)\n",
    "news_info.to_csv(OUT_NEWS_FILE, sep=\",\", index=False, encoding=\"utf-8\", quoting=csv.QUOTE_NONNUMERIC)"
   ]
  },
  {
   "cell_type": "code",
   "execution_count": 178,
   "metadata": {
    "collapsed": false
   },
   "outputs": [
    {
     "name": "stdout",
     "output_type": "stream",
     "text": [
      "Собрано информация о 10  новостях\n",
      "Собрано информация о 20  новостях\n",
      "Собрано информация о 30  новостях\n",
      "Собрано информация о 40  новостях\n",
      "Собрано информация о 50  новостях\n",
      "Собрано информация о 60  новостях\n"
     ]
    }
   ],
   "source": [
    "tw = TwitterLoader()\n",
    "tweeter_data = tw.load_tweets_by_term(pages)"
   ]
  },
  {
   "cell_type": "code",
   "execution_count": 206,
   "metadata": {
    "collapsed": false
   },
   "outputs": [],
   "source": [
    "tweeter_data = pd.DataFrame(tweeter_data)\n",
    "tweeter_data.to_csv(OUT_TWITTER_FILE, sep=\",\", index=False, encoding=\"utf-8\", quoting=csv.QUOTE_NONNUMERIC)"
   ]
  },
  {
   "cell_type": "code",
   "execution_count": null,
   "metadata": {
    "collapsed": true
   },
   "outputs": [],
   "source": []
  },
  {
   "cell_type": "code",
   "execution_count": null,
   "metadata": {
    "collapsed": true
   },
   "outputs": [],
   "source": []
  },
  {
   "cell_type": "markdown",
   "metadata": {},
   "source": [
    "# После первого запуска, через несколько дней, запускать только часть, которая находится под этим заголовком!"
   ]
  },
  {
   "cell_type": "code",
   "execution_count": 221,
   "metadata": {
    "collapsed": true
   },
   "outputs": [],
   "source": [
    "OUT_NEWS_FILE = \"news.csv\"\n",
    "OUT_TWITTER_FILE = \"twitter.csv\""
   ]
  },
  {
   "cell_type": "code",
   "execution_count": 222,
   "metadata": {
    "collapsed": true
   },
   "outputs": [],
   "source": [
    "# читаем данные\n",
    "news_df = pd.read_csv(OUT_NEWS_FILE, sep=\",\")\n",
    "twitter_df = pd.read_csv(OUT_TWITTER_FILE, sep=\",\")"
   ]
  },
  {
   "cell_type": "code",
   "execution_count": 227,
   "metadata": {
    "collapsed": false
   },
   "outputs": [],
   "source": [
    "# находим самую \"молодую новость\"\n",
    "news_df = news_df.sort_values(by=[\"date\"], ascending=False)\n",
    "last_news = news_df[news_df.index==0][\"id\"][0]"
   ]
  },
  {
   "cell_type": "code",
   "execution_count": 228,
   "metadata": {
    "collapsed": false
   },
   "outputs": [],
   "source": [
    "# скачивае информацию о новостях\n",
    "loader = TJLoader()\n",
    "pages = loader.get_tj_news_info(min_index=1, count=6, last_news=last_news)"
   ]
  },
  {
   "cell_type": "code",
   "execution_count": 229,
   "metadata": {
    "collapsed": false
   },
   "outputs": [
    {
     "data": {
      "text/plain": [
       "0"
      ]
     },
     "execution_count": 229,
     "metadata": {},
     "output_type": "execute_result"
    }
   ],
   "source": [
    "len(pages)"
   ]
  },
  {
   "cell_type": "code",
   "execution_count": null,
   "metadata": {
    "collapsed": true
   },
   "outputs": [],
   "source": [
    "# Сохраняем в файлик\n",
    "news_df = news_df.append(pd.DataFrame(pages))\n",
    "news_df.to_csv(OUT_NEWS_FILE, sep=\",\", index=False, encoding=\"utf-8\", quoting=csv.QUOTE_NONNUMERIC)"
   ]
  },
  {
   "cell_type": "code",
   "execution_count": null,
   "metadata": {
    "collapsed": true
   },
   "outputs": [],
   "source": [
    "# Скачиваем данные из твиттера\n",
    "tw = TwitterLoader()\n",
    "tweeter_data = tw.load_tweets_by_term(pages)"
   ]
  },
  {
   "cell_type": "code",
   "execution_count": null,
   "metadata": {
    "collapsed": true
   },
   "outputs": [],
   "source": [
    "len(tweeter_data)"
   ]
  },
  {
   "cell_type": "code",
   "execution_count": null,
   "metadata": {
    "collapsed": true
   },
   "outputs": [],
   "source": [
    "# Сохраняем в файлик\n",
    "twitter_df = twitter_df.append(pd.DataFrame(tweeter_data))\n",
    "twitter_df.to_csv(OUT_TWITTER_FILE, sep=\",\", index=False, encoding=\"utf-8\", quoting=csv.QUOTE_NONNUMERIC)"
   ]
  },
  {
   "cell_type": "code",
   "execution_count": null,
   "metadata": {
    "collapsed": true
   },
   "outputs": [],
   "source": []
  },
  {
   "cell_type": "code",
   "execution_count": null,
   "metadata": {
    "collapsed": true
   },
   "outputs": [],
   "source": []
  },
  {
   "cell_type": "code",
   "execution_count": 5,
   "metadata": {
    "collapsed": true
   },
   "outputs": [],
   "source": [
    "import json"
   ]
  },
  {
   "cell_type": "code",
   "execution_count": 7,
   "metadata": {
    "collapsed": false
   },
   "outputs": [],
   "source": [
    "text = requests.get(\"https://api.vc.ru/1/paper\").text"
   ]
  },
  {
   "cell_type": "code",
   "execution_count": 8,
   "metadata": {
    "collapsed": true
   },
   "outputs": [],
   "source": [
    "json_req = json.loads(text)"
   ]
  },
  {
   "cell_type": "code",
   "execution_count": 10,
   "metadata": {
    "collapsed": false
   },
   "outputs": [
    {
     "data": {
      "text/plain": [
       "'\\xd0\\x9f\\xd0\\x9e\\xd0\\xa6\\xd0\\x95\\xd0\\x9b\\xd0\\xa3\\xd0\\x99'"
      ]
     },
     "execution_count": 10,
     "metadata": {},
     "output_type": "execute_result"
    }
   ],
   "source": []
  },
  {
   "cell_type": "code",
   "execution_count": 15,
   "metadata": {
    "collapsed": false
   },
   "outputs": [
    {
     "name": "stdout",
     "output_type": "stream",
     "text": [
      "Microsoft открыла собственный онлайн-магазин в России ;  https://vc.ru/n/microsoft-store-russia\n",
      "Психология цвета: Как оттенки влияют на восприятие продукта ;  https://vc.ru/p/colour-guide\n",
      "СМИ сообщили об уменьшении штата тестировщиков в Microsoft ;  https://vc.ru/n/microsoft-test-trouble\n",
      "«Все выходные она с дизайнерами обсуждала угол наклона логотипа» ;  https://vc.ru/p/marissa-last-days\n",
      "«С цивилизацией связывает нас только связь и железная дорога» ;  https://vc.ru/p/pay-pal-stories\n",
      "«Мы обеспечиваем работу ИТ-отрасли, но не причастны к её успеху» ;  https://vc.ru/p/shuttle-bus-pay\n",
      "Fair & Square — сервис для прямой купли-продажи и аренды квартир без риэлторов ;  https://vc.ru/p/fairandsquare\n",
      "Основатель Amazon обогнал компанию SpaceX Элона Маска в строительстве многоразовых ракет ;  https://vc.ru/n/jeff-bezos-blue-origin\n",
      "Счета Российского авторского общества заблокированы из-за дела о миллиардных хищениях в компании ;  https://vc.ru/n/rao-stop-money\n",
      "«Реклама отпечатывается в коре головного мозга, когда она трогает наше сердце» ;  https://vc.ru/p/ads-lost-itself\n",
      "«Публикации в прессе с самого начала были нашей стратегической задачей» ;  https://vc.ru/p/slack-strategy\n",
      "Павел Дуров возглавил рейтинг самых успешных бизнесменов России до 40 лет по версии «Секрета фирмы» ;  https://vc.ru/p/sf-young-rating-2015\n",
      "Какие таск-менеджеры предпочитают российские ИТ-специалисты и предприниматели ;  https://vc.ru/p/task-management-news\n",
      "«Ростелеком» запустил платформу Games.rt.ru для продажи игр со Steam ;  https://vc.ru/n/rtk-games\n",
      "Покупайте у нас ;  https://vc.ru/p/retail-climate\n",
      "Исследование: зарплаты женщин в России на 30% ниже, чем у мужчин ;  https://vc.ru/n/cruel-world\n",
      "«Яндекс» выпустил обновленное iOS-приложение «Яндекс.Карт» — с фильтрами поиска и возможностью комментировать события ;  https://vc.ru/n/yamaps-ios-new\n",
      "Основатель компании по производству аксессуаров для гаджетов Belkin Чет Пипкин стал миллиардером ;  https://vc.ru/n/pipkin-money\n",
      "Что делать, если конкуренты открывают свой магазин напротив нашего ;  https://vc.ru/p/problem-14468\n",
      "СМИ обнаружили, что Tele2 и МТС взимают плату за неосуществленные звонки ;  https://vc.ru/n/mts-tele2\n",
      "Итоги первого месяца продаж рекламы в российском Instagram: 10 тысяч кампаний, CTR — 2% ;  https://vc.ru/p/instagram-1-month\n",
      "Письмо в редакцию: «Если вам отказывают инвесторы — это хорошо» ;  https://vc.ru/p/no-investor\n",
      "«Любить клиента бесплатно может только профессионал» ;  https://vc.ru/p/junglejobs-service\n",
      "«Если раз в 10 лет мы будем выпускать по одной определяющей жанр игре, это будет успехом» ;  https://vc.ru/p/riot-interview\n",
      "ФРИИ объявил о намерении инвестировать 500 млн рублей в стартапы из области big data ;  https://vc.ru/n/frii-500-bd\n",
      "Ulo — портативная камера наблюдения, похожая на игрушку ;  https://vc.ru/p/ulo\n",
      "Центробанк лишил лицензии «Связной банк» и «Нота-банк» ;  https://vc.ru/n/svyaznoybank-done\n",
      "ФАС обязала «Тинькофф банк» вернуть клиентам недополученные из-за решения о снижении ставок средства ;  https://vc.ru/n/fas-tinkoff-moneyback\n",
      "Мессенджер Slack оказался частично недоступен для пользователей по всему миру ;  https://vc.ru/n/slack-is-down\n",
      "Число стартапов в Китае удвоилось за четыре года ;  https://vc.ru/n/china-startups\n",
      "«Яндекс» закрыл мобильное приложение «Прогулки» после почти полугода работы ;  https://vc.ru/n/ya-walks-off\n",
      "Временные трудности: срываем дедлайны — теряем деньги ;  https://vc.ru/p/megaplan-time-management\n",
      "ФАС заявила об отсутствии необходимости регулирования контекстной рекламы ;  https://vc.ru/n/fas-advertising\n",
      "«Раздражает, когда дизайнеры слишком ревностно относятся к своей работе» ;  https://vc.ru/p/repponen-interview\n",
      "Сделки за неделю: Новости российского венчурного рынка с 16 по 22 ноября ;  https://vc.ru/n/week-deals-24\n",
      "Инфографика: Средний возраст работников в крупнейших технологических компаниях США ;  https://vc.ru/p/tech-age-info\n",
      "«Яндекс.Касса» запустила партнёрскую программу для магазинов ;  https://vc.ru/n/yakassa-partner\n",
      "Виртуальная реальность в маркетинге Apple, «Яндекса», Samsung и других компаний ;  https://vc.ru/p/vr-in-marketing\n",
      "Google запустила темы в стиле Star Wars для своих приложений ;  https://vc.ru/n/google-star-wars\n",
      "Аналитики спрогнозировали рост доли Windows-планшетов за счёт уменьшения доли Android ;  https://vc.ru/n/surface-for-teh-win-2015\n",
      "Как сэкономить время и деньги при помощи умного утюга, кофеварки и обогревателя ;  https://vc.ru/p/redmond-smart-home\n",
      "Три ошибки, погубившие «Связной банк» — мнение бывшего вице-президента по маркетингу «Тинькофф Банка» ;  https://vc.ru/p/svyaznoy-anisimov\n",
      "Исследование: Попытки «отоспаться» в выходные негативно влияют на здоровье работников ;  https://vc.ru/p/sleeping-is-killing-you\n",
      "Samsung обыграла главную фразу из ролика iPhone в рекламе Gear VR ;  https://vc.ru/n/gearvr-apple\n",
      "Владелец петербургского ТЦ будет выплачивать 1 млн рублей в год за «водочное» название ;  https://vc.ru/n/vodka-name\n",
      "Почему контент-маркетинг неэффективен для сложных технических продуктов ;  https://vc.ru/p/pvs-studio\n",
      "Какие вы любите сэндвичи ;  https://vc.ru/p/interview-it\n",
      "Финская Jolla, планировавшая разработку российской мобильной ОС, рассказала о своих финансовых проблемах ;  https://vc.ru/n/jolla-vacation\n",
      "Inby — поиск скидок и предложений от компаний на карте ;  https://vc.ru/p/inby\n",
      "Работу ищут менеджер проектов, ассистент менеджера проектов и интернет-маркетолог ;  https://vc.ru/p/recruit-140\n"
     ]
    }
   ],
   "source": [
    "for i in json_req:\n",
    "    print i[\"title\"], \"; \", i[\"url\"]"
   ]
  },
  {
   "cell_type": "code",
   "execution_count": 19,
   "metadata": {
    "collapsed": false
   },
   "outputs": [
    {
     "name": "stdout",
     "output_type": "stream",
     "text": [
      "<Element html at 0x7f8cf07d6628>\n"
     ]
    }
   ],
   "source": [
    "page = html.parse(urlopen(\"https://vc.ru/p/interview-it\"))\n",
    "root = page.getroot()\n",
    "print root"
   ]
  },
  {
   "cell_type": "code",
   "execution_count": 26,
   "metadata": {
    "collapsed": false
   },
   "outputs": [
    {
     "name": "stdout",
     "output_type": "stream",
     "text": [
      "Microsoft открыла собственный онлайн-магазин в России\n",
      "5865\n",
      "19\n",
      "['microsoft', u'\\u0438\\u043d\\u0442\\u0435\\u0440\\u043d\\u0435\\u0442-\\u043c\\u0430\\u0433\\u0430\\u0437\\u0438\\u043d']\n"
     ]
    }
   ],
   "source": [
    "page = html.parse(urlopen(\"https://vc.ru/n/microsoft-store-russia\"))\n",
    "root = page.getroot()\n",
    "\n",
    "# заголовок\n",
    "title = root.find_class(\"b-article__head\")\n",
    "title = title[0].find(\"h1\").text\n",
    "print title\n",
    "\n",
    "# парсим количество просмотров\n",
    "view = root.get_element_by_id(\"hitsCount\").text\n",
    "view = view.replace(\" \", \"\")\n",
    "view = int(view)\n",
    "print view\n",
    "\n",
    "# Количество комментариев\n",
    "comments = root.find_class(\"ccount\")[0].text\n",
    "comment = int(comments.replace(\" \", \"\"))\n",
    "print comment\n",
    "\n",
    "tags = root.find_class(\"b-tags__tag\")\n",
    "tag_list = []\n",
    "for tag in tags:\n",
    "    tag_list.append(tag.text)\n",
    "    \n",
    "print tag_list"
   ]
  },
  {
   "cell_type": "code",
   "execution_count": 22,
   "metadata": {
    "collapsed": false
   },
   "outputs": [
    {
     "name": "stdout",
     "output_type": "stream",
     "text": [
      "Какие вы любите сэндвичи\n"
     ]
    }
   ],
   "source": [
    "print title"
   ]
  },
  {
   "cell_type": "code",
   "execution_count": 32,
   "metadata": {
    "collapsed": true
   },
   "outputs": [],
   "source": [
    "vc = VCLoader()"
   ]
  },
  {
   "cell_type": "code",
   "execution_count": 33,
   "metadata": {
    "collapsed": false
   },
   "outputs": [
    {
     "data": {
      "text/plain": [
       "{'comments': 19,\n",
       " 'date': u'2015-11-24 22:13',\n",
       " 'tags': ['microsoft',\n",
       "  u'\\u0438\\u043d\\u0442\\u0435\\u0440\\u043d\\u0435\\u0442-\\u043c\\u0430\\u0433\\u0430\\u0437\\u0438\\u043d'],\n",
       " 'title': u'Microsoft \\u043e\\u0442\\u043a\\u0440\\u044b\\u043b\\u0430 \\u0441\\u043e\\u0431\\u0441\\u0442\\u0432\\u0435\\u043d\\u043d\\u044b\\u0439 \\u043e\\u043d\\u043b\\u0430\\u0439\\u043d-\\u043c\\u0430\\u0433\\u0430\\u0437\\u0438\\u043d \\u0432 \\u0420\\u043e\\u0441\\u0441\\u0438\\u0438',\n",
       " 'views': 5915}"
      ]
     },
     "execution_count": 33,
     "metadata": {},
     "output_type": "execute_result"
    }
   ],
   "source": [
    "vc.get_link_info(\"https://vc.ru/n/microsoft-store-russia\")"
   ]
  },
  {
   "cell_type": "code",
   "execution_count": 35,
   "metadata": {
    "collapsed": false
   },
   "outputs": [
    {
     "name": "stdout",
     "output_type": "stream",
     "text": [
      "Скачали  10  страниц\n",
      "Скачали  20  страниц\n",
      "Скачали  30  страниц\n",
      "Скачали  40  страниц\n",
      "Скачали  50  страниц\n"
     ]
    }
   ],
   "source": [
    "vc_dict = vc.get_tj_news_info()"
   ]
  },
  {
   "cell_type": "code",
   "execution_count": 37,
   "metadata": {
    "collapsed": false
   },
   "outputs": [
    {
     "name": "stdout",
     "output_type": "stream",
     "text": [
      "50\n",
      "Microsoft открыла собственный онлайн-магазин в России\n",
      "Психология цвета: Как оттенки влияют на восприятие продукта\n",
      "СМИ сообщили об уменьшении штата тестировщиков в Microsoft\n",
      "«Все выходные она с дизайнерами обсуждала угол наклона логотипа»\n",
      "«С цивилизацией связывает нас только связь и железная дорога»\n",
      "«Мы обеспечиваем работу ИТ-отрасли, но не причастны к её успеху»\n",
      "Fair & Square — сервис для прямой купли-продажи и аренды квартир без риэлторов\n",
      "Основатель Amazon обогнал компанию SpaceX Элона Маска в строительстве многоразовых ракет\n",
      "Счета Российского авторского общества заблокированы из-за дела о миллиардных хищениях в компании\n",
      "«Реклама отпечатывается в коре головного мозга, когда она трогает наше сердце»\n",
      "«Публикации в прессе с самого начала были нашей стратегической задачей»\n",
      "Павел Дуров возглавил рейтинг самых успешных бизнесменов России до 40 лет по версии «Секрета фирмы»\n",
      "Какие таск-менеджеры предпочитают российские ИТ-специалисты и предприниматели\n",
      "«Ростелеком» запустил платформу Games.rt.ru для продажи игр со Steam\n",
      "Покупайте у нас\n",
      "Исследование: зарплаты женщин в России на 30% ниже, чем у мужчин\n",
      "«Яндекс» выпустил обновленное iOS-приложение «Яндекс.Карт» — с фильтрами поиска и возможностью комментировать события\n",
      "Основатель компании по производству аксессуаров для гаджетов Belkin Чет Пипкин стал миллиардером\n",
      "Что делать, если конкуренты открывают свой магазин напротив нашего\n",
      "СМИ обнаружили, что Tele2 и МТС взимают плату за неосуществленные звонки\n",
      "Итоги первого месяца продаж рекламы в российском Instagram: 10 тысяч кампаний, CTR — 2%\n",
      "Письмо в редакцию: «Если вам отказывают инвесторы — это хорошо»\n",
      "«Любить клиента бесплатно может только профессионал»\n",
      "«Если раз в 10 лет мы будем выпускать по одной определяющей жанр игре, это будет успехом»\n",
      "ФРИИ объявил о намерении инвестировать 500 млн рублей в стартапы из области big data\n",
      "Ulo — портативная камера наблюдения, похожая на игрушку\n",
      "Центробанк лишил лицензии «Связной банк» и «Нота-банк»\n",
      "ФАС обязала «Тинькофф банк» вернуть клиентам недополученные из-за решения о снижении ставок средства\n",
      "Мессенджер Slack оказался частично недоступен для пользователей по всему миру\n",
      "Число стартапов в Китае удвоилось за четыре года\n",
      "«Яндекс» закрыл мобильное приложение «Прогулки» после почти полугода работы\n",
      "Временные трудности: срываем дедлайны — теряем деньги\n",
      "ФАС заявила об отсутствии необходимости регулирования контекстной рекламы\n",
      "«Раздражает, когда дизайнеры слишком ревностно относятся к своей работе»\n",
      "Сделки за неделю: Новости российского венчурного рынка с 16 по 22 ноября\n",
      "Инфографика: Средний возраст работников в крупнейших технологических компаниях США\n",
      "«Яндекс.Касса» запустила партнёрскую программу для магазинов\n",
      "Виртуальная реальность в маркетинге Apple, «Яндекса», Samsung и других компаний\n",
      "Google запустила темы в стиле Star Wars для своих приложений\n",
      "Аналитики спрогнозировали рост доли Windows-планшетов за счёт уменьшения доли Android\n",
      "Как сэкономить время и деньги при помощи умного утюга, кофеварки и обогревателя\n",
      "Три ошибки, погубившие «Связной банк» — мнение бывшего вице-президента по маркетингу «Тинькофф Банка»\n",
      "Исследование: Попытки «отоспаться» в выходные негативно влияют на здоровье работников\n",
      "Samsung обыграла главную фразу из ролика iPhone в рекламе Gear VR\n",
      "Владелец петербургского ТЦ будет выплачивать 1 млн рублей в год за «водочное» название\n",
      "Почему контент-маркетинг неэффективен для сложных технических продуктов\n",
      "Какие вы любите сэндвичи\n",
      "Финская Jolla, планировавшая разработку российской мобильной ОС, рассказала о своих финансовых проблемах\n",
      "Inby — поиск скидок и предложений от компаний на карте\n",
      "Работу ищут менеджер проектов, ассистент менеджера проектов и интернет-маркетолог\n"
     ]
    }
   ],
   "source": [
    "print len(vc_dict)\n",
    "for j in vc_dict:\n",
    "    print j[\"title\"]"
   ]
  },
  {
   "cell_type": "code",
   "execution_count": null,
   "metadata": {
    "collapsed": true
   },
   "outputs": [],
   "source": []
  }
 ],
 "metadata": {
  "kernelspec": {
   "display_name": "Python 2",
   "language": "python",
   "name": "python2"
  },
  "language_info": {
   "codemirror_mode": {
    "name": "ipython",
    "version": 2
   },
   "file_extension": ".py",
   "mimetype": "text/x-python",
   "name": "python",
   "nbconvert_exporter": "python",
   "pygments_lexer": "ipython2",
   "version": "2.7.10"
  }
 },
 "nbformat": 4,
 "nbformat_minor": 0
}
