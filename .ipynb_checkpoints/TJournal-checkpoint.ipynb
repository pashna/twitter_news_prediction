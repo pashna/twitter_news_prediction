{
 "cells": [
  {
   "cell_type": "code",
   "execution_count": 94,
   "metadata": {
    "collapsed": true
   },
   "outputs": [],
   "source": [
    "# -*- coding: utf-8 -*\n",
    "import twitter\n",
    "import csv\n",
    "import json\n",
    "import re\n",
    "import requests\n",
    "import lxml.html as html\n",
    "from urllib2 import urlopen\n",
    "import pandas as pd\n",
    "from datetime import datetime, timedelta\n",
    "from dateutil import tz\n",
    "import time\n",
    "import sklearn.cross_validation as cv\n",
    "from sklearn.metrics import mean_squared_error\n",
    "import matplotlib.pyplot as plt\n",
    "import numpy as np\n",
    "%matplotlib inline"
   ]
  },
  {
   "cell_type": "code",
   "execution_count": null,
   "metadata": {
    "collapsed": true
   },
   "outputs": [],
   "source": [
    "OUT_NEWS_FILE = \"news.csv\"\n",
    "OUT_TWITTER_FILE = \"twitter.csv\""
   ]
  },
  {
   "cell_type": "code",
   "execution_count": 100,
   "metadata": {
    "collapsed": false
   },
   "outputs": [],
   "source": [
    "class TJLoader:\n",
    "\n",
    "    def __init__(self):\n",
    "        self._news_pages = [\"https://tjournal.ru/paper/page/{}\", \"https://tjournal.ru/club/news/recent/page/{}\"]\n",
    "        self._month_map = {u\"января\":\"01\", u\"февраля\":\"02\", u\"марта\":\"03\", u\"апреля\":\"04\", u\"мая\":\"05\", u\"июня\":\"06\", u\"июля\":\"07\", u\"августа\":\"08\", u\"сентября\":\"09\", u\"октября\":\"10\", u\"ноября\":\"11\", u\"декабря\":\"12\"}\n",
    "\n",
    "    def get_news_uri(self, min_index=10, count=30):\n",
    "        \"\"\"\n",
    "\n",
    "        :param min_index: int, индекс страницы, с которой нужно начать поиск\n",
    "        :param count: int, количество страниц, которые нужно скачать\n",
    "        :return: list. список ссылок на новости\n",
    "        \"\"\"\n",
    "        links = []\n",
    "        for news_page in self._news_pages:\n",
    "            \n",
    "            for i in range(count):\n",
    "                page = html.parse(urlopen(news_page.format(i+min_index)))\n",
    "                divs = page.getroot().find_class('b-articles__b__title')\n",
    "\n",
    "                for div in divs:\n",
    "                    links.append(div.getchildren()[1].get(\"href\"))\n",
    "                    \n",
    "        return links\n",
    "\n",
    "    \n",
    "    def _parse_date(self, date):\n",
    "        date = date.replace(\",\", \"\")\n",
    "        date = date.split(\" \")\n",
    "        \n",
    "        converted_date = date[2]\n",
    "        converted_date +=\"-\"+self._month_map[date[1]]\n",
    "        converted_date +=\"-\"+date[0]\n",
    "        \n",
    "        converted_date +=\" \"+date[3]\n",
    "        \n",
    "        return converted_date\n",
    "        \n",
    "\n",
    "    def get_link_info(self, link):\n",
    "        \"\"\"\n",
    "\n",
    "        :param link: str, url страницы с tjournal, для которой нужно собрать информацию\n",
    "        :return: dict с данными со страницы\n",
    "        \"\"\"\n",
    "        page = html.parse(urlopen(link))\n",
    "        root = page.getroot()\n",
    "\n",
    "        # заголовок\n",
    "        title = root.find_class(\"b-article__title\")\n",
    "        title = title[0].find(\"h1\").text\n",
    "\n",
    "        # парсим количество просмотров\n",
    "        view = root.get_element_by_id(\"hitsCount\").text\n",
    "        view = view.replace(\" \", \"\")\n",
    "        view = int(view)\n",
    "\n",
    "        # Количество комментариев\n",
    "        comments = root.find_class(\"b-article__infoline__comments\")\n",
    "        comment = int(comments[0].find(\"b\").text.replace(\" \", \"\"))\n",
    "\n",
    "        # Теги\n",
    "        tags = root.find_class(\"b-article__tags__tag\")\n",
    "        tag_list = []\n",
    "        for tag in tags:\n",
    "            tag_list.append(tag.text)\n",
    "        \n",
    "        # Дата\n",
    "        date = root.find_class(\"b-article__infoline__date\")\n",
    "        date = self._parse_date(date[0].text)\n",
    "        \n",
    "        # Первоисточник\n",
    "        source = root.find_class(\"b-article__link\")\n",
    "        if len(source) != 0:\n",
    "            source = source[0].getchildren()[0].getchildren()[1].getchildren()[0].text\n",
    "        else:\n",
    "            source = None\n",
    "        \n",
    "        # Type\n",
    "        if \"tjournal.ru/c/\" in link:\n",
    "            news_type = \"TJ_C\"\n",
    "        else:\n",
    "            news_type = \"TJ_P\"\n",
    "\n",
    "        return {\"title\": title, \"views\": view, \"comments\": comment, \"tags\": tag_list, \"date\": date, \"url\": link, \"type\": news_type, \"source\": source}\n",
    "\n",
    "\n",
    "    def get_tj_news_info(self, min_index=1, count=30, first_date=\"2017-01-01\", last_date=\"2010-01-01\"):\n",
    "        \"\"\"\n",
    "        :param min_index: int, индекс минимальной страницы, откуда начинаем поиск\n",
    "        :param count: int, количество страниц, по которым ищем\n",
    "        :first_date: время первой новости, которую мы скачаем\n",
    "        :last_date: время последней новости, которую мы скачаем\n",
    "        :return: dict с данными со страницы\n",
    "        \"\"\"\n",
    "        links = self.get_news_uri(min_index=min_index, count=count)\n",
    "        link_info_list = []\n",
    "        i = 0\n",
    "        is_break = False\n",
    "        for link in links:\n",
    "            link_info = self.get_link_info(link)\n",
    "            # Если заданное время не подходит\n",
    "            if link_info[\"date\"] > first_date or link_info[\"date\"] < last_date:\n",
    "                continue\n",
    "    \n",
    "            link_info_list.append(link_info)\n",
    "            \n",
    "            i+=1\n",
    "            if i%10 == 0:\n",
    "                print \"Скачали \", i, \" страниц\"\n",
    "\n",
    "        return link_info_list"
   ]
  },
  {
   "cell_type": "code",
   "execution_count": 101,
   "metadata": {
    "collapsed": true
   },
   "outputs": [],
   "source": [
    "class VCLoader:\n",
    "\n",
    "    def __init__(self):\n",
    "        self._news_pages = \"https://api.vc.ru/1/paper\"\n",
    "        self._month_map = {u\"января\":\"01\", u\"февраля\":\"02\", u\"марта\":\"03\", u\"апреля\":\"04\", u\"мая\":\"05\", u\"июня\":\"06\", u\"июля\":\"07\", u\"августа\":\"08\", u\"сентября\":\"09\", u\"октября\":\"10\", u\"ноября\":\"11\", u\"декабря\":\"12\"}\n",
    "\n",
    "    def get_news_uri(self, min_index=10, count=30):\n",
    "        \"\"\"\n",
    "\n",
    "        :param min_index: int, индекс страницы, с которой нужно начать поиск\n",
    "        :param count: int, количество страниц, которые нужно скачать\n",
    "        :return: list. список ссылок на новости\n",
    "        \"\"\"\n",
    "        links = []\n",
    "        text = requests.get(self._news_pages).text\n",
    "        json_req = json.loads(text)\n",
    "    \n",
    "        for news in json_req:\n",
    "            links.append(news[\"url\"])\n",
    "\n",
    "        return links\n",
    "\n",
    "    \n",
    "    def _parse_date(self, date):\n",
    "        date = date.replace(\",\", \"\")\n",
    "        date = date.split(\" \")\n",
    "        \n",
    "        converted_date = date[2]\n",
    "        converted_date +=\"-\"+self._month_map[date[1]]\n",
    "        converted_date +=\"-\"+date[0]\n",
    "        \n",
    "        converted_date +=\" \"+date[3]\n",
    "        \n",
    "        return converted_date\n",
    "        \n",
    "\n",
    "    def get_link_info(self, link):\n",
    "        \"\"\"\n",
    "\n",
    "        :param link: str, url страницы с vc, для которой нужно собрать информацию\n",
    "        :return: dict с данными со страницы\n",
    "        \"\"\"\n",
    "        page = html.parse(urlopen(link))\n",
    "        root = page.getroot()\n",
    "\n",
    "        # заголовок\n",
    "        title = root.find_class(\"b-article__head\")\n",
    "        title = title[0].find(\"h1\").text\n",
    "\n",
    "        # парсим количество просмотров\n",
    "        view = root.get_element_by_id(\"hitsCount\").text\n",
    "        view = view.replace(\" \", \"\")\n",
    "        view = int(view)\n",
    "\n",
    "        # Количество комментариев\n",
    "        comments = root.find_class(\"ccount\")[0].text\n",
    "        comment = int(comments.replace(\" \", \"\"))\n",
    "\n",
    "        # Теги\n",
    "        tags = root.find_class(\"b-tags__tag\")\n",
    "        tag_list = []\n",
    "        for tag in tags:\n",
    "            tag_list.append(tag.text)\n",
    "        \n",
    "        # Дата\n",
    "        date = root.find_class(\"b-article__infopanel__date\")\n",
    "        date = self._parse_date(date[0].text)\n",
    "        \n",
    "\n",
    "        return {\"title\": title, \"views\": view, \"comments\": comment, \"tags\": tag_list, \"date\": date, \"url\": link, \"type\": \"VC\"}\n",
    "\n",
    "\n",
    "    def get_tj_news_info(self, min_index=1, count=30, first_date=\"2010-01-01\", last_date=\"2017-01-01\"):\n",
    "        \"\"\"\n",
    "        :param min_index: int, индекс минимальной страницы, откуда начинаем поиск\n",
    "        :param count: int, количество страниц, по которым ищем\n",
    "        :first_date: str, дата и время первой (самой новой) новости\n",
    "        :last_date: str, дата и время последней(самой старой) новости\n",
    "        \n",
    "        :return: dict с данными со страницы\n",
    "        \"\"\"\n",
    "        links = self.get_news_uri(min_index=min_index, count=count)\n",
    "        link_info_list = []\n",
    "        i = 0\n",
    "        \n",
    "        for link in links:\n",
    "            \n",
    "            link_info = self.get_link_info(link)\n",
    "            # Если заданное время не подходит\n",
    "            if link_info[\"date\"] > first_date or link_info[\"date\"] < last_date:\n",
    "                continue\n",
    "            \n",
    "            link_info_list.append(link_info)\n",
    "            \n",
    "            i+=1\n",
    "            if i%10 == 0:\n",
    "                print \"Скачали \", i, \" страниц\"\n",
    "\n",
    "        return link_info_list"
   ]
  },
  {
   "cell_type": "code",
   "execution_count": 102,
   "metadata": {
    "collapsed": false
   },
   "outputs": [],
   "source": [
    "class TwitterLoader:\n",
    "\n",
    "\n",
    "    def __init__(self):\n",
    "        CONSUMER_KEY = 'BOuuaMDhNhm6yx0rzqK8bMsbI'\n",
    "        CONSUMER_SECRET = '3DybJwlkXd2vU6R385yLA8yJblYJltLtwojySD9AVs04ShauZ0'\n",
    "\n",
    "        ACCESS_TOKEN_KEY = '3712177576-of3jzZ8gNmlPDfPjPyR0Ljw1Ao2IXdTqX9dZGDZ'\n",
    "        ACCESS_TOKEN_SECRET = 'Ky7iKwByHNXX3UMfuMhv6UgVx2IhjLo3KmwpsBQz35wtG'\n",
    "\n",
    "        self.api = twitter.Api(consumer_key=CONSUMER_KEY,\n",
    "                  consumer_secret=CONSUMER_SECRET,\n",
    "                  access_token_key=ACCESS_TOKEN_KEY,\n",
    "                  access_token_secret=ACCESS_TOKEN_SECRET)\n",
    "        self._month_dict = {\"Jan\":\"1\", \"Feb\":\"2\", \"Mar\":\"3\", \"Apr\":\"4\", \"May\":\"5\", \"Jun\":\"6\", \"Jul\":\"7\", \"Aug\":\"8\", \"Sep\":\"9\", \"Oct\":\"10\", \"Nov\":\"11\", \"Dec\":\"12\"}\n",
    "\n",
    "        self._UTC_TIME_ZONE = tz.gettz('Europe/London')\n",
    "        self._MOSCOW_TIME_ZONE = tz.gettz('Europe/Moscow')\n",
    "        self._RATE_LIMIT = \"[{u'message': u'Rate limit exceeded', u'code': 88}]\"\n",
    "\n",
    "\n",
    "\n",
    "    def _parse_date(self, date):\n",
    "\n",
    "        \"\"\"\n",
    "\n",
    "        :param date: str, дата в формате твиттера - \"Sat Nov 21 17:00:29 +0000 2015\"\n",
    "        :return: str, дата в человеческом, но буржуйском формате, да еще и в Московском часовом поясе\n",
    "        \"\"\"\n",
    "        date_array = date.split(' ')\n",
    "        month = self._month_dict[date_array[1]]\n",
    "        day = int(date_array[2])\n",
    "        time = date_array[3]\n",
    "        year = date_array[5]\n",
    "\n",
    "        date = str(year)+\"-\"+str(month)+\"-\"+str(day)+\" \"+time\n",
    "        date = datetime.strptime(date, '%Y-%m-%d %H:%M:%S')\n",
    "        utc_date = date.replace(tzinfo=self._UTC_TIME_ZONE)\n",
    "        moscow_date = utc_date.astimezone(self._MOSCOW_TIME_ZONE)\n",
    "\n",
    "        return str(moscow_date).split(\"+\")[0]\n",
    "\n",
    "\n",
    "\n",
    "    def loadTweetWithLink(self, link, date):\n",
    "        \"\"\"\n",
    "\n",
    "        :param link: str, ключевое слово для поиска, вданном случае - ссылка на письмо\n",
    "        :param date: str, дата, до которой искать твиты\n",
    "        :return: список словариков с информацией о УНИКАЛЬНЫХ твитах по запросу link\n",
    "        \"\"\"\n",
    "        set_id = set()\n",
    "        tweet_list = []\n",
    "        result = self.api.GetSearch(term=link, until=date, count=100000)\n",
    "\n",
    "        for res in result:\n",
    "\n",
    "            tw_id = res.GetId()\n",
    "            # Если мы уже обрабатывали этот твит - идем дальше\n",
    "            if tw_id in set_id:\n",
    "                continue\n",
    "\n",
    "            retweeted_status = res.GetRetweeted_status()\n",
    "            # Если это не ретвит\n",
    "            if retweeted_status is None:\n",
    "                is_retweet = 0\n",
    "                retweeted_count = res.GetRetweetCount()\n",
    "                favorite_count = res.GetFavoriteCount()\n",
    "            else:\n",
    "                is_retweet = 1\n",
    "                retweeted_count = 0\n",
    "                favorite_count = 0\n",
    "            set_id.add(tw_id)\n",
    "\n",
    "            created_at = res.GetCreatedAt()\n",
    "            created_at = self._parse_date(created_at)\n",
    "\n",
    "            # Данные о пользователе\n",
    "            user = res.GetUser()\n",
    "            followers_count = user.followers_count\n",
    "            listed_count = user.listed_count\n",
    "            friends_count = user.friends_count\n",
    "            favourites_count = user.favourites_count\n",
    "            statuses_count = user.statuses_count\n",
    "\n",
    "\n",
    "            tw_dict= {\n",
    "                    \"url\": link,\n",
    "                    \"tw_id\":tw_id,\n",
    "                    \"retweeted_count\": retweeted_count,\n",
    "                    \"favorite_count\":favorite_count,\n",
    "                    \"is_retweet\": is_retweet,\n",
    "                    \"created_at\":created_at,\n",
    "                    \"user_followers_count\":followers_count,\n",
    "                    \"user_listed_count\": listed_count,\n",
    "                    \"user_friends_count\":friends_count,\n",
    "                    \"user_favourites_count\":favourites_count,\n",
    "                    \"user_statuses_count\":statuses_count\n",
    "                    }\n",
    "\n",
    "            tweet_list.append(tw_dict)\n",
    "\n",
    "        return tweet_list\n",
    "\n",
    "    def _get_next_date(self, date, days):\n",
    "        \"\"\"\n",
    "\n",
    "        :param date: str, дата\n",
    "        :param days: int, количество дней\n",
    "        :return: возвращает дату через days-дней после date\n",
    "        \"\"\"\n",
    "        date = datetime.strptime(date, '%Y-%m-%d %H:%M')\n",
    "        date += timedelta(days=days)\n",
    "        return str(date).split(' ')[0]\n",
    "\n",
    "\n",
    "    def load_tweets_by_term(self, news_list, days_after_news=2):\n",
    "        \"\"\"\n",
    "\n",
    "        :param news_list: list(str), список словариков с информацией о новости\n",
    "        :param days_after_news:  int, количество дней после публикации новости, до которой искать\n",
    "        \"\"\"\n",
    "        result_list = []\n",
    "        i = 0\n",
    "        for news in news_list:\n",
    "            tweets = []\n",
    "            try:\n",
    "                until_date = self._get_next_date(news[\"date\"], days_after_news)\n",
    "                tweets = self.loadTweetWithLink(news[\"url\"], until_date)\n",
    "            except twitter.error.TwitterError as ex:\n",
    "                print str(ex)\n",
    "                if str(ex) == self._RATE_LIMIT:\n",
    "                    sleep_time = self.api.GetSleepTime(\"search/tweets\") #??? Почему-то не работает\n",
    "                    print \"Спим {} сек.\".format(sleep_time)\n",
    "                    time.sleep(sleep_time+2)\n",
    "                    tweets = self.loadTweetWithLink(news[\"url\"], until_date)\n",
    "\n",
    "            result_list+= tweets\n",
    "            \n",
    "            i+=1\n",
    "            if i%10 == 0:\n",
    "                print \"Собрано информация о\", i, \" новостях\"\n",
    "            \n",
    "        return result_list"
   ]
  },
  {
   "cell_type": "code",
   "execution_count": 64,
   "metadata": {
    "collapsed": false
   },
   "outputs": [
    {
     "name": "stdout",
     "output_type": "stream",
     "text": [
      "Скачали  10  страниц\n",
      "Скачали  20  страниц\n",
      "Скачали  30  страниц\n",
      "Скачали  40  страниц\n",
      "Скачали  50  страниц\n",
      "Скачали  60  страниц\n",
      "Скачали  70  страниц\n",
      "Скачали  80  страниц\n",
      "Скачали  90  страниц\n",
      "Скачали  100  страниц\n",
      "Скачали  110  страниц\n",
      "Скачали  120  страниц\n",
      "Скачали  130  страниц\n",
      "Скачали  140  страниц\n",
      "Скачали  150  страниц\n",
      "Скачали  160  страниц\n",
      "Скачали  170  страниц\n",
      "Скачали  180  страниц\n"
     ]
    }
   ],
   "source": [
    "loader = TJLoader()\n",
    "tj_pages = loader.get_tj_news_info(min_index=0, count=4, first_date=\"2015-11-25 14:00\", last_date=\"2015-11-17 10:00\")"
   ]
  },
  {
   "cell_type": "code",
   "execution_count": 72,
   "metadata": {
    "collapsed": false
   },
   "outputs": [
    {
     "name": "stdout",
     "output_type": "stream",
     "text": [
      "Скачали  10  страниц\n",
      "Скачали  20  страниц\n",
      "Скачали  30  страниц\n",
      "Скачали  40  страниц\n"
     ]
    }
   ],
   "source": [
    "vc = VCLoader()\n",
    "vc_pages = vc.get_tj_news_info(first_date=\"2015-11-25 14:00\", last_date=\"2015-11-17 10:00\")"
   ]
  },
  {
   "cell_type": "code",
   "execution_count": 73,
   "metadata": {
    "collapsed": true
   },
   "outputs": [],
   "source": [
    "pages = vc_pages + tj_pages"
   ]
  },
  {
   "cell_type": "code",
   "execution_count": 4,
   "metadata": {
    "collapsed": true
   },
   "outputs": [],
   "source": [
    "OUT_NEWS_FILE = \"news.csv\"\n",
    "OUT_TWITTER_FILE = \"twitter.csv\""
   ]
  },
  {
   "cell_type": "code",
   "execution_count": 5,
   "metadata": {
    "collapsed": false
   },
   "outputs": [
    {
     "ename": "NameError",
     "evalue": "name 'pages' is not defined",
     "output_type": "error",
     "traceback": [
      "\u001b[1;31m---------------------------------------------------------------------------\u001b[0m",
      "\u001b[1;31mNameError\u001b[0m                                 Traceback (most recent call last)",
      "\u001b[1;32m<ipython-input-5-8ac7cc944e0a>\u001b[0m in \u001b[0;36m<module>\u001b[1;34m()\u001b[0m\n\u001b[1;32m----> 1\u001b[1;33m \u001b[0mnews_info\u001b[0m \u001b[1;33m=\u001b[0m \u001b[0mpd\u001b[0m\u001b[1;33m.\u001b[0m\u001b[0mDataFrame\u001b[0m\u001b[1;33m(\u001b[0m\u001b[0mpages\u001b[0m\u001b[1;33m)\u001b[0m\u001b[1;33m\u001b[0m\u001b[0m\n\u001b[0m\u001b[0;32m      2\u001b[0m \u001b[0mnews_info\u001b[0m\u001b[1;33m.\u001b[0m\u001b[0mto_csv\u001b[0m\u001b[1;33m(\u001b[0m\u001b[0mOUT_NEWS_FILE\u001b[0m\u001b[1;33m,\u001b[0m \u001b[0msep\u001b[0m\u001b[1;33m=\u001b[0m\u001b[1;34m\",\"\u001b[0m\u001b[1;33m,\u001b[0m \u001b[0mindex\u001b[0m\u001b[1;33m=\u001b[0m\u001b[0mFalse\u001b[0m\u001b[1;33m,\u001b[0m \u001b[0mencoding\u001b[0m\u001b[1;33m=\u001b[0m\u001b[1;34m\"utf-8\"\u001b[0m\u001b[1;33m,\u001b[0m \u001b[0mquoting\u001b[0m\u001b[1;33m=\u001b[0m\u001b[0mcsv\u001b[0m\u001b[1;33m.\u001b[0m\u001b[0mQUOTE_NONNUMERIC\u001b[0m\u001b[1;33m)\u001b[0m\u001b[1;33m\u001b[0m\u001b[0m\n",
      "\u001b[1;31mNameError\u001b[0m: name 'pages' is not defined"
     ]
    }
   ],
   "source": [
    "news_info = pd.DataFrame(pages)\n",
    "news_info.to_csv(OUT_NEWS_FILE, sep=\",\", index=False, encoding=\"utf-8\", quoting=csv.QUOTE_NONNUMERIC)"
   ]
  },
  {
   "cell_type": "code",
   "execution_count": 280,
   "metadata": {
    "collapsed": false
   },
   "outputs": [
    {
     "ename": "KeyboardInterrupt",
     "evalue": "",
     "output_type": "error",
     "traceback": [
      "\u001b[1;31m---------------------------------------------------------------------------\u001b[0m",
      "\u001b[1;31mKeyboardInterrupt\u001b[0m                         Traceback (most recent call last)",
      "\u001b[1;32m<ipython-input-280-7b7d7ea17f4c>\u001b[0m in \u001b[0;36m<module>\u001b[1;34m()\u001b[0m\n\u001b[0;32m      1\u001b[0m \u001b[0mtw\u001b[0m \u001b[1;33m=\u001b[0m \u001b[0mTwitterLoader\u001b[0m\u001b[1;33m(\u001b[0m\u001b[1;33m)\u001b[0m\u001b[1;33m\u001b[0m\u001b[0m\n\u001b[1;32m----> 2\u001b[1;33m \u001b[0mtweeter_data\u001b[0m \u001b[1;33m=\u001b[0m \u001b[0mtw\u001b[0m\u001b[1;33m.\u001b[0m\u001b[0mload_tweets_by_term\u001b[0m\u001b[1;33m(\u001b[0m\u001b[0mpages\u001b[0m\u001b[1;33m)\u001b[0m\u001b[1;33m\u001b[0m\u001b[0m\n\u001b[0m",
      "\u001b[1;32m<ipython-input-62-9e357b1e25b0>\u001b[0m in \u001b[0;36mload_tweets_by_term\u001b[1;34m(self, news_list, days_after_news)\u001b[0m\n\u001b[0;32m    127\u001b[0m             \u001b[1;32mtry\u001b[0m\u001b[1;33m:\u001b[0m\u001b[1;33m\u001b[0m\u001b[0m\n\u001b[0;32m    128\u001b[0m                 \u001b[0muntil_date\u001b[0m \u001b[1;33m=\u001b[0m \u001b[0mself\u001b[0m\u001b[1;33m.\u001b[0m\u001b[0m_get_next_date\u001b[0m\u001b[1;33m(\u001b[0m\u001b[0mnews\u001b[0m\u001b[1;33m[\u001b[0m\u001b[1;34m\"date\"\u001b[0m\u001b[1;33m]\u001b[0m\u001b[1;33m,\u001b[0m \u001b[0mdays_after_news\u001b[0m\u001b[1;33m)\u001b[0m\u001b[1;33m\u001b[0m\u001b[0m\n\u001b[1;32m--> 129\u001b[1;33m                 \u001b[0mtweets\u001b[0m \u001b[1;33m=\u001b[0m \u001b[0mself\u001b[0m\u001b[1;33m.\u001b[0m\u001b[0mloadTweetWithLink\u001b[0m\u001b[1;33m(\u001b[0m\u001b[0mnews\u001b[0m\u001b[1;33m[\u001b[0m\u001b[1;34m\"url\"\u001b[0m\u001b[1;33m]\u001b[0m\u001b[1;33m,\u001b[0m \u001b[0muntil_date\u001b[0m\u001b[1;33m)\u001b[0m\u001b[1;33m\u001b[0m\u001b[0m\n\u001b[0m\u001b[0;32m    130\u001b[0m             \u001b[1;32mexcept\u001b[0m \u001b[0mtwitter\u001b[0m\u001b[1;33m.\u001b[0m\u001b[0merror\u001b[0m\u001b[1;33m.\u001b[0m\u001b[0mTwitterError\u001b[0m \u001b[1;32mas\u001b[0m \u001b[0mex\u001b[0m\u001b[1;33m:\u001b[0m\u001b[1;33m\u001b[0m\u001b[0m\n\u001b[0;32m    131\u001b[0m                 \u001b[1;32mprint\u001b[0m \u001b[0mstr\u001b[0m\u001b[1;33m(\u001b[0m\u001b[0mex\u001b[0m\u001b[1;33m)\u001b[0m\u001b[1;33m\u001b[0m\u001b[0m\n",
      "\u001b[1;32m<ipython-input-62-9e357b1e25b0>\u001b[0m in \u001b[0;36mloadTweetWithLink\u001b[1;34m(self, link, date)\u001b[0m\n\u001b[0;32m     52\u001b[0m         \u001b[0mset_id\u001b[0m \u001b[1;33m=\u001b[0m \u001b[0mset\u001b[0m\u001b[1;33m(\u001b[0m\u001b[1;33m)\u001b[0m\u001b[1;33m\u001b[0m\u001b[0m\n\u001b[0;32m     53\u001b[0m         \u001b[0mtweet_list\u001b[0m \u001b[1;33m=\u001b[0m \u001b[1;33m[\u001b[0m\u001b[1;33m]\u001b[0m\u001b[1;33m\u001b[0m\u001b[0m\n\u001b[1;32m---> 54\u001b[1;33m         \u001b[0mresult\u001b[0m \u001b[1;33m=\u001b[0m \u001b[0mself\u001b[0m\u001b[1;33m.\u001b[0m\u001b[0mapi\u001b[0m\u001b[1;33m.\u001b[0m\u001b[0mGetSearch\u001b[0m\u001b[1;33m(\u001b[0m\u001b[0mterm\u001b[0m\u001b[1;33m=\u001b[0m\u001b[0mlink\u001b[0m\u001b[1;33m,\u001b[0m \u001b[0muntil\u001b[0m\u001b[1;33m=\u001b[0m\u001b[0mdate\u001b[0m\u001b[1;33m,\u001b[0m \u001b[0mcount\u001b[0m\u001b[1;33m=\u001b[0m\u001b[1;36m100000\u001b[0m\u001b[1;33m)\u001b[0m\u001b[1;33m\u001b[0m\u001b[0m\n\u001b[0m\u001b[0;32m     55\u001b[0m \u001b[1;33m\u001b[0m\u001b[0m\n\u001b[0;32m     56\u001b[0m         \u001b[1;32mfor\u001b[0m \u001b[0mres\u001b[0m \u001b[1;32min\u001b[0m \u001b[0mresult\u001b[0m\u001b[1;33m:\u001b[0m\u001b[1;33m\u001b[0m\u001b[0m\n",
      "\u001b[1;32m/home/popka/anaconda/lib/python2.7/site-packages/twitter/api.pyc\u001b[0m in \u001b[0;36mGetSearch\u001b[1;34m(self, term, geocode, since_id, max_id, until, count, lang, locale, result_type, include_entities)\u001b[0m\n\u001b[0;32m    362\u001b[0m     \u001b[1;31m# Make and send requests\u001b[0m\u001b[1;33m\u001b[0m\u001b[1;33m\u001b[0m\u001b[0m\n\u001b[0;32m    363\u001b[0m     \u001b[0murl\u001b[0m  \u001b[1;33m=\u001b[0m \u001b[1;34m'%s/search/tweets.json'\u001b[0m \u001b[1;33m%\u001b[0m \u001b[0mself\u001b[0m\u001b[1;33m.\u001b[0m\u001b[0mbase_url\u001b[0m\u001b[1;33m\u001b[0m\u001b[0m\n\u001b[1;32m--> 364\u001b[1;33m     \u001b[0mjson\u001b[0m \u001b[1;33m=\u001b[0m \u001b[0mself\u001b[0m\u001b[1;33m.\u001b[0m\u001b[0m_RequestUrl\u001b[0m\u001b[1;33m(\u001b[0m\u001b[0murl\u001b[0m\u001b[1;33m,\u001b[0m \u001b[1;34m'GET'\u001b[0m\u001b[1;33m,\u001b[0m \u001b[0mdata\u001b[0m\u001b[1;33m=\u001b[0m\u001b[0mparameters\u001b[0m\u001b[1;33m)\u001b[0m\u001b[1;33m\u001b[0m\u001b[0m\n\u001b[0m\u001b[0;32m    365\u001b[0m     \u001b[0mdata\u001b[0m \u001b[1;33m=\u001b[0m \u001b[0mself\u001b[0m\u001b[1;33m.\u001b[0m\u001b[0m_ParseAndCheckTwitter\u001b[0m\u001b[1;33m(\u001b[0m\u001b[0mjson\u001b[0m\u001b[1;33m.\u001b[0m\u001b[0mcontent\u001b[0m\u001b[1;33m)\u001b[0m\u001b[1;33m\u001b[0m\u001b[0m\n\u001b[0;32m    366\u001b[0m \u001b[1;33m\u001b[0m\u001b[0m\n",
      "\u001b[1;32m/home/popka/anaconda/lib/python2.7/site-packages/twitter/api.pyc\u001b[0m in \u001b[0;36m_RequestUrl\u001b[1;34m(self, url, verb, data)\u001b[0m\n\u001b[0;32m   3600\u001b[0m           \u001b[0murl\u001b[0m\u001b[1;33m,\u001b[0m\u001b[1;33m\u001b[0m\u001b[0m\n\u001b[0;32m   3601\u001b[0m           \u001b[0mauth\u001b[0m\u001b[1;33m=\u001b[0m\u001b[0mself\u001b[0m\u001b[1;33m.\u001b[0m\u001b[0m__auth\u001b[0m\u001b[1;33m,\u001b[0m\u001b[1;33m\u001b[0m\u001b[0m\n\u001b[1;32m-> 3602\u001b[1;33m           \u001b[0mtimeout\u001b[0m\u001b[1;33m=\u001b[0m\u001b[0mself\u001b[0m\u001b[1;33m.\u001b[0m\u001b[0m_timeout\u001b[0m\u001b[1;33m\u001b[0m\u001b[0m\n\u001b[0m\u001b[0;32m   3603\u001b[0m         )\n\u001b[0;32m   3604\u001b[0m       \u001b[1;32mexcept\u001b[0m \u001b[0mrequests\u001b[0m\u001b[1;33m.\u001b[0m\u001b[0mRequestException\u001b[0m \u001b[1;32mas\u001b[0m \u001b[0me\u001b[0m\u001b[1;33m:\u001b[0m\u001b[1;33m\u001b[0m\u001b[0m\n",
      "\u001b[1;32m/home/popka/anaconda/lib/python2.7/site-packages/requests/api.pyc\u001b[0m in \u001b[0;36mget\u001b[1;34m(url, params, **kwargs)\u001b[0m\n\u001b[0;32m     67\u001b[0m \u001b[1;33m\u001b[0m\u001b[0m\n\u001b[0;32m     68\u001b[0m     \u001b[0mkwargs\u001b[0m\u001b[1;33m.\u001b[0m\u001b[0msetdefault\u001b[0m\u001b[1;33m(\u001b[0m\u001b[1;34m'allow_redirects'\u001b[0m\u001b[1;33m,\u001b[0m \u001b[0mTrue\u001b[0m\u001b[1;33m)\u001b[0m\u001b[1;33m\u001b[0m\u001b[0m\n\u001b[1;32m---> 69\u001b[1;33m     \u001b[1;32mreturn\u001b[0m \u001b[0mrequest\u001b[0m\u001b[1;33m(\u001b[0m\u001b[1;34m'get'\u001b[0m\u001b[1;33m,\u001b[0m \u001b[0murl\u001b[0m\u001b[1;33m,\u001b[0m \u001b[0mparams\u001b[0m\u001b[1;33m=\u001b[0m\u001b[0mparams\u001b[0m\u001b[1;33m,\u001b[0m \u001b[1;33m**\u001b[0m\u001b[0mkwargs\u001b[0m\u001b[1;33m)\u001b[0m\u001b[1;33m\u001b[0m\u001b[0m\n\u001b[0m\u001b[0;32m     70\u001b[0m \u001b[1;33m\u001b[0m\u001b[0m\n\u001b[0;32m     71\u001b[0m \u001b[1;33m\u001b[0m\u001b[0m\n",
      "\u001b[1;32m/home/popka/anaconda/lib/python2.7/site-packages/requests/api.pyc\u001b[0m in \u001b[0;36mrequest\u001b[1;34m(method, url, **kwargs)\u001b[0m\n\u001b[0;32m     48\u001b[0m \u001b[1;33m\u001b[0m\u001b[0m\n\u001b[0;32m     49\u001b[0m     \u001b[0msession\u001b[0m \u001b[1;33m=\u001b[0m \u001b[0msessions\u001b[0m\u001b[1;33m.\u001b[0m\u001b[0mSession\u001b[0m\u001b[1;33m(\u001b[0m\u001b[1;33m)\u001b[0m\u001b[1;33m\u001b[0m\u001b[0m\n\u001b[1;32m---> 50\u001b[1;33m     \u001b[0mresponse\u001b[0m \u001b[1;33m=\u001b[0m \u001b[0msession\u001b[0m\u001b[1;33m.\u001b[0m\u001b[0mrequest\u001b[0m\u001b[1;33m(\u001b[0m\u001b[0mmethod\u001b[0m\u001b[1;33m=\u001b[0m\u001b[0mmethod\u001b[0m\u001b[1;33m,\u001b[0m \u001b[0murl\u001b[0m\u001b[1;33m=\u001b[0m\u001b[0murl\u001b[0m\u001b[1;33m,\u001b[0m \u001b[1;33m**\u001b[0m\u001b[0mkwargs\u001b[0m\u001b[1;33m)\u001b[0m\u001b[1;33m\u001b[0m\u001b[0m\n\u001b[0m\u001b[0;32m     51\u001b[0m     \u001b[1;31m# By explicitly closing the session, we avoid leaving sockets open which\u001b[0m\u001b[1;33m\u001b[0m\u001b[1;33m\u001b[0m\u001b[0m\n\u001b[0;32m     52\u001b[0m     \u001b[1;31m# can trigger a ResourceWarning in some cases, and look like a memory leak\u001b[0m\u001b[1;33m\u001b[0m\u001b[1;33m\u001b[0m\u001b[0m\n",
      "\u001b[1;32m/home/popka/anaconda/lib/python2.7/site-packages/requests/sessions.pyc\u001b[0m in \u001b[0;36mrequest\u001b[1;34m(self, method, url, params, data, headers, cookies, files, auth, timeout, allow_redirects, proxies, hooks, stream, verify, cert, json)\u001b[0m\n\u001b[0;32m    466\u001b[0m         }\n\u001b[0;32m    467\u001b[0m         \u001b[0msend_kwargs\u001b[0m\u001b[1;33m.\u001b[0m\u001b[0mupdate\u001b[0m\u001b[1;33m(\u001b[0m\u001b[0msettings\u001b[0m\u001b[1;33m)\u001b[0m\u001b[1;33m\u001b[0m\u001b[0m\n\u001b[1;32m--> 468\u001b[1;33m         \u001b[0mresp\u001b[0m \u001b[1;33m=\u001b[0m \u001b[0mself\u001b[0m\u001b[1;33m.\u001b[0m\u001b[0msend\u001b[0m\u001b[1;33m(\u001b[0m\u001b[0mprep\u001b[0m\u001b[1;33m,\u001b[0m \u001b[1;33m**\u001b[0m\u001b[0msend_kwargs\u001b[0m\u001b[1;33m)\u001b[0m\u001b[1;33m\u001b[0m\u001b[0m\n\u001b[0m\u001b[0;32m    469\u001b[0m \u001b[1;33m\u001b[0m\u001b[0m\n\u001b[0;32m    470\u001b[0m         \u001b[1;32mreturn\u001b[0m \u001b[0mresp\u001b[0m\u001b[1;33m\u001b[0m\u001b[0m\n",
      "\u001b[1;32m/home/popka/anaconda/lib/python2.7/site-packages/requests/sessions.pyc\u001b[0m in \u001b[0;36msend\u001b[1;34m(self, request, **kwargs)\u001b[0m\n\u001b[0;32m    574\u001b[0m \u001b[1;33m\u001b[0m\u001b[0m\n\u001b[0;32m    575\u001b[0m         \u001b[1;31m# Send the request\u001b[0m\u001b[1;33m\u001b[0m\u001b[1;33m\u001b[0m\u001b[0m\n\u001b[1;32m--> 576\u001b[1;33m         \u001b[0mr\u001b[0m \u001b[1;33m=\u001b[0m \u001b[0madapter\u001b[0m\u001b[1;33m.\u001b[0m\u001b[0msend\u001b[0m\u001b[1;33m(\u001b[0m\u001b[0mrequest\u001b[0m\u001b[1;33m,\u001b[0m \u001b[1;33m**\u001b[0m\u001b[0mkwargs\u001b[0m\u001b[1;33m)\u001b[0m\u001b[1;33m\u001b[0m\u001b[0m\n\u001b[0m\u001b[0;32m    577\u001b[0m \u001b[1;33m\u001b[0m\u001b[0m\n\u001b[0;32m    578\u001b[0m         \u001b[1;31m# Total elapsed time of the request (approximately)\u001b[0m\u001b[1;33m\u001b[0m\u001b[1;33m\u001b[0m\u001b[0m\n",
      "\u001b[1;32m/home/popka/anaconda/lib/python2.7/site-packages/requests/adapters.pyc\u001b[0m in \u001b[0;36msend\u001b[1;34m(self, request, stream, timeout, verify, cert, proxies)\u001b[0m\n\u001b[0;32m    368\u001b[0m                     \u001b[0mdecode_content\u001b[0m\u001b[1;33m=\u001b[0m\u001b[0mFalse\u001b[0m\u001b[1;33m,\u001b[0m\u001b[1;33m\u001b[0m\u001b[0m\n\u001b[0;32m    369\u001b[0m                     \u001b[0mretries\u001b[0m\u001b[1;33m=\u001b[0m\u001b[0mself\u001b[0m\u001b[1;33m.\u001b[0m\u001b[0mmax_retries\u001b[0m\u001b[1;33m,\u001b[0m\u001b[1;33m\u001b[0m\u001b[0m\n\u001b[1;32m--> 370\u001b[1;33m                     \u001b[0mtimeout\u001b[0m\u001b[1;33m=\u001b[0m\u001b[0mtimeout\u001b[0m\u001b[1;33m\u001b[0m\u001b[0m\n\u001b[0m\u001b[0;32m    371\u001b[0m                 )\n\u001b[0;32m    372\u001b[0m \u001b[1;33m\u001b[0m\u001b[0m\n",
      "\u001b[1;32m/home/popka/anaconda/lib/python2.7/site-packages/requests/packages/urllib3/connectionpool.pyc\u001b[0m in \u001b[0;36murlopen\u001b[1;34m(self, method, url, body, headers, retries, redirect, assert_same_host, timeout, pool_timeout, release_conn, **response_kw)\u001b[0m\n\u001b[0;32m    557\u001b[0m             httplib_response = self._make_request(conn, method, url,\n\u001b[0;32m    558\u001b[0m                                                   \u001b[0mtimeout\u001b[0m\u001b[1;33m=\u001b[0m\u001b[0mtimeout_obj\u001b[0m\u001b[1;33m,\u001b[0m\u001b[1;33m\u001b[0m\u001b[0m\n\u001b[1;32m--> 559\u001b[1;33m                                                   body=body, headers=headers)\n\u001b[0m\u001b[0;32m    560\u001b[0m \u001b[1;33m\u001b[0m\u001b[0m\n\u001b[0;32m    561\u001b[0m             \u001b[1;31m# If we're going to release the connection in ``finally:``, then\u001b[0m\u001b[1;33m\u001b[0m\u001b[1;33m\u001b[0m\u001b[0m\n",
      "\u001b[1;32m/home/popka/anaconda/lib/python2.7/site-packages/requests/packages/urllib3/connectionpool.pyc\u001b[0m in \u001b[0;36m_make_request\u001b[1;34m(self, conn, method, url, timeout, **httplib_request_kw)\u001b[0m\n\u001b[0;32m    343\u001b[0m         \u001b[1;31m# Trigger any extra validation we need to do.\u001b[0m\u001b[1;33m\u001b[0m\u001b[1;33m\u001b[0m\u001b[0m\n\u001b[0;32m    344\u001b[0m         \u001b[1;32mtry\u001b[0m\u001b[1;33m:\u001b[0m\u001b[1;33m\u001b[0m\u001b[0m\n\u001b[1;32m--> 345\u001b[1;33m             \u001b[0mself\u001b[0m\u001b[1;33m.\u001b[0m\u001b[0m_validate_conn\u001b[0m\u001b[1;33m(\u001b[0m\u001b[0mconn\u001b[0m\u001b[1;33m)\u001b[0m\u001b[1;33m\u001b[0m\u001b[0m\n\u001b[0m\u001b[0;32m    346\u001b[0m         \u001b[1;32mexcept\u001b[0m \u001b[1;33m(\u001b[0m\u001b[0mSocketTimeout\u001b[0m\u001b[1;33m,\u001b[0m \u001b[0mBaseSSLError\u001b[0m\u001b[1;33m)\u001b[0m \u001b[1;32mas\u001b[0m \u001b[0me\u001b[0m\u001b[1;33m:\u001b[0m\u001b[1;33m\u001b[0m\u001b[0m\n\u001b[0;32m    347\u001b[0m             \u001b[1;31m# Py2 raises this as a BaseSSLError, Py3 raises it as socket timeout.\u001b[0m\u001b[1;33m\u001b[0m\u001b[1;33m\u001b[0m\u001b[0m\n",
      "\u001b[1;32m/home/popka/anaconda/lib/python2.7/site-packages/requests/packages/urllib3/connectionpool.pyc\u001b[0m in \u001b[0;36m_validate_conn\u001b[1;34m(self, conn)\u001b[0m\n\u001b[0;32m    780\u001b[0m         \u001b[1;31m# Force connect early to allow us to validate the connection.\u001b[0m\u001b[1;33m\u001b[0m\u001b[1;33m\u001b[0m\u001b[0m\n\u001b[0;32m    781\u001b[0m         \u001b[1;32mif\u001b[0m \u001b[1;32mnot\u001b[0m \u001b[0mgetattr\u001b[0m\u001b[1;33m(\u001b[0m\u001b[0mconn\u001b[0m\u001b[1;33m,\u001b[0m \u001b[1;34m'sock'\u001b[0m\u001b[1;33m,\u001b[0m \u001b[0mNone\u001b[0m\u001b[1;33m)\u001b[0m\u001b[1;33m:\u001b[0m  \u001b[1;31m# AppEngine might not have  `.sock`\u001b[0m\u001b[1;33m\u001b[0m\u001b[0m\n\u001b[1;32m--> 782\u001b[1;33m             \u001b[0mconn\u001b[0m\u001b[1;33m.\u001b[0m\u001b[0mconnect\u001b[0m\u001b[1;33m(\u001b[0m\u001b[1;33m)\u001b[0m\u001b[1;33m\u001b[0m\u001b[0m\n\u001b[0m\u001b[0;32m    783\u001b[0m \u001b[1;33m\u001b[0m\u001b[0m\n\u001b[0;32m    784\u001b[0m         \u001b[1;32mif\u001b[0m \u001b[1;32mnot\u001b[0m \u001b[0mconn\u001b[0m\u001b[1;33m.\u001b[0m\u001b[0mis_verified\u001b[0m\u001b[1;33m:\u001b[0m\u001b[1;33m\u001b[0m\u001b[0m\n",
      "\u001b[1;32m/home/popka/anaconda/lib/python2.7/site-packages/requests/packages/urllib3/connection.pyc\u001b[0m in \u001b[0;36mconnect\u001b[1;34m(self)\u001b[0m\n\u001b[0;32m    248\u001b[0m                                     \u001b[0mca_cert_dir\u001b[0m\u001b[1;33m=\u001b[0m\u001b[0mself\u001b[0m\u001b[1;33m.\u001b[0m\u001b[0mca_cert_dir\u001b[0m\u001b[1;33m,\u001b[0m\u001b[1;33m\u001b[0m\u001b[0m\n\u001b[0;32m    249\u001b[0m                                     \u001b[0mserver_hostname\u001b[0m\u001b[1;33m=\u001b[0m\u001b[0mhostname\u001b[0m\u001b[1;33m,\u001b[0m\u001b[1;33m\u001b[0m\u001b[0m\n\u001b[1;32m--> 250\u001b[1;33m                                     ssl_version=resolved_ssl_version)\n\u001b[0m\u001b[0;32m    251\u001b[0m \u001b[1;33m\u001b[0m\u001b[0m\n\u001b[0;32m    252\u001b[0m         \u001b[1;32mif\u001b[0m \u001b[0mself\u001b[0m\u001b[1;33m.\u001b[0m\u001b[0massert_fingerprint\u001b[0m\u001b[1;33m:\u001b[0m\u001b[1;33m\u001b[0m\u001b[0m\n",
      "\u001b[1;32m/home/popka/anaconda/lib/python2.7/site-packages/requests/packages/urllib3/util/ssl_.pyc\u001b[0m in \u001b[0;36mssl_wrap_socket\u001b[1;34m(sock, keyfile, certfile, cert_reqs, ca_certs, server_hostname, ssl_version, ciphers, ssl_context, ca_cert_dir)\u001b[0m\n\u001b[0;32m    283\u001b[0m         \u001b[0mcontext\u001b[0m\u001b[1;33m.\u001b[0m\u001b[0mload_cert_chain\u001b[0m\u001b[1;33m(\u001b[0m\u001b[0mcertfile\u001b[0m\u001b[1;33m,\u001b[0m \u001b[0mkeyfile\u001b[0m\u001b[1;33m)\u001b[0m\u001b[1;33m\u001b[0m\u001b[0m\n\u001b[0;32m    284\u001b[0m     \u001b[1;32mif\u001b[0m \u001b[0mHAS_SNI\u001b[0m\u001b[1;33m:\u001b[0m  \u001b[1;31m# Platform-specific: OpenSSL with enabled SNI\u001b[0m\u001b[1;33m\u001b[0m\u001b[0m\n\u001b[1;32m--> 285\u001b[1;33m         \u001b[1;32mreturn\u001b[0m \u001b[0mcontext\u001b[0m\u001b[1;33m.\u001b[0m\u001b[0mwrap_socket\u001b[0m\u001b[1;33m(\u001b[0m\u001b[0msock\u001b[0m\u001b[1;33m,\u001b[0m \u001b[0mserver_hostname\u001b[0m\u001b[1;33m=\u001b[0m\u001b[0mserver_hostname\u001b[0m\u001b[1;33m)\u001b[0m\u001b[1;33m\u001b[0m\u001b[0m\n\u001b[0m\u001b[0;32m    286\u001b[0m     \u001b[1;32mreturn\u001b[0m \u001b[0mcontext\u001b[0m\u001b[1;33m.\u001b[0m\u001b[0mwrap_socket\u001b[0m\u001b[1;33m(\u001b[0m\u001b[0msock\u001b[0m\u001b[1;33m)\u001b[0m\u001b[1;33m\u001b[0m\u001b[0m\n",
      "\u001b[1;32m/home/popka/anaconda/lib/python2.7/ssl.pyc\u001b[0m in \u001b[0;36mwrap_socket\u001b[1;34m(self, sock, server_side, do_handshake_on_connect, suppress_ragged_eofs, server_hostname)\u001b[0m\n\u001b[0;32m    350\u001b[0m                          \u001b[0msuppress_ragged_eofs\u001b[0m\u001b[1;33m=\u001b[0m\u001b[0msuppress_ragged_eofs\u001b[0m\u001b[1;33m,\u001b[0m\u001b[1;33m\u001b[0m\u001b[0m\n\u001b[0;32m    351\u001b[0m                          \u001b[0mserver_hostname\u001b[0m\u001b[1;33m=\u001b[0m\u001b[0mserver_hostname\u001b[0m\u001b[1;33m,\u001b[0m\u001b[1;33m\u001b[0m\u001b[0m\n\u001b[1;32m--> 352\u001b[1;33m                          _context=self)\n\u001b[0m\u001b[0;32m    353\u001b[0m \u001b[1;33m\u001b[0m\u001b[0m\n\u001b[0;32m    354\u001b[0m     \u001b[1;32mdef\u001b[0m \u001b[0mset_npn_protocols\u001b[0m\u001b[1;33m(\u001b[0m\u001b[0mself\u001b[0m\u001b[1;33m,\u001b[0m \u001b[0mnpn_protocols\u001b[0m\u001b[1;33m)\u001b[0m\u001b[1;33m:\u001b[0m\u001b[1;33m\u001b[0m\u001b[0m\n",
      "\u001b[1;32m/home/popka/anaconda/lib/python2.7/ssl.pyc\u001b[0m in \u001b[0;36m__init__\u001b[1;34m(self, sock, keyfile, certfile, server_side, cert_reqs, ssl_version, ca_certs, do_handshake_on_connect, family, type, proto, fileno, suppress_ragged_eofs, npn_protocols, ciphers, server_hostname, _context)\u001b[0m\n\u001b[0;32m    577\u001b[0m                         \u001b[1;31m# non-blocking\u001b[0m\u001b[1;33m\u001b[0m\u001b[1;33m\u001b[0m\u001b[0m\n\u001b[0;32m    578\u001b[0m                         \u001b[1;32mraise\u001b[0m \u001b[0mValueError\u001b[0m\u001b[1;33m(\u001b[0m\u001b[1;34m\"do_handshake_on_connect should not be specified for non-blocking sockets\"\u001b[0m\u001b[1;33m)\u001b[0m\u001b[1;33m\u001b[0m\u001b[0m\n\u001b[1;32m--> 579\u001b[1;33m                     \u001b[0mself\u001b[0m\u001b[1;33m.\u001b[0m\u001b[0mdo_handshake\u001b[0m\u001b[1;33m(\u001b[0m\u001b[1;33m)\u001b[0m\u001b[1;33m\u001b[0m\u001b[0m\n\u001b[0m\u001b[0;32m    580\u001b[0m \u001b[1;33m\u001b[0m\u001b[0m\n\u001b[0;32m    581\u001b[0m             \u001b[1;32mexcept\u001b[0m \u001b[1;33m(\u001b[0m\u001b[0mOSError\u001b[0m\u001b[1;33m,\u001b[0m \u001b[0mValueError\u001b[0m\u001b[1;33m)\u001b[0m\u001b[1;33m:\u001b[0m\u001b[1;33m\u001b[0m\u001b[0m\n",
      "\u001b[1;32m/home/popka/anaconda/lib/python2.7/ssl.pyc\u001b[0m in \u001b[0;36mdo_handshake\u001b[1;34m(self, block)\u001b[0m\n\u001b[0;32m    806\u001b[0m             \u001b[1;32mif\u001b[0m \u001b[0mtimeout\u001b[0m \u001b[1;33m==\u001b[0m \u001b[1;36m0.0\u001b[0m \u001b[1;32mand\u001b[0m \u001b[0mblock\u001b[0m\u001b[1;33m:\u001b[0m\u001b[1;33m\u001b[0m\u001b[0m\n\u001b[0;32m    807\u001b[0m                 \u001b[0mself\u001b[0m\u001b[1;33m.\u001b[0m\u001b[0msettimeout\u001b[0m\u001b[1;33m(\u001b[0m\u001b[0mNone\u001b[0m\u001b[1;33m)\u001b[0m\u001b[1;33m\u001b[0m\u001b[0m\n\u001b[1;32m--> 808\u001b[1;33m             \u001b[0mself\u001b[0m\u001b[1;33m.\u001b[0m\u001b[0m_sslobj\u001b[0m\u001b[1;33m.\u001b[0m\u001b[0mdo_handshake\u001b[0m\u001b[1;33m(\u001b[0m\u001b[1;33m)\u001b[0m\u001b[1;33m\u001b[0m\u001b[0m\n\u001b[0m\u001b[0;32m    809\u001b[0m         \u001b[1;32mfinally\u001b[0m\u001b[1;33m:\u001b[0m\u001b[1;33m\u001b[0m\u001b[0m\n\u001b[0;32m    810\u001b[0m             \u001b[0mself\u001b[0m\u001b[1;33m.\u001b[0m\u001b[0msettimeout\u001b[0m\u001b[1;33m(\u001b[0m\u001b[0mtimeout\u001b[0m\u001b[1;33m)\u001b[0m\u001b[1;33m\u001b[0m\u001b[0m\n",
      "\u001b[1;31mKeyboardInterrupt\u001b[0m: "
     ]
    }
   ],
   "source": [
    "tw = TwitterLoader()\n",
    "tweeter_data = tw.load_tweets_by_term(pages)"
   ]
  },
  {
   "cell_type": "code",
   "execution_count": null,
   "metadata": {
    "collapsed": false
   },
   "outputs": [],
   "source": [
    "tweeter_data = pd.DataFrame(tweeter_data)\n",
    "tweeter_data.to_csv(OUT_TWITTER_FILE, sep=\",\", index=False, encoding=\"utf-8\", quoting=csv.QUOTE_NONNUMERIC)"
   ]
  },
  {
   "cell_type": "code",
   "execution_count": null,
   "metadata": {
    "collapsed": false
   },
   "outputs": [],
   "source": []
  },
  {
   "cell_type": "code",
   "execution_count": null,
   "metadata": {
    "collapsed": true
   },
   "outputs": [],
   "source": []
  },
  {
   "cell_type": "code",
   "execution_count": null,
   "metadata": {
    "collapsed": true
   },
   "outputs": [],
   "source": []
  },
  {
   "cell_type": "code",
   "execution_count": null,
   "metadata": {
    "collapsed": true
   },
   "outputs": [],
   "source": []
  },
  {
   "cell_type": "code",
   "execution_count": null,
   "metadata": {
    "collapsed": true
   },
   "outputs": [],
   "source": []
  },
  {
   "cell_type": "code",
   "execution_count": null,
   "metadata": {
    "collapsed": true
   },
   "outputs": [],
   "source": []
  },
  {
   "cell_type": "code",
   "execution_count": null,
   "metadata": {
    "collapsed": true
   },
   "outputs": [],
   "source": []
  },
  {
   "cell_type": "markdown",
   "metadata": {
    "collapsed": true
   },
   "source": [
    "### Подготавливаем  данные для анализа"
   ]
  },
  {
   "cell_type": "code",
   "execution_count": 155,
   "metadata": {
    "collapsed": true
   },
   "outputs": [],
   "source": [
    "news_info = pd.read_csv(OUT_NEWS_FILE, sep=\",\")\n",
    "tweeter_data = pd.read_csv(OUT_TWITTER_FILE, sep=\",\")"
   ]
  },
  {
   "cell_type": "code",
   "execution_count": 156,
   "metadata": {
    "collapsed": false
   },
   "outputs": [
    {
     "data": {
      "text/html": [
       "<div>\n",
       "<table border=\"1\" class=\"dataframe\">\n",
       "  <thead>\n",
       "    <tr style=\"text-align: right;\">\n",
       "      <th></th>\n",
       "      <th>comments</th>\n",
       "      <th>date</th>\n",
       "      <th>source</th>\n",
       "      <th>tags</th>\n",
       "      <th>title</th>\n",
       "      <th>type</th>\n",
       "      <th>url</th>\n",
       "      <th>views</th>\n",
       "    </tr>\n",
       "  </thead>\n",
       "  <tbody>\n",
       "    <tr>\n",
       "      <th>0</th>\n",
       "      <td>14</td>\n",
       "      <td>2015-11-29 01:04</td>\n",
       "      <td>NaN</td>\n",
       "      <td>[]</td>\n",
       "      <td>Основатель социальной платформы Stampsy Роман ...</td>\n",
       "      <td>VC</td>\n",
       "      <td>https://vc.ru/n/mazurenko</td>\n",
       "      <td>20230</td>\n",
       "    </tr>\n",
       "    <tr>\n",
       "      <th>1</th>\n",
       "      <td>109</td>\n",
       "      <td>2015-11-28 21:03</td>\n",
       "      <td>NaN</td>\n",
       "      <td>[турция, найм, Владимир Путин]</td>\n",
       "      <td>Путин запретил российским компаниям нанимать н...</td>\n",
       "      <td>VC</td>\n",
       "      <td>https://vc.ru/n/tur-work</td>\n",
       "      <td>8299</td>\n",
       "    </tr>\n",
       "    <tr>\n",
       "      <th>2</th>\n",
       "      <td>14</td>\n",
       "      <td>2015-11-28 19:15</td>\n",
       "      <td>NaN</td>\n",
       "      <td>[Facebook, Apple, square, google ventures]</td>\n",
       "      <td>«Если у вас есть свой бизнес, не читайте комме...</td>\n",
       "      <td>VC</td>\n",
       "      <td>https://vc.ru/p/say-no-to-comments</td>\n",
       "      <td>4230</td>\n",
       "    </tr>\n",
       "    <tr>\n",
       "      <th>3</th>\n",
       "      <td>21</td>\n",
       "      <td>2015-11-28 12:27</td>\n",
       "      <td>NaN</td>\n",
       "      <td>[скидки, black friday, черная пятница]</td>\n",
       "      <td>Создатели Cards Against Humanity ничего не про...</td>\n",
       "      <td>VC</td>\n",
       "      <td>https://vc.ru/n/cards-money</td>\n",
       "      <td>21673</td>\n",
       "    </tr>\n",
       "    <tr>\n",
       "      <th>4</th>\n",
       "      <td>8</td>\n",
       "      <td>2015-11-27 20:34</td>\n",
       "      <td>NaN</td>\n",
       "      <td>[instagram]</td>\n",
       "      <td>Instagram начал тестировать поддержку нескольк...</td>\n",
       "      <td>VC</td>\n",
       "      <td>https://vc.ru/n/instagram-android</td>\n",
       "      <td>3489</td>\n",
       "    </tr>\n",
       "    <tr>\n",
       "      <th>5</th>\n",
       "      <td>19</td>\n",
       "      <td>2015-11-27 19:13</td>\n",
       "      <td>NaN</td>\n",
       "      <td>[instagram, Додо Пицца, инстаграм, персона в i...</td>\n",
       "      <td>Персона в Instagram: Фёдор Овчинников, основат...</td>\n",
       "      <td>VC</td>\n",
       "      <td>https://vc.ru/p/ovchinnikov-instagram</td>\n",
       "      <td>5310</td>\n",
       "    </tr>\n",
       "    <tr>\n",
       "      <th>6</th>\n",
       "      <td>4</td>\n",
       "      <td>2015-11-27 18:09</td>\n",
       "      <td>NaN</td>\n",
       "      <td>[yota, Денис Свердлов, kinetik, roborace]</td>\n",
       "      <td>Сооснователь Yota Денис Свердлов анонсировал г...</td>\n",
       "      <td>VC</td>\n",
       "      <td>https://vc.ru/n/yota-roborace</td>\n",
       "      <td>1463</td>\n",
       "    </tr>\n",
       "    <tr>\n",
       "      <th>7</th>\n",
       "      <td>17</td>\n",
       "      <td>2015-11-27 17:52</td>\n",
       "      <td>NaN</td>\n",
       "      <td>[]</td>\n",
       "      <td>Как найти главного технического специалиста в ...</td>\n",
       "      <td>VC</td>\n",
       "      <td>https://vc.ru/p/problem-14323</td>\n",
       "      <td>2034</td>\n",
       "    </tr>\n",
       "    <tr>\n",
       "      <th>8</th>\n",
       "      <td>15</td>\n",
       "      <td>2015-11-27 17:37</td>\n",
       "      <td>NaN</td>\n",
       "      <td>[Игры, онлайн-игры, аналитика, Flurry, сервис ...</td>\n",
       "      <td>Сравнение систем аналитики для игровых проекто...</td>\n",
       "      <td>VC</td>\n",
       "      <td>https://vc.ru/p/game-analytics</td>\n",
       "      <td>1583</td>\n",
       "    </tr>\n",
       "    <tr>\n",
       "      <th>9</th>\n",
       "      <td>51</td>\n",
       "      <td>2015-11-27 16:47</td>\n",
       "      <td>NaN</td>\n",
       "      <td>[Бипиум]</td>\n",
       "      <td>«Бипиум» — платформа для создания CRM, BPM, Se...</td>\n",
       "      <td>VC</td>\n",
       "      <td>https://vc.ru/p/bpium</td>\n",
       "      <td>2664</td>\n",
       "    </tr>\n",
       "  </tbody>\n",
       "</table>\n",
       "</div>"
      ],
      "text/plain": [
       "   comments              date source  \\\n",
       "0        14  2015-11-29 01:04    NaN   \n",
       "1       109  2015-11-28 21:03    NaN   \n",
       "2        14  2015-11-28 19:15    NaN   \n",
       "3        21  2015-11-28 12:27    NaN   \n",
       "4         8  2015-11-27 20:34    NaN   \n",
       "5        19  2015-11-27 19:13    NaN   \n",
       "6         4  2015-11-27 18:09    NaN   \n",
       "7        17  2015-11-27 17:52    NaN   \n",
       "8        15  2015-11-27 17:37    NaN   \n",
       "9        51  2015-11-27 16:47    NaN   \n",
       "\n",
       "                                                tags  \\\n",
       "0                                                 []   \n",
       "1                     [турция, найм, Владимир Путин]   \n",
       "2         [Facebook, Apple, square, google ventures]   \n",
       "3             [скидки, black friday, черная пятница]   \n",
       "4                                        [instagram]   \n",
       "5  [instagram, Додо Пицца, инстаграм, персона в i...   \n",
       "6          [yota, Денис Свердлов, kinetik, roborace]   \n",
       "7                                                 []   \n",
       "8  [Игры, онлайн-игры, аналитика, Flurry, сервис ...   \n",
       "9                                           [Бипиум]   \n",
       "\n",
       "                                               title type  \\\n",
       "0  Основатель социальной платформы Stampsy Роман ...   VC   \n",
       "1  Путин запретил российским компаниям нанимать н...   VC   \n",
       "2  «Если у вас есть свой бизнес, не читайте комме...   VC   \n",
       "3  Создатели Cards Against Humanity ничего не про...   VC   \n",
       "4  Instagram начал тестировать поддержку нескольк...   VC   \n",
       "5  Персона в Instagram: Фёдор Овчинников, основат...   VC   \n",
       "6  Сооснователь Yota Денис Свердлов анонсировал г...   VC   \n",
       "7  Как найти главного технического специалиста в ...   VC   \n",
       "8  Сравнение систем аналитики для игровых проекто...   VC   \n",
       "9  «Бипиум» — платформа для создания CRM, BPM, Se...   VC   \n",
       "\n",
       "                                     url  views  \n",
       "0              https://vc.ru/n/mazurenko  20230  \n",
       "1               https://vc.ru/n/tur-work   8299  \n",
       "2     https://vc.ru/p/say-no-to-comments   4230  \n",
       "3            https://vc.ru/n/cards-money  21673  \n",
       "4      https://vc.ru/n/instagram-android   3489  \n",
       "5  https://vc.ru/p/ovchinnikov-instagram   5310  \n",
       "6          https://vc.ru/n/yota-roborace   1463  \n",
       "7          https://vc.ru/p/problem-14323   2034  \n",
       "8         https://vc.ru/p/game-analytics   1583  \n",
       "9                  https://vc.ru/p/bpium   2664  "
      ]
     },
     "execution_count": 156,
     "metadata": {},
     "output_type": "execute_result"
    }
   ],
   "source": [
    "news_info.head(10)"
   ]
  },
  {
   "cell_type": "code",
   "execution_count": 157,
   "metadata": {
    "collapsed": false
   },
   "outputs": [
    {
     "data": {
      "text/plain": [
       "187"
      ]
     },
     "execution_count": 157,
     "metadata": {},
     "output_type": "execute_result"
    }
   ],
   "source": [
    "# !!!!   !!!!!!!!!! !!!!!!!!!!1 !!!!!!!!!!!!\n",
    "# Сначала почищу данные. Там, где не материалы редакции - мусор, на который твитов то почти и нет!\n",
    "news_info = news_info[ (news_info['type'] == \"VC\") | (news_info[\"type\"] == \"TJ_P\")]\n",
    "len(news_info[\"url\"].unique())"
   ]
  },
  {
   "cell_type": "code",
   "execution_count": 158,
   "metadata": {
    "collapsed": false
   },
   "outputs": [],
   "source": [
    "# Мерджим дата фреймы\n",
    "df = news_info.merge(tweeter_data, on='url', left_index=True, right_index=False)"
   ]
  },
  {
   "cell_type": "code",
   "execution_count": 159,
   "metadata": {
    "collapsed": false
   },
   "outputs": [
    {
     "data": {
      "text/html": [
       "<div>\n",
       "<table border=\"1\" class=\"dataframe\">\n",
       "  <thead>\n",
       "    <tr style=\"text-align: right;\">\n",
       "      <th></th>\n",
       "      <th>comments</th>\n",
       "      <th>date</th>\n",
       "      <th>source</th>\n",
       "      <th>tags</th>\n",
       "      <th>title</th>\n",
       "      <th>type</th>\n",
       "      <th>url</th>\n",
       "      <th>views</th>\n",
       "      <th>created_at</th>\n",
       "      <th>favorite_count</th>\n",
       "      <th>is_retweet</th>\n",
       "      <th>retweeted_count</th>\n",
       "      <th>tw_id</th>\n",
       "      <th>user_favourites_count</th>\n",
       "      <th>user_followers_count</th>\n",
       "      <th>user_friends_count</th>\n",
       "      <th>user_listed_count</th>\n",
       "      <th>user_statuses_count</th>\n",
       "    </tr>\n",
       "  </thead>\n",
       "  <tbody>\n",
       "    <tr>\n",
       "      <th>0</th>\n",
       "      <td>14</td>\n",
       "      <td>2015-11-29 01:04</td>\n",
       "      <td>NaN</td>\n",
       "      <td>[]</td>\n",
       "      <td>Основатель социальной платформы Stampsy Роман ...</td>\n",
       "      <td>VC</td>\n",
       "      <td>https://vc.ru/n/mazurenko</td>\n",
       "      <td>20230</td>\n",
       "      <td>2015-11-29 15:28:17</td>\n",
       "      <td>0</td>\n",
       "      <td>0</td>\n",
       "      <td>0</td>\n",
       "      <td>670942353667006464</td>\n",
       "      <td>261</td>\n",
       "      <td>105</td>\n",
       "      <td>201</td>\n",
       "      <td>0</td>\n",
       "      <td>496</td>\n",
       "    </tr>\n",
       "  </tbody>\n",
       "</table>\n",
       "</div>"
      ],
      "text/plain": [
       "   comments              date source tags  \\\n",
       "0        14  2015-11-29 01:04    NaN   []   \n",
       "\n",
       "                                               title type  \\\n",
       "0  Основатель социальной платформы Stampsy Роман ...   VC   \n",
       "\n",
       "                         url  views           created_at  favorite_count  \\\n",
       "0  https://vc.ru/n/mazurenko  20230  2015-11-29 15:28:17               0   \n",
       "\n",
       "   is_retweet  retweeted_count               tw_id  user_favourites_count  \\\n",
       "0           0                0  670942353667006464                    261   \n",
       "\n",
       "   user_followers_count  user_friends_count  user_listed_count  \\\n",
       "0                   105                 201                  0   \n",
       "\n",
       "   user_statuses_count  \n",
       "0                  496  "
      ]
     },
     "execution_count": 159,
     "metadata": {},
     "output_type": "execute_result"
    }
   ],
   "source": [
    "df.head(1)"
   ]
  },
  {
   "cell_type": "code",
   "execution_count": 160,
   "metadata": {
    "collapsed": true
   },
   "outputs": [],
   "source": [
    "def diff_date_minutes(news_date, tweet_date):\n",
    "    news_date = datetime.strptime(news_date, '%Y-%m-%d %H:%M')\n",
    "    tweet_date = datetime.strptime(tweet_date, '%Y-%m-%d %H:%M:%S')\n",
    "    return int((tweet_date-news_date).total_seconds()/60)"
   ]
  },
  {
   "cell_type": "code",
   "execution_count": 161,
   "metadata": {
    "collapsed": false
   },
   "outputs": [],
   "source": [
    "# количество минут, с момента публикации записи, данного твита\n",
    "df[\"time_since_news\"] = df.apply(lambda s: diff_date_minutes(s[\"date\"], s[\"created_at\"]), axis=1)"
   ]
  },
  {
   "cell_type": "code",
   "execution_count": 162,
   "metadata": {
    "collapsed": false
   },
   "outputs": [],
   "source": [
    "def get_week_day(date):\n",
    "    date = datetime.strptime(date, '%Y-%m-%d %H:%M')\n",
    "    return date.weekday()"
   ]
  },
  {
   "cell_type": "code",
   "execution_count": 163,
   "metadata": {
    "collapsed": false
   },
   "outputs": [],
   "source": [
    "# индекс дня недели\n",
    "df[\"week_day_news\"] = df.date.apply(lambda s: get_week_day(s))"
   ]
  },
  {
   "cell_type": "code",
   "execution_count": 164,
   "metadata": {
    "collapsed": true
   },
   "outputs": [],
   "source": [
    "def get_minutes_since_midnight(date):\n",
    "    midnight = date.split(\" \")[0] + \" 00:00\"\n",
    "    date = datetime.strptime(date, '%Y-%m-%d %H:%M')\n",
    "    midnight = datetime.strptime(midnight, '%Y-%m-%d %H:%M')\n",
    "    return int((date-midnight).total_seconds()/60)"
   ]
  },
  {
   "cell_type": "code",
   "execution_count": 165,
   "metadata": {
    "collapsed": true
   },
   "outputs": [],
   "source": [
    "# Сколько минут времени прошло с полуночи\n",
    "df[\"minutes_since_midnight\"] = df.date.apply(lambda s: get_minutes_since_midnight(s))"
   ]
  },
  {
   "cell_type": "markdown",
   "metadata": {},
   "source": [
    "### Агрегируем данные из твиттера"
   ]
  },
  {
   "cell_type": "code",
   "execution_count": 166,
   "metadata": {
    "collapsed": true
   },
   "outputs": [],
   "source": [
    "# Время для вычисления независимых переменных\n",
    "FIRST_TIME = 10\n",
    "# Время для вычисления целевой функции\n",
    "LAST_TIME = 180"
   ]
  },
  {
   "cell_type": "code",
   "execution_count": 167,
   "metadata": {
    "collapsed": false
   },
   "outputs": [
    {
     "data": {
      "text/plain": [
       "187"
      ]
     },
     "execution_count": 167,
     "metadata": {},
     "output_type": "execute_result"
    }
   ],
   "source": [
    "len(df[\"url\"].unique())"
   ]
  },
  {
   "cell_type": "code",
   "execution_count": 168,
   "metadata": {
    "collapsed": false
   },
   "outputs": [],
   "source": [
    "ft_df = df[df[\"time_since_news\"] <= FIRST_TIME]"
   ]
  },
  {
   "cell_type": "code",
   "execution_count": 169,
   "metadata": {
    "collapsed": true
   },
   "outputs": [],
   "source": [
    "grouped = ft_df.groupby(\"url\")"
   ]
  },
  {
   "cell_type": "code",
   "execution_count": 170,
   "metadata": {
    "collapsed": true
   },
   "outputs": [],
   "source": [
    "# Считаем общее количество твиттов\n",
    "count_of_tweets = pd.DataFrame(grouped[\"url\"].count())\n",
    "count_of_tweets.columns = [\"first_time_tweet\"]\n",
    "count_of_tweets.reset_index(inplace=True)  \n",
    "df = pd.merge(df, count_of_tweets, on='url', left_index=True, right_index=False, how=\"outer\")"
   ]
  },
  {
   "cell_type": "code",
   "execution_count": 171,
   "metadata": {
    "collapsed": false
   },
   "outputs": [],
   "source": [
    "# Считаем общую аудиторию\n",
    "follower_sum = pd.DataFrame(grouped[\"user_followers_count\"].sum())\n",
    "follower_sum.columns = [\"follower_sum\"]\n",
    "follower_sum.reset_index(inplace=True)  \n",
    "df = pd.merge(df, follower_sum, on='url', left_index=True, right_index=False, how=\"outer\")"
   ]
  },
  {
   "cell_type": "code",
   "execution_count": 172,
   "metadata": {
    "collapsed": true
   },
   "outputs": [],
   "source": [
    "# Считаем число ретвитов\n",
    "retweeted_count_sum = pd.DataFrame(grouped[\"retweeted_count\"].sum())\n",
    "retweeted_count_sum.columns = [\"retweeted_count_sum\"]\n",
    "retweeted_count_sum.reset_index(inplace=True)  \n",
    "df = pd.merge(df, retweeted_count_sum, on='url', left_index=True, right_index=False, how=\"outer\")"
   ]
  },
  {
   "cell_type": "code",
   "execution_count": 173,
   "metadata": {
    "collapsed": true
   },
   "outputs": [],
   "source": [
    "# Считаем число звездочек\n",
    "favorite_count_sum = pd.DataFrame(grouped[\"favorite_count\"].sum())\n",
    "favorite_count_sum.columns = [\"favorite_count_sum\"]\n",
    "favorite_count_sum.reset_index(inplace=True)  \n",
    "df = pd.merge(df, favorite_count_sum, on='url', left_index=True, right_index=False, how=\"outer\")"
   ]
  },
  {
   "cell_type": "code",
   "execution_count": 174,
   "metadata": {
    "collapsed": true
   },
   "outputs": [],
   "source": [
    "# Считаем общее число списков, в которых состоят сделавшие посты\n",
    "user_listed_count = pd.DataFrame(grouped[\"user_listed_count\"].sum())\n",
    "user_listed_count.columns = [\"user_listed_count_sum\"]\n",
    "user_listed_count.reset_index(inplace=True)  \n",
    "df = pd.merge(df, user_listed_count, on='url', left_index=True, right_index=False, how=\"outer\")"
   ]
  },
  {
   "cell_type": "code",
   "execution_count": 175,
   "metadata": {
    "collapsed": false
   },
   "outputs": [],
   "source": [
    "st_df = df[df[\"time_since_news\"] <= LAST_TIME]"
   ]
  },
  {
   "cell_type": "code",
   "execution_count": 176,
   "metadata": {
    "collapsed": false
   },
   "outputs": [],
   "source": [
    "# Выделяем значение целевой функции\n",
    "grouped = st_df.groupby(\"url\")\n",
    "count_of_tweets = pd.DataFrame(grouped[\"url\"].count())\n",
    "count_of_tweets.columns = [\"last_time_tweet\"]\n",
    "count_of_tweets.reset_index(inplace=True)  \n",
    "df = pd.merge(df, count_of_tweets, on='url', left_index=True, right_index=False, how=\"outer\")"
   ]
  },
  {
   "cell_type": "code",
   "execution_count": 177,
   "metadata": {
    "collapsed": true
   },
   "outputs": [],
   "source": [
    "PREPARED_CSV = \"prepared_to_analys.csv\""
   ]
  },
  {
   "cell_type": "code",
   "execution_count": 178,
   "metadata": {
    "collapsed": true
   },
   "outputs": [],
   "source": [
    "# Сохраняемся\n",
    "df.to_csv(PREPARED_CSV, sep=\",\", index=False, encoding=\"utf-8\", quoting=csv.QUOTE_NONNUMERIC)"
   ]
  },
  {
   "cell_type": "code",
   "execution_count": 179,
   "metadata": {
    "collapsed": false
   },
   "outputs": [
    {
     "data": {
      "text/plain": [
       "187"
      ]
     },
     "execution_count": 179,
     "metadata": {},
     "output_type": "execute_result"
    }
   ],
   "source": [
    "len(df[\"url\"].unique())"
   ]
  },
  {
   "cell_type": "markdown",
   "metadata": {},
   "source": [
    "### Учимся "
   ]
  },
  {
   "cell_type": "code",
   "execution_count": 4,
   "metadata": {
    "collapsed": false
   },
   "outputs": [],
   "source": [
    "df = pd.read_csv(PREPARED_CSV, sep=\",\")"
   ]
  },
  {
   "cell_type": "code",
   "execution_count": 44,
   "metadata": {
    "collapsed": false
   },
   "outputs": [
    {
     "data": {
      "text/plain": [
       "9"
      ]
     },
     "execution_count": 44,
     "metadata": {},
     "output_type": "execute_result"
    }
   ],
   "source": [
    "# Удаляем лишние столбцы\n",
    "major_features = [\"url\", \"week_day_news\", \"minutes_since_midnight\", \"first_time_tweet\",\"follower_sum\", \"retweeted_count_sum\", \"favorite_count_sum\", \"user_listed_count_sum\", \"last_time_tweet\"]\n",
    "df = df[major_features]"
   ]
  },
  {
   "cell_type": "code",
   "execution_count": 6,
   "metadata": {
    "collapsed": false
   },
   "outputs": [],
   "source": [
    "\n",
    "# С глубоким прискорбием удаляем NA - если ничего не было, пока не будем будмать, что могло быть\n",
    "df = df.drop_duplicates().dropna()"
   ]
  },
  {
   "cell_type": "code",
   "execution_count": 7,
   "metadata": {
    "collapsed": false
   },
   "outputs": [
    {
     "data": {
      "text/plain": [
       "70"
      ]
     },
     "execution_count": 7,
     "metadata": {},
     "output_type": "execute_result"
    }
   ],
   "source": [
    "# В итоге имеем:\n",
    "len(df)"
   ]
  },
  {
   "cell_type": "code",
   "execution_count": 8,
   "metadata": {
    "collapsed": false
   },
   "outputs": [],
   "source": [
    "x = df[df.columns[1:-1]].as_matrix()\n",
    "y = df[df.columns[-1]].as_matrix()"
   ]
  },
  {
   "cell_type": "code",
   "execution_count": 9,
   "metadata": {
    "collapsed": true
   },
   "outputs": [],
   "source": [
    "# Делим данные\n",
    "x_train, x_test, y_train, y_test = cv.train_test_split(x, y, test_size=0.2)"
   ]
  },
  {
   "cell_type": "markdown",
   "metadata": {},
   "source": [
    "### Линейная регрессия "
   ]
  },
  {
   "cell_type": "code",
   "execution_count": 38,
   "metadata": {
    "collapsed": false
   },
   "outputs": [],
   "source": [
    "from sklearn.linear_model import LinearRegression"
   ]
  },
  {
   "cell_type": "code",
   "execution_count": 39,
   "metadata": {
    "collapsed": false
   },
   "outputs": [],
   "source": [
    "lr = LinearRegression()\n",
    "lr = lr.fit(x_train, y_train)\n",
    "y_predicted = lr.predict(x_test)"
   ]
  },
  {
   "cell_type": "code",
   "execution_count": 40,
   "metadata": {
    "collapsed": false
   },
   "outputs": [
    {
     "data": {
      "text/plain": [
       "2070.1060057082786"
      ]
     },
     "execution_count": 40,
     "metadata": {},
     "output_type": "execute_result"
    }
   ],
   "source": [
    "mean_squared_error(y_test, y_predicted)"
   ]
  },
  {
   "cell_type": "code",
   "execution_count": 43,
   "metadata": {
    "collapsed": false
   },
   "outputs": [
    {
     "data": {
      "text/plain": [
       "[<matplotlib.lines.Line2D at 0x7f82e60915d0>]"
      ]
     },
     "execution_count": 43,
     "metadata": {},
     "output_type": "execute_result"
    },
    {
     "data": {
      "image/png": "[encoded data removed]",
      "text/plain": [
       "<matplotlib.figure.Figure at 0x7f82e60916d0>"
      ]
     },
     "metadata": {},
     "output_type": "display_data"
    }
   ],
   "source": [
    "plt.plot(range(len(lr.predict(x_train))), lr.predict(x_train), 'bo')\n",
    "plt.plot(range(len(y_train)), y_train, 'ro')"
   ]
  },
  {
   "cell_type": "code",
   "execution_count": 597,
   "metadata": {
    "collapsed": false
   },
   "outputs": [
    {
     "data": {
      "text/plain": [
       "[<matplotlib.lines.Line2D at 0x7f4f00769790>]"
      ]
     },
     "execution_count": 597,
     "metadata": {},
     "output_type": "execute_result"
    },
    {
     "data": {
      "image/png": "[encoded data removed]",
      "text/plain": [
       "<matplotlib.figure.Figure at 0x7f4f00769810>"
      ]
     },
     "metadata": {},
     "output_type": "display_data"
    }
   ],
   "source": [
    "plt.plot(range(len(y_predicted)), y_predicted, 'bo')\n",
    "plt.plot(range(len(y_test)), y_test, 'ro')"
   ]
  },
  {
   "cell_type": "code",
   "execution_count": 598,
   "metadata": {
    "collapsed": false
   },
   "outputs": [
    {
     "name": "stdout",
     "output_type": "stream",
     "text": [
      "[ 76.   5.  56.  14.   1.  17.  88.  14.  19.  12.  20.  16.   7.  23.]\n",
      "[ 73.73999757  19.35556256  19.40303143  33.06472261  16.26917902\n",
      "  36.13488048 -61.58531015  36.61140735  29.77114989   3.05189897\n",
      "  11.59934649   0.82424155  30.19681027  19.32116633]\n"
     ]
    }
   ],
   "source": [
    "print y_test\n",
    "print y_predicted"
   ]
  },
  {
   "cell_type": "code",
   "execution_count": 599,
   "metadata": {
    "collapsed": false
   },
   "outputs": [
    {
     "data": {
      "text/plain": [
       "array([  7.92834320e+00,  -2.65306663e-02,   2.80957418e+00,\n",
       "         5.80122156e-05,  -9.24781564e-03,   3.13692316e-01,\n",
       "        -6.98444957e-03])"
      ]
     },
     "execution_count": 599,
     "metadata": {},
     "output_type": "execute_result"
    }
   ],
   "source": [
    "lr.coef_"
   ]
  },
  {
   "cell_type": "code",
   "execution_count": null,
   "metadata": {
    "collapsed": true
   },
   "outputs": [],
   "source": [
    "plot."
   ]
  },
  {
   "cell_type": "markdown",
   "metadata": {},
   "source": [
    "Попробуем прологарифмировать значение целевой функции"
   ]
  },
  {
   "cell_type": "code",
   "execution_count": 607,
   "metadata": {
    "collapsed": false
   },
   "outputs": [],
   "source": [
    "#x_log_train = np.log(x_train)\n",
    "y_log_train = np.log(y_train)\n",
    "\n",
    "#x_log_test = np.log(x_train)\n",
    "y_log_test = np.log(y_train)\n",
    "\n",
    "\n",
    "lr = LinearRegression()\n",
    "lr = lr.fit(x_train, y_log_train)\n",
    "y_predicted = lr.predict(x_test)"
   ]
  },
  {
   "cell_type": "code",
   "execution_count": 608,
   "metadata": {
    "collapsed": true
   },
   "outputs": [],
   "source": [
    "y_exp_predicted = np.exp(y_predicted)"
   ]
  },
  {
   "cell_type": "code",
   "execution_count": 609,
   "metadata": {
    "collapsed": false
   },
   "outputs": [
    {
     "data": {
      "text/plain": [
       "624.9965629283987"
      ]
     },
     "execution_count": 609,
     "metadata": {},
     "output_type": "execute_result"
    }
   ],
   "source": [
    "mean_squared_error(y_test, y_exp_predicted)"
   ]
  },
  {
   "cell_type": "code",
   "execution_count": 610,
   "metadata": {
    "collapsed": false
   },
   "outputs": [
    {
     "data": {
      "text/plain": [
       "[<matplotlib.lines.Line2D at 0x7f4f006f67d0>]"
      ]
     },
     "execution_count": 610,
     "metadata": {},
     "output_type": "execute_result"
    },
    {
     "data": {
      "image/png": "[encoded data removed]",
      "text/plain": [
       "<matplotlib.figure.Figure at 0x7f4f006f6ed0>"
      ]
     },
     "metadata": {},
     "output_type": "display_data"
    }
   ],
   "source": [
    "plt.plot(range(len(y_predicted)), y_predicted, 'bo')\n",
    "plt.plot(range(len(y_test)), y_test, 'ro')"
   ]
  },
  {
   "cell_type": "code",
   "execution_count": null,
   "metadata": {
    "collapsed": true
   },
   "outputs": [],
   "source": [
    "plt.plot(range(len(y_test)), y_predicted, 'bo')\n",
    "plt.plot(range(len(y_test)), y_test, 'ro')"
   ]
  },
  {
   "cell_type": "code",
   "execution_count": null,
   "metadata": {
    "collapsed": true
   },
   "outputs": [],
   "source": []
  },
  {
   "cell_type": "code",
   "execution_count": 35,
   "metadata": {
    "collapsed": false
   },
   "outputs": [],
   "source": [
    "from sklearn import linear_model\n",
    "clf = linear_model.Lasso(alpha=350000)\n",
    "clf = clf.fit(x_train, y_train)\n",
    "y_predicted = clf.predict(x_test)"
   ]
  },
  {
   "cell_type": "code",
   "execution_count": 36,
   "metadata": {
    "collapsed": false
   },
   "outputs": [
    {
     "data": {
      "text/plain": [
       "488.61090188358168"
      ]
     },
     "execution_count": 36,
     "metadata": {},
     "output_type": "execute_result"
    }
   ],
   "source": [
    "mean_squared_error(y_test, y_predicted)"
   ]
  },
  {
   "cell_type": "markdown",
   "metadata": {},
   "source": [
    "# После первого запуска, через несколько дней, запускать только часть, которая находится под этим заголовком!"
   ]
  },
  {
   "cell_type": "code",
   "execution_count": 138,
   "metadata": {
    "collapsed": true
   },
   "outputs": [],
   "source": [
    "HOURS = 8 # Количество часов от текущего момента. Текущее время - Hours часов - время последней собранной новости"
   ]
  },
  {
   "cell_type": "code",
   "execution_count": 126,
   "metadata": {
    "collapsed": false
   },
   "outputs": [
    {
     "name": "stdout",
     "output_type": "stream",
     "text": [
      "Качаем новости с  2015-11-25 13:53  и  2015-11-25 12:56  по  2015-11-29 11:39\n",
      "Скачали  10  страниц\n",
      "Скачали  20  страниц\n",
      "Скачали  30  страниц\n",
      "Скачали  40  страниц\n",
      "Скачали  50  страниц\n",
      "Скачали  60  страниц\n",
      "Скачали  70  страниц\n",
      "Скачали  80  страниц\n",
      "Скачали  90  страниц\n",
      "Скачали  100  страниц\n",
      "Скачали  110  страниц\n",
      "Скачали  120  страниц\n",
      "Скачали  130  страниц\n",
      "Скачали  140  страниц\n",
      "Скачали  150  страниц\n",
      "Скачали  10  страниц\n",
      "Скачали  20  страниц\n",
      "Скачали  30  страниц\n",
      "Скачали  40  страниц\n",
      "Собрано информация о 10  новостях\n",
      "Собрано информация о 20  новостях\n",
      "Собрано информация о 30  новостях\n",
      "Собрано информация о 40  новостях\n",
      "Собрано информация о 50  новостях\n",
      "Собрано информация о 60  новостях\n",
      "Собрано информация о 70  новостях\n",
      "Собрано информация о 80  новостях\n",
      "Собрано информация о 90  новостях\n",
      "Собрано информация о 100  новостях\n",
      "Собрано информация о 110  новостях\n",
      "Собрано информация о 120  новостях\n",
      "Собрано информация о 130  новостях\n",
      "Собрано информация о 140  новостях\n",
      "Собрано информация о 150  новостях\n",
      "Собрано информация о 160  новостях\n",
      "Собрано информация о 170  новостях\n",
      "Собрано информация о 180  новостях\n",
      "[{u'message': u'Rate limit exceeded', u'code': 88}]\n",
      "Спим 754 сек.\n",
      "Собрано информация о 190  новостях\n",
      "Собрано информация о 200  новостях\n"
     ]
    }
   ],
   "source": [
    "def get_hours_ago(hours=3):\n",
    "    d = datetime.now() - timedelta(hours=hours)\n",
    "    d = str(d).split(\":\")\n",
    "    d = d[0]+\":\"+d[1]\n",
    "    return d\n",
    "\n",
    "\n",
    "def load_new_news(news_df, hours=3):\n",
    "    # Вычисляем самую молодую новость\n",
    "    tj_p_last_date = (news_df[news_df[\"type\"]==\"TJ_P\"][\"date\"]).max()\n",
    "    tj_c_last_date = (news_df[news_df[\"type\"]==\"TJ_C\"][\"date\"]).max()\n",
    "    \n",
    "    tj_last_date = max(tj_p_last_date, tj_c_last_date)\n",
    "    vc_last_date = (news_df[news_df[\"type\"]==\"VC\"][\"date\"]).max()\n",
    "    first_date = get_hours_ago(hours)\n",
    "    \n",
    "    \n",
    "    print \"Качаем новости с \", tj_last_date,\" и \", vc_last_date, \" по \", first_date\n",
    "    \n",
    "    tj_loader = TJLoader()\n",
    "    tj_pages = tj_loader.get_tj_news_info(min_index=0, count=4, first_date=first_date, last_date=tj_last_date)    \n",
    "    \n",
    "    vc_loader = VCLoader()\n",
    "    vc_pages = vc_loader.get_tj_news_info(first_date=first_date, last_date=vc_last_date)\n",
    "    \n",
    "    pages = vc_pages + tj_pages\n",
    "    pages\n",
    "    \n",
    "    return pages\n",
    "\n",
    "# Загружаем данные\n",
    "news_prev_df = pd.read_csv(OUT_NEWS_FILE, sep=\",\")\n",
    "twitter_prev_df = pd.read_csv(OUT_TWITTER_FILE, sep=\",\")\n",
    "\n",
    "pages = load_new_news(news_prev_df, HOURS)\n",
    "\n",
    "tw = TwitterLoader()\n",
    "tweets = tw.load_tweets_by_term(pages)\n",
    "\n",
    "# Объединяем новости с предыдущими\n",
    "news = pd.DataFrame(pages)\n",
    "news = (news.append(news_df)).reset_index(drop=True)\n",
    "\n",
    "# Объединяем твиты с предыдущими\n",
    "tweets_df = pd.DataFrame(tweets)\n",
    "tweets_df = (tweets_df.append(twitter_prev_df)).reset_index(drop=True)\n",
    "\n",
    "# Сохраняем\n",
    "tweets_df.to_csv(OUT_TWITTER_FILE, sep=\",\", index=False, encoding=\"utf-8\", quoting=csv.QUOTE_NONNUMERIC)\n",
    "news.to_csv(OUT_NEWS_FILE, sep=\",\", index=False, encoding=\"utf-8\", quoting=csv.QUOTE_NONNUMERIC)"
   ]
  },
  {
   "cell_type": "code",
   "execution_count": 137,
   "metadata": {
    "collapsed": false
   },
   "outputs": [
    {
     "data": {
      "text/html": [
       "<div>\n",
       "<table border=\"1\" class=\"dataframe\">\n",
       "  <thead>\n",
       "    <tr style=\"text-align: right;\">\n",
       "      <th></th>\n",
       "      <th>index</th>\n",
       "      <th>created_at</th>\n",
       "      <th>favorite_count</th>\n",
       "      <th>is_retweet</th>\n",
       "      <th>retweeted_count</th>\n",
       "      <th>tw_id</th>\n",
       "      <th>url</th>\n",
       "      <th>user_favourites_count</th>\n",
       "      <th>user_followers_count</th>\n",
       "      <th>user_friends_count</th>\n",
       "      <th>user_listed_count</th>\n",
       "      <th>user_statuses_count</th>\n",
       "    </tr>\n",
       "  </thead>\n",
       "  <tbody>\n",
       "    <tr>\n",
       "      <th>0</th>\n",
       "      <td>0</td>\n",
       "      <td>2015-11-29 15:28:17</td>\n",
       "      <td>0</td>\n",
       "      <td>0</td>\n",
       "      <td>0</td>\n",
       "      <td>670942353667006464</td>\n",
       "      <td>https://vc.ru/n/mazurenko</td>\n",
       "      <td>261</td>\n",
       "      <td>105</td>\n",
       "      <td>201</td>\n",
       "      <td>0</td>\n",
       "      <td>496</td>\n",
       "    </tr>\n",
       "    <tr>\n",
       "      <th>1</th>\n",
       "      <td>1</td>\n",
       "      <td>2015-11-29 15:26:26</td>\n",
       "      <td>0</td>\n",
       "      <td>0</td>\n",
       "      <td>0</td>\n",
       "      <td>670941890653634561</td>\n",
       "      <td>https://vc.ru/n/mazurenko</td>\n",
       "      <td>110</td>\n",
       "      <td>13</td>\n",
       "      <td>2</td>\n",
       "      <td>0</td>\n",
       "      <td>18</td>\n",
       "    </tr>\n",
       "    <tr>\n",
       "      <th>2</th>\n",
       "      <td>2</td>\n",
       "      <td>2015-11-29 11:42:56</td>\n",
       "      <td>0</td>\n",
       "      <td>1</td>\n",
       "      <td>0</td>\n",
       "      <td>670885642788839425</td>\n",
       "      <td>https://vc.ru/n/mazurenko</td>\n",
       "      <td>480</td>\n",
       "      <td>36</td>\n",
       "      <td>153</td>\n",
       "      <td>3</td>\n",
       "      <td>320</td>\n",
       "    </tr>\n",
       "    <tr>\n",
       "      <th>3</th>\n",
       "      <td>3</td>\n",
       "      <td>2015-11-29 11:41:00</td>\n",
       "      <td>0</td>\n",
       "      <td>0</td>\n",
       "      <td>0</td>\n",
       "      <td>670885157679820800</td>\n",
       "      <td>https://vc.ru/n/mazurenko</td>\n",
       "      <td>164</td>\n",
       "      <td>1410</td>\n",
       "      <td>103</td>\n",
       "      <td>70</td>\n",
       "      <td>206359</td>\n",
       "    </tr>\n",
       "    <tr>\n",
       "      <th>4</th>\n",
       "      <td>4</td>\n",
       "      <td>2015-11-29 03:33:41</td>\n",
       "      <td>0</td>\n",
       "      <td>0</td>\n",
       "      <td>0</td>\n",
       "      <td>670762518718128128</td>\n",
       "      <td>https://vc.ru/n/mazurenko</td>\n",
       "      <td>764</td>\n",
       "      <td>4091</td>\n",
       "      <td>126</td>\n",
       "      <td>108</td>\n",
       "      <td>6539</td>\n",
       "    </tr>\n",
       "    <tr>\n",
       "      <th>5</th>\n",
       "      <td>5</td>\n",
       "      <td>2015-11-29 02:59:09</td>\n",
       "      <td>0</td>\n",
       "      <td>0</td>\n",
       "      <td>0</td>\n",
       "      <td>670753827537223680</td>\n",
       "      <td>https://vc.ru/n/mazurenko</td>\n",
       "      <td>403</td>\n",
       "      <td>4716</td>\n",
       "      <td>5048</td>\n",
       "      <td>45</td>\n",
       "      <td>40962</td>\n",
       "    </tr>\n",
       "    <tr>\n",
       "      <th>6</th>\n",
       "      <td>6</td>\n",
       "      <td>2015-11-29 01:57:03</td>\n",
       "      <td>0</td>\n",
       "      <td>0</td>\n",
       "      <td>0</td>\n",
       "      <td>670738199153651712</td>\n",
       "      <td>https://vc.ru/n/mazurenko</td>\n",
       "      <td>47</td>\n",
       "      <td>1494</td>\n",
       "      <td>99</td>\n",
       "      <td>57</td>\n",
       "      <td>5662</td>\n",
       "    </tr>\n",
       "    <tr>\n",
       "      <th>7</th>\n",
       "      <td>7</td>\n",
       "      <td>2015-11-29 01:31:25</td>\n",
       "      <td>0</td>\n",
       "      <td>1</td>\n",
       "      <td>0</td>\n",
       "      <td>670731749610115072</td>\n",
       "      <td>https://vc.ru/n/mazurenko</td>\n",
       "      <td>749</td>\n",
       "      <td>115</td>\n",
       "      <td>63</td>\n",
       "      <td>3</td>\n",
       "      <td>16024</td>\n",
       "    </tr>\n",
       "    <tr>\n",
       "      <th>8</th>\n",
       "      <td>8</td>\n",
       "      <td>2015-11-29 01:18:06</td>\n",
       "      <td>0</td>\n",
       "      <td>0</td>\n",
       "      <td>0</td>\n",
       "      <td>670728400856875009</td>\n",
       "      <td>https://vc.ru/n/mazurenko</td>\n",
       "      <td>4270</td>\n",
       "      <td>6532</td>\n",
       "      <td>355</td>\n",
       "      <td>554</td>\n",
       "      <td>71382</td>\n",
       "    </tr>\n",
       "    <tr>\n",
       "      <th>9</th>\n",
       "      <td>9</td>\n",
       "      <td>2015-11-29 01:15:25</td>\n",
       "      <td>0</td>\n",
       "      <td>1</td>\n",
       "      <td>0</td>\n",
       "      <td>670727724898603008</td>\n",
       "      <td>https://vc.ru/n/mazurenko</td>\n",
       "      <td>279</td>\n",
       "      <td>508</td>\n",
       "      <td>364</td>\n",
       "      <td>17</td>\n",
       "      <td>30756</td>\n",
       "    </tr>\n",
       "    <tr>\n",
       "      <th>10</th>\n",
       "      <td>10</td>\n",
       "      <td>2015-11-29 01:13:50</td>\n",
       "      <td>0</td>\n",
       "      <td>1</td>\n",
       "      <td>0</td>\n",
       "      <td>670727326838181889</td>\n",
       "      <td>https://vc.ru/n/mazurenko</td>\n",
       "      <td>5827</td>\n",
       "      <td>1053</td>\n",
       "      <td>235</td>\n",
       "      <td>16</td>\n",
       "      <td>66070</td>\n",
       "    </tr>\n",
       "    <tr>\n",
       "      <th>11</th>\n",
       "      <td>11</td>\n",
       "      <td>2015-11-29 01:05:10</td>\n",
       "      <td>3</td>\n",
       "      <td>0</td>\n",
       "      <td>6</td>\n",
       "      <td>670725144076263426</td>\n",
       "      <td>https://vc.ru/n/mazurenko</td>\n",
       "      <td>10</td>\n",
       "      <td>59635</td>\n",
       "      <td>7</td>\n",
       "      <td>672</td>\n",
       "      <td>15369</td>\n",
       "    </tr>\n",
       "    <tr>\n",
       "      <th>12</th>\n",
       "      <td>12</td>\n",
       "      <td>2015-11-29 08:03:35</td>\n",
       "      <td>0</td>\n",
       "      <td>1</td>\n",
       "      <td>0</td>\n",
       "      <td>670830443076431872</td>\n",
       "      <td>https://vc.ru/n/tur-work</td>\n",
       "      <td>12</td>\n",
       "      <td>21</td>\n",
       "      <td>28</td>\n",
       "      <td>0</td>\n",
       "      <td>476</td>\n",
       "    </tr>\n",
       "    <tr>\n",
       "      <th>13</th>\n",
       "      <td>13</td>\n",
       "      <td>2015-11-29 00:47:14</td>\n",
       "      <td>0</td>\n",
       "      <td>1</td>\n",
       "      <td>0</td>\n",
       "      <td>670720629964972034</td>\n",
       "      <td>https://vc.ru/n/tur-work</td>\n",
       "      <td>1436</td>\n",
       "      <td>126</td>\n",
       "      <td>221</td>\n",
       "      <td>9</td>\n",
       "      <td>7802</td>\n",
       "    </tr>\n",
       "    <tr>\n",
       "      <th>14</th>\n",
       "      <td>14</td>\n",
       "      <td>2015-11-28 23:30:52</td>\n",
       "      <td>0</td>\n",
       "      <td>1</td>\n",
       "      <td>0</td>\n",
       "      <td>670701414377762816</td>\n",
       "      <td>https://vc.ru/n/tur-work</td>\n",
       "      <td>181</td>\n",
       "      <td>152</td>\n",
       "      <td>225</td>\n",
       "      <td>21</td>\n",
       "      <td>201</td>\n",
       "    </tr>\n",
       "    <tr>\n",
       "      <th>15</th>\n",
       "      <td>15</td>\n",
       "      <td>2015-11-28 23:19:31</td>\n",
       "      <td>0</td>\n",
       "      <td>1</td>\n",
       "      <td>0</td>\n",
       "      <td>670698557066911744</td>\n",
       "      <td>https://vc.ru/n/tur-work</td>\n",
       "      <td>93</td>\n",
       "      <td>91</td>\n",
       "      <td>246</td>\n",
       "      <td>24</td>\n",
       "      <td>1996</td>\n",
       "    </tr>\n",
       "    <tr>\n",
       "      <th>16</th>\n",
       "      <td>16</td>\n",
       "      <td>2015-11-28 22:33:17</td>\n",
       "      <td>0</td>\n",
       "      <td>1</td>\n",
       "      <td>0</td>\n",
       "      <td>670686922709274625</td>\n",
       "      <td>https://vc.ru/n/tur-work</td>\n",
       "      <td>131</td>\n",
       "      <td>1347</td>\n",
       "      <td>64</td>\n",
       "      <td>3</td>\n",
       "      <td>1500</td>\n",
       "    </tr>\n",
       "    <tr>\n",
       "      <th>17</th>\n",
       "      <td>17</td>\n",
       "      <td>2015-11-28 21:37:33</td>\n",
       "      <td>0</td>\n",
       "      <td>1</td>\n",
       "      <td>0</td>\n",
       "      <td>670672896449191939</td>\n",
       "      <td>https://vc.ru/n/tur-work</td>\n",
       "      <td>3567</td>\n",
       "      <td>530</td>\n",
       "      <td>161</td>\n",
       "      <td>5</td>\n",
       "      <td>43163</td>\n",
       "    </tr>\n",
       "    <tr>\n",
       "      <th>18</th>\n",
       "      <td>18</td>\n",
       "      <td>2015-11-28 21:21:21</td>\n",
       "      <td>0</td>\n",
       "      <td>1</td>\n",
       "      <td>0</td>\n",
       "      <td>670668817136250880</td>\n",
       "      <td>https://vc.ru/n/tur-work</td>\n",
       "      <td>1156</td>\n",
       "      <td>346</td>\n",
       "      <td>151</td>\n",
       "      <td>26</td>\n",
       "      <td>39531</td>\n",
       "    </tr>\n",
       "    <tr>\n",
       "      <th>19</th>\n",
       "      <td>19</td>\n",
       "      <td>2015-11-28 21:17:58</td>\n",
       "      <td>0</td>\n",
       "      <td>0</td>\n",
       "      <td>0</td>\n",
       "      <td>670667967923900416</td>\n",
       "      <td>https://vc.ru/n/tur-work</td>\n",
       "      <td>97</td>\n",
       "      <td>8</td>\n",
       "      <td>145</td>\n",
       "      <td>8</td>\n",
       "      <td>5344</td>\n",
       "    </tr>\n",
       "    <tr>\n",
       "      <th>20</th>\n",
       "      <td>20</td>\n",
       "      <td>2015-11-28 21:17:54</td>\n",
       "      <td>0</td>\n",
       "      <td>0</td>\n",
       "      <td>0</td>\n",
       "      <td>670667949657706496</td>\n",
       "      <td>https://vc.ru/n/tur-work</td>\n",
       "      <td>464</td>\n",
       "      <td>80</td>\n",
       "      <td>62</td>\n",
       "      <td>2</td>\n",
       "      <td>6940</td>\n",
       "    </tr>\n",
       "    <tr>\n",
       "      <th>21</th>\n",
       "      <td>21</td>\n",
       "      <td>2015-11-28 21:12:55</td>\n",
       "      <td>0</td>\n",
       "      <td>1</td>\n",
       "      <td>0</td>\n",
       "      <td>670666695674040322</td>\n",
       "      <td>https://vc.ru/n/tur-work</td>\n",
       "      <td>135</td>\n",
       "      <td>38</td>\n",
       "      <td>98</td>\n",
       "      <td>0</td>\n",
       "      <td>74</td>\n",
       "    </tr>\n",
       "    <tr>\n",
       "      <th>22</th>\n",
       "      <td>22</td>\n",
       "      <td>2015-11-28 21:10:57</td>\n",
       "      <td>12</td>\n",
       "      <td>0</td>\n",
       "      <td>10</td>\n",
       "      <td>670666202486841344</td>\n",
       "      <td>https://vc.ru/n/tur-work</td>\n",
       "      <td>10</td>\n",
       "      <td>59635</td>\n",
       "      <td>7</td>\n",
       "      <td>672</td>\n",
       "      <td>15369</td>\n",
       "    </tr>\n",
       "    <tr>\n",
       "      <th>23</th>\n",
       "      <td>23</td>\n",
       "      <td>2015-11-29 17:08:08</td>\n",
       "      <td>0</td>\n",
       "      <td>1</td>\n",
       "      <td>0</td>\n",
       "      <td>670967480970514433</td>\n",
       "      <td>https://vc.ru/p/say-no-to-comments</td>\n",
       "      <td>1716</td>\n",
       "      <td>84</td>\n",
       "      <td>92</td>\n",
       "      <td>4</td>\n",
       "      <td>6880</td>\n",
       "    </tr>\n",
       "    <tr>\n",
       "      <th>24</th>\n",
       "      <td>24</td>\n",
       "      <td>2015-11-29 12:56:11</td>\n",
       "      <td>0</td>\n",
       "      <td>0</td>\n",
       "      <td>0</td>\n",
       "      <td>670904078101295104</td>\n",
       "      <td>https://vc.ru/p/say-no-to-comments</td>\n",
       "      <td>94</td>\n",
       "      <td>425</td>\n",
       "      <td>594</td>\n",
       "      <td>14</td>\n",
       "      <td>5434</td>\n",
       "    </tr>\n",
       "    <tr>\n",
       "      <th>25</th>\n",
       "      <td>25</td>\n",
       "      <td>2015-11-29 00:27:31</td>\n",
       "      <td>0</td>\n",
       "      <td>1</td>\n",
       "      <td>0</td>\n",
       "      <td>670715670498295809</td>\n",
       "      <td>https://vc.ru/p/say-no-to-comments</td>\n",
       "      <td>19</td>\n",
       "      <td>92</td>\n",
       "      <td>78</td>\n",
       "      <td>6</td>\n",
       "      <td>1471</td>\n",
       "    </tr>\n",
       "    <tr>\n",
       "      <th>26</th>\n",
       "      <td>26</td>\n",
       "      <td>2015-11-28 23:19:03</td>\n",
       "      <td>0</td>\n",
       "      <td>1</td>\n",
       "      <td>0</td>\n",
       "      <td>670698438514880512</td>\n",
       "      <td>https://vc.ru/p/say-no-to-comments</td>\n",
       "      <td>15</td>\n",
       "      <td>13</td>\n",
       "      <td>38</td>\n",
       "      <td>0</td>\n",
       "      <td>41</td>\n",
       "    </tr>\n",
       "    <tr>\n",
       "      <th>27</th>\n",
       "      <td>27</td>\n",
       "      <td>2015-11-28 23:16:14</td>\n",
       "      <td>0</td>\n",
       "      <td>1</td>\n",
       "      <td>0</td>\n",
       "      <td>670697731346849796</td>\n",
       "      <td>https://vc.ru/p/say-no-to-comments</td>\n",
       "      <td>14</td>\n",
       "      <td>28</td>\n",
       "      <td>14</td>\n",
       "      <td>2</td>\n",
       "      <td>254</td>\n",
       "    </tr>\n",
       "    <tr>\n",
       "      <th>28</th>\n",
       "      <td>28</td>\n",
       "      <td>2015-11-28 22:05:34</td>\n",
       "      <td>0</td>\n",
       "      <td>1</td>\n",
       "      <td>0</td>\n",
       "      <td>670679946809995265</td>\n",
       "      <td>https://vc.ru/p/say-no-to-comments</td>\n",
       "      <td>50</td>\n",
       "      <td>3045</td>\n",
       "      <td>31</td>\n",
       "      <td>85</td>\n",
       "      <td>8830</td>\n",
       "    </tr>\n",
       "    <tr>\n",
       "      <th>29</th>\n",
       "      <td>29</td>\n",
       "      <td>2015-11-28 21:45:38</td>\n",
       "      <td>0</td>\n",
       "      <td>1</td>\n",
       "      <td>0</td>\n",
       "      <td>670674929533255680</td>\n",
       "      <td>https://vc.ru/p/say-no-to-comments</td>\n",
       "      <td>201</td>\n",
       "      <td>242</td>\n",
       "      <td>208</td>\n",
       "      <td>6</td>\n",
       "      <td>18190</td>\n",
       "    </tr>\n",
       "    <tr>\n",
       "      <th>...</th>\n",
       "      <td>...</td>\n",
       "      <td>...</td>\n",
       "      <td>...</td>\n",
       "      <td>...</td>\n",
       "      <td>...</td>\n",
       "      <td>...</td>\n",
       "      <td>...</td>\n",
       "      <td>...</td>\n",
       "      <td>...</td>\n",
       "      <td>...</td>\n",
       "      <td>...</td>\n",
       "      <td>...</td>\n",
       "    </tr>\n",
       "    <tr>\n",
       "      <th>6374</th>\n",
       "      <td>3899</td>\n",
       "      <td>2015-11-24 17:15:28</td>\n",
       "      <td>0</td>\n",
       "      <td>1</td>\n",
       "      <td>0</td>\n",
       "      <td>669157390147788800</td>\n",
       "      <td>https://tjournal.ru/c/18031-vladelec-nivi-obya...</td>\n",
       "      <td>14</td>\n",
       "      <td>22808</td>\n",
       "      <td>82</td>\n",
       "      <td>411</td>\n",
       "      <td>93939</td>\n",
       "    </tr>\n",
       "    <tr>\n",
       "      <th>6375</th>\n",
       "      <td>3900</td>\n",
       "      <td>2015-11-24 17:15:18</td>\n",
       "      <td>0</td>\n",
       "      <td>1</td>\n",
       "      <td>0</td>\n",
       "      <td>669157347986640898</td>\n",
       "      <td>https://tjournal.ru/c/18031-vladelec-nivi-obya...</td>\n",
       "      <td>724</td>\n",
       "      <td>98</td>\n",
       "      <td>72</td>\n",
       "      <td>3</td>\n",
       "      <td>5897</td>\n",
       "    </tr>\n",
       "    <tr>\n",
       "      <th>6376</th>\n",
       "      <td>3901</td>\n",
       "      <td>2015-11-24 20:37:49</td>\n",
       "      <td>0</td>\n",
       "      <td>1</td>\n",
       "      <td>0</td>\n",
       "      <td>669208310801956864</td>\n",
       "      <td>https://tjournal.ru/c/18026-putin-nazval-krush...</td>\n",
       "      <td>520</td>\n",
       "      <td>12</td>\n",
       "      <td>30</td>\n",
       "      <td>0</td>\n",
       "      <td>606</td>\n",
       "    </tr>\n",
       "    <tr>\n",
       "      <th>6377</th>\n",
       "      <td>3902</td>\n",
       "      <td>2015-11-24 18:53:36</td>\n",
       "      <td>0</td>\n",
       "      <td>1</td>\n",
       "      <td>0</td>\n",
       "      <td>669182086310445056</td>\n",
       "      <td>https://tjournal.ru/c/18026-putin-nazval-krush...</td>\n",
       "      <td>85</td>\n",
       "      <td>34</td>\n",
       "      <td>74</td>\n",
       "      <td>16</td>\n",
       "      <td>8293</td>\n",
       "    </tr>\n",
       "    <tr>\n",
       "      <th>6378</th>\n",
       "      <td>3903</td>\n",
       "      <td>2015-11-24 16:24:17</td>\n",
       "      <td>0</td>\n",
       "      <td>1</td>\n",
       "      <td>0</td>\n",
       "      <td>669144506533564416</td>\n",
       "      <td>https://tjournal.ru/c/18026-putin-nazval-krush...</td>\n",
       "      <td>20</td>\n",
       "      <td>39</td>\n",
       "      <td>17</td>\n",
       "      <td>0</td>\n",
       "      <td>1645</td>\n",
       "    </tr>\n",
       "    <tr>\n",
       "      <th>6379</th>\n",
       "      <td>3904</td>\n",
       "      <td>2015-11-24 16:21:33</td>\n",
       "      <td>0</td>\n",
       "      <td>1</td>\n",
       "      <td>0</td>\n",
       "      <td>669143820735528960</td>\n",
       "      <td>https://tjournal.ru/c/18026-putin-nazval-krush...</td>\n",
       "      <td>38</td>\n",
       "      <td>1364</td>\n",
       "      <td>2170</td>\n",
       "      <td>45</td>\n",
       "      <td>36619</td>\n",
       "    </tr>\n",
       "    <tr>\n",
       "      <th>6380</th>\n",
       "      <td>3905</td>\n",
       "      <td>2015-11-24 16:20:54</td>\n",
       "      <td>0</td>\n",
       "      <td>1</td>\n",
       "      <td>0</td>\n",
       "      <td>669143657619005441</td>\n",
       "      <td>https://tjournal.ru/c/18026-putin-nazval-krush...</td>\n",
       "      <td>20926</td>\n",
       "      <td>16189</td>\n",
       "      <td>16113</td>\n",
       "      <td>109</td>\n",
       "      <td>79678</td>\n",
       "    </tr>\n",
       "    <tr>\n",
       "      <th>6381</th>\n",
       "      <td>3906</td>\n",
       "      <td>2015-11-24 16:16:48</td>\n",
       "      <td>0</td>\n",
       "      <td>1</td>\n",
       "      <td>0</td>\n",
       "      <td>669142623286910976</td>\n",
       "      <td>https://tjournal.ru/c/18026-putin-nazval-krush...</td>\n",
       "      <td>1043</td>\n",
       "      <td>222</td>\n",
       "      <td>820</td>\n",
       "      <td>52</td>\n",
       "      <td>18248</td>\n",
       "    </tr>\n",
       "    <tr>\n",
       "      <th>6382</th>\n",
       "      <td>3907</td>\n",
       "      <td>2015-11-24 16:16:09</td>\n",
       "      <td>0</td>\n",
       "      <td>1</td>\n",
       "      <td>0</td>\n",
       "      <td>669142462116577280</td>\n",
       "      <td>https://tjournal.ru/c/18026-putin-nazval-krush...</td>\n",
       "      <td>7344</td>\n",
       "      <td>737</td>\n",
       "      <td>1025</td>\n",
       "      <td>27</td>\n",
       "      <td>16627</td>\n",
       "    </tr>\n",
       "    <tr>\n",
       "      <th>6383</th>\n",
       "      <td>3908</td>\n",
       "      <td>2015-11-24 16:01:29</td>\n",
       "      <td>0</td>\n",
       "      <td>1</td>\n",
       "      <td>0</td>\n",
       "      <td>669138769451360256</td>\n",
       "      <td>https://tjournal.ru/c/18026-putin-nazval-krush...</td>\n",
       "      <td>19</td>\n",
       "      <td>131</td>\n",
       "      <td>358</td>\n",
       "      <td>3</td>\n",
       "      <td>19989</td>\n",
       "    </tr>\n",
       "    <tr>\n",
       "      <th>6384</th>\n",
       "      <td>3909</td>\n",
       "      <td>2015-11-24 16:00:57</td>\n",
       "      <td>0</td>\n",
       "      <td>1</td>\n",
       "      <td>0</td>\n",
       "      <td>669138637687246848</td>\n",
       "      <td>https://tjournal.ru/c/18026-putin-nazval-krush...</td>\n",
       "      <td>5338</td>\n",
       "      <td>32379</td>\n",
       "      <td>309</td>\n",
       "      <td>389</td>\n",
       "      <td>37240</td>\n",
       "    </tr>\n",
       "    <tr>\n",
       "      <th>6385</th>\n",
       "      <td>3910</td>\n",
       "      <td>2015-11-24 15:59:10</td>\n",
       "      <td>0</td>\n",
       "      <td>1</td>\n",
       "      <td>0</td>\n",
       "      <td>669138189253222400</td>\n",
       "      <td>https://tjournal.ru/c/18026-putin-nazval-krush...</td>\n",
       "      <td>333</td>\n",
       "      <td>261</td>\n",
       "      <td>125</td>\n",
       "      <td>2</td>\n",
       "      <td>4724</td>\n",
       "    </tr>\n",
       "    <tr>\n",
       "      <th>6386</th>\n",
       "      <td>3911</td>\n",
       "      <td>2015-11-24 15:58:53</td>\n",
       "      <td>0</td>\n",
       "      <td>1</td>\n",
       "      <td>0</td>\n",
       "      <td>669138116402356224</td>\n",
       "      <td>https://tjournal.ru/c/18026-putin-nazval-krush...</td>\n",
       "      <td>3082</td>\n",
       "      <td>559</td>\n",
       "      <td>536</td>\n",
       "      <td>17</td>\n",
       "      <td>40331</td>\n",
       "    </tr>\n",
       "    <tr>\n",
       "      <th>6387</th>\n",
       "      <td>3912</td>\n",
       "      <td>2015-11-24 15:58:29</td>\n",
       "      <td>0</td>\n",
       "      <td>1</td>\n",
       "      <td>0</td>\n",
       "      <td>669138013985746945</td>\n",
       "      <td>https://tjournal.ru/c/18026-putin-nazval-krush...</td>\n",
       "      <td>2682</td>\n",
       "      <td>199</td>\n",
       "      <td>212</td>\n",
       "      <td>0</td>\n",
       "      <td>7094</td>\n",
       "    </tr>\n",
       "    <tr>\n",
       "      <th>6388</th>\n",
       "      <td>3913</td>\n",
       "      <td>2015-11-24 15:58:08</td>\n",
       "      <td>0</td>\n",
       "      <td>1</td>\n",
       "      <td>0</td>\n",
       "      <td>669137926509473793</td>\n",
       "      <td>https://tjournal.ru/c/18026-putin-nazval-krush...</td>\n",
       "      <td>9</td>\n",
       "      <td>81</td>\n",
       "      <td>88</td>\n",
       "      <td>4</td>\n",
       "      <td>2652</td>\n",
       "    </tr>\n",
       "    <tr>\n",
       "      <th>6389</th>\n",
       "      <td>3914</td>\n",
       "      <td>2015-11-24 15:57:42</td>\n",
       "      <td>6</td>\n",
       "      <td>0</td>\n",
       "      <td>13</td>\n",
       "      <td>669137819152044033</td>\n",
       "      <td>https://tjournal.ru/c/18026-putin-nazval-krush...</td>\n",
       "      <td>135</td>\n",
       "      <td>244364</td>\n",
       "      <td>675</td>\n",
       "      <td>1159</td>\n",
       "      <td>39891</td>\n",
       "    </tr>\n",
       "    <tr>\n",
       "      <th>6390</th>\n",
       "      <td>3915</td>\n",
       "      <td>2015-11-24 15:00:27</td>\n",
       "      <td>0</td>\n",
       "      <td>1</td>\n",
       "      <td>0</td>\n",
       "      <td>669123412183396352</td>\n",
       "      <td>https://tjournal.ru/c/18014-v-gosdume-obvinili...</td>\n",
       "      <td>52</td>\n",
       "      <td>682</td>\n",
       "      <td>1300</td>\n",
       "      <td>10</td>\n",
       "      <td>4672</td>\n",
       "    </tr>\n",
       "    <tr>\n",
       "      <th>6391</th>\n",
       "      <td>3916</td>\n",
       "      <td>2015-11-24 14:55:52</td>\n",
       "      <td>0</td>\n",
       "      <td>1</td>\n",
       "      <td>0</td>\n",
       "      <td>669122255675355136</td>\n",
       "      <td>https://tjournal.ru/c/18014-v-gosdume-obvinili...</td>\n",
       "      <td>20</td>\n",
       "      <td>339</td>\n",
       "      <td>370</td>\n",
       "      <td>7</td>\n",
       "      <td>11631</td>\n",
       "    </tr>\n",
       "    <tr>\n",
       "      <th>6392</th>\n",
       "      <td>3917</td>\n",
       "      <td>2015-11-24 14:50:33</td>\n",
       "      <td>0</td>\n",
       "      <td>1</td>\n",
       "      <td>0</td>\n",
       "      <td>669120919848271872</td>\n",
       "      <td>https://tjournal.ru/c/18014-v-gosdume-obvinili...</td>\n",
       "      <td>1456</td>\n",
       "      <td>531</td>\n",
       "      <td>195</td>\n",
       "      <td>37</td>\n",
       "      <td>52360</td>\n",
       "    </tr>\n",
       "    <tr>\n",
       "      <th>6393</th>\n",
       "      <td>3918</td>\n",
       "      <td>2015-11-24 14:49:13</td>\n",
       "      <td>0</td>\n",
       "      <td>0</td>\n",
       "      <td>1</td>\n",
       "      <td>669120583444144128</td>\n",
       "      <td>https://tjournal.ru/c/18014-v-gosdume-obvinili...</td>\n",
       "      <td>43</td>\n",
       "      <td>433</td>\n",
       "      <td>443</td>\n",
       "      <td>19</td>\n",
       "      <td>54523</td>\n",
       "    </tr>\n",
       "    <tr>\n",
       "      <th>6394</th>\n",
       "      <td>3919</td>\n",
       "      <td>2015-11-24 14:43:32</td>\n",
       "      <td>0</td>\n",
       "      <td>1</td>\n",
       "      <td>0</td>\n",
       "      <td>669119155090669568</td>\n",
       "      <td>https://tjournal.ru/c/18014-v-gosdume-obvinili...</td>\n",
       "      <td>65</td>\n",
       "      <td>109</td>\n",
       "      <td>106</td>\n",
       "      <td>4</td>\n",
       "      <td>6290</td>\n",
       "    </tr>\n",
       "    <tr>\n",
       "      <th>6395</th>\n",
       "      <td>3920</td>\n",
       "      <td>2015-11-24 14:32:51</td>\n",
       "      <td>0</td>\n",
       "      <td>0</td>\n",
       "      <td>3</td>\n",
       "      <td>669116466185281536</td>\n",
       "      <td>https://tjournal.ru/c/18014-v-gosdume-obvinili...</td>\n",
       "      <td>2205</td>\n",
       "      <td>2174</td>\n",
       "      <td>696</td>\n",
       "      <td>84</td>\n",
       "      <td>93725</td>\n",
       "    </tr>\n",
       "    <tr>\n",
       "      <th>6396</th>\n",
       "      <td>3921</td>\n",
       "      <td>2015-11-24 14:05:21</td>\n",
       "      <td>0</td>\n",
       "      <td>0</td>\n",
       "      <td>0</td>\n",
       "      <td>669109544346329089</td>\n",
       "      <td>https://tjournal.ru/c/18014-v-gosdume-obvinili...</td>\n",
       "      <td>412</td>\n",
       "      <td>1595</td>\n",
       "      <td>123</td>\n",
       "      <td>38</td>\n",
       "      <td>109246</td>\n",
       "    </tr>\n",
       "    <tr>\n",
       "      <th>6397</th>\n",
       "      <td>3922</td>\n",
       "      <td>2015-11-24 12:27:34</td>\n",
       "      <td>0</td>\n",
       "      <td>0</td>\n",
       "      <td>0</td>\n",
       "      <td>669084934770937856</td>\n",
       "      <td>https://tjournal.ru/c/17999-tureckie-vvs-sbili...</td>\n",
       "      <td>90</td>\n",
       "      <td>43</td>\n",
       "      <td>96</td>\n",
       "      <td>4</td>\n",
       "      <td>541</td>\n",
       "    </tr>\n",
       "    <tr>\n",
       "      <th>6398</th>\n",
       "      <td>3923</td>\n",
       "      <td>2015-11-24 12:05:20</td>\n",
       "      <td>0</td>\n",
       "      <td>0</td>\n",
       "      <td>0</td>\n",
       "      <td>669079342656446464</td>\n",
       "      <td>https://tjournal.ru/c/17999-tureckie-vvs-sbili...</td>\n",
       "      <td>15</td>\n",
       "      <td>905</td>\n",
       "      <td>314</td>\n",
       "      <td>44</td>\n",
       "      <td>29226</td>\n",
       "    </tr>\n",
       "    <tr>\n",
       "      <th>6399</th>\n",
       "      <td>3924</td>\n",
       "      <td>2015-11-24 13:05:05</td>\n",
       "      <td>0</td>\n",
       "      <td>1</td>\n",
       "      <td>0</td>\n",
       "      <td>669094378535809024</td>\n",
       "      <td>https://tjournal.ru/c/17985-pravitelstvo-podde...</td>\n",
       "      <td>26</td>\n",
       "      <td>384</td>\n",
       "      <td>22</td>\n",
       "      <td>1</td>\n",
       "      <td>1410</td>\n",
       "    </tr>\n",
       "    <tr>\n",
       "      <th>6400</th>\n",
       "      <td>3925</td>\n",
       "      <td>2015-11-24 11:32:50</td>\n",
       "      <td>0</td>\n",
       "      <td>1</td>\n",
       "      <td>0</td>\n",
       "      <td>669071163159658496</td>\n",
       "      <td>https://tjournal.ru/c/17985-pravitelstvo-podde...</td>\n",
       "      <td>1950</td>\n",
       "      <td>92</td>\n",
       "      <td>36</td>\n",
       "      <td>19</td>\n",
       "      <td>17052</td>\n",
       "    </tr>\n",
       "    <tr>\n",
       "      <th>6401</th>\n",
       "      <td>3926</td>\n",
       "      <td>2015-11-24 11:26:37</td>\n",
       "      <td>0</td>\n",
       "      <td>1</td>\n",
       "      <td>0</td>\n",
       "      <td>669069599825141760</td>\n",
       "      <td>https://tjournal.ru/c/17985-pravitelstvo-podde...</td>\n",
       "      <td>6</td>\n",
       "      <td>231</td>\n",
       "      <td>376</td>\n",
       "      <td>5</td>\n",
       "      <td>2420</td>\n",
       "    </tr>\n",
       "    <tr>\n",
       "      <th>6402</th>\n",
       "      <td>3927</td>\n",
       "      <td>2015-11-24 11:23:13</td>\n",
       "      <td>2</td>\n",
       "      <td>0</td>\n",
       "      <td>3</td>\n",
       "      <td>669068743025278976</td>\n",
       "      <td>https://tjournal.ru/c/17985-pravitelstvo-podde...</td>\n",
       "      <td>135</td>\n",
       "      <td>244364</td>\n",
       "      <td>675</td>\n",
       "      <td>1159</td>\n",
       "      <td>39892</td>\n",
       "    </tr>\n",
       "    <tr>\n",
       "      <th>6403</th>\n",
       "      <td>3928</td>\n",
       "      <td>2015-11-24 10:13:35</td>\n",
       "      <td>0</td>\n",
       "      <td>0</td>\n",
       "      <td>0</td>\n",
       "      <td>669051219088965632</td>\n",
       "      <td>https://tjournal.ru/c/17984-dzhordzh-lukas-i-z...</td>\n",
       "      <td>7</td>\n",
       "      <td>110</td>\n",
       "      <td>105</td>\n",
       "      <td>111</td>\n",
       "      <td>19711</td>\n",
       "    </tr>\n",
       "  </tbody>\n",
       "</table>\n",
       "<p>6404 rows × 12 columns</p>\n",
       "</div>"
      ],
      "text/plain": [
       "      index           created_at  favorite_count  is_retweet  retweeted_count  \\\n",
       "0         0  2015-11-29 15:28:17               0           0                0   \n",
       "1         1  2015-11-29 15:26:26               0           0                0   \n",
       "2         2  2015-11-29 11:42:56               0           1                0   \n",
       "3         3  2015-11-29 11:41:00               0           0                0   \n",
       "4         4  2015-11-29 03:33:41               0           0                0   \n",
       "5         5  2015-11-29 02:59:09               0           0                0   \n",
       "6         6  2015-11-29 01:57:03               0           0                0   \n",
       "7         7  2015-11-29 01:31:25               0           1                0   \n",
       "8         8  2015-11-29 01:18:06               0           0                0   \n",
       "9         9  2015-11-29 01:15:25               0           1                0   \n",
       "10       10  2015-11-29 01:13:50               0           1                0   \n",
       "11       11  2015-11-29 01:05:10               3           0                6   \n",
       "12       12  2015-11-29 08:03:35               0           1                0   \n",
       "13       13  2015-11-29 00:47:14               0           1                0   \n",
       "14       14  2015-11-28 23:30:52               0           1                0   \n",
       "15       15  2015-11-28 23:19:31               0           1                0   \n",
       "16       16  2015-11-28 22:33:17               0           1                0   \n",
       "17       17  2015-11-28 21:37:33               0           1                0   \n",
       "18       18  2015-11-28 21:21:21               0           1                0   \n",
       "19       19  2015-11-28 21:17:58               0           0                0   \n",
       "20       20  2015-11-28 21:17:54               0           0                0   \n",
       "21       21  2015-11-28 21:12:55               0           1                0   \n",
       "22       22  2015-11-28 21:10:57              12           0               10   \n",
       "23       23  2015-11-29 17:08:08               0           1                0   \n",
       "24       24  2015-11-29 12:56:11               0           0                0   \n",
       "25       25  2015-11-29 00:27:31               0           1                0   \n",
       "26       26  2015-11-28 23:19:03               0           1                0   \n",
       "27       27  2015-11-28 23:16:14               0           1                0   \n",
       "28       28  2015-11-28 22:05:34               0           1                0   \n",
       "29       29  2015-11-28 21:45:38               0           1                0   \n",
       "...     ...                  ...             ...         ...              ...   \n",
       "6374   3899  2015-11-24 17:15:28               0           1                0   \n",
       "6375   3900  2015-11-24 17:15:18               0           1                0   \n",
       "6376   3901  2015-11-24 20:37:49               0           1                0   \n",
       "6377   3902  2015-11-24 18:53:36               0           1                0   \n",
       "6378   3903  2015-11-24 16:24:17               0           1                0   \n",
       "6379   3904  2015-11-24 16:21:33               0           1                0   \n",
       "6380   3905  2015-11-24 16:20:54               0           1                0   \n",
       "6381   3906  2015-11-24 16:16:48               0           1                0   \n",
       "6382   3907  2015-11-24 16:16:09               0           1                0   \n",
       "6383   3908  2015-11-24 16:01:29               0           1                0   \n",
       "6384   3909  2015-11-24 16:00:57               0           1                0   \n",
       "6385   3910  2015-11-24 15:59:10               0           1                0   \n",
       "6386   3911  2015-11-24 15:58:53               0           1                0   \n",
       "6387   3912  2015-11-24 15:58:29               0           1                0   \n",
       "6388   3913  2015-11-24 15:58:08               0           1                0   \n",
       "6389   3914  2015-11-24 15:57:42               6           0               13   \n",
       "6390   3915  2015-11-24 15:00:27               0           1                0   \n",
       "6391   3916  2015-11-24 14:55:52               0           1                0   \n",
       "6392   3917  2015-11-24 14:50:33               0           1                0   \n",
       "6393   3918  2015-11-24 14:49:13               0           0                1   \n",
       "6394   3919  2015-11-24 14:43:32               0           1                0   \n",
       "6395   3920  2015-11-24 14:32:51               0           0                3   \n",
       "6396   3921  2015-11-24 14:05:21               0           0                0   \n",
       "6397   3922  2015-11-24 12:27:34               0           0                0   \n",
       "6398   3923  2015-11-24 12:05:20               0           0                0   \n",
       "6399   3924  2015-11-24 13:05:05               0           1                0   \n",
       "6400   3925  2015-11-24 11:32:50               0           1                0   \n",
       "6401   3926  2015-11-24 11:26:37               0           1                0   \n",
       "6402   3927  2015-11-24 11:23:13               2           0                3   \n",
       "6403   3928  2015-11-24 10:13:35               0           0                0   \n",
       "\n",
       "                   tw_id                                                url  \\\n",
       "0     670942353667006464                          https://vc.ru/n/mazurenko   \n",
       "1     670941890653634561                          https://vc.ru/n/mazurenko   \n",
       "2     670885642788839425                          https://vc.ru/n/mazurenko   \n",
       "3     670885157679820800                          https://vc.ru/n/mazurenko   \n",
       "4     670762518718128128                          https://vc.ru/n/mazurenko   \n",
       "5     670753827537223680                          https://vc.ru/n/mazurenko   \n",
       "6     670738199153651712                          https://vc.ru/n/mazurenko   \n",
       "7     670731749610115072                          https://vc.ru/n/mazurenko   \n",
       "8     670728400856875009                          https://vc.ru/n/mazurenko   \n",
       "9     670727724898603008                          https://vc.ru/n/mazurenko   \n",
       "10    670727326838181889                          https://vc.ru/n/mazurenko   \n",
       "11    670725144076263426                          https://vc.ru/n/mazurenko   \n",
       "12    670830443076431872                           https://vc.ru/n/tur-work   \n",
       "13    670720629964972034                           https://vc.ru/n/tur-work   \n",
       "14    670701414377762816                           https://vc.ru/n/tur-work   \n",
       "15    670698557066911744                           https://vc.ru/n/tur-work   \n",
       "16    670686922709274625                           https://vc.ru/n/tur-work   \n",
       "17    670672896449191939                           https://vc.ru/n/tur-work   \n",
       "18    670668817136250880                           https://vc.ru/n/tur-work   \n",
       "19    670667967923900416                           https://vc.ru/n/tur-work   \n",
       "20    670667949657706496                           https://vc.ru/n/tur-work   \n",
       "21    670666695674040322                           https://vc.ru/n/tur-work   \n",
       "22    670666202486841344                           https://vc.ru/n/tur-work   \n",
       "23    670967480970514433                 https://vc.ru/p/say-no-to-comments   \n",
       "24    670904078101295104                 https://vc.ru/p/say-no-to-comments   \n",
       "25    670715670498295809                 https://vc.ru/p/say-no-to-comments   \n",
       "26    670698438514880512                 https://vc.ru/p/say-no-to-comments   \n",
       "27    670697731346849796                 https://vc.ru/p/say-no-to-comments   \n",
       "28    670679946809995265                 https://vc.ru/p/say-no-to-comments   \n",
       "29    670674929533255680                 https://vc.ru/p/say-no-to-comments   \n",
       "...                  ...                                                ...   \n",
       "6374  669157390147788800  https://tjournal.ru/c/18031-vladelec-nivi-obya...   \n",
       "6375  669157347986640898  https://tjournal.ru/c/18031-vladelec-nivi-obya...   \n",
       "6376  669208310801956864  https://tjournal.ru/c/18026-putin-nazval-krush...   \n",
       "6377  669182086310445056  https://tjournal.ru/c/18026-putin-nazval-krush...   \n",
       "6378  669144506533564416  https://tjournal.ru/c/18026-putin-nazval-krush...   \n",
       "6379  669143820735528960  https://tjournal.ru/c/18026-putin-nazval-krush...   \n",
       "6380  669143657619005441  https://tjournal.ru/c/18026-putin-nazval-krush...   \n",
       "6381  669142623286910976  https://tjournal.ru/c/18026-putin-nazval-krush...   \n",
       "6382  669142462116577280  https://tjournal.ru/c/18026-putin-nazval-krush...   \n",
       "6383  669138769451360256  https://tjournal.ru/c/18026-putin-nazval-krush...   \n",
       "6384  669138637687246848  https://tjournal.ru/c/18026-putin-nazval-krush...   \n",
       "6385  669138189253222400  https://tjournal.ru/c/18026-putin-nazval-krush...   \n",
       "6386  669138116402356224  https://tjournal.ru/c/18026-putin-nazval-krush...   \n",
       "6387  669138013985746945  https://tjournal.ru/c/18026-putin-nazval-krush...   \n",
       "6388  669137926509473793  https://tjournal.ru/c/18026-putin-nazval-krush...   \n",
       "6389  669137819152044033  https://tjournal.ru/c/18026-putin-nazval-krush...   \n",
       "6390  669123412183396352  https://tjournal.ru/c/18014-v-gosdume-obvinili...   \n",
       "6391  669122255675355136  https://tjournal.ru/c/18014-v-gosdume-obvinili...   \n",
       "6392  669120919848271872  https://tjournal.ru/c/18014-v-gosdume-obvinili...   \n",
       "6393  669120583444144128  https://tjournal.ru/c/18014-v-gosdume-obvinili...   \n",
       "6394  669119155090669568  https://tjournal.ru/c/18014-v-gosdume-obvinili...   \n",
       "6395  669116466185281536  https://tjournal.ru/c/18014-v-gosdume-obvinili...   \n",
       "6396  669109544346329089  https://tjournal.ru/c/18014-v-gosdume-obvinili...   \n",
       "6397  669084934770937856  https://tjournal.ru/c/17999-tureckie-vvs-sbili...   \n",
       "6398  669079342656446464  https://tjournal.ru/c/17999-tureckie-vvs-sbili...   \n",
       "6399  669094378535809024  https://tjournal.ru/c/17985-pravitelstvo-podde...   \n",
       "6400  669071163159658496  https://tjournal.ru/c/17985-pravitelstvo-podde...   \n",
       "6401  669069599825141760  https://tjournal.ru/c/17985-pravitelstvo-podde...   \n",
       "6402  669068743025278976  https://tjournal.ru/c/17985-pravitelstvo-podde...   \n",
       "6403  669051219088965632  https://tjournal.ru/c/17984-dzhordzh-lukas-i-z...   \n",
       "\n",
       "      user_favourites_count  user_followers_count  user_friends_count  \\\n",
       "0                       261                   105                 201   \n",
       "1                       110                    13                   2   \n",
       "2                       480                    36                 153   \n",
       "3                       164                  1410                 103   \n",
       "4                       764                  4091                 126   \n",
       "5                       403                  4716                5048   \n",
       "6                        47                  1494                  99   \n",
       "7                       749                   115                  63   \n",
       "8                      4270                  6532                 355   \n",
       "9                       279                   508                 364   \n",
       "10                     5827                  1053                 235   \n",
       "11                       10                 59635                   7   \n",
       "12                       12                    21                  28   \n",
       "13                     1436                   126                 221   \n",
       "14                      181                   152                 225   \n",
       "15                       93                    91                 246   \n",
       "16                      131                  1347                  64   \n",
       "17                     3567                   530                 161   \n",
       "18                     1156                   346                 151   \n",
       "19                       97                     8                 145   \n",
       "20                      464                    80                  62   \n",
       "21                      135                    38                  98   \n",
       "22                       10                 59635                   7   \n",
       "23                     1716                    84                  92   \n",
       "24                       94                   425                 594   \n",
       "25                       19                    92                  78   \n",
       "26                       15                    13                  38   \n",
       "27                       14                    28                  14   \n",
       "28                       50                  3045                  31   \n",
       "29                      201                   242                 208   \n",
       "...                     ...                   ...                 ...   \n",
       "6374                     14                 22808                  82   \n",
       "6375                    724                    98                  72   \n",
       "6376                    520                    12                  30   \n",
       "6377                     85                    34                  74   \n",
       "6378                     20                    39                  17   \n",
       "6379                     38                  1364                2170   \n",
       "6380                  20926                 16189               16113   \n",
       "6381                   1043                   222                 820   \n",
       "6382                   7344                   737                1025   \n",
       "6383                     19                   131                 358   \n",
       "6384                   5338                 32379                 309   \n",
       "6385                    333                   261                 125   \n",
       "6386                   3082                   559                 536   \n",
       "6387                   2682                   199                 212   \n",
       "6388                      9                    81                  88   \n",
       "6389                    135                244364                 675   \n",
       "6390                     52                   682                1300   \n",
       "6391                     20                   339                 370   \n",
       "6392                   1456                   531                 195   \n",
       "6393                     43                   433                 443   \n",
       "6394                     65                   109                 106   \n",
       "6395                   2205                  2174                 696   \n",
       "6396                    412                  1595                 123   \n",
       "6397                     90                    43                  96   \n",
       "6398                     15                   905                 314   \n",
       "6399                     26                   384                  22   \n",
       "6400                   1950                    92                  36   \n",
       "6401                      6                   231                 376   \n",
       "6402                    135                244364                 675   \n",
       "6403                      7                   110                 105   \n",
       "\n",
       "      user_listed_count  user_statuses_count  \n",
       "0                     0                  496  \n",
       "1                     0                   18  \n",
       "2                     3                  320  \n",
       "3                    70               206359  \n",
       "4                   108                 6539  \n",
       "5                    45                40962  \n",
       "6                    57                 5662  \n",
       "7                     3                16024  \n",
       "8                   554                71382  \n",
       "9                    17                30756  \n",
       "10                   16                66070  \n",
       "11                  672                15369  \n",
       "12                    0                  476  \n",
       "13                    9                 7802  \n",
       "14                   21                  201  \n",
       "15                   24                 1996  \n",
       "16                    3                 1500  \n",
       "17                    5                43163  \n",
       "18                   26                39531  \n",
       "19                    8                 5344  \n",
       "20                    2                 6940  \n",
       "21                    0                   74  \n",
       "22                  672                15369  \n",
       "23                    4                 6880  \n",
       "24                   14                 5434  \n",
       "25                    6                 1471  \n",
       "26                    0                   41  \n",
       "27                    2                  254  \n",
       "28                   85                 8830  \n",
       "29                    6                18190  \n",
       "...                 ...                  ...  \n",
       "6374                411                93939  \n",
       "6375                  3                 5897  \n",
       "6376                  0                  606  \n",
       "6377                 16                 8293  \n",
       "6378                  0                 1645  \n",
       "6379                 45                36619  \n",
       "6380                109                79678  \n",
       "6381                 52                18248  \n",
       "6382                 27                16627  \n",
       "6383                  3                19989  \n",
       "6384                389                37240  \n",
       "6385                  2                 4724  \n",
       "6386                 17                40331  \n",
       "6387                  0                 7094  \n",
       "6388                  4                 2652  \n",
       "6389               1159                39891  \n",
       "6390                 10                 4672  \n",
       "6391                  7                11631  \n",
       "6392                 37                52360  \n",
       "6393                 19                54523  \n",
       "6394                  4                 6290  \n",
       "6395                 84                93725  \n",
       "6396                 38               109246  \n",
       "6397                  4                  541  \n",
       "6398                 44                29226  \n",
       "6399                  1                 1410  \n",
       "6400                 19                17052  \n",
       "6401                  5                 2420  \n",
       "6402               1159                39892  \n",
       "6403                111                19711  \n",
       "\n",
       "[6404 rows x 12 columns]"
      ]
     },
     "execution_count": 137,
     "metadata": {},
     "output_type": "execute_result"
    }
   ],
   "source": [
    "tweets"
   ]
  },
  {
   "cell_type": "code",
   "execution_count": null,
   "metadata": {
    "collapsed": true
   },
   "outputs": [],
   "source": []
  },
  {
   "cell_type": "code",
   "execution_count": null,
   "metadata": {
    "collapsed": true
   },
   "outputs": [],
   "source": []
  },
  {
   "cell_type": "code",
   "execution_count": null,
   "metadata": {
    "collapsed": true
   },
   "outputs": [],
   "source": []
  },
  {
   "cell_type": "code",
   "execution_count": null,
   "metadata": {
    "collapsed": true
   },
   "outputs": [],
   "source": []
  },
  {
   "cell_type": "code",
   "execution_count": null,
   "metadata": {
    "collapsed": true
   },
   "outputs": [],
   "source": []
  },
  {
   "cell_type": "code",
   "execution_count": 120,
   "metadata": {
    "collapsed": false
   },
   "outputs": [],
   "source": [
    "news = news.append(news_df)"
   ]
  },
  {
   "cell_type": "code",
   "execution_count": 6,
   "metadata": {
    "collapsed": false
   },
   "outputs": [],
   "source": [
    "# читаем данные\n",
    "news_df = pd.read_csv(OUT_NEWS_FILE, sep=\",\")\n",
    "twitter_df = pd.read_csv(OUT_TWITTER_FILE, sep=\",\")"
   ]
  },
  {
   "cell_type": "code",
   "execution_count": 33,
   "metadata": {
    "collapsed": false
   },
   "outputs": [],
   "source": [
    "# находим самую \"молодую новость\"\n",
    "news_df = news_df.sort_values(by=[\"date\"], ascending=False)\n",
    "tj_last_date = (news_df[news_df[\"type\"]==\"TJ_P\"][\"date\"]).max()\n",
    "vc_last_date = (news_df[news_df[\"type\"]==\"VC\"][\"date\"]).max()"
   ]
  },
  {
   "cell_type": "code",
   "execution_count": 36,
   "metadata": {
    "collapsed": false
   },
   "outputs": [
    {
     "data": {
      "text/plain": [
       "'2015-11-25 12:56'"
      ]
     },
     "execution_count": 36,
     "metadata": {},
     "output_type": "execute_result"
    }
   ],
   "source": [
    "vc_last_date"
   ]
  },
  {
   "cell_type": "code",
   "execution_count": 10,
   "metadata": {
    "collapsed": false
   },
   "outputs": [
    {
     "data": {
      "text/plain": [
       "'2015-11-25 12:56'"
      ]
     },
     "execution_count": 10,
     "metadata": {},
     "output_type": "execute_result"
    }
   ],
   "source": [
    "def get_tj_news_info(self, min_index=1, count=30, first_date=\"2015-11-25 12:58\", last_date=\"2015-11-29 12:58\"):"
   ]
  },
  {
   "cell_type": "code",
   "execution_count": 12,
   "metadata": {
    "collapsed": false
   },
   "outputs": [
    {
     "ename": "NameError",
     "evalue": "name 'TJLoader' is not defined",
     "output_type": "error",
     "traceback": [
      "\u001b[1;31m---------------------------------------------------------------------------\u001b[0m",
      "\u001b[1;31mNameError\u001b[0m                                 Traceback (most recent call last)",
      "\u001b[1;32m<ipython-input-12-0fdcd4c482a3>\u001b[0m in \u001b[0;36m<module>\u001b[1;34m()\u001b[0m\n\u001b[0;32m      1\u001b[0m \u001b[1;31m# скачивае информацию о новостях\u001b[0m\u001b[1;33m\u001b[0m\u001b[1;33m\u001b[0m\u001b[0m\n\u001b[1;32m----> 2\u001b[1;33m \u001b[0mloader\u001b[0m \u001b[1;33m=\u001b[0m \u001b[0mTJLoader\u001b[0m\u001b[1;33m(\u001b[0m\u001b[1;33m)\u001b[0m\u001b[1;33m\u001b[0m\u001b[0m\n\u001b[0m\u001b[0;32m      3\u001b[0m \u001b[0mpages\u001b[0m \u001b[1;33m=\u001b[0m \u001b[0mloader\u001b[0m\u001b[1;33m.\u001b[0m\u001b[0mget_tj_news_info\u001b[0m\u001b[1;33m(\u001b[0m\u001b[0mmin_index\u001b[0m\u001b[1;33m=\u001b[0m\u001b[1;36m0\u001b[0m\u001b[1;33m,\u001b[0m \u001b[0mcount\u001b[0m\u001b[1;33m=\u001b[0m\u001b[1;36m30\u001b[0m\u001b[1;33m,\u001b[0m \u001b[0mfirst_date\u001b[0m\u001b[1;33m=\u001b[0m\u001b[1;34m\"2015-11-25 12:58\"\u001b[0m\u001b[1;33m,\u001b[0m \u001b[0mlast_date\u001b[0m\u001b[1;33m=\u001b[0m\u001b[1;34m\"2015-11-29 12:58\"\u001b[0m\u001b[1;33m)\u001b[0m\u001b[1;33m\u001b[0m\u001b[0m\n",
      "\u001b[1;31mNameError\u001b[0m: name 'TJLoader' is not defined"
     ]
    }
   ],
   "source": [
    "# скачивае информацию о новостях\n",
    "loader = TJLoader()\n",
    "pages = loader.get_tj_news_info(min_index=0, count=30, first_date=\"2015-11-25 12:58\", last_date=\"2015-11-29 12:58\")"
   ]
  },
  {
   "cell_type": "code",
   "execution_count": 229,
   "metadata": {
    "collapsed": false
   },
   "outputs": [
    {
     "data": {
      "text/plain": [
       "0"
      ]
     },
     "execution_count": 229,
     "metadata": {},
     "output_type": "execute_result"
    }
   ],
   "source": [
    "len(pages)"
   ]
  },
  {
   "cell_type": "code",
   "execution_count": null,
   "metadata": {
    "collapsed": true
   },
   "outputs": [],
   "source": [
    "# Сохраняем в файлик\n",
    "news_df = news_df.append(pd.DataFrame(pages))\n",
    "news_df.to_csv(OUT_NEWS_FILE, sep=\",\", index=False, encoding=\"utf-8\", quoting=csv.QUOTE_NONNUMERIC)"
   ]
  },
  {
   "cell_type": "code",
   "execution_count": null,
   "metadata": {
    "collapsed": true
   },
   "outputs": [],
   "source": [
    "# Скачиваем данные из твиттера\n",
    "tw = TwitterLoader()\n",
    "tweeter_data = tw.load_tweets_by_term(pages)"
   ]
  },
  {
   "cell_type": "code",
   "execution_count": null,
   "metadata": {
    "collapsed": true
   },
   "outputs": [],
   "source": [
    "len(tweeter_data)"
   ]
  },
  {
   "cell_type": "code",
   "execution_count": null,
   "metadata": {
    "collapsed": true
   },
   "outputs": [],
   "source": [
    "# Сохраняем в файлик\n",
    "twitter_df = twitter_df.append(pd.DataFrame(tweeter_data))\n",
    "twitter_df.to_csv(OUT_TWITTER_FILE, sep=\",\", index=False, encoding=\"utf-8\", quoting=csv.QUOTE_NONNUMERIC)"
   ]
  },
  {
   "cell_type": "code",
   "execution_count": null,
   "metadata": {
    "collapsed": true
   },
   "outputs": [],
   "source": []
  },
  {
   "cell_type": "code",
   "execution_count": null,
   "metadata": {
    "collapsed": true
   },
   "outputs": [],
   "source": []
  },
  {
   "cell_type": "code",
   "execution_count": null,
   "metadata": {
    "collapsed": true
   },
   "outputs": [],
   "source": []
  },
  {
   "cell_type": "code",
   "execution_count": null,
   "metadata": {
    "collapsed": true
   },
   "outputs": [],
   "source": []
  },
  {
   "cell_type": "code",
   "execution_count": null,
   "metadata": {
    "collapsed": true
   },
   "outputs": [],
   "source": []
  },
  {
   "cell_type": "code",
   "execution_count": null,
   "metadata": {
    "collapsed": true
   },
   "outputs": [],
   "source": []
  },
  {
   "cell_type": "code",
   "execution_count": null,
   "metadata": {
    "collapsed": true
   },
   "outputs": [],
   "source": []
  },
  {
   "cell_type": "code",
   "execution_count": null,
   "metadata": {
    "collapsed": true
   },
   "outputs": [],
   "source": []
  },
  {
   "cell_type": "code",
   "execution_count": 37,
   "metadata": {
    "collapsed": true
   },
   "outputs": [],
   "source": [
    "date = datetime.now()"
   ]
  },
  {
   "cell_type": "code",
   "execution_count": 43,
   "metadata": {
    "collapsed": false
   },
   "outputs": [],
   "source": [
    "d = datetime.now() - timedelta(hours=2)"
   ]
  },
  {
   "cell_type": "code",
   "execution_count": 46,
   "metadata": {
    "collapsed": false
   },
   "outputs": [],
   "source": [
    "d = str(d).split('.')[0]"
   ]
  },
  {
   "cell_type": "code",
   "execution_count": null,
   "metadata": {
    "collapsed": true
   },
   "outputs": [],
   "source": []
  },
  {
   "cell_type": "code",
   "execution_count": null,
   "metadata": {
    "collapsed": true
   },
   "outputs": [],
   "source": []
  },
  {
   "cell_type": "code",
   "execution_count": 5,
   "metadata": {
    "collapsed": true
   },
   "outputs": [],
   "source": [
    "import json"
   ]
  },
  {
   "cell_type": "code",
   "execution_count": 7,
   "metadata": {
    "collapsed": false
   },
   "outputs": [],
   "source": [
    "text = requests.get(\"https://api.vc.ru/1/paper\").text"
   ]
  },
  {
   "cell_type": "code",
   "execution_count": 8,
   "metadata": {
    "collapsed": true
   },
   "outputs": [],
   "source": [
    "json_req = json.loads(text)"
   ]
  },
  {
   "cell_type": "code",
   "execution_count": 10,
   "metadata": {
    "collapsed": false
   },
   "outputs": [
    {
     "data": {
      "text/plain": [
       "'\\xd0\\x9f\\xd0\\x9e\\xd0\\xa6\\xd0\\x95\\xd0\\x9b\\xd0\\xa3\\xd0\\x99'"
      ]
     },
     "execution_count": 10,
     "metadata": {},
     "output_type": "execute_result"
    }
   ],
   "source": []
  },
  {
   "cell_type": "code",
   "execution_count": 19,
   "metadata": {
    "collapsed": false
   },
   "outputs": [
    {
     "name": "stdout",
     "output_type": "stream",
     "text": [
      "<Element html at 0x7f8cf07d6628>\n"
     ]
    }
   ],
   "source": [
    "page = html.parse(urlopen(\"https://vc.ru/p/interview-it\"))\n",
    "root = page.getroot()\n",
    "print root"
   ]
  },
  {
   "cell_type": "code",
   "execution_count": 26,
   "metadata": {
    "collapsed": false
   },
   "outputs": [
    {
     "name": "stdout",
     "output_type": "stream",
     "text": [
      "Microsoft открыла собственный онлайн-магазин в России\n",
      "5865\n",
      "19\n",
      "['microsoft', u'\\u0438\\u043d\\u0442\\u0435\\u0440\\u043d\\u0435\\u0442-\\u043c\\u0430\\u0433\\u0430\\u0437\\u0438\\u043d']\n"
     ]
    }
   ],
   "source": [
    "page = html.parse(urlopen(\"https://vc.ru/n/microsoft-store-russia\"))\n",
    "root = page.getroot()\n",
    "\n",
    "# заголовок\n",
    "title = root.find_class(\"b-article__head\")\n",
    "title = title[0].find(\"h1\").text\n",
    "print title\n",
    "\n",
    "# парсим количество просмотров\n",
    "view = root.get_element_by_id(\"hitsCount\").text\n",
    "view = view.replace(\" \", \"\")\n",
    "view = int(view)\n",
    "print view\n",
    "\n",
    "# Количество комментариев\n",
    "comments = root.find_class(\"ccount\")[0].text\n",
    "comment = int(comments.replace(\" \", \"\"))\n",
    "print comment\n",
    "\n",
    "tags = root.find_class(\"b-tags__tag\")\n",
    "tag_list = []\n",
    "for tag in tags:\n",
    "    tag_list.append(tag.text)\n",
    "    \n",
    "print tag_list"
   ]
  },
  {
   "cell_type": "code",
   "execution_count": 22,
   "metadata": {
    "collapsed": false
   },
   "outputs": [
    {
     "name": "stdout",
     "output_type": "stream",
     "text": [
      "Какие вы любите сэндвичи\n"
     ]
    }
   ],
   "source": [
    "print title"
   ]
  },
  {
   "cell_type": "code",
   "execution_count": 32,
   "metadata": {
    "collapsed": true
   },
   "outputs": [],
   "source": [
    "vc = VCLoader()"
   ]
  },
  {
   "cell_type": "code",
   "execution_count": 33,
   "metadata": {
    "collapsed": false
   },
   "outputs": [
    {
     "data": {
      "text/plain": [
       "{'comments': 19,\n",
       " 'date': u'2015-11-24 22:13',\n",
       " 'tags': ['microsoft',\n",
       "  u'\\u0438\\u043d\\u0442\\u0435\\u0440\\u043d\\u0435\\u0442-\\u043c\\u0430\\u0433\\u0430\\u0437\\u0438\\u043d'],\n",
       " 'title': u'Microsoft \\u043e\\u0442\\u043a\\u0440\\u044b\\u043b\\u0430 \\u0441\\u043e\\u0431\\u0441\\u0442\\u0432\\u0435\\u043d\\u043d\\u044b\\u0439 \\u043e\\u043d\\u043b\\u0430\\u0439\\u043d-\\u043c\\u0430\\u0433\\u0430\\u0437\\u0438\\u043d \\u0432 \\u0420\\u043e\\u0441\\u0441\\u0438\\u0438',\n",
       " 'views': 5915}"
      ]
     },
     "execution_count": 33,
     "metadata": {},
     "output_type": "execute_result"
    }
   ],
   "source": [
    "vc.get_link_info(\"https://vc.ru/n/microsoft-store-russia\")"
   ]
  },
  {
   "cell_type": "code",
   "execution_count": 35,
   "metadata": {
    "collapsed": false
   },
   "outputs": [
    {
     "name": "stdout",
     "output_type": "stream",
     "text": [
      "Скачали  10  страниц\n",
      "Скачали  20  страниц\n",
      "Скачали  30  страниц\n",
      "Скачали  40  страниц\n",
      "Скачали  50  страниц\n"
     ]
    }
   ],
   "source": [
    "vc_dict = vc.get_tj_news_info()"
   ]
  },
  {
   "cell_type": "code",
   "execution_count": null,
   "metadata": {
    "collapsed": true
   },
   "outputs": [],
   "source": []
  },
  {
   "cell_type": "code",
   "execution_count": null,
   "metadata": {
    "collapsed": true
   },
   "outputs": [],
   "source": []
  },
  {
   "cell_type": "code",
   "execution_count": null,
   "metadata": {
    "collapsed": true
   },
   "outputs": [],
   "source": []
  },
  {
   "cell_type": "code",
   "execution_count": null,
   "metadata": {
    "collapsed": true
   },
   "outputs": [],
   "source": []
  },
  {
   "cell_type": "markdown",
   "metadata": {},
   "source": [
    "Вопросы:\n",
    "\n",
    "1) Что делать с соурсе? Эти новости никто не репостит с TJournal, а от других источников их можно найти\n",
    "\n",
    "2) Урлы для других запросов на VC. Не хотелось бы их брудфорсить."
   ]
  },
  {
   "cell_type": "markdown",
   "metadata": {
    "collapsed": true
   },
   "source": []
  }
 ],
 "metadata": {
  "kernelspec": {
   "display_name": "Python 2",
   "language": "python",
   "name": "python2"
  },
  "language_info": {
   "codemirror_mode": {
    "name": "ipython",
    "version": 2
   },
   "file_extension": ".py",
   "mimetype": "text/x-python",
   "name": "python",
   "nbconvert_exporter": "python",
   "pygments_lexer": "ipython2",
   "version": "2.7.10"
  }
 },
 "nbformat": 4,
 "nbformat_minor": 0
}
